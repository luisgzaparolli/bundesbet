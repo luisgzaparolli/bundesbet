{
 "cells": [
  {
   "cell_type": "code",
   "execution_count": 30,
   "metadata": {
    "ExecuteTime": {
     "end_time": "2020-05-15T19:44:04.686261Z",
     "start_time": "2020-05-15T19:43:51.023676Z"
    }
   },
   "outputs": [],
   "source": [
    "import requests\n",
    "from bs4 import BeautifulSoup\n",
    "import pandas as pd\n",
    "from tqdm import tqdm"
   ]
  },
  {
   "cell_type": "code",
   "execution_count": 16,
   "metadata": {
    "ExecuteTime": {
     "end_time": "2020-05-15T19:44:04.700881Z",
     "start_time": "2020-05-15T19:44:04.692103Z"
    }
   },
   "outputs": [],
   "source": [
    "def get_data(url):\n",
    "    hdr = {'User-Agent': 'Mozilla/5.0'}\n",
    "    html = requests.get(url, headers=hdr).content\n",
    "    soup=BeautifulSoup(html)\n",
    "    name=soup.find('span', {'itemprop':'name'}).text\n",
    "    df=pd.DataFrame({'name':name}, index=[0])\n",
    "    for i in range(7,10):\n",
    "        df_aux=pd.read_html(html)[7].T\n",
    "        df_aux.columns=df_aux.iloc[0,:]\n",
    "        df_aux=df_aux.loc[1,:]\n",
    "        df_aux=pd.DataFrame(df_aux).T\n",
    "        df_aux=df_aux.reset_index(drop=True)\n",
    "        df=pd.concat([df,df_aux], axis=1)\n",
    "    return df"
   ]
  },
  {
   "cell_type": "code",
   "execution_count": 26,
   "metadata": {
    "ExecuteTime": {
     "end_time": "2020-05-15T20:44:22.734366Z",
     "start_time": "2020-05-15T20:44:13.137483Z"
    }
   },
   "outputs": [],
   "source": [
    " def get_players_link():\n",
    "    url = 'https://fmdataba.com/20/l/191/bundesliga/best-players/'\n",
    "    hdr = {'User-Agent': 'Mozilla/5.0'}\n",
    "    html = requests.get(url, headers=hdr).content\n",
    "    soup=BeautifulSoup(html)\n",
    "    teams=soup.find_all('table', {'class':'table table-striped'})[1].find_all('td')\n",
    "    url_teams=[item.find('a')['href'] for item in teams]\n",
    "    url_list = []\n",
    "    for team in url_teams:\n",
    "        html = requests.get(team, headers=hdr).content\n",
    "        soup=BeautifulSoup(html)\n",
    "        players=soup.find('table', {'id':'tablo61'}).find_all('td', {'style':'font-size:12px;'})\n",
    "        url_players=[item.find('a')['href'] for item in players]\n",
    "        url_list.append(url_players)\n",
    "    url_list=[item for x in url_list for item in x]\n",
    "    return url_list"
   ]
  },
  {
   "cell_type": "code",
   "execution_count": 10,
   "metadata": {
    "ExecuteTime": {
     "end_time": "2020-05-15T21:11:38.628420Z",
     "start_time": "2020-05-15T21:11:35.033129Z"
    }
   },
   "outputs": [
    {
     "name": "stderr",
     "output_type": "stream",
     "text": [
      "100%|██████████| 486/486 [19:30<00:00,  2.41s/it]\n"
     ]
    }
   ],
   "source": [
    "df_result = pd.DataFrame()\n",
    "for url in tqdm(get_players_link()):\n",
    "    try:\n",
    "        df_aux = get_data(url)\n",
    "        df_result = pd.concat([df_result, df_aux])\n",
    "    except:\n",
    "        pass"
   ]
  }
 ],
 "metadata": {
  "hide_input": false,
  "kernelspec": {
   "display_name": "Python 3",
   "language": "python",
   "name": "python3"
  },
  "language_info": {
   "codemirror_mode": {
    "name": "ipython",
    "version": 3
   },
   "file_extension": ".py",
   "mimetype": "text/x-python",
   "name": "python",
   "nbconvert_exporter": "python",
   "pygments_lexer": "ipython3",
   "version": "3.7.4"
  },
  "toc": {
   "base_numbering": 1,
   "nav_menu": {},
   "number_sections": true,
   "sideBar": true,
   "skip_h1_title": false,
   "title_cell": "Table of Contents",
   "title_sidebar": "Contents",
   "toc_cell": false,
   "toc_position": {},
   "toc_section_display": true,
   "toc_window_display": false
  },
  "varInspector": {
   "cols": {
    "lenName": 16,
    "lenType": 16,
    "lenVar": 40
   },
   "kernels_config": {
    "python": {
     "delete_cmd_postfix": "",
     "delete_cmd_prefix": "del ",
     "library": "var_list.py",
     "varRefreshCmd": "print(var_dic_list())"
    },
    "r": {
     "delete_cmd_postfix": ") ",
     "delete_cmd_prefix": "rm(",
     "library": "var_list.r",
     "varRefreshCmd": "cat(var_dic_list()) "
    }
   },
   "types_to_exclude": [
    "module",
    "function",
    "builtin_function_or_method",
    "instance",
    "_Feature"
   ],
   "window_display": false
  }
 },
 "nbformat": 4,
 "nbformat_minor": 2
}
