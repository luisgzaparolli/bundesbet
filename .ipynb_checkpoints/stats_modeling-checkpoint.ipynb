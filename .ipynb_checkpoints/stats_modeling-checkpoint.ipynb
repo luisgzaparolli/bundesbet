{
 "cells": [
  {
   "cell_type": "markdown",
   "metadata": {},
   "source": [
    "# Libraries"
   ]
  },
  {
   "cell_type": "code",
   "execution_count": 21,
   "metadata": {
    "ExecuteTime": {
     "end_time": "2020-05-16T22:08:31.104772Z",
     "start_time": "2020-05-16T22:08:31.097945Z"
    }
   },
   "outputs": [],
   "source": [
    "import pandas as pd\n",
    "import numpy as np\n",
    "import matplotlib.pyplot as plt\n",
    "import seaborn as sns\n",
    "\n",
    "#Standardize\n",
    "from sklearn.preprocessing import StandardScaler\n",
    "from sklearn.model_selection import train_test_split, cross_val_score, KFold, learning_curve\n",
    "from sklearn.metrics import precision_score, recall_score, plot_roc_curve, accuracy_score, roc_auc_score, roc_curve\n",
    "\n",
    "#SVM\n",
    "from sklearn.cluster import KMeans\n",
    "from sklearn.decomposition import PCA\n",
    "\n",
    "# lightgbm\n",
    "from lightgbm import LGBMClassifier\n",
    "from lightgbm import plot_importance\n",
    "\n",
    "#GridSearch\n",
    "from sklearn.model_selection import GridSearchCV"
   ]
  },
  {
   "cell_type": "markdown",
   "metadata": {},
   "source": [
    "# Reading DataSet"
   ]
  },
  {
   "cell_type": "code",
   "execution_count": 2,
   "metadata": {
    "ExecuteTime": {
     "end_time": "2020-05-16T21:25:33.637961Z",
     "start_time": "2020-05-16T21:25:33.627248Z"
    }
   },
   "outputs": [],
   "source": [
    "df = pd.read_csv('./game_stats_clean.csv')"
   ]
  },
  {
   "cell_type": "markdown",
   "metadata": {},
   "source": [
    "# Modeling"
   ]
  },
  {
   "cell_type": "markdown",
   "metadata": {},
   "source": [
    "## Defining X and Y"
   ]
  },
  {
   "cell_type": "code",
   "execution_count": 3,
   "metadata": {
    "ExecuteTime": {
     "end_time": "2020-05-16T21:25:34.815216Z",
     "start_time": "2020-05-16T21:25:34.802551Z"
    }
   },
   "outputs": [],
   "source": [
    "X = df.select_dtypes(exclude='object')\n",
    "X = X.loc[:, 'goals_home_1half':]\n",
    "y = df['final_result']"
   ]
  },
  {
   "cell_type": "code",
   "execution_count": 18,
   "metadata": {
    "ExecuteTime": {
     "end_time": "2020-05-16T22:04:02.607867Z",
     "start_time": "2020-05-16T22:04:02.583485Z"
    }
   },
   "outputs": [
    {
     "data": {
      "text/html": [
       "<div>\n",
       "<style scoped>\n",
       "    .dataframe tbody tr th:only-of-type {\n",
       "        vertical-align: middle;\n",
       "    }\n",
       "\n",
       "    .dataframe tbody tr th {\n",
       "        vertical-align: top;\n",
       "    }\n",
       "\n",
       "    .dataframe thead th {\n",
       "        text-align: right;\n",
       "    }\n",
       "</style>\n",
       "<table border=\"1\" class=\"dataframe\">\n",
       "  <thead>\n",
       "    <tr style=\"text-align: right;\">\n",
       "      <th></th>\n",
       "      <th>goals_home_1half</th>\n",
       "      <th>goals_away_1half</th>\n",
       "      <th>1half_result</th>\n",
       "      <th>ball_possessionhome</th>\n",
       "      <th>ball_possessionaway</th>\n",
       "      <th>goal_attemptshome</th>\n",
       "      <th>goal_attemptsaway</th>\n",
       "      <th>shots_on_goalhome</th>\n",
       "      <th>shots_on_goalaway</th>\n",
       "      <th>shots_off_goalhome</th>\n",
       "      <th>...</th>\n",
       "      <th>tackleshome</th>\n",
       "      <th>tacklesaway</th>\n",
       "      <th>attackshome</th>\n",
       "      <th>attacksaway</th>\n",
       "      <th>dangerous_attackshome</th>\n",
       "      <th>dangerous_attacksaway</th>\n",
       "      <th>red_cardshome</th>\n",
       "      <th>red_cardsaway</th>\n",
       "      <th>completed_passeshome</th>\n",
       "      <th>completed_passesaway</th>\n",
       "    </tr>\n",
       "  </thead>\n",
       "  <tbody>\n",
       "    <tr>\n",
       "      <td>0</td>\n",
       "      <td>0</td>\n",
       "      <td>0</td>\n",
       "      <td>0</td>\n",
       "      <td>37</td>\n",
       "      <td>63</td>\n",
       "      <td>0</td>\n",
       "      <td>12</td>\n",
       "      <td>0</td>\n",
       "      <td>1</td>\n",
       "      <td>0</td>\n",
       "      <td>...</td>\n",
       "      <td>3.0</td>\n",
       "      <td>5.0</td>\n",
       "      <td>40</td>\n",
       "      <td>67</td>\n",
       "      <td>8</td>\n",
       "      <td>24</td>\n",
       "      <td>0.0</td>\n",
       "      <td>0.0</td>\n",
       "      <td>0.0</td>\n",
       "      <td>0.0</td>\n",
       "    </tr>\n",
       "    <tr>\n",
       "      <td>1</td>\n",
       "      <td>0</td>\n",
       "      <td>0</td>\n",
       "      <td>0</td>\n",
       "      <td>77</td>\n",
       "      <td>23</td>\n",
       "      <td>2</td>\n",
       "      <td>3</td>\n",
       "      <td>0</td>\n",
       "      <td>1</td>\n",
       "      <td>1</td>\n",
       "      <td>...</td>\n",
       "      <td>10.0</td>\n",
       "      <td>7.0</td>\n",
       "      <td>84</td>\n",
       "      <td>38</td>\n",
       "      <td>39</td>\n",
       "      <td>12</td>\n",
       "      <td>0.0</td>\n",
       "      <td>0.0</td>\n",
       "      <td>0.0</td>\n",
       "      <td>0.0</td>\n",
       "    </tr>\n",
       "    <tr>\n",
       "      <td>2</td>\n",
       "      <td>0</td>\n",
       "      <td>1</td>\n",
       "      <td>-1</td>\n",
       "      <td>46</td>\n",
       "      <td>54</td>\n",
       "      <td>5</td>\n",
       "      <td>4</td>\n",
       "      <td>2</td>\n",
       "      <td>2</td>\n",
       "      <td>2</td>\n",
       "      <td>...</td>\n",
       "      <td>11.0</td>\n",
       "      <td>6.0</td>\n",
       "      <td>55</td>\n",
       "      <td>77</td>\n",
       "      <td>26</td>\n",
       "      <td>15</td>\n",
       "      <td>0.0</td>\n",
       "      <td>0.0</td>\n",
       "      <td>0.0</td>\n",
       "      <td>0.0</td>\n",
       "    </tr>\n",
       "    <tr>\n",
       "      <td>3</td>\n",
       "      <td>1</td>\n",
       "      <td>0</td>\n",
       "      <td>1</td>\n",
       "      <td>56</td>\n",
       "      <td>44</td>\n",
       "      <td>4</td>\n",
       "      <td>5</td>\n",
       "      <td>2</td>\n",
       "      <td>2</td>\n",
       "      <td>0</td>\n",
       "      <td>...</td>\n",
       "      <td>6.0</td>\n",
       "      <td>3.0</td>\n",
       "      <td>24</td>\n",
       "      <td>14</td>\n",
       "      <td>11</td>\n",
       "      <td>23</td>\n",
       "      <td>0.0</td>\n",
       "      <td>0.0</td>\n",
       "      <td>0.0</td>\n",
       "      <td>0.0</td>\n",
       "    </tr>\n",
       "    <tr>\n",
       "      <td>4</td>\n",
       "      <td>1</td>\n",
       "      <td>2</td>\n",
       "      <td>-1</td>\n",
       "      <td>53</td>\n",
       "      <td>47</td>\n",
       "      <td>10</td>\n",
       "      <td>3</td>\n",
       "      <td>3</td>\n",
       "      <td>2</td>\n",
       "      <td>2</td>\n",
       "      <td>...</td>\n",
       "      <td>9.0</td>\n",
       "      <td>7.0</td>\n",
       "      <td>50</td>\n",
       "      <td>44</td>\n",
       "      <td>32</td>\n",
       "      <td>16</td>\n",
       "      <td>0.0</td>\n",
       "      <td>0.0</td>\n",
       "      <td>0.0</td>\n",
       "      <td>0.0</td>\n",
       "    </tr>\n",
       "  </tbody>\n",
       "</table>\n",
       "<p>5 rows × 37 columns</p>\n",
       "</div>"
      ],
      "text/plain": [
       "   goals_home_1half  goals_away_1half  1half_result  ball_possessionhome  \\\n",
       "0                 0                 0             0                   37   \n",
       "1                 0                 0             0                   77   \n",
       "2                 0                 1            -1                   46   \n",
       "3                 1                 0             1                   56   \n",
       "4                 1                 2            -1                   53   \n",
       "\n",
       "   ball_possessionaway  goal_attemptshome  goal_attemptsaway  \\\n",
       "0                   63                  0                 12   \n",
       "1                   23                  2                  3   \n",
       "2                   54                  5                  4   \n",
       "3                   44                  4                  5   \n",
       "4                   47                 10                  3   \n",
       "\n",
       "   shots_on_goalhome  shots_on_goalaway  shots_off_goalhome  ...  tackleshome  \\\n",
       "0                  0                  1                   0  ...          3.0   \n",
       "1                  0                  1                   1  ...         10.0   \n",
       "2                  2                  2                   2  ...         11.0   \n",
       "3                  2                  2                   0  ...          6.0   \n",
       "4                  3                  2                   2  ...          9.0   \n",
       "\n",
       "   tacklesaway  attackshome  attacksaway  dangerous_attackshome  \\\n",
       "0          5.0           40           67                      8   \n",
       "1          7.0           84           38                     39   \n",
       "2          6.0           55           77                     26   \n",
       "3          3.0           24           14                     11   \n",
       "4          7.0           50           44                     32   \n",
       "\n",
       "   dangerous_attacksaway  red_cardshome  red_cardsaway  completed_passeshome  \\\n",
       "0                     24            0.0            0.0                   0.0   \n",
       "1                     12            0.0            0.0                   0.0   \n",
       "2                     15            0.0            0.0                   0.0   \n",
       "3                     23            0.0            0.0                   0.0   \n",
       "4                     16            0.0            0.0                   0.0   \n",
       "\n",
       "   completed_passesaway  \n",
       "0                   0.0  \n",
       "1                   0.0  \n",
       "2                   0.0  \n",
       "3                   0.0  \n",
       "4                   0.0  \n",
       "\n",
       "[5 rows x 37 columns]"
      ]
     },
     "execution_count": 18,
     "metadata": {},
     "output_type": "execute_result"
    }
   ],
   "source": [
    "X.head()"
   ]
  },
  {
   "cell_type": "markdown",
   "metadata": {},
   "source": [
    "## Standardize"
   ]
  },
  {
   "cell_type": "code",
   "execution_count": 4,
   "metadata": {
    "ExecuteTime": {
     "end_time": "2020-05-16T21:25:35.466768Z",
     "start_time": "2020-05-16T21:25:35.456050Z"
    }
   },
   "outputs": [],
   "source": [
    "scaler = StandardScaler()\n",
    "X_std = scaler.fit_transform(X)\n",
    "X_std = pd.DataFrame(X_std, columns=X.columns)"
   ]
  },
  {
   "cell_type": "markdown",
   "metadata": {},
   "source": [
    "## Splitting Train and Test samples"
   ]
  },
  {
   "cell_type": "code",
   "execution_count": 6,
   "metadata": {
    "ExecuteTime": {
     "end_time": "2020-05-16T21:25:36.820571Z",
     "start_time": "2020-05-16T21:25:36.812769Z"
    }
   },
   "outputs": [],
   "source": [
    "X_train, X_test, y_train, y_test = train_test_split(X, y, \n",
    "                                                    test_size = 0.2, \n",
    "                                                    random_state = 42,\n",
    "                                                    stratify=y)"
   ]
  },
  {
   "cell_type": "markdown",
   "metadata": {},
   "source": [
    "## Model with LightGBM to Baseline Score"
   ]
  },
  {
   "cell_type": "code",
   "execution_count": 7,
   "metadata": {
    "ExecuteTime": {
     "end_time": "2020-05-16T21:25:37.737674Z",
     "start_time": "2020-05-16T21:25:37.732799Z"
    }
   },
   "outputs": [],
   "source": [
    "lgb = LGBMClassifier(max_depth=1, n_estimators=100, colsample_bytree=.7, n_jobs=-1)"
   ]
  },
  {
   "cell_type": "code",
   "execution_count": 8,
   "metadata": {
    "ExecuteTime": {
     "end_time": "2020-05-16T21:25:38.188735Z",
     "start_time": "2020-05-16T21:25:38.138018Z"
    }
   },
   "outputs": [],
   "source": [
    "lgb.fit(X_train, y_train)\n",
    "ypred = lgb.predict(X_test)"
   ]
  },
  {
   "cell_type": "code",
   "execution_count": 9,
   "metadata": {
    "ExecuteTime": {
     "end_time": "2020-05-16T21:25:38.947621Z",
     "start_time": "2020-05-16T21:25:38.615009Z"
    },
    "scrolled": true
   },
   "outputs": [
    {
     "data": {
      "text/plain": [
       "<matplotlib.axes._subplots.AxesSubplot at 0x1a454a7ffc8>"
      ]
     },
     "execution_count": 9,
     "metadata": {},
     "output_type": "execute_result"
    },
    {
     "data": {
      "image/png": "[encoded data removed]",
      "text/plain": [
       "<Figure size 432x288 with 1 Axes>"
      ]
     },
     "metadata": {
      "needs_background": "light"
     },
     "output_type": "display_data"
    }
   ],
   "source": [
    "plot_importance(lgb, importance_type='gain')"
   ]
  },
  {
   "cell_type": "code",
   "execution_count": 11,
   "metadata": {
    "ExecuteTime": {
     "end_time": "2020-05-16T21:26:07.852056Z",
     "start_time": "2020-05-16T21:26:07.844252Z"
    },
    "scrolled": true
   },
   "outputs": [
    {
     "data": {
      "text/plain": [
       "95    -1\n",
       "141    1\n",
       "104    1\n",
       "23     0\n",
       "36     0\n",
       "      ..\n",
       "97    -1\n",
       "26     0\n",
       "129    1\n",
       "14     1\n",
       "2     -1\n",
       "Name: final_result, Length: 144, dtype: int64"
      ]
     },
     "execution_count": 11,
     "metadata": {},
     "output_type": "execute_result"
    }
   ],
   "source": [
    "y_train"
   ]
  },
  {
   "cell_type": "code",
   "execution_count": 20,
   "metadata": {
    "ExecuteTime": {
     "end_time": "2020-05-16T22:07:09.881341Z",
     "start_time": "2020-05-16T22:07:09.874514Z"
    },
    "scrolled": true
   },
   "outputs": [
    {
     "data": {
      "text/plain": [
       "array([ 1,  0, -1,  1, -1,  0,  1, -1,  1,  0, -1,  1,  1, -1, -1,  1, -1,\n",
       "       -1,  1, -1,  1,  1,  0,  0,  1,  1, -1,  1,  1,  1,  0, -1,  1,  1,\n",
       "       -1,  1,  1], dtype=int64)"
      ]
     },
     "execution_count": 20,
     "metadata": {},
     "output_type": "execute_result"
    }
   ],
   "source": [
    "ypred"
   ]
  },
  {
   "cell_type": "code",
   "execution_count": 14,
   "metadata": {
    "ExecuteTime": {
     "end_time": "2020-05-16T21:33:02.881781Z",
     "start_time": "2020-05-16T21:33:02.864226Z"
    }
   },
   "outputs": [
    {
     "data": {
      "text/plain": [
       "0.7513812154696132"
      ]
     },
     "execution_count": 14,
     "metadata": {},
     "output_type": "execute_result"
    }
   ],
   "source": [
    "score=lgb.score(X,y)\n",
    "score"
   ]
  },
  {
   "cell_type": "markdown",
   "metadata": {},
   "source": [
    "# GridSearch"
   ]
  },
  {
   "cell_type": "code",
   "execution_count": 31,
   "metadata": {
    "ExecuteTime": {
     "end_time": "2020-05-16T23:00:23.651619Z",
     "start_time": "2020-05-16T23:00:23.644791Z"
    }
   },
   "outputs": [],
   "source": [
    "param_grid = {\n",
    "    'learning_rate' : [0.1, 0.01, 0.001, 0.0001],\n",
    "    'n_estimators': [10, 100, 1000],\n",
    "    'num_leaves': [31, 127],\n",
    "    'min_data_in_leaf': [10, 30, 50, 100, 300, 400],\n",
    "    'max_depth': [1, 5, 10]\n",
    "                }"
   ]
  },
  {
   "cell_type": "code",
   "execution_count": 32,
   "metadata": {
    "ExecuteTime": {
     "end_time": "2020-05-16T23:00:24.871105Z",
     "start_time": "2020-05-16T23:00:24.865252Z"
    }
   },
   "outputs": [],
   "source": [
    "gsearch = GridSearchCV(estimator=lgb, param_grid=param_grid)"
   ]
  },
  {
   "cell_type": "code",
   "execution_count": 33,
   "metadata": {
    "ExecuteTime": {
     "end_time": "2020-05-16T23:08:05.224747Z",
     "start_time": "2020-05-16T23:00:25.011556Z"
    }
   },
   "outputs": [],
   "source": [
    "lgb_model = gsearch.fit(X_train, y_train)"
   ]
  },
  {
   "cell_type": "code",
   "execution_count": 34,
   "metadata": {
    "ExecuteTime": {
     "end_time": "2020-05-16T23:08:05.236960Z",
     "start_time": "2020-05-16T23:08:05.227673Z"
    }
   },
   "outputs": [
    {
     "name": "stdout",
     "output_type": "stream",
     "text": [
      "{'learning_rate': 0.001, 'max_depth': 5, 'min_data_in_leaf': 30, 'n_estimators': 1000, 'num_leaves': 31} 0.6248768472906404\n"
     ]
    }
   ],
   "source": [
    "print(lgb_model.best_params_, lgb_model.best_score_)"
   ]
  }
 ],
 "metadata": {
  "kernelspec": {
   "display_name": "Python 3",
   "language": "python",
   "name": "python3"
  },
  "language_info": {
   "codemirror_mode": {
    "name": "ipython",
    "version": 3
   },
   "file_extension": ".py",
   "mimetype": "text/x-python",
   "name": "python",
   "nbconvert_exporter": "python",
   "pygments_lexer": "ipython3",
   "version": "3.7.4"
  },
  "toc": {
   "base_numbering": 1,
   "nav_menu": {},
   "number_sections": true,
   "sideBar": true,
   "skip_h1_title": false,
   "title_cell": "Table of Contents",
   "title_sidebar": "Contents",
   "toc_cell": false,
   "toc_position": {},
   "toc_section_display": true,
   "toc_window_display": false
  }
 },
 "nbformat": 4,
 "nbformat_minor": 2
}
