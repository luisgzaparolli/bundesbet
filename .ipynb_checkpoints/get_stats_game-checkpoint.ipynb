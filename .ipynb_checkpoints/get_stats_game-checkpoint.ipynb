{
 "cells": [
  {
   "cell_type": "code",
   "execution_count": 36,
   "metadata": {},
   "outputs": [],
   "source": [
    "import requests\n",
    "from bs4 import BeautifulSoup\n",
    "import pandas as pd\n",
    "from selenium import webdriver\n",
    "from selenium.webdriver.support.ui import Select, WebDriverWait\n",
    "from selenium.webdriver.support import expected_conditions as EC\n",
    "from selenium.webdriver.common.by import By"
   ]
  },
  {
   "cell_type": "code",
   "execution_count": 20,
   "metadata": {},
   "outputs": [],
   "source": [
    "driver = webdriver.Chrome(executable_path='C:/Users/pedro/selenium/chromedriver.exe')\n",
    "driver.get('https://www.scoreboard.com/uk/football/germany/bundesliga/results/')\n",
    "elem = driver.find_element_by_xpath('//*[@id=\"live-table\"]/div[1]/div/div/a')\n",
    "elem.click()"
   ]
  },
  {
   "cell_type": "code",
   "execution_count": 38,
   "metadata": {},
   "outputs": [
    {
     "name": "stderr",
     "output_type": "stream",
     "text": [
      "C:\\Users\\pedro\\Anaconda3\\lib\\site-packages\\ipykernel_launcher.py:13: DeprecationWarning: use driver.switch_to.window instead\n",
      "  del sys.path[0]\n"
     ]
    }
   ],
   "source": [
    "driver = webdriver.Chrome(executable_path='C:/Users/pedro/selenium/chromedriver.exe')\n",
    "driver.get('https://www.scoreboard.com/uk/football/germany/bundesliga/results/')\n",
    "while True:\n",
    "    try:\n",
    "        WebDriverWait(driver, 10).until(EC.element_to_be_clickable((By.XPATH, '//*[@id=\"live-table\"]/div[1]/div/div/a'))).click()\n",
    "    except:\n",
    "        break\n",
    "elem=driver.find_element_by_xpath('//*[@id=\"g_1_2cWXZlvE\"]/div[1]')\n",
    "window_before = driver.window_handles[0]\n",
    "elem.click()\n",
    "window_after = driver.window_handles[1]\n",
    "driver.switch_to_window(window_after)\n",
    "elem=driver.find_element_by_xpath('//*[@id=\"a-match-statistics\"]')\n",
    "elem.click()\n",
    "driver.close()"
   ]
  },
  {
   "cell_type": "code",
   "execution_count": 40,
   "metadata": {},
   "outputs": [],
   "source": [
    "driver = webdriver.Chrome(executable_path='C:/Users/pedro/selenium/chromedriver.exe')\n",
    "driver.get('https://www.scoreboard.com/uk/match/APnv8Zkc/#match-summary')\n",
    "html=driver.page_source"
   ]
  },
  {
   "cell_type": "code",
   "execution_count": 69,
   "metadata": {},
   "outputs": [
    {
     "data": {
      "text/plain": [
       "{'home_team': 'Bayern',\n",
       " 'away_team': 'Augsburg',\n",
       " 'goals_home_final': 2,\n",
       " 'goals_away_final': 0}"
      ]
     },
     "execution_count": 69,
     "metadata": {},
     "output_type": "execute_result"
    }
   ],
   "source": [
    "soup=BeautifulSoup(html)\n",
    "infos={}\n",
    "infos['home_team']=soup.find('div',{'class':'tname__text'}).text.strip()\n",
    "infos['away_team']=soup.find_all('div',{'class':'tname__text'})[1].text.strip()\n",
    "infos['goals_home_final']=int(soup.find('span',{'class':'scoreboard'}).text)\n",
    "infos['goals_away_final']=int(soup.find_all('span',{'class':'scoreboard'})[1].text)\n",
    "infos"
   ]
  }
 ],
 "metadata": {
  "hide_input": false,
  "kernelspec": {
   "display_name": "Python 3",
   "language": "python",
   "name": "python3"
  },
  "language_info": {
   "codemirror_mode": {
    "name": "ipython",
    "version": 3
   },
   "file_extension": ".py",
   "mimetype": "text/x-python",
   "name": "python",
   "nbconvert_exporter": "python",
   "pygments_lexer": "ipython3",
   "version": "3.7.4"
  },
  "toc": {
   "base_numbering": 1,
   "nav_menu": {},
   "number_sections": true,
   "sideBar": true,
   "skip_h1_title": false,
   "title_cell": "Table of Contents",
   "title_sidebar": "Contents",
   "toc_cell": false,
   "toc_position": {},
   "toc_section_display": true,
   "toc_window_display": false
  },
  "varInspector": {
   "cols": {
    "lenName": 16,
    "lenType": 16,
    "lenVar": 40
   },
   "kernels_config": {
    "python": {
     "delete_cmd_postfix": "",
     "delete_cmd_prefix": "del ",
     "library": "var_list.py",
     "varRefreshCmd": "print(var_dic_list())"
    },
    "r": {
     "delete_cmd_postfix": ") ",
     "delete_cmd_prefix": "rm(",
     "library": "var_list.r",
     "varRefreshCmd": "cat(var_dic_list()) "
    }
   },
   "types_to_exclude": [
    "module",
    "function",
    "builtin_function_or_method",
    "instance",
    "_Feature"
   ],
   "window_display": false
  }
 },
 "nbformat": 4,
 "nbformat_minor": 2
}
