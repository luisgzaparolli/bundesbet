{
 "cells": [
  {
   "cell_type": "code",
   "execution_count": 71,
   "metadata": {},
   "outputs": [],
   "source": [
    "import requests\n",
    "from bs4 import BeautifulSoup\n",
    "import pandas as pd\n",
    "from selenium import webdriver\n",
    "from selenium.webdriver.support.ui import Select, WebDriverWait\n",
    "from selenium.webdriver.support import expected_conditions as EC\n",
    "from selenium.webdriver.common.by import By\n",
    "from selenium.common.exceptions import TimeoutException\n",
    "import time"
   ]
  },
  {
   "cell_type": "code",
   "execution_count": 206,
   "metadata": {},
   "outputs": [],
   "source": [
    "def get_games():\n",
    "    driver = webdriver.Chrome(executable_path='C:/Users/pedro/selenium/chromedriver.exe')\n",
    "    driver.get('https://www.scoreboard.com/uk/football/germany/bundesliga/results/')\n",
    "    while True:\n",
    "        try:\n",
    "            WebDriverWait(driver, 5).until(EC.element_to_be_clickable((By.XPATH, '//*[@id=\"live-table\"]/div[1]/div/div/a'))).click()\n",
    "        except:\n",
    "            break\n",
    "    html=driver.page_source\n",
    "    soup=BeautifulSoup(html)\n",
    "    games=soup.find_all('div',{'class':'event__match event__match--static event__match--oneLine'})\n",
    "    games=['https://www.scoreboard.com/uk/match/'+item['id'].split('_')[2]+'/#match-summary' for item in games]\n",
    "    driver.quit()\n",
    "    return games"
   ]
  },
  {
   "cell_type": "code",
   "execution_count": 207,
   "metadata": {
    "code_folding": []
   },
   "outputs": [],
   "source": [
    "def get_stats_game(driver,url, df):\n",
    "    driver.get(url)\n",
    "    myElem = WebDriverWait(driver, 10).until(EC.presence_of_element_located((By.XPATH, '//*[@id=\"summary-content\"]/div[1]/div[3]/div[2]/span[1]')))                                                                          \n",
    "    html=driver.page_source\n",
    "    soup=BeautifulSoup(html)\n",
    "    infos={}\n",
    "    infos['home_team']=soup.find('div',{'class':'tname__text'}).text.strip()\n",
    "    infos['away_team']=soup.find_all('div',{'class':'tname__text'})[1].text.strip()\n",
    "    infos['goals_home_final']=int(soup.find('span',{'class':'scoreboard'}).text)\n",
    "    infos['goals_away_final']=int(soup.find_all('span',{'class':'scoreboard'})[1].text)\n",
    "    infos['final_result'] = 'Away' if infos['goals_home_final'] < infos['goals_away_final'] else 'Home' if infos['goals_home_final'] > infos['goals_away_final'] else 'Draw'\n",
    "    infos['goals_home_1half']=int(soup.find('span',{'class':'p1_home'}).text)\n",
    "    infos['goals_away_1half']=int(soup.find('span',{'class':'p1_away'}).text)\n",
    "    infos['1half_result'] = 'Away' if infos['goals_home_1half'] < infos['goals_away_1half'] else 'Home' if infos['goals_home_1half'] > infos['goals_away_1half'] else 'Draw'\n",
    "    elem=driver.find_element_by_xpath('//*[@id=\"a-match-statistics\"]')\n",
    "    elem.click()\n",
    "    WebDriverWait(driver, 10).until(EC.element_to_be_clickable((By.XPATH, '//*[@id=\"statistics-1-statistic\"]/span/a'))).click()\n",
    "    time.sleep(2)\n",
    "    html_code = driver.find_element_by_tag_name(\"body\").text.split('\\n')\n",
    "    i=0\n",
    "    x=html_code.index('Ball possession')\n",
    "    stat=html_code[x+i*3].lower().replace(' ','_')\n",
    "    while stat != 'dangerous_attacks':\n",
    "        stat=html_code[x+i*3].lower().replace(' ','_')\n",
    "        infos[stat+'home']=int(html_code[x+i*3-1].replace('%',''))\n",
    "        infos[stat+'away']=int(html_code[x+i*3+1].replace('%',''))\n",
    "        i+=1\n",
    "    df_aux = pd.DataFrame(infos, index=[0])\n",
    "    df=pd.concat([df,df_aux])\n",
    "    return df"
   ]
  },
  {
   "cell_type": "code",
   "execution_count": 208,
   "metadata": {},
   "outputs": [],
   "source": [
    "links=get_games()\n",
    "df=pd.DataFrame()\n",
    "driver = webdriver.Chrome(executable_path='C:/Users/pedro/selenium/chromedriver.exe')\n",
    "for url in links:\n",
    "    df=get_stats_game(driver,url, df)\n",
    "driver.quit()"
   ]
  },
  {
   "cell_type": "code",
   "execution_count": 210,
   "metadata": {},
   "outputs": [],
   "source": [
    "df.to_csv('game_stas.csv',index=False)"
   ]
  }
 ],
 "metadata": {
  "hide_input": false,
  "kernelspec": {
   "display_name": "Python 3",
   "language": "python",
   "name": "python3"
  },
  "language_info": {
   "codemirror_mode": {
    "name": "ipython",
    "version": 3
   },
   "file_extension": ".py",
   "mimetype": "text/x-python",
   "name": "python",
   "nbconvert_exporter": "python",
   "pygments_lexer": "ipython3",
   "version": "3.7.4"
  },
  "toc": {
   "base_numbering": 1,
   "nav_menu": {},
   "number_sections": true,
   "sideBar": true,
   "skip_h1_title": false,
   "title_cell": "Table of Contents",
   "title_sidebar": "Contents",
   "toc_cell": false,
   "toc_position": {},
   "toc_section_display": true,
   "toc_window_display": false
  },
  "varInspector": {
   "cols": {
    "lenName": 16,
    "lenType": 16,
    "lenVar": 40
   },
   "kernels_config": {
    "python": {
     "delete_cmd_postfix": "",
     "delete_cmd_prefix": "del ",
     "library": "var_list.py",
     "varRefreshCmd": "print(var_dic_list())"
    },
    "r": {
     "delete_cmd_postfix": ") ",
     "delete_cmd_prefix": "rm(",
     "library": "var_list.r",
     "varRefreshCmd": "cat(var_dic_list()) "
    }
   },
   "types_to_exclude": [
    "module",
    "function",
    "builtin_function_or_method",
    "instance",
    "_Feature"
   ],
   "window_display": false
  }
 },
 "nbformat": 4,
 "nbformat_minor": 2
}
