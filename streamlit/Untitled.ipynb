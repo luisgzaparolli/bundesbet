{
 "cells": [
  {
   "cell_type": "code",
   "execution_count": 2,
   "metadata": {},
   "outputs": [],
   "source": [
    "import pandas as pd"
   ]
  },
  {
   "cell_type": "code",
   "execution_count": 4,
   "metadata": {},
   "outputs": [],
   "source": [
    "team='Bayern Munich'"
   ]
  },
  {
   "cell_type": "code",
   "execution_count": 3,
   "metadata": {},
   "outputs": [],
   "source": [
    "df=pd.read_csv('C:/Users/pedro/Projetos/bundesbet/src/data/game_stats.csv')"
   ]
  },
  {
   "cell_type": "code",
   "execution_count": 4,
   "metadata": {},
   "outputs": [
    {
     "output_type": "execute_result",
     "data": {
      "text/plain": "Index(['url', 'round', 'home_team', 'away_team', 'goals_home_final',\n       'goals_away_final', 'final_result', 'goals_home_1half',\n       'goals_away_1half', '1half_result', 'ball_possessionhome',\n       'ball_possessionaway', 'goal_attemptshome', 'goal_attemptsaway',\n       'shots_on_goalhome', 'shots_on_goalaway', 'shots_off_goalhome',\n       'shots_off_goalaway', 'blocked_shotshome', 'blocked_shotsaway',\n       'free_kickshome', 'free_kicksaway', 'corner_kickshome',\n       'corner_kicksaway', 'offsideshome', 'offsidesaway',\n       'goalkeeper_saveshome', 'goalkeeper_savesaway', 'foulshome',\n       'foulsaway', 'total_passeshome', 'total_passesaway', 'tackleshome',\n       'tacklesaway', 'attackshome', 'attacksaway', 'dangerous_attackshome',\n       'dangerous_attacksaway', 'yellow_cardshome', 'yellow_cardsaway',\n       'red_cardshome', 'red_cardsaway'],\n      dtype='object')"
     },
     "metadata": {},
     "execution_count": 4
    }
   ],
   "source": [
    "df.columns"
   ]
  }
 ],
 "metadata": {
  "hide_input": false,
  "kernelspec": {
   "display_name": "Python 3",
   "language": "python",
   "name": "python3"
  },
  "language_info": {
   "codemirror_mode": {
    "name": "ipython",
    "version": 3
   },
   "file_extension": ".py",
   "mimetype": "text/x-python",
   "name": "python",
   "nbconvert_exporter": "python",
   "pygments_lexer": "ipython3",
   "version": "3.7.4-final"
  },
  "toc": {
   "base_numbering": 1,
   "nav_menu": {},
   "number_sections": true,
   "sideBar": true,
   "skip_h1_title": false,
   "title_cell": "Table of Contents",
   "title_sidebar": "Contents",
   "toc_cell": false,
   "toc_position": {},
   "toc_section_display": true,
   "toc_window_display": false
  },
  "varInspector": {
   "cols": {
    "lenName": 16,
    "lenType": 16,
    "lenVar": 40
   },
   "kernels_config": {
    "python": {
     "delete_cmd_postfix": "",
     "delete_cmd_prefix": "del ",
     "library": "var_list.py",
     "varRefreshCmd": "print(var_dic_list())"
    },
    "r": {
     "delete_cmd_postfix": ") ",
     "delete_cmd_prefix": "rm(",
     "library": "var_list.r",
     "varRefreshCmd": "cat(var_dic_list()) "
    }
   },
   "types_to_exclude": [
    "module",
    "function",
    "builtin_function_or_method",
    "instance",
    "_Feature"
   ],
   "window_display": false
  }
 },
 "nbformat": 4,
 "nbformat_minor": 2
}