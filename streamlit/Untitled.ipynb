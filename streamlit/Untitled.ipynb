{
 "cells": [
  {
   "cell_type": "code",
   "execution_count": 25,
   "metadata": {},
   "outputs": [],
   "source": [
    "import pandas as pd\n",
    "import numpy as np"
   ]
  },
  {
   "cell_type": "code",
   "execution_count": 26,
   "metadata": {},
   "outputs": [],
   "source": [
    "def get_games(team, rnd, df):\n",
    "    \"\"\"\n",
    "    Function that takes the number of games a team played until the determined round\n",
    "    :param team: Team we want to find games\n",
    "    :param rnd: Limit round that we will seek\n",
    "    :param df: Data Frame with games\n",
    "    :return: A integer number with number of games\n",
    "    \"\"\"\n",
    "    mask1 = ((df['home_team'] == team) | (df['away_team'] == team)) & (df['round'] <= rnd)\n",
    "    return len(df.loc[mask1, 'round'])\n",
    "\n",
    "\n",
    "def get_wins(team, rnd, df):\n",
    "    \"\"\"\n",
    "    Function that takes the number of victories of a team until the determined round\n",
    "    :param team: Team we want to find wins\n",
    "    :param rnd: Limit round that we will seek\n",
    "    :param df: Data Frame with games\n",
    "    :return: A integer number with number of wins\n",
    "    \"\"\"\n",
    "    mask1 = (df['home_team'] == team) & (df['final_result'] == 'Home') & (df['round'] <= rnd)\n",
    "    mask2 = (df['away_team'] == team) & (df['final_result'] == 'Away') & (df['round'] <= rnd)\n",
    "    return len(df.loc[mask1 | mask2, 'round'])\n",
    "\n",
    "\n",
    "def get_draws(team, rnd, df):\n",
    "    \"\"\"\n",
    "    Function that takes the number of draws of a team until the determined round\n",
    "    :param team: Team we want to find draws\n",
    "    :param rnd: Limit round that we will seek\n",
    "    :param df: Data Frame with games\n",
    "    :return: A integer number with number of draws\n",
    "    \"\"\"\n",
    "    mask1 = ((df['home_team'] == team) | (df['away_team'] == team)) & (df['final_result'] == 'Draw') & (\n",
    "            df['round'] <= rnd)\n",
    "    return len(df.loc[mask1, 'round'])\n",
    "\n",
    "\n",
    "def get_loses(team, rnd, df):\n",
    "    \"\"\"\n",
    "    Function that takes the number of loses of a team until the determined round\n",
    "    :param team: Team we want to find loses\n",
    "    :param rnd: Limit round that we will seek\n",
    "    :param df: Data Frame with games\n",
    "    :return: A integer number with number of loses\n",
    "    \"\"\"\n",
    "    mask1 = (df['home_team'] == team) & (df['final_result'] == 'Away') & (df['round'] <= rnd)\n",
    "    mask2 = (df['away_team'] == team) & (df['final_result'] == 'Home') & (df['round'] <= rnd)\n",
    "    return len(df.loc[mask1 | mask2, 'round'])\n",
    "\n",
    "\n",
    "def gp(team, rnd, df):\n",
    "    \"\"\"\n",
    "    Function that takes the number of goals scores by team until the determined round\n",
    "    :param team: Team we want to find goals scores\n",
    "    :param rnd: Limit round that we will seek\n",
    "    :param df: Data Frame with games\n",
    "    :return: A integer number with number of goals scores\n",
    "    \"\"\"\n",
    "    goals = df.query(f'home_team == \"{team}\" & round <= {rnd}')['goals_home_final'].sum() + \\\n",
    "            df.query(f'away_team == \"{team}\" & round <= {rnd}')['goals_away_final'].sum()\n",
    "    return goals\n",
    "\n",
    "\n",
    "def gc(team, rnd, df):\n",
    "    \"\"\"\n",
    "    Function that takes the number of conceded goals by team until the determined round\n",
    "    :param team: Team we want to find conceded goals\n",
    "    :param rnd: Limit round that we will seek\n",
    "    :param df: Data Frame with games\n",
    "    :return: A integer number with number of conceded goals\n",
    "    \"\"\"\n",
    "    goals = df.query(f'away_team == \"{team}\" & round <= {rnd}')['goals_home_final'].sum() + \\\n",
    "            df.query(f'home_team == \"{team}\" & round <= {rnd}')['goals_away_final'].sum()\n",
    "    return goals\n",
    "\n",
    "\n",
    "def get_points(row):\n",
    "    \"\"\"\n",
    "    Function get's number of points of each team based on number of wins and draws\n",
    "    :param row:row of dataframe, who get's columns wins and draws\n",
    "    :return: number of points of each team\n",
    "    \"\"\"\n",
    "    points = row['wins'] * 3 + row['draws']\n",
    "    return points\n",
    "\n",
    "\n",
    "def ger_table(rnd, df):\n",
    "    \"\"\"\n",
    "    Main function who want's to generate a table of league\n",
    "    :param rnd: round we want's to limit the visualization\n",
    "    :param df: dataframe with the info of games\n",
    "    :return: dataframe with the table\n",
    "    \"\"\"\n",
    "    # make a dictionary to create each column with a function\n",
    "    data = {}\n",
    "    data['teams'] = list(df['home_team'].unique())\n",
    "    data['games'] = [get_games(team, rnd, df) for team in data['teams']]\n",
    "    data['wins'] = [get_wins(team, rnd, df) for team in data['teams']]\n",
    "    data['draws'] = [get_draws(team, rnd, df) for team in data['teams']]\n",
    "    data['loses'] = [get_loses(team, rnd, df) for team in data['teams']]\n",
    "    data['gp'] = [gp(team, rnd, df) for team in data['teams']]\n",
    "    data['gc'] = [gc(team, rnd, df) for team in data['teams']]\n",
    "    # generate a data frame from dict\n",
    "    table = pd.DataFrame(data)\n",
    "    # make a balance of goals by the diff of scored and conceded goals\n",
    "    table['sg'] = table['gp'] - table['gc']\n",
    "    # work in column of points with a function\n",
    "    table['points'] = table.apply(lambda row: get_points(row), axis=1)\n",
    "    # order table by points, set new index and return table with data frame\n",
    "    table = table.sort_values(by=['points'], ascending=False).reset_index(drop=True)\n",
    "    table.index = np.arange(1, len(table) + 1)\n",
    "    return table"
   ]
  },
  {
   "cell_type": "code",
   "execution_count": 43,
   "metadata": {},
   "outputs": [],
   "source": [
    "rnd_max=df['round'].max()+1\n",
    "dfs=[ger_table(i, df) for i in range(0,rnd_max)]\n",
    "position=[list(dfs[i]['teams']).index('Mainz')+1 for i in range(1,rnd_max)]"
   ]
  },
  {
   "cell_type": "code",
   "execution_count": 41,
   "metadata": {},
   "outputs": [],
   "source": []
  },
  {
   "cell_type": "code",
   "execution_count": 54,
   "metadata": {},
   "outputs": [
    {
     "output_type": "error",
     "ename": "TypeError",
     "evalue": "line() got an unexpected keyword argument 'mode'",
     "traceback": [
      "\u001b[1;31m---------------------------------------------------------------------------\u001b[0m",
      "\u001b[1;31mTypeError\u001b[0m                                 Traceback (most recent call last)",
      "\u001b[1;32m<ipython-input-54-88a912ea08ca>\u001b[0m in \u001b[0;36m<module>\u001b[1;34m\u001b[0m\n\u001b[0;32m      1\u001b[0m \u001b[1;32mimport\u001b[0m \u001b[0mplotly\u001b[0m\u001b[1;33m.\u001b[0m\u001b[0mexpress\u001b[0m \u001b[1;32mas\u001b[0m \u001b[0mpx\u001b[0m\u001b[1;33m\u001b[0m\u001b[1;33m\u001b[0m\u001b[0m\n\u001b[1;32m----> 2\u001b[1;33m \u001b[0mfig\u001b[0m \u001b[1;33m=\u001b[0m \u001b[0mpx\u001b[0m\u001b[1;33m.\u001b[0m\u001b[0mline\u001b[0m\u001b[1;33m(\u001b[0m\u001b[0mx\u001b[0m\u001b[1;33m=\u001b[0m\u001b[0mnp\u001b[0m\u001b[1;33m.\u001b[0m\u001b[0marange\u001b[0m\u001b[1;33m(\u001b[0m\u001b[1;36m1\u001b[0m\u001b[1;33m,\u001b[0m\u001b[0mrnd_max\u001b[0m\u001b[1;33m)\u001b[0m\u001b[1;33m,\u001b[0m \u001b[0my\u001b[0m\u001b[1;33m=\u001b[0m\u001b[0mposition\u001b[0m\u001b[1;33m,\u001b[0m\u001b[0mlabels\u001b[0m\u001b[1;33m=\u001b[0m\u001b[1;33m{\u001b[0m\u001b[1;34m'x'\u001b[0m\u001b[1;33m:\u001b[0m\u001b[1;34m'Round'\u001b[0m\u001b[1;33m,\u001b[0m \u001b[1;34m'y'\u001b[0m\u001b[1;33m:\u001b[0m\u001b[1;34m'Position'\u001b[0m\u001b[1;33m}\u001b[0m\u001b[1;33m,\u001b[0m\u001b[0mmode\u001b[0m\u001b[1;33m=\u001b[0m\u001b[1;34m'markers'\u001b[0m\u001b[1;33m)\u001b[0m\u001b[1;33m\u001b[0m\u001b[1;33m\u001b[0m\u001b[0m\n\u001b[0m\u001b[0;32m      3\u001b[0m \u001b[0mfig\u001b[0m\u001b[1;33m.\u001b[0m\u001b[0mshow\u001b[0m\u001b[1;33m(\u001b[0m\u001b[1;33m)\u001b[0m\u001b[1;33m\u001b[0m\u001b[1;33m\u001b[0m\u001b[0m\n",
      "\u001b[1;31mTypeError\u001b[0m: line() got an unexpected keyword argument 'mode'"
     ]
    }
   ],
   "source": [
    "import plotly.express as px\n",
    "fig = px.line(x=np.arange(1,rnd_max), y=position,labels={'x':'Round', 'y':'Position'},mode='markers')\n",
    "fig.show()"
   ]
  },
  {
   "cell_type": "code",
   "execution_count": 42,
   "metadata": {},
   "outputs": [
    {
     "output_type": "execute_result",
     "data": {
      "text/plain": "[17,\n 18,\n 18,\n 16,\n 17,\n 17,\n 13,\n 17,\n 13,\n 15,\n 16,\n 13,\n 12,\n 13,\n 13,\n 12,\n 13,\n 15,\n 15,\n 15,\n 15,\n 15,\n 15,\n 15,\n 15,\n 15]"
     },
     "metadata": {},
     "execution_count": 42
    }
   ],
   "source": [
    "position"
   ]
  }
 ],
 "metadata": {
  "hide_input": false,
  "kernelspec": {
   "display_name": "Python 3",
   "language": "python",
   "name": "python3"
  },
  "language_info": {
   "codemirror_mode": {
    "name": "ipython",
    "version": 3
   },
   "file_extension": ".py",
   "mimetype": "text/x-python",
   "name": "python",
   "nbconvert_exporter": "python",
   "pygments_lexer": "ipython3",
   "version": "3.7.4-final"
  },
  "toc": {
   "base_numbering": 1,
   "nav_menu": {},
   "number_sections": true,
   "sideBar": true,
   "skip_h1_title": false,
   "title_cell": "Table of Contents",
   "title_sidebar": "Contents",
   "toc_cell": false,
   "toc_position": {},
   "toc_section_display": true,
   "toc_window_display": false
  },
  "varInspector": {
   "cols": {
    "lenName": 16,
    "lenType": 16,
    "lenVar": 40
   },
   "kernels_config": {
    "python": {
     "delete_cmd_postfix": "",
     "delete_cmd_prefix": "del ",
     "library": "var_list.py",
     "varRefreshCmd": "print(var_dic_list())"
    },
    "r": {
     "delete_cmd_postfix": ") ",
     "delete_cmd_prefix": "rm(",
     "library": "var_list.r",
     "varRefreshCmd": "cat(var_dic_list()) "
    }
   },
   "types_to_exclude": [
    "module",
    "function",
    "builtin_function_or_method",
    "instance",
    "_Feature"
   ],
   "window_display": false
  }
 },
 "nbformat": 4,
 "nbformat_minor": 2
}