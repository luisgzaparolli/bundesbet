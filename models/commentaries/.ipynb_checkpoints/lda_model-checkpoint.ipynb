{
 "cells": [
  {
   "cell_type": "code",
   "execution_count": 29,
   "metadata": {},
   "outputs": [],
   "source": [
    "import pandas as pd\n",
    "import numpy as np\n",
    "from sklearn.model_selection import GridSearchCV\n",
    "\n",
    "from sklearn.model_selection import cross_val_score, TimeSeriesSplit, StratifiedKFold\n",
    "from yellowbrick.classifier import ConfusionMatrix\n",
    "from sklearn.metrics import confusion_matrix, plot_confusion_matrix, precision_score, recall_score, plot_roc_curve, accuracy_score, roc_auc_score, roc_curve\n",
    "\n",
    "from yellowbrick.model_selection import LearningCurve\n",
    "from sklearn.preprocessing import StandardScaler\n",
    "from sklearn.compose import ColumnTransformer\n",
    "from sklearn.model_selection import train_test_split\n",
    "from sklearn import preprocessing\n",
    "\n",
    "\n",
    "from yellowbrick.model_selection import FeatureImportances\n",
    "from sklearn.ensemble import RandomForestClassifier\n",
    "from sklearn.pipeline import Pipeline\n",
    "import pickle"
   ]
  },
  {
   "cell_type": "code",
   "execution_count": 30,
   "metadata": {},
   "outputs": [],
   "source": [
    "lda_df = pd.read_csv('df_lda.csv')"
   ]
  },
  {
   "cell_type": "code",
   "execution_count": 31,
   "metadata": {},
   "outputs": [],
   "source": [
    "# Filling NaN values with 0, because its a our webscrapping source, when these values do not occur,  the site does not show the output so it can be adopted as a zero value.\n",
    "def func(x):\n",
    "    \"\"\"\n",
    "    Applying a function that change values of a Draw Match to 0, when Home team won to 1 and Away team won to -1.\n",
    "    \"\"\"\n",
    "    if x == 'Draw':\n",
    "        return 0\n",
    "    elif x == 'Home':\n",
    "        return 1\n",
    "    else:\n",
    "        return -1\n",
    "\n",
    "def apply_func(dataframe, column):\n",
    "    dataframe[column] = dataframe[column].apply(func)       "
   ]
  },
  {
   "cell_type": "code",
   "execution_count": 32,
   "metadata": {},
   "outputs": [],
   "source": [
    "apply_func(lda_df, 'result')"
   ]
  },
  {
   "cell_type": "code",
   "execution_count": 33,
   "metadata": {},
   "outputs": [
    {
     "data": {
      "text/html": [
       "<div>\n",
       "<style scoped>\n",
       "    .dataframe tbody tr th:only-of-type {\n",
       "        vertical-align: middle;\n",
       "    }\n",
       "\n",
       "    .dataframe tbody tr th {\n",
       "        vertical-align: top;\n",
       "    }\n",
       "\n",
       "    .dataframe thead th {\n",
       "        text-align: right;\n",
       "    }\n",
       "</style>\n",
       "<table border=\"1\" class=\"dataframe\">\n",
       "  <thead>\n",
       "    <tr style=\"text-align: right;\">\n",
       "      <th></th>\n",
       "      <th>team_home</th>\n",
       "      <th>result</th>\n",
       "      <th>labels_0_home</th>\n",
       "      <th>labels_1_home</th>\n",
       "      <th>labels_2_home</th>\n",
       "      <th>labels_3_home</th>\n",
       "      <th>labels_4_home</th>\n",
       "      <th>team_away</th>\n",
       "      <th>labels_0_away</th>\n",
       "      <th>labels_1_away</th>\n",
       "      <th>labels_2_away</th>\n",
       "      <th>labels_3_away</th>\n",
       "      <th>labels_4_away</th>\n",
       "    </tr>\n",
       "  </thead>\n",
       "  <tbody>\n",
       "    <tr>\n",
       "      <th>0</th>\n",
       "      <td>FC Koln</td>\n",
       "      <td>-1</td>\n",
       "      <td>7</td>\n",
       "      <td>7</td>\n",
       "      <td>4</td>\n",
       "      <td>3</td>\n",
       "      <td>3</td>\n",
       "      <td>Freiburg</td>\n",
       "      <td>5</td>\n",
       "      <td>9</td>\n",
       "      <td>6</td>\n",
       "      <td>14</td>\n",
       "      <td>9</td>\n",
       "    </tr>\n",
       "    <tr>\n",
       "      <th>1</th>\n",
       "      <td>B. Monchengladbach</td>\n",
       "      <td>1</td>\n",
       "      <td>17</td>\n",
       "      <td>7</td>\n",
       "      <td>10</td>\n",
       "      <td>8</td>\n",
       "      <td>4</td>\n",
       "      <td>Paderborn</td>\n",
       "      <td>3</td>\n",
       "      <td>4</td>\n",
       "      <td>4</td>\n",
       "      <td>13</td>\n",
       "      <td>6</td>\n",
       "    </tr>\n",
       "    <tr>\n",
       "      <th>2</th>\n",
       "      <td>Augsburg</td>\n",
       "      <td>0</td>\n",
       "      <td>4</td>\n",
       "      <td>6</td>\n",
       "      <td>11</td>\n",
       "      <td>5</td>\n",
       "      <td>2</td>\n",
       "      <td>Freiburg</td>\n",
       "      <td>6</td>\n",
       "      <td>7</td>\n",
       "      <td>5</td>\n",
       "      <td>10</td>\n",
       "      <td>6</td>\n",
       "    </tr>\n",
       "    <tr>\n",
       "      <th>3</th>\n",
       "      <td>B. Monchengladbach</td>\n",
       "      <td>1</td>\n",
       "      <td>13</td>\n",
       "      <td>5</td>\n",
       "      <td>5</td>\n",
       "      <td>3</td>\n",
       "      <td>3</td>\n",
       "      <td>FC Koln</td>\n",
       "      <td>8</td>\n",
       "      <td>4</td>\n",
       "      <td>7</td>\n",
       "      <td>1</td>\n",
       "      <td>4</td>\n",
       "    </tr>\n",
       "    <tr>\n",
       "      <th>4</th>\n",
       "      <td>Bayern Munich</td>\n",
       "      <td>-1</td>\n",
       "      <td>12</td>\n",
       "      <td>8</td>\n",
       "      <td>6</td>\n",
       "      <td>5</td>\n",
       "      <td>7</td>\n",
       "      <td>Hoffenheim</td>\n",
       "      <td>8</td>\n",
       "      <td>9</td>\n",
       "      <td>5</td>\n",
       "      <td>2</td>\n",
       "      <td>1</td>\n",
       "    </tr>\n",
       "    <tr>\n",
       "      <th>...</th>\n",
       "      <td>...</td>\n",
       "      <td>...</td>\n",
       "      <td>...</td>\n",
       "      <td>...</td>\n",
       "      <td>...</td>\n",
       "      <td>...</td>\n",
       "      <td>...</td>\n",
       "      <td>...</td>\n",
       "      <td>...</td>\n",
       "      <td>...</td>\n",
       "      <td>...</td>\n",
       "      <td>...</td>\n",
       "      <td>...</td>\n",
       "    </tr>\n",
       "    <tr>\n",
       "      <th>227</th>\n",
       "      <td>Bayer Leverkusen</td>\n",
       "      <td>1</td>\n",
       "      <td>15</td>\n",
       "      <td>7</td>\n",
       "      <td>9</td>\n",
       "      <td>4</td>\n",
       "      <td>8</td>\n",
       "      <td>Schalke</td>\n",
       "      <td>14</td>\n",
       "      <td>8</td>\n",
       "      <td>8</td>\n",
       "      <td>4</td>\n",
       "      <td>2</td>\n",
       "    </tr>\n",
       "    <tr>\n",
       "      <th>228</th>\n",
       "      <td>RB Leipzig</td>\n",
       "      <td>0</td>\n",
       "      <td>14</td>\n",
       "      <td>5</td>\n",
       "      <td>9</td>\n",
       "      <td>1</td>\n",
       "      <td>4</td>\n",
       "      <td>Wolfsburg</td>\n",
       "      <td>12</td>\n",
       "      <td>6</td>\n",
       "      <td>12</td>\n",
       "      <td>2</td>\n",
       "      <td>7</td>\n",
       "    </tr>\n",
       "    <tr>\n",
       "      <th>229</th>\n",
       "      <td>Mainz</td>\n",
       "      <td>1</td>\n",
       "      <td>11</td>\n",
       "      <td>6</td>\n",
       "      <td>9</td>\n",
       "      <td>1</td>\n",
       "      <td>9</td>\n",
       "      <td>Wolfsburg</td>\n",
       "      <td>16</td>\n",
       "      <td>8</td>\n",
       "      <td>7</td>\n",
       "      <td>5</td>\n",
       "      <td>3</td>\n",
       "    </tr>\n",
       "    <tr>\n",
       "      <th>230</th>\n",
       "      <td>Freiburg</td>\n",
       "      <td>1</td>\n",
       "      <td>9</td>\n",
       "      <td>5</td>\n",
       "      <td>11</td>\n",
       "      <td>12</td>\n",
       "      <td>9</td>\n",
       "      <td>Union Berlin</td>\n",
       "      <td>8</td>\n",
       "      <td>8</td>\n",
       "      <td>7</td>\n",
       "      <td>3</td>\n",
       "      <td>1</td>\n",
       "    </tr>\n",
       "    <tr>\n",
       "      <th>231</th>\n",
       "      <td>Augsburg</td>\n",
       "      <td>1</td>\n",
       "      <td>15</td>\n",
       "      <td>5</td>\n",
       "      <td>7</td>\n",
       "      <td>2</td>\n",
       "      <td>5</td>\n",
       "      <td>Eintracht Frankfurt</td>\n",
       "      <td>10</td>\n",
       "      <td>5</td>\n",
       "      <td>5</td>\n",
       "      <td>4</td>\n",
       "      <td>3</td>\n",
       "    </tr>\n",
       "  </tbody>\n",
       "</table>\n",
       "<p>232 rows × 13 columns</p>\n",
       "</div>"
      ],
      "text/plain": [
       "              team_home  result  labels_0_home  labels_1_home  labels_2_home  \\\n",
       "0               FC Koln      -1              7              7              4   \n",
       "1    B. Monchengladbach       1             17              7             10   \n",
       "2              Augsburg       0              4              6             11   \n",
       "3    B. Monchengladbach       1             13              5              5   \n",
       "4         Bayern Munich      -1             12              8              6   \n",
       "..                  ...     ...            ...            ...            ...   \n",
       "227    Bayer Leverkusen       1             15              7              9   \n",
       "228          RB Leipzig       0             14              5              9   \n",
       "229               Mainz       1             11              6              9   \n",
       "230            Freiburg       1              9              5             11   \n",
       "231            Augsburg       1             15              5              7   \n",
       "\n",
       "     labels_3_home  labels_4_home            team_away  labels_0_away  \\\n",
       "0                3              3             Freiburg              5   \n",
       "1                8              4            Paderborn              3   \n",
       "2                5              2             Freiburg              6   \n",
       "3                3              3              FC Koln              8   \n",
       "4                5              7           Hoffenheim              8   \n",
       "..             ...            ...                  ...            ...   \n",
       "227              4              8              Schalke             14   \n",
       "228              1              4            Wolfsburg             12   \n",
       "229              1              9            Wolfsburg             16   \n",
       "230             12              9         Union Berlin              8   \n",
       "231              2              5  Eintracht Frankfurt             10   \n",
       "\n",
       "     labels_1_away  labels_2_away  labels_3_away  labels_4_away  \n",
       "0                9              6             14              9  \n",
       "1                4              4             13              6  \n",
       "2                7              5             10              6  \n",
       "3                4              7              1              4  \n",
       "4                9              5              2              1  \n",
       "..             ...            ...            ...            ...  \n",
       "227              8              8              4              2  \n",
       "228              6             12              2              7  \n",
       "229              8              7              5              3  \n",
       "230              8              7              3              1  \n",
       "231              5              5              4              3  \n",
       "\n",
       "[232 rows x 13 columns]"
      ]
     },
     "execution_count": 33,
     "metadata": {},
     "output_type": "execute_result"
    }
   ],
   "source": [
    "lda_df"
   ]
  },
  {
   "cell_type": "code",
   "execution_count": 34,
   "metadata": {},
   "outputs": [],
   "source": [
    "le = preprocessing.LabelEncoder()\n",
    "lda_df[['team_home','team_away']] = lda_df[['team_home','team_away']].apply(le.fit_transform)"
   ]
  },
  {
   "cell_type": "markdown",
   "metadata": {},
   "source": [
    "# Model - Random Forest"
   ]
  },
  {
   "cell_type": "code",
   "execution_count": 35,
   "metadata": {},
   "outputs": [],
   "source": [
    "# Defining X and Y\n",
    "\n",
    "X = lda_df.drop('result', axis=1)\n",
    "y = lda_df['result']\n",
    "\n",
    "X_train, X_test, y_train, y_test = train_test_split(X, y, \n",
    "                                                    test_size = 0.2, \n",
    "                                                    random_state = 42,\n",
    "                                                    stratify=y)"
   ]
  },
  {
   "cell_type": "code",
   "execution_count": 36,
   "metadata": {},
   "outputs": [
    {
     "data": {
      "text/plain": [
       "'\"\\n# Random Forest Parameters to optimize:\\n                                                       # Parameters explained:\\nparam_grid = {\\'n_estimators\\': [3, 4, 5, 6, 7, 8, 9, 10],         # The number of trees in the forest.\\n              \\'criterion\\': [\\'gini\\', \\'entropy\\'],        # The function to measure the quality of a split.\\n              \\'max_features\\': [\\'auto\\', \\'sqrt\\'],        # The number of features to consider when looking for the best split\\n              \\'max_depth\\': [1, 2, 3, 4, 5, None], # The maximum depth of the tree.\\n              \\'min_samples_split\\': [1, 2, 3, 4, 5, 6, 7, 8],         # The minimum number of samples required to split an internal node\\n              \\'min_samples_leaf\\': [8, 9, 10, 11, 12, 13],           # The minimum number of samples required to be at a leaf node.\\n              \\'bootstrap\\': [True, False]}              # Whether bootstrap samples are used when building trees.\\n'"
      ]
     },
     "execution_count": 36,
     "metadata": {},
     "output_type": "execute_result"
    }
   ],
   "source": [
    "\"\"\"\"\n",
    "# Random Forest Parameters to optimize:\n",
    "                                                       # Parameters explained:\n",
    "param_grid = {'n_estimators': [3, 4, 5, 6, 7, 8, 9, 10],         # The number of trees in the forest.\n",
    "              'criterion': ['gini', 'entropy'],        # The function to measure the quality of a split.\n",
    "              'max_features': ['auto', 'sqrt'],        # The number of features to consider when looking for the best split\n",
    "              'max_depth': [1, 2, 3, 4, 5, None], # The maximum depth of the tree.\n",
    "              'min_samples_split': [1, 2, 3, 4, 5, 6, 7, 8],         # The minimum number of samples required to split an internal node\n",
    "              'min_samples_leaf': [8, 9, 10, 11, 12, 13],           # The minimum number of samples required to be at a leaf node.\n",
    "              'bootstrap': [True, False]}              # Whether bootstrap samples are used when building trees.\n",
    "\"\"\""
   ]
  },
  {
   "cell_type": "code",
   "execution_count": 37,
   "metadata": {},
   "outputs": [
    {
     "data": {
      "text/plain": [
       "'\\ngsearch = GridSearchCV(estimator=model, param_grid=param_grid, n_jobs=-1, cv=3)\\nrandom_model = gsearch.fit(X_train, y_train)\\n\\n# Best params by the best score\\n\\nprint(random_model.best_params_, random_model.best_score_)\\n'"
      ]
     },
     "execution_count": 37,
     "metadata": {},
     "output_type": "execute_result"
    }
   ],
   "source": [
    "\"\"\"\n",
    "gsearch = GridSearchCV(estimator=model, param_grid=param_grid, n_jobs=-1, cv=3)\n",
    "random_model = gsearch.fit(X_train, y_train)\n",
    "\n",
    "# Best params by the best score\n",
    "\n",
    "print(random_model.best_params_, random_model.best_score_)\n",
    "\"\"\""
   ]
  },
  {
   "cell_type": "code",
   "execution_count": 38,
   "metadata": {},
   "outputs": [],
   "source": [
    "model = RandomForestClassifier(bootstrap = True, criterion = 'gini', max_depth = 2,\n",
    "                               max_features = 'auto', min_samples_leaf = 10, \n",
    "                               min_samples_split = 5, n_estimators = 4, random_state=42,n_jobs=-1)"
   ]
  },
  {
   "cell_type": "code",
   "execution_count": 39,
   "metadata": {},
   "outputs": [],
   "source": [
    "pipeline = Pipeline(steps=[('model', model)])"
   ]
  },
  {
   "cell_type": "code",
   "execution_count": 40,
   "metadata": {},
   "outputs": [
    {
     "data": {
      "text/plain": [
       "Pipeline(memory=None,\n",
       "         steps=[('model',\n",
       "                 RandomForestClassifier(bootstrap=True, ccp_alpha=0.0,\n",
       "                                        class_weight=None, criterion='gini',\n",
       "                                        max_depth=2, max_features='auto',\n",
       "                                        max_leaf_nodes=None, max_samples=None,\n",
       "                                        min_impurity_decrease=0.0,\n",
       "                                        min_impurity_split=None,\n",
       "                                        min_samples_leaf=10,\n",
       "                                        min_samples_split=5,\n",
       "                                        min_weight_fraction_leaf=0.0,\n",
       "                                        n_estimators=4, n_jobs=-1,\n",
       "                                        oob_score=False, random_state=42,\n",
       "                                        verbose=0, warm_start=False))],\n",
       "         verbose=False)"
      ]
     },
     "execution_count": 40,
     "metadata": {},
     "output_type": "execute_result"
    }
   ],
   "source": [
    "pipeline.fit(X_train, y_train)"
   ]
  },
  {
   "cell_type": "code",
   "execution_count": 41,
   "metadata": {},
   "outputs": [
    {
     "data": {
      "text/plain": [
       "array([-1,  0,  1, -1, -1, -1,  1, -1, -1, -1,  1, -1, -1,  1,  1, -1, -1,\n",
       "       -1, -1,  1,  1, -1, -1,  1,  1, -1, -1,  1,  1,  1, -1, -1, -1, -1,\n",
       "       -1, -1, -1,  0, -1,  1,  1,  1,  1,  0,  1, -1,  1], dtype=int64)"
      ]
     },
     "execution_count": 41,
     "metadata": {},
     "output_type": "execute_result"
    }
   ],
   "source": [
    "pipeline.predict(X_test)"
   ]
  },
  {
   "cell_type": "code",
   "execution_count": 42,
   "metadata": {},
   "outputs": [
    {
     "data": {
      "text/plain": [
       "0.48936170212765956"
      ]
     },
     "execution_count": 42,
     "metadata": {},
     "output_type": "execute_result"
    }
   ],
   "source": [
    "pipeline.score(X_test, y_test)"
   ]
  },
  {
   "cell_type": "code",
   "execution_count": 43,
   "metadata": {},
   "outputs": [
    {
     "data": {
      "text/plain": [
       "0.5607617421342911"
      ]
     },
     "execution_count": 43,
     "metadata": {},
     "output_type": "execute_result"
    }
   ],
   "source": [
    "roc_auc_score(y_test, pipeline.predict_proba(X_test), multi_class='ovr')"
   ]
  },
  {
   "cell_type": "code",
   "execution_count": 44,
   "metadata": {},
   "outputs": [
    {
     "data": {
      "text/plain": [
       "0.5410074559010729"
      ]
     },
     "execution_count": 44,
     "metadata": {},
     "output_type": "execute_result"
    }
   ],
   "source": [
    "precision_score(y_test, pipeline.predict(X_test), average='weighted')"
   ]
  },
  {
   "cell_type": "code",
   "execution_count": 45,
   "metadata": {},
   "outputs": [
    {
     "name": "stderr",
     "output_type": "stream",
     "text": [
      "C:\\Users\\pedro\\Anaconda3\\lib\\site-packages\\sklearn\\base.py:197: FutureWarning: From version 0.24, get_params will raise an AttributeError if a parameter cannot be retrieved as an instance attribute. Previously it would return None.\n",
      "  FutureWarning)\n"
     ]
    },
    {
     "data": {
      "image/png": "[encoded data removed]",
      "text/plain": [
       "<Figure size 576x396 with 1 Axes>"
      ]
     },
     "metadata": {},
     "output_type": "display_data"
    },
    {
     "data": {
      "text/plain": [
       "<matplotlib.axes._subplots.AxesSubplot at 0x291efa5c508>"
      ]
     },
     "execution_count": 45,
     "metadata": {},
     "output_type": "execute_result"
    }
   ],
   "source": [
    "cv = StratifiedKFold(n_splits=12)\n",
    "sizes = np.linspace(0.3, 1.0, 10)\n",
    "\n",
    "visualizer = LearningCurve(\n",
    "    pipeline, cv=cv, scoring='f1_weighted', train_sizes=sizes, n_jobs=4\n",
    ")\n",
    "\n",
    "visualizer.fit(X, y)        # Fit the data to the visualizer\n",
    "visualizer.show()           # Finalize and render the figure"
   ]
  },
  {
   "cell_type": "code",
   "execution_count": 46,
   "metadata": {},
   "outputs": [
    {
     "name": "stderr",
     "output_type": "stream",
     "text": [
      "C:\\Users\\pedro\\Anaconda3\\lib\\site-packages\\sklearn\\base.py:197: FutureWarning: From version 0.24, get_params will raise an AttributeError if a parameter cannot be retrieved as an instance attribute. Previously it would return None.\n",
      "  FutureWarning)\n"
     ]
    },
    {
     "data": {
      "image/png": "[encoded data removed]",
      "text/plain": [
       "<Figure size 576x396 with 1 Axes>"
      ]
     },
     "metadata": {},
     "output_type": "display_data"
    },
    {
     "data": {
      "text/plain": [
       "<matplotlib.axes._subplots.AxesSubplot at 0x291ef011588>"
      ]
     },
     "execution_count": 46,
     "metadata": {},
     "output_type": "execute_result"
    }
   ],
   "source": [
    "cv = StratifiedKFold(n_splits=12)\n",
    "sizes = np.linspace(0.3, 1.0, 10)\n",
    "\n",
    "visualizer = LearningCurve(\n",
    "    pipeline, cv=cv, scoring='roc_auc_ovr', train_sizes=sizes, n_jobs=4\n",
    ")\n",
    "\n",
    "visualizer.fit(X, y)        # Fit the data to the visualizer\n",
    "visualizer.show()           # Finalize and render the figure"
   ]
  },
  {
   "cell_type": "markdown",
   "metadata": {},
   "source": [
    "# Exporting Pipeline"
   ]
  },
  {
   "cell_type": "code",
   "execution_count": 47,
   "metadata": {},
   "outputs": [],
   "source": [
    "pickle.dump( pipeline, open( \"ldamod.p\", \"wb\" ) )"
   ]
  },
  {
   "cell_type": "code",
   "execution_count": 48,
   "metadata": {},
   "outputs": [
    {
     "data": {
      "text/plain": [
       "array([ 1,  1,  0,  1, -1, -1, -1,  1,  1, -1,  1, -1, -1, -1,  1, -1, -1,\n",
       "        1,  0, -1,  1,  1,  1, -1, -1, -1,  0, -1,  1, -1, -1, -1, -1, -1,\n",
       "        1,  0,  1,  1,  0,  1,  1, -1, -1,  1,  1,  1, -1, -1, -1, -1,  1,\n",
       "       -1,  1,  1,  1, -1, -1, -1,  1,  1,  1, -1, -1, -1, -1,  0,  1, -1,\n",
       "        1, -1, -1, -1,  1, -1,  0,  1, -1, -1,  1, -1,  1,  1, -1,  1, -1,\n",
       "       -1, -1, -1, -1,  1, -1, -1,  1,  1,  1,  1,  1, -1, -1, -1,  1, -1,\n",
       "        0, -1, -1,  1, -1,  1,  1, -1,  1, -1,  1, -1, -1, -1,  1, -1, -1,\n",
       "        1,  1, -1, -1, -1, -1,  1,  1,  1,  1,  1,  1, -1, -1,  1,  1, -1,\n",
       "       -1,  0,  1,  1, -1,  1,  1, -1, -1,  0, -1, -1,  1, -1, -1,  1, -1,\n",
       "       -1,  1,  1,  1,  1,  1, -1, -1, -1, -1, -1,  1, -1,  0,  1,  1, -1,\n",
       "        1,  1,  1, -1, -1, -1, -1,  1,  1,  0,  1,  1, -1, -1, -1, -1,  1,\n",
       "        1,  1, -1, -1, -1, -1,  1,  1,  1, -1, -1,  1,  0,  1, -1,  1, -1,\n",
       "       -1, -1, -1, -1,  1,  1, -1, -1,  1, -1,  0, -1,  1,  0, -1,  1, -1,\n",
       "       -1, -1, -1, -1, -1,  1, -1, -1, -1, -1,  1], dtype=int64)"
      ]
     },
     "execution_count": 48,
     "metadata": {},
     "output_type": "execute_result"
    }
   ],
   "source": [
    "pipeline.predict(X)"
   ]
  },
  {
   "cell_type": "code",
   "execution_count": 49,
   "metadata": {},
   "outputs": [
    {
     "data": {
      "text/html": [
       "<div>\n",
       "<style scoped>\n",
       "    .dataframe tbody tr th:only-of-type {\n",
       "        vertical-align: middle;\n",
       "    }\n",
       "\n",
       "    .dataframe tbody tr th {\n",
       "        vertical-align: top;\n",
       "    }\n",
       "\n",
       "    .dataframe thead th {\n",
       "        text-align: right;\n",
       "    }\n",
       "</style>\n",
       "<table border=\"1\" class=\"dataframe\">\n",
       "  <thead>\n",
       "    <tr style=\"text-align: right;\">\n",
       "      <th></th>\n",
       "      <th>team_home</th>\n",
       "      <th>result</th>\n",
       "      <th>labels_0_home</th>\n",
       "      <th>labels_1_home</th>\n",
       "      <th>labels_2_home</th>\n",
       "      <th>labels_3_home</th>\n",
       "      <th>labels_4_home</th>\n",
       "      <th>team_away</th>\n",
       "      <th>labels_0_away</th>\n",
       "      <th>labels_1_away</th>\n",
       "      <th>labels_2_away</th>\n",
       "      <th>labels_3_away</th>\n",
       "      <th>labels_4_away</th>\n",
       "    </tr>\n",
       "  </thead>\n",
       "  <tbody>\n",
       "    <tr>\n",
       "      <th>0</th>\n",
       "      <td>7</td>\n",
       "      <td>-1</td>\n",
       "      <td>7</td>\n",
       "      <td>7</td>\n",
       "      <td>4</td>\n",
       "      <td>3</td>\n",
       "      <td>3</td>\n",
       "      <td>7</td>\n",
       "      <td>5</td>\n",
       "      <td>9</td>\n",
       "      <td>6</td>\n",
       "      <td>14</td>\n",
       "      <td>9</td>\n",
       "    </tr>\n",
       "  </tbody>\n",
       "</table>\n",
       "</div>"
      ],
      "text/plain": [
       "   team_home  result  labels_0_home  labels_1_home  labels_2_home  \\\n",
       "0          7      -1              7              7              4   \n",
       "\n",
       "   labels_3_home  labels_4_home  team_away  labels_0_away  labels_1_away  \\\n",
       "0              3              3          7              5              9   \n",
       "\n",
       "   labels_2_away  labels_3_away  labels_4_away  \n",
       "0              6             14              9  "
      ]
     },
     "execution_count": 49,
     "metadata": {},
     "output_type": "execute_result"
    }
   ],
   "source": [
    "lda_df.head(1)"
   ]
  },
  {
   "cell_type": "code",
   "execution_count": 50,
   "metadata": {},
   "outputs": [],
   "source": [
    "df = pd.read_csv('df_lda.csv')\n",
    "df['predict_comments']=pipeline.predict(X)\n",
    "df['proba_home']=pipeline.predict_proba(X)[:,2]\n",
    "df['proba_draw']=pipeline.predict_proba(X)[:,1]\n",
    "df['proba_away']=pipeline.predict_proba(X)[:,0]\n",
    "df.to_csv('../stack/nlp_results.csv', index=False)"
   ]
  }
 ],
 "metadata": {
  "hide_input": false,
  "kernelspec": {
   "display_name": "Python 3",
   "language": "python",
   "name": "python3"
  },
  "language_info": {
   "codemirror_mode": {
    "name": "ipython",
    "version": 3
   },
   "file_extension": ".py",
   "mimetype": "text/x-python",
   "name": "python",
   "nbconvert_exporter": "python",
   "pygments_lexer": "ipython3",
   "version": "3.7.4"
  },
  "toc": {
   "base_numbering": 1,
   "nav_menu": {},
   "number_sections": true,
   "sideBar": true,
   "skip_h1_title": false,
   "title_cell": "Table of Contents",
   "title_sidebar": "Contents",
   "toc_cell": false,
   "toc_position": {},
   "toc_section_display": true,
   "toc_window_display": false
  },
  "varInspector": {
   "cols": {
    "lenName": 16,
    "lenType": 16,
    "lenVar": 40
   },
   "kernels_config": {
    "python": {
     "delete_cmd_postfix": "",
     "delete_cmd_prefix": "del ",
     "library": "var_list.py",
     "varRefreshCmd": "print(var_dic_list())"
    },
    "r": {
     "delete_cmd_postfix": ") ",
     "delete_cmd_prefix": "rm(",
     "library": "var_list.r",
     "varRefreshCmd": "cat(var_dic_list()) "
    }
   },
   "types_to_exclude": [
    "module",
    "function",
    "builtin_function_or_method",
    "instance",
    "_Feature"
   ],
   "window_display": false
  }
 },
 "nbformat": 4,
 "nbformat_minor": 2
}
