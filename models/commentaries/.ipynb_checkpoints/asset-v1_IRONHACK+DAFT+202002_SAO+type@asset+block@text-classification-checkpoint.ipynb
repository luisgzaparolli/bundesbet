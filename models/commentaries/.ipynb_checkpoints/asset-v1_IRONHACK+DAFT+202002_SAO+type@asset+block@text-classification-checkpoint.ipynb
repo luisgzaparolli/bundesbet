{
 "cells": [
  {
   "cell_type": "code",
   "execution_count": 6,
   "metadata": {},
   "outputs": [],
   "source": [
    "from sklearn.preprocessing import OneHotEncoder\n",
    "# ^^^ pyforest auto-imports - don't write above this line\n",
    "from sklearn.model_selection import train_test_split\n",
    "import pandas as pd\n",
    "import numpy as np\n",
    "import matplotlib.pyplot as plt\n",
    "import seaborn as sns"
   ]
  },
  {
   "cell_type": "markdown",
   "metadata": {},
   "source": [
    "# Natural Language Processing - dealing with text data"
   ]
  },
  {
   "cell_type": "code",
   "execution_count": 7,
   "metadata": {},
   "outputs": [],
   "source": [
    "imdb = pd.read_csv('./datasets/imdb_dataset.csv', encoding=\"latin1\")"
   ]
  },
  {
   "cell_type": "code",
   "execution_count": 4,
   "metadata": {},
   "outputs": [
    {
     "data": {
      "text/html": [
       "<div>\n",
       "<style scoped>\n",
       "    .dataframe tbody tr th:only-of-type {\n",
       "        vertical-align: middle;\n",
       "    }\n",
       "\n",
       "    .dataframe tbody tr th {\n",
       "        vertical-align: top;\n",
       "    }\n",
       "\n",
       "    .dataframe thead th {\n",
       "        text-align: right;\n",
       "    }\n",
       "</style>\n",
       "<table border=\"1\" class=\"dataframe\">\n",
       "  <thead>\n",
       "    <tr style=\"text-align: right;\">\n",
       "      <th></th>\n",
       "      <th>Review</th>\n",
       "      <th>Label</th>\n",
       "    </tr>\n",
       "  </thead>\n",
       "  <tbody>\n",
       "    <tr>\n",
       "      <th>0</th>\n",
       "      <td>Once again Mr. Costner has dragged out a movie...</td>\n",
       "      <td>neg</td>\n",
       "    </tr>\n",
       "    <tr>\n",
       "      <th>1</th>\n",
       "      <td>This is an example of why the majority of acti...</td>\n",
       "      <td>neg</td>\n",
       "    </tr>\n",
       "    <tr>\n",
       "      <th>2</th>\n",
       "      <td>First of all I hate those moronic rappers, who...</td>\n",
       "      <td>neg</td>\n",
       "    </tr>\n",
       "    <tr>\n",
       "      <th>3</th>\n",
       "      <td>Not even the Beatles could write songs everyon...</td>\n",
       "      <td>neg</td>\n",
       "    </tr>\n",
       "    <tr>\n",
       "      <th>4</th>\n",
       "      <td>Brass pictures (movies is not a fitting word f...</td>\n",
       "      <td>neg</td>\n",
       "    </tr>\n",
       "  </tbody>\n",
       "</table>\n",
       "</div>"
      ],
      "text/plain": [
       "                                              Review Label\n",
       "0  Once again Mr. Costner has dragged out a movie...   neg\n",
       "1  This is an example of why the majority of acti...   neg\n",
       "2  First of all I hate those moronic rappers, who...   neg\n",
       "3  Not even the Beatles could write songs everyon...   neg\n",
       "4  Brass pictures (movies is not a fitting word f...   neg"
      ]
     },
     "execution_count": 4,
     "metadata": {},
     "output_type": "execute_result"
    }
   ],
   "source": [
    "imdb.head()"
   ]
  },
  {
   "cell_type": "code",
   "execution_count": 9,
   "metadata": {},
   "outputs": [
    {
     "data": {
      "text/plain": [
       "(50000, 2)"
      ]
     },
     "execution_count": 9,
     "metadata": {},
     "output_type": "execute_result"
    }
   ],
   "source": [
    "imdb.shape"
   ]
  },
  {
   "cell_type": "code",
   "execution_count": 12,
   "metadata": {},
   "outputs": [
    {
     "data": {
      "text/html": [
       "<div>\n",
       "<style scoped>\n",
       "    .dataframe tbody tr th:only-of-type {\n",
       "        vertical-align: middle;\n",
       "    }\n",
       "\n",
       "    .dataframe tbody tr th {\n",
       "        vertical-align: top;\n",
       "    }\n",
       "\n",
       "    .dataframe thead th {\n",
       "        text-align: right;\n",
       "    }\n",
       "</style>\n",
       "<table border=\"1\" class=\"dataframe\">\n",
       "  <thead>\n",
       "    <tr style=\"text-align: right;\">\n",
       "      <th></th>\n",
       "      <th>Review</th>\n",
       "      <th>Label</th>\n",
       "    </tr>\n",
       "  </thead>\n",
       "  <tbody>\n",
       "    <tr>\n",
       "      <th>37485</th>\n",
       "      <td>I had the misfortune to watch this rubbish on ...</td>\n",
       "      <td>neg</td>\n",
       "    </tr>\n",
       "    <tr>\n",
       "      <th>15985</th>\n",
       "      <td>I saw it last night and I was laughing out lou...</td>\n",
       "      <td>pos</td>\n",
       "    </tr>\n",
       "    <tr>\n",
       "      <th>12616</th>\n",
       "      <td>I first saw this film two years ago in the cin...</td>\n",
       "      <td>pos</td>\n",
       "    </tr>\n",
       "    <tr>\n",
       "      <th>43799</th>\n",
       "      <td>This is an exquisite film about the search for...</td>\n",
       "      <td>pos</td>\n",
       "    </tr>\n",
       "    <tr>\n",
       "      <th>27921</th>\n",
       "      <td>Its plain to see why the makers of Scary Movie...</td>\n",
       "      <td>neg</td>\n",
       "    </tr>\n",
       "    <tr>\n",
       "      <th>1805</th>\n",
       "      <td>When I was a little girl, I absolutely adored ...</td>\n",
       "      <td>neg</td>\n",
       "    </tr>\n",
       "    <tr>\n",
       "      <th>22620</th>\n",
       "      <td>Well, I'm an Italian horror big fan and I love...</td>\n",
       "      <td>pos</td>\n",
       "    </tr>\n",
       "    <tr>\n",
       "      <th>29757</th>\n",
       "      <td>Tony Scott destroys anything that may have bee...</td>\n",
       "      <td>neg</td>\n",
       "    </tr>\n",
       "    <tr>\n",
       "      <th>4839</th>\n",
       "      <td>I'm actually too drained to write this review ...</td>\n",
       "      <td>neg</td>\n",
       "    </tr>\n",
       "    <tr>\n",
       "      <th>14661</th>\n",
       "      <td>i adore this film as much as any one adores vi...</td>\n",
       "      <td>pos</td>\n",
       "    </tr>\n",
       "  </tbody>\n",
       "</table>\n",
       "</div>"
      ],
      "text/plain": [
       "                                                  Review Label\n",
       "37485  I had the misfortune to watch this rubbish on ...   neg\n",
       "15985  I saw it last night and I was laughing out lou...   pos\n",
       "12616  I first saw this film two years ago in the cin...   pos\n",
       "43799  This is an exquisite film about the search for...   pos\n",
       "27921  Its plain to see why the makers of Scary Movie...   neg\n",
       "1805   When I was a little girl, I absolutely adored ...   neg\n",
       "22620  Well, I'm an Italian horror big fan and I love...   pos\n",
       "29757  Tony Scott destroys anything that may have bee...   neg\n",
       "4839   I'm actually too drained to write this review ...   neg\n",
       "14661  i adore this film as much as any one adores vi...   pos"
      ]
     },
     "execution_count": 12,
     "metadata": {},
     "output_type": "execute_result"
    }
   ],
   "source": [
    "imdb.sample(10)"
   ]
  },
  {
   "cell_type": "markdown",
   "metadata": {},
   "source": [
    "## Documents vs Corpus"
   ]
  },
  {
   "cell_type": "markdown",
   "metadata": {},
   "source": [
    "- **Documents**: each observation, each row of the dataset above.\n",
    "    \n",
    "- **Corpus**: the whole set of observations, the whole dataset. "
   ]
  },
  {
   "cell_type": "markdown",
   "metadata": {},
   "source": [
    "## Extracting features from text"
   ]
  },
  {
   "cell_type": "markdown",
   "metadata": {},
   "source": [
    "- Transforming words in numbers"
   ]
  },
  {
   "cell_type": "markdown",
   "metadata": {},
   "source": [
    "## One Hot Encoding"
   ]
  },
  {
   "cell_type": "code",
   "execution_count": 41,
   "metadata": {},
   "outputs": [
    {
     "data": {
      "application/javascript": [
       "\n",
       "        if (window._pyforest_update_imports_cell) { window._pyforest_update_imports_cell('from sklearn.preprocessing import OneHotEncoder'); }\n",
       "    "
      ],
      "text/plain": [
       "<IPython.core.display.Javascript object>"
      ]
     },
     "metadata": {},
     "output_type": "display_data"
    },
    {
     "data": {
      "text/plain": [
       "(50000, 49582)"
      ]
     },
     "execution_count": 41,
     "metadata": {},
     "output_type": "execute_result"
    }
   ],
   "source": [
    "encoder = OneHotEncoder()"
   ]
  },
  {
   "cell_type": "markdown",
   "metadata": {},
   "source": [
    "- Too many words will lead to too many dimensions!\n",
    "- Miss information about frequency of words\n",
    "- Context is not captured nor order of words"
   ]
  },
  {
   "cell_type": "code",
   "execution_count": 54,
   "metadata": {},
   "outputs": [
    {
     "data": {
      "text/plain": [
       "<10x2026 sparse matrix of type '<class 'numpy.float64'>'\n",
       "\twith 3080 stored elements in Compressed Sparse Row format>"
      ]
     },
     "execution_count": 54,
     "metadata": {},
     "output_type": "execute_result"
    }
   ],
   "source": [
    "encoder.fit_transform(imdb.Review.head(10).apply(lambda x : pd.Series(x.lower().split())).fillna(' '))"
   ]
  },
  {
   "cell_type": "markdown",
   "metadata": {},
   "source": [
    "## Count Vectorizer"
   ]
  },
  {
   "cell_type": "code",
   "execution_count": 14,
   "metadata": {},
   "outputs": [],
   "source": [
    "from sklearn.feature_extraction.text import CountVectorizer"
   ]
  },
  {
   "cell_type": "code",
   "execution_count": 37,
   "metadata": {},
   "outputs": [],
   "source": [
    "train_text = [\"Be yourself; everyone else is already taken.\",\n",
    "              \"A room without books is like a body without a soul.\",\n",
    "              \"Be the change that you wish to see in the world.\",\n",
    "              \"If you tell the truth, you don't have to remember anything.\",\n",
    "              \"Always forgive your enemies; nothing annoys them so much.\"\n",
    "             ]\n",
    "\n",
    "count_vectorizer = CountVectorizer()"
   ]
  },
  {
   "cell_type": "code",
   "execution_count": 53,
   "metadata": {},
   "outputs": [
    {
     "data": {
      "text/plain": [
       "<10x803 sparse matrix of type '<class 'numpy.int64'>'\n",
       "\twith 1271 stored elements in Compressed Sparse Row format>"
      ]
     },
     "execution_count": 53,
     "metadata": {},
     "output_type": "execute_result"
    }
   ],
   "source": [
    "count_vectorizer.fit_transform(imdb['Review'].head(10))"
   ]
  },
  {
   "cell_type": "code",
   "execution_count": 39,
   "metadata": {},
   "outputs": [
    {
     "data": {
      "text/plain": [
       "(50000, 103122)"
      ]
     },
     "execution_count": 39,
     "metadata": {},
     "output_type": "execute_result"
    }
   ],
   "source": [
    "Out[38].toarray().shape"
   ]
  },
  {
   "cell_type": "code",
   "execution_count": 18,
   "metadata": {},
   "outputs": [
    {
     "data": {
      "text/plain": [
       "CountVectorizer(analyzer='word', binary=False, decode_error='strict',\n",
       "                dtype=<class 'numpy.int64'>, encoding='utf-8', input='content',\n",
       "                lowercase=True, max_df=1.0, max_features=None, min_df=1,\n",
       "                ngram_range=(1, 1), preprocessor=None, stop_words=None,\n",
       "                strip_accents=None, token_pattern='(?u)\\\\b\\\\w\\\\w+\\\\b',\n",
       "                tokenizer=None, vocabulary=None)"
      ]
     },
     "execution_count": 18,
     "metadata": {},
     "output_type": "execute_result"
    }
   ],
   "source": [
    "count_vectorizer.fit(train_text)"
   ]
  },
  {
   "cell_type": "code",
   "execution_count": 19,
   "metadata": {
    "scrolled": true
   },
   "outputs": [
    {
     "data": {
      "text/plain": [
       "{'be': 4,\n",
       " 'yourself': 37,\n",
       " 'everyone': 11,\n",
       " 'else': 9,\n",
       " 'is': 16,\n",
       " 'already': 0,\n",
       " 'taken': 25,\n",
       " 'room': 21,\n",
       " 'without': 33,\n",
       " 'books': 6,\n",
       " 'like': 17,\n",
       " 'body': 5,\n",
       " 'soul': 24,\n",
       " 'the': 28,\n",
       " 'change': 7,\n",
       " 'that': 27,\n",
       " 'you': 35,\n",
       " 'wish': 32,\n",
       " 'to': 30,\n",
       " 'see': 22,\n",
       " 'in': 15,\n",
       " 'world': 34,\n",
       " 'if': 14,\n",
       " 'tell': 26,\n",
       " 'truth': 31,\n",
       " 'don': 8,\n",
       " 'have': 13,\n",
       " 'remember': 20,\n",
       " 'anything': 3,\n",
       " 'always': 1,\n",
       " 'forgive': 12,\n",
       " 'your': 36,\n",
       " 'enemies': 10,\n",
       " 'nothing': 19,\n",
       " 'annoys': 2,\n",
       " 'them': 29,\n",
       " 'so': 23,\n",
       " 'much': 18}"
      ]
     },
     "execution_count": 19,
     "metadata": {},
     "output_type": "execute_result"
    }
   ],
   "source": [
    "count_vectorizer.vocabulary_"
   ]
  },
  {
   "cell_type": "code",
   "execution_count": 20,
   "metadata": {},
   "outputs": [
    {
     "data": {
      "text/plain": [
       "17"
      ]
     },
     "execution_count": 20,
     "metadata": {},
     "output_type": "execute_result"
    }
   ],
   "source": [
    "count_vectorizer.vocabulary_.get('like')"
   ]
  },
  {
   "cell_type": "code",
   "execution_count": 21,
   "metadata": {},
   "outputs": [
    {
     "data": {
      "text/plain": [
       "17"
      ]
     },
     "execution_count": 21,
     "metadata": {},
     "output_type": "execute_result"
    }
   ],
   "source": [
    "count_vectorizer.vocabulary_['like']"
   ]
  },
  {
   "cell_type": "code",
   "execution_count": 22,
   "metadata": {},
   "outputs": [
    {
     "data": {
      "text/plain": [
       "set()"
      ]
     },
     "execution_count": 22,
     "metadata": {},
     "output_type": "execute_result"
    }
   ],
   "source": [
    "count_vectorizer.stop_words_"
   ]
  },
  {
   "cell_type": "code",
   "execution_count": 23,
   "metadata": {},
   "outputs": [
    {
     "data": {
      "text/plain": [
       "<5x38 sparse matrix of type '<class 'numpy.int64'>'\n",
       "\twith 43 stored elements in Compressed Sparse Row format>"
      ]
     },
     "execution_count": 23,
     "metadata": {},
     "output_type": "execute_result"
    }
   ],
   "source": [
    "transformed_vector = count_vectorizer.transform(train_text)\n",
    "transformed_vector"
   ]
  },
  {
   "cell_type": "code",
   "execution_count": 24,
   "metadata": {},
   "outputs": [
    {
     "data": {
      "text/plain": [
       "['Be yourself; everyone else is already taken.',\n",
       " 'A room without books is like a body without a soul.',\n",
       " 'Be the change that you wish to see in the world.',\n",
       " \"If you tell the truth, you don't have to remember anything.\",\n",
       " 'Always forgive your enemies; nothing annoys them so much.']"
      ]
     },
     "execution_count": 24,
     "metadata": {},
     "output_type": "execute_result"
    }
   ],
   "source": [
    "train_text"
   ]
  },
  {
   "cell_type": "code",
   "execution_count": 28,
   "metadata": {},
   "outputs": [
    {
     "data": {
      "text/plain": [
       "33"
      ]
     },
     "execution_count": 28,
     "metadata": {},
     "output_type": "execute_result"
    }
   ],
   "source": [
    "count_vectorizer.vocabulary_.get('without')"
   ]
  },
  {
   "cell_type": "code",
   "execution_count": 31,
   "metadata": {},
   "outputs": [
    {
     "data": {
      "text/plain": [
       "2"
      ]
     },
     "execution_count": 31,
     "metadata": {},
     "output_type": "execute_result"
    }
   ],
   "source": [
    "transformed_vector.toarray()[1][count_vectorizer.vocabulary_.get('without')]"
   ]
  },
  {
   "cell_type": "code",
   "execution_count": 27,
   "metadata": {},
   "outputs": [
    {
     "data": {
      "text/plain": [
       "array([[1, 0, 0, 0, 1, 0, 0, 0, 0, 1, 0, 1, 0, 0, 0, 0, 1, 0, 0, 0, 0, 0,\n",
       "        0, 0, 0, 1, 0, 0, 0, 0, 0, 0, 0, 0, 0, 0, 0, 1],\n",
       "       [0, 0, 0, 0, 0, 1, 1, 0, 0, 0, 0, 0, 0, 0, 0, 0, 1, 1, 0, 0, 0, 1,\n",
       "        0, 0, 1, 0, 0, 0, 0, 0, 0, 0, 0, 2, 0, 0, 0, 0],\n",
       "       [0, 0, 0, 0, 1, 0, 0, 1, 0, 0, 0, 0, 0, 0, 0, 1, 0, 0, 0, 0, 0, 0,\n",
       "        1, 0, 0, 0, 0, 1, 2, 0, 1, 0, 1, 0, 1, 1, 0, 0],\n",
       "       [0, 0, 0, 1, 0, 0, 0, 0, 1, 0, 0, 0, 0, 1, 1, 0, 0, 0, 0, 0, 1, 0,\n",
       "        0, 0, 0, 0, 1, 0, 1, 0, 1, 1, 0, 0, 0, 2, 0, 0],\n",
       "       [0, 1, 1, 0, 0, 0, 0, 0, 0, 0, 1, 0, 1, 0, 0, 0, 0, 0, 1, 1, 0, 0,\n",
       "        0, 1, 0, 0, 0, 0, 0, 1, 0, 0, 0, 0, 0, 0, 1, 0]])"
      ]
     },
     "execution_count": 27,
     "metadata": {},
     "output_type": "execute_result"
    }
   ],
   "source": [
    "transformed_vector.toarray()"
   ]
  },
  {
   "cell_type": "code",
   "execution_count": 33,
   "metadata": {
    "scrolled": true
   },
   "outputs": [
    {
     "data": {
      "text/plain": [
       "['already',\n",
       " 'always',\n",
       " 'annoys',\n",
       " 'anything',\n",
       " 'be',\n",
       " 'body',\n",
       " 'books',\n",
       " 'change',\n",
       " 'don',\n",
       " 'else',\n",
       " 'enemies',\n",
       " 'everyone',\n",
       " 'forgive',\n",
       " 'have',\n",
       " 'if',\n",
       " 'in',\n",
       " 'is',\n",
       " 'like',\n",
       " 'much',\n",
       " 'nothing',\n",
       " 'remember',\n",
       " 'room',\n",
       " 'see',\n",
       " 'so',\n",
       " 'soul',\n",
       " 'taken',\n",
       " 'tell',\n",
       " 'that',\n",
       " 'the',\n",
       " 'them',\n",
       " 'to',\n",
       " 'truth',\n",
       " 'wish',\n",
       " 'without',\n",
       " 'world',\n",
       " 'you',\n",
       " 'your',\n",
       " 'yourself']"
      ]
     },
     "execution_count": 33,
     "metadata": {},
     "output_type": "execute_result"
    }
   ],
   "source": [
    "count_vectorizer.get_feature_names()"
   ]
  },
  {
   "cell_type": "code",
   "execution_count": 32,
   "metadata": {},
   "outputs": [
    {
     "data": {
      "text/html": [
       "<div>\n",
       "<style scoped>\n",
       "    .dataframe tbody tr th:only-of-type {\n",
       "        vertical-align: middle;\n",
       "    }\n",
       "\n",
       "    .dataframe tbody tr th {\n",
       "        vertical-align: top;\n",
       "    }\n",
       "\n",
       "    .dataframe thead th {\n",
       "        text-align: right;\n",
       "    }\n",
       "</style>\n",
       "<table border=\"1\" class=\"dataframe\">\n",
       "  <thead>\n",
       "    <tr style=\"text-align: right;\">\n",
       "      <th></th>\n",
       "      <th>already</th>\n",
       "      <th>always</th>\n",
       "      <th>annoys</th>\n",
       "      <th>anything</th>\n",
       "      <th>be</th>\n",
       "      <th>body</th>\n",
       "      <th>books</th>\n",
       "      <th>change</th>\n",
       "      <th>don</th>\n",
       "      <th>else</th>\n",
       "      <th>...</th>\n",
       "      <th>the</th>\n",
       "      <th>them</th>\n",
       "      <th>to</th>\n",
       "      <th>truth</th>\n",
       "      <th>wish</th>\n",
       "      <th>without</th>\n",
       "      <th>world</th>\n",
       "      <th>you</th>\n",
       "      <th>your</th>\n",
       "      <th>yourself</th>\n",
       "    </tr>\n",
       "  </thead>\n",
       "  <tbody>\n",
       "    <tr>\n",
       "      <th>0</th>\n",
       "      <td>1</td>\n",
       "      <td>0</td>\n",
       "      <td>0</td>\n",
       "      <td>0</td>\n",
       "      <td>1</td>\n",
       "      <td>0</td>\n",
       "      <td>0</td>\n",
       "      <td>0</td>\n",
       "      <td>0</td>\n",
       "      <td>1</td>\n",
       "      <td>...</td>\n",
       "      <td>0</td>\n",
       "      <td>0</td>\n",
       "      <td>0</td>\n",
       "      <td>0</td>\n",
       "      <td>0</td>\n",
       "      <td>0</td>\n",
       "      <td>0</td>\n",
       "      <td>0</td>\n",
       "      <td>0</td>\n",
       "      <td>1</td>\n",
       "    </tr>\n",
       "    <tr>\n",
       "      <th>1</th>\n",
       "      <td>0</td>\n",
       "      <td>0</td>\n",
       "      <td>0</td>\n",
       "      <td>0</td>\n",
       "      <td>0</td>\n",
       "      <td>1</td>\n",
       "      <td>1</td>\n",
       "      <td>0</td>\n",
       "      <td>0</td>\n",
       "      <td>0</td>\n",
       "      <td>...</td>\n",
       "      <td>0</td>\n",
       "      <td>0</td>\n",
       "      <td>0</td>\n",
       "      <td>0</td>\n",
       "      <td>0</td>\n",
       "      <td>2</td>\n",
       "      <td>0</td>\n",
       "      <td>0</td>\n",
       "      <td>0</td>\n",
       "      <td>0</td>\n",
       "    </tr>\n",
       "    <tr>\n",
       "      <th>2</th>\n",
       "      <td>0</td>\n",
       "      <td>0</td>\n",
       "      <td>0</td>\n",
       "      <td>0</td>\n",
       "      <td>1</td>\n",
       "      <td>0</td>\n",
       "      <td>0</td>\n",
       "      <td>1</td>\n",
       "      <td>0</td>\n",
       "      <td>0</td>\n",
       "      <td>...</td>\n",
       "      <td>2</td>\n",
       "      <td>0</td>\n",
       "      <td>1</td>\n",
       "      <td>0</td>\n",
       "      <td>1</td>\n",
       "      <td>0</td>\n",
       "      <td>1</td>\n",
       "      <td>1</td>\n",
       "      <td>0</td>\n",
       "      <td>0</td>\n",
       "    </tr>\n",
       "    <tr>\n",
       "      <th>3</th>\n",
       "      <td>0</td>\n",
       "      <td>0</td>\n",
       "      <td>0</td>\n",
       "      <td>1</td>\n",
       "      <td>0</td>\n",
       "      <td>0</td>\n",
       "      <td>0</td>\n",
       "      <td>0</td>\n",
       "      <td>1</td>\n",
       "      <td>0</td>\n",
       "      <td>...</td>\n",
       "      <td>1</td>\n",
       "      <td>0</td>\n",
       "      <td>1</td>\n",
       "      <td>1</td>\n",
       "      <td>0</td>\n",
       "      <td>0</td>\n",
       "      <td>0</td>\n",
       "      <td>2</td>\n",
       "      <td>0</td>\n",
       "      <td>0</td>\n",
       "    </tr>\n",
       "    <tr>\n",
       "      <th>4</th>\n",
       "      <td>0</td>\n",
       "      <td>1</td>\n",
       "      <td>1</td>\n",
       "      <td>0</td>\n",
       "      <td>0</td>\n",
       "      <td>0</td>\n",
       "      <td>0</td>\n",
       "      <td>0</td>\n",
       "      <td>0</td>\n",
       "      <td>0</td>\n",
       "      <td>...</td>\n",
       "      <td>0</td>\n",
       "      <td>1</td>\n",
       "      <td>0</td>\n",
       "      <td>0</td>\n",
       "      <td>0</td>\n",
       "      <td>0</td>\n",
       "      <td>0</td>\n",
       "      <td>0</td>\n",
       "      <td>1</td>\n",
       "      <td>0</td>\n",
       "    </tr>\n",
       "  </tbody>\n",
       "</table>\n",
       "<p>5 rows × 38 columns</p>\n",
       "</div>"
      ],
      "text/plain": [
       "   already  always  annoys  anything  be  body  books  change  don  else  ...  \\\n",
       "0        1       0       0         0   1     0      0       0    0     1  ...   \n",
       "1        0       0       0         0   0     1      1       0    0     0  ...   \n",
       "2        0       0       0         0   1     0      0       1    0     0  ...   \n",
       "3        0       0       0         1   0     0      0       0    1     0  ...   \n",
       "4        0       1       1         0   0     0      0       0    0     0  ...   \n",
       "\n",
       "   the  them  to  truth  wish  without  world  you  your  yourself  \n",
       "0    0     0   0      0     0        0      0    0     0         1  \n",
       "1    0     0   0      0     0        2      0    0     0         0  \n",
       "2    2     0   1      0     1        0      1    1     0         0  \n",
       "3    1     0   1      1     0        0      0    2     0         0  \n",
       "4    0     1   0      0     0        0      0    0     1         0  \n",
       "\n",
       "[5 rows x 38 columns]"
      ]
     },
     "execution_count": 32,
     "metadata": {},
     "output_type": "execute_result"
    }
   ],
   "source": [
    "pd.DataFrame(transformed_vector.toarray(), columns=count_vectorizer.get_feature_names())"
   ]
  },
  {
   "cell_type": "code",
   "execution_count": 14,
   "metadata": {
    "scrolled": true
   },
   "outputs": [
    {
     "data": {
      "text/plain": [
       "['Be yourself; everyone else is already taken.',\n",
       " 'A room without books is like a body without a soul.',\n",
       " 'Be the change that you wish to see in the world.',\n",
       " \"If you tell the truth, you don't have to remember anything.\",\n",
       " 'Always forgive your enemies; nothing annoys them so much.']"
      ]
     },
     "execution_count": 14,
     "metadata": {},
     "output_type": "execute_result"
    }
   ],
   "source": [
    "train_text"
   ]
  },
  {
   "cell_type": "markdown",
   "metadata": {},
   "source": [
    "- Deals with the matter of frequency only\n",
    "- The other drawbacks remain"
   ]
  },
  {
   "cell_type": "markdown",
   "metadata": {},
   "source": [
    "## N-Grams"
   ]
  },
  {
   "cell_type": "markdown",
   "metadata": {},
   "source": [
    "### Bigram"
   ]
  },
  {
   "cell_type": "code",
   "execution_count": 64,
   "metadata": {},
   "outputs": [],
   "source": [
    "n_gram_vectorizer = CountVectorizer(ngram_range=(2, 2))"
   ]
  },
  {
   "cell_type": "code",
   "execution_count": 65,
   "metadata": {},
   "outputs": [
    {
     "data": {
      "text/plain": [
       "(5, 41)"
      ]
     },
     "execution_count": 65,
     "metadata": {},
     "output_type": "execute_result"
    }
   ],
   "source": [
    "transformed_vector = n_gram_vectorizer.fit_transform(train_text)\n",
    "\n",
    "transformed_vector.shape"
   ]
  },
  {
   "cell_type": "code",
   "execution_count": 66,
   "metadata": {
    "scrolled": true
   },
   "outputs": [
    {
     "data": {
      "text/plain": [
       "{'be yourself': 4,\n",
       " 'yourself everyone': 40,\n",
       " 'everyone else': 11,\n",
       " 'else is': 9,\n",
       " 'is already': 16,\n",
       " 'already taken': 0,\n",
       " 'room without': 21,\n",
       " 'without books': 34,\n",
       " 'books is': 6,\n",
       " 'is like': 17,\n",
       " 'like body': 18,\n",
       " 'body without': 5,\n",
       " 'without soul': 35,\n",
       " 'be the': 3,\n",
       " 'the change': 26,\n",
       " 'change that': 7,\n",
       " 'that you': 25,\n",
       " 'you wish': 38,\n",
       " 'wish to': 33,\n",
       " 'to see': 31,\n",
       " 'see in': 22,\n",
       " 'in the': 15,\n",
       " 'the world': 28,\n",
       " 'if you': 14,\n",
       " 'you tell': 37,\n",
       " 'tell the': 24,\n",
       " 'the truth': 27,\n",
       " 'truth you': 32,\n",
       " 'you don': 36,\n",
       " 'don have': 8,\n",
       " 'have to': 13,\n",
       " 'to remember': 30,\n",
       " 'remember anything': 20,\n",
       " 'always forgive': 1,\n",
       " 'forgive your': 12,\n",
       " 'your enemies': 39,\n",
       " 'enemies nothing': 10,\n",
       " 'nothing annoys': 19,\n",
       " 'annoys them': 2,\n",
       " 'them so': 29,\n",
       " 'so much': 23}"
      ]
     },
     "execution_count": 66,
     "metadata": {},
     "output_type": "execute_result"
    }
   ],
   "source": [
    "n_gram_vectorizer.vocabulary_"
   ]
  },
  {
   "cell_type": "code",
   "execution_count": 67,
   "metadata": {},
   "outputs": [
    {
     "data": {
      "text/plain": [
       "array([[1, 0, 0, 0, 1, 0, 0, 0, 0, 1, 0, 1, 0, 0, 0, 0, 1, 0, 0, 0, 0, 0,\n",
       "        0, 0, 0, 0, 0, 0, 0, 0, 0, 0, 0, 0, 0, 0, 0, 0, 0, 0, 1],\n",
       "       [0, 0, 0, 0, 0, 1, 1, 0, 0, 0, 0, 0, 0, 0, 0, 0, 0, 1, 1, 0, 0, 1,\n",
       "        0, 0, 0, 0, 0, 0, 0, 0, 0, 0, 0, 0, 1, 1, 0, 0, 0, 0, 0],\n",
       "       [0, 0, 0, 1, 0, 0, 0, 1, 0, 0, 0, 0, 0, 0, 0, 1, 0, 0, 0, 0, 0, 0,\n",
       "        1, 0, 0, 1, 1, 0, 1, 0, 0, 1, 0, 1, 0, 0, 0, 0, 1, 0, 0],\n",
       "       [0, 0, 0, 0, 0, 0, 0, 0, 1, 0, 0, 0, 0, 1, 1, 0, 0, 0, 0, 0, 1, 0,\n",
       "        0, 0, 1, 0, 0, 1, 0, 0, 1, 0, 1, 0, 0, 0, 1, 1, 0, 0, 0],\n",
       "       [0, 1, 1, 0, 0, 0, 0, 0, 0, 0, 1, 0, 1, 0, 0, 0, 0, 0, 0, 1, 0, 0,\n",
       "        0, 1, 0, 0, 0, 0, 0, 1, 0, 0, 0, 0, 0, 0, 0, 0, 0, 1, 0]])"
      ]
     },
     "execution_count": 67,
     "metadata": {},
     "output_type": "execute_result"
    }
   ],
   "source": [
    "transformed_vector.toarray()"
   ]
  },
  {
   "cell_type": "code",
   "execution_count": 19,
   "metadata": {
    "collapsed": true
   },
   "outputs": [
    {
     "data": {
      "text/plain": [
       "[array(['be yourself', 'yourself everyone', 'everyone else', 'else is',\n",
       "        'is already', 'already taken'], dtype='<U17'),\n",
       " array(['room without', 'without books', 'books is', 'is like',\n",
       "        'like body', 'body without', 'without soul'], dtype='<U17'),\n",
       " array(['be the', 'the change', 'change that', 'that you', 'you wish',\n",
       "        'wish to', 'to see', 'see in', 'in the', 'the world'], dtype='<U17'),\n",
       " array(['if you', 'you tell', 'tell the', 'the truth', 'truth you',\n",
       "        'you don', 'don have', 'have to', 'to remember',\n",
       "        'remember anything'], dtype='<U17'),\n",
       " array(['always forgive', 'forgive your', 'your enemies',\n",
       "        'enemies nothing', 'nothing annoys', 'annoys them', 'them so',\n",
       "        'so much'], dtype='<U17')]"
      ]
     },
     "execution_count": 19,
     "metadata": {},
     "output_type": "execute_result"
    }
   ],
   "source": [
    "n_gram_vectorizer.inverse_transform(transformed_vector)"
   ]
  },
  {
   "cell_type": "markdown",
   "metadata": {},
   "source": [
    "- Usually able to find authorship patterns"
   ]
  },
  {
   "cell_type": "markdown",
   "metadata": {},
   "source": [
    "## Tf-IDf\n",
    "\n",
    "- Term frequency - if a word occurs often in a document, the algorithm will consider the word important\n",
    "\n",
    "- Inverse Document Frequency - if a word occurs frequently on the **corpus**, it means it has few information (information theory)"
   ]
  },
  {
   "cell_type": "code",
   "execution_count": 92,
   "metadata": {},
   "outputs": [
    {
     "data": {
      "text/plain": [
       "['Be yourself; everyone else is already taken change.',\n",
       " 'A room without books is like a body without a soul.',\n",
       " 'Be the change that you wish to see in the world and change everything, this would change it all!.',\n",
       " \"If you tell the truth, you don't have to remember change anything.\",\n",
       " 'Always forgive your enemies; nothing annoys change them so much.']"
      ]
     },
     "execution_count": 92,
     "metadata": {},
     "output_type": "execute_result"
    }
   ],
   "source": [
    "train_text = ['Be yourself; everyone else is already taken change.',\n",
    "             'A room without books is like a body without a soul.',\n",
    "             'Be the change that you wish to see in the world and change everything, this would change it all!.',\n",
    "             \"If you tell the truth, you don't have to remember change anything.\",\n",
    "             'Always forgive your enemies; nothing annoys change them so much.']\n",
    "\n",
    "train_text"
   ]
  },
  {
   "cell_type": "code",
   "execution_count": 93,
   "metadata": {},
   "outputs": [],
   "source": [
    "from sklearn.feature_extraction.text import TfidfVectorizer, TfidfTransformer\n",
    "\n",
    "tfidf_vectorizer = TfidfVectorizer()"
   ]
  },
  {
   "cell_type": "code",
   "execution_count": 94,
   "metadata": {
    "scrolled": true
   },
   "outputs": [
    {
     "data": {
      "text/plain": [
       "{'be': 6,\n",
       " 'yourself': 43,\n",
       " 'everyone': 13,\n",
       " 'else': 11,\n",
       " 'is': 19,\n",
       " 'already': 1,\n",
       " 'taken': 29,\n",
       " 'change': 9,\n",
       " 'room': 25,\n",
       " 'without': 38,\n",
       " 'books': 8,\n",
       " 'like': 21,\n",
       " 'body': 7,\n",
       " 'soul': 28,\n",
       " 'the': 32,\n",
       " 'that': 31,\n",
       " 'you': 41,\n",
       " 'wish': 37,\n",
       " 'to': 35,\n",
       " 'see': 26,\n",
       " 'in': 18,\n",
       " 'world': 39,\n",
       " 'and': 3,\n",
       " 'everything': 14,\n",
       " 'this': 34,\n",
       " 'would': 40,\n",
       " 'it': 20,\n",
       " 'all': 0,\n",
       " 'if': 17,\n",
       " 'tell': 30,\n",
       " 'truth': 36,\n",
       " 'don': 10,\n",
       " 'have': 16,\n",
       " 'remember': 24,\n",
       " 'anything': 5,\n",
       " 'always': 2,\n",
       " 'forgive': 15,\n",
       " 'your': 42,\n",
       " 'enemies': 12,\n",
       " 'nothing': 23,\n",
       " 'annoys': 4,\n",
       " 'them': 33,\n",
       " 'so': 27,\n",
       " 'much': 22}"
      ]
     },
     "execution_count": 94,
     "metadata": {},
     "output_type": "execute_result"
    }
   ],
   "source": [
    "tfidf_vector = tfidf_vectorizer.fit_transform(train_text)\n",
    "\n",
    "tfidf_vectorizer.vocabulary_"
   ]
  },
  {
   "cell_type": "code",
   "execution_count": 95,
   "metadata": {
    "scrolled": true
   },
   "outputs": [
    {
     "data": {
      "text/plain": [
       "array([[0.        , 0.38868358, 0.        , 0.        , 0.        ,\n",
       "        0.        , 0.31358747, 0.        , 0.        , 0.21897755,\n",
       "        0.        , 0.38868358, 0.        , 0.38868358, 0.        ,\n",
       "        0.        , 0.        , 0.        , 0.        , 0.31358747,\n",
       "        0.        , 0.        , 0.        , 0.        , 0.        ,\n",
       "        0.        , 0.        , 0.        , 0.        , 0.38868358,\n",
       "        0.        , 0.        , 0.        , 0.        , 0.        ,\n",
       "        0.        , 0.        , 0.        , 0.        , 0.        ,\n",
       "        0.        , 0.        , 0.        , 0.38868358],\n",
       "       [0.        , 0.        , 0.        , 0.        , 0.        ,\n",
       "        0.        , 0.        , 0.32189611, 0.32189611, 0.        ,\n",
       "        0.        , 0.        , 0.        , 0.        , 0.        ,\n",
       "        0.        , 0.        , 0.        , 0.        , 0.25970376,\n",
       "        0.        , 0.32189611, 0.        , 0.        , 0.        ,\n",
       "        0.32189611, 0.        , 0.        , 0.32189611, 0.        ,\n",
       "        0.        , 0.        , 0.        , 0.        , 0.        ,\n",
       "        0.        , 0.        , 0.        , 0.64379222, 0.        ,\n",
       "        0.        , 0.        , 0.        , 0.        ],\n",
       "       [0.23304382, 0.        , 0.        , 0.23304382, 0.        ,\n",
       "        0.        , 0.18801828, 0.        , 0.        , 0.39387846,\n",
       "        0.        , 0.        , 0.        , 0.        , 0.23304382,\n",
       "        0.        , 0.        , 0.        , 0.23304382, 0.        ,\n",
       "        0.23304382, 0.        , 0.        , 0.        , 0.        ,\n",
       "        0.        , 0.23304382, 0.        , 0.        , 0.        ,\n",
       "        0.        , 0.23304382, 0.37603657, 0.        , 0.23304382,\n",
       "        0.18801828, 0.        , 0.23304382, 0.        , 0.23304382,\n",
       "        0.23304382, 0.18801828, 0.        , 0.        ],\n",
       "       [0.        , 0.        , 0.        , 0.        , 0.        ,\n",
       "        0.29850219, 0.        , 0.        , 0.        , 0.16817093,\n",
       "        0.29850219, 0.        , 0.        , 0.        , 0.        ,\n",
       "        0.        , 0.29850219, 0.29850219, 0.        , 0.        ,\n",
       "        0.        , 0.        , 0.        , 0.        , 0.29850219,\n",
       "        0.        , 0.        , 0.        , 0.        , 0.        ,\n",
       "        0.29850219, 0.        , 0.24082969, 0.        , 0.        ,\n",
       "        0.24082969, 0.29850219, 0.        , 0.        , 0.        ,\n",
       "        0.        , 0.48165938, 0.        , 0.        ],\n",
       "       [0.        , 0.        , 0.32760659, 0.        , 0.32760659,\n",
       "        0.        , 0.        , 0.        , 0.        , 0.18456784,\n",
       "        0.        , 0.        , 0.32760659, 0.        , 0.        ,\n",
       "        0.32760659, 0.        , 0.        , 0.        , 0.        ,\n",
       "        0.        , 0.        , 0.32760659, 0.32760659, 0.        ,\n",
       "        0.        , 0.        , 0.32760659, 0.        , 0.        ,\n",
       "        0.        , 0.        , 0.        , 0.32760659, 0.        ,\n",
       "        0.        , 0.        , 0.        , 0.        , 0.        ,\n",
       "        0.        , 0.        , 0.32760659, 0.        ]])"
      ]
     },
     "execution_count": 95,
     "metadata": {},
     "output_type": "execute_result"
    }
   ],
   "source": [
    "tfidf_vector.toarray()"
   ]
  },
  {
   "cell_type": "code",
   "execution_count": 96,
   "metadata": {},
   "outputs": [
    {
     "data": {
      "text/plain": [
       "array([0.23304382, 0.        , 0.        , 0.23304382, 0.        ,\n",
       "       0.        , 0.18801828, 0.        , 0.        , 0.39387846,\n",
       "       0.        , 0.        , 0.        , 0.        , 0.23304382,\n",
       "       0.        , 0.        , 0.        , 0.23304382, 0.        ,\n",
       "       0.23304382, 0.        , 0.        , 0.        , 0.        ,\n",
       "       0.        , 0.23304382, 0.        , 0.        , 0.        ,\n",
       "       0.        , 0.23304382, 0.37603657, 0.        , 0.23304382,\n",
       "       0.18801828, 0.        , 0.23304382, 0.        , 0.23304382,\n",
       "       0.23304382, 0.18801828, 0.        , 0.        ])"
      ]
     },
     "execution_count": 96,
     "metadata": {},
     "output_type": "execute_result"
    }
   ],
   "source": [
    "tfidf_vector.toarray()[2]"
   ]
  },
  {
   "cell_type": "code",
   "execution_count": 97,
   "metadata": {},
   "outputs": [
    {
     "data": {
      "text/plain": [
       "0.3938784647385806"
      ]
     },
     "execution_count": 97,
     "metadata": {},
     "output_type": "execute_result"
    }
   ],
   "source": [
    "tfidf_vector.toarray()[2][tfidf_vectorizer.vocabulary_.get('change')]"
   ]
  },
  {
   "cell_type": "code",
   "execution_count": 98,
   "metadata": {},
   "outputs": [
    {
     "data": {
      "text/plain": [
       "9"
      ]
     },
     "execution_count": 98,
     "metadata": {},
     "output_type": "execute_result"
    }
   ],
   "source": [
    "tfidf_vectorizer.vocabulary_.get('change')"
   ]
  },
  {
   "cell_type": "code",
   "execution_count": 99,
   "metadata": {
    "scrolled": true
   },
   "outputs": [
    {
     "data": {
      "text/html": [
       "<div>\n",
       "<style scoped>\n",
       "    .dataframe tbody tr th:only-of-type {\n",
       "        vertical-align: middle;\n",
       "    }\n",
       "\n",
       "    .dataframe tbody tr th {\n",
       "        vertical-align: top;\n",
       "    }\n",
       "\n",
       "    .dataframe thead th {\n",
       "        text-align: right;\n",
       "    }\n",
       "</style>\n",
       "<table border=\"1\" class=\"dataframe\">\n",
       "  <thead>\n",
       "    <tr style=\"text-align: right;\">\n",
       "      <th></th>\n",
       "      <th>0</th>\n",
       "      <th>1</th>\n",
       "    </tr>\n",
       "  </thead>\n",
       "  <tbody>\n",
       "    <tr>\n",
       "      <th>0</th>\n",
       "      <td>all</td>\n",
       "      <td>2.098612</td>\n",
       "    </tr>\n",
       "    <tr>\n",
       "      <th>1</th>\n",
       "      <td>already</td>\n",
       "      <td>2.098612</td>\n",
       "    </tr>\n",
       "    <tr>\n",
       "      <th>2</th>\n",
       "      <td>always</td>\n",
       "      <td>2.098612</td>\n",
       "    </tr>\n",
       "    <tr>\n",
       "      <th>3</th>\n",
       "      <td>and</td>\n",
       "      <td>2.098612</td>\n",
       "    </tr>\n",
       "    <tr>\n",
       "      <th>4</th>\n",
       "      <td>annoys</td>\n",
       "      <td>2.098612</td>\n",
       "    </tr>\n",
       "    <tr>\n",
       "      <th>5</th>\n",
       "      <td>anything</td>\n",
       "      <td>2.098612</td>\n",
       "    </tr>\n",
       "    <tr>\n",
       "      <th>6</th>\n",
       "      <td>be</td>\n",
       "      <td>1.693147</td>\n",
       "    </tr>\n",
       "    <tr>\n",
       "      <th>7</th>\n",
       "      <td>body</td>\n",
       "      <td>2.098612</td>\n",
       "    </tr>\n",
       "    <tr>\n",
       "      <th>8</th>\n",
       "      <td>books</td>\n",
       "      <td>2.098612</td>\n",
       "    </tr>\n",
       "    <tr>\n",
       "      <th>9</th>\n",
       "      <td>change</td>\n",
       "      <td>1.182322</td>\n",
       "    </tr>\n",
       "    <tr>\n",
       "      <th>10</th>\n",
       "      <td>don</td>\n",
       "      <td>2.098612</td>\n",
       "    </tr>\n",
       "    <tr>\n",
       "      <th>11</th>\n",
       "      <td>else</td>\n",
       "      <td>2.098612</td>\n",
       "    </tr>\n",
       "    <tr>\n",
       "      <th>12</th>\n",
       "      <td>enemies</td>\n",
       "      <td>2.098612</td>\n",
       "    </tr>\n",
       "    <tr>\n",
       "      <th>13</th>\n",
       "      <td>everyone</td>\n",
       "      <td>2.098612</td>\n",
       "    </tr>\n",
       "    <tr>\n",
       "      <th>14</th>\n",
       "      <td>everything</td>\n",
       "      <td>2.098612</td>\n",
       "    </tr>\n",
       "    <tr>\n",
       "      <th>15</th>\n",
       "      <td>forgive</td>\n",
       "      <td>2.098612</td>\n",
       "    </tr>\n",
       "    <tr>\n",
       "      <th>16</th>\n",
       "      <td>have</td>\n",
       "      <td>2.098612</td>\n",
       "    </tr>\n",
       "    <tr>\n",
       "      <th>17</th>\n",
       "      <td>if</td>\n",
       "      <td>2.098612</td>\n",
       "    </tr>\n",
       "    <tr>\n",
       "      <th>18</th>\n",
       "      <td>in</td>\n",
       "      <td>2.098612</td>\n",
       "    </tr>\n",
       "    <tr>\n",
       "      <th>19</th>\n",
       "      <td>is</td>\n",
       "      <td>1.693147</td>\n",
       "    </tr>\n",
       "    <tr>\n",
       "      <th>20</th>\n",
       "      <td>it</td>\n",
       "      <td>2.098612</td>\n",
       "    </tr>\n",
       "    <tr>\n",
       "      <th>21</th>\n",
       "      <td>like</td>\n",
       "      <td>2.098612</td>\n",
       "    </tr>\n",
       "    <tr>\n",
       "      <th>22</th>\n",
       "      <td>much</td>\n",
       "      <td>2.098612</td>\n",
       "    </tr>\n",
       "    <tr>\n",
       "      <th>23</th>\n",
       "      <td>nothing</td>\n",
       "      <td>2.098612</td>\n",
       "    </tr>\n",
       "    <tr>\n",
       "      <th>24</th>\n",
       "      <td>remember</td>\n",
       "      <td>2.098612</td>\n",
       "    </tr>\n",
       "    <tr>\n",
       "      <th>25</th>\n",
       "      <td>room</td>\n",
       "      <td>2.098612</td>\n",
       "    </tr>\n",
       "    <tr>\n",
       "      <th>26</th>\n",
       "      <td>see</td>\n",
       "      <td>2.098612</td>\n",
       "    </tr>\n",
       "    <tr>\n",
       "      <th>27</th>\n",
       "      <td>so</td>\n",
       "      <td>2.098612</td>\n",
       "    </tr>\n",
       "    <tr>\n",
       "      <th>28</th>\n",
       "      <td>soul</td>\n",
       "      <td>2.098612</td>\n",
       "    </tr>\n",
       "    <tr>\n",
       "      <th>29</th>\n",
       "      <td>taken</td>\n",
       "      <td>2.098612</td>\n",
       "    </tr>\n",
       "    <tr>\n",
       "      <th>30</th>\n",
       "      <td>tell</td>\n",
       "      <td>2.098612</td>\n",
       "    </tr>\n",
       "    <tr>\n",
       "      <th>31</th>\n",
       "      <td>that</td>\n",
       "      <td>2.098612</td>\n",
       "    </tr>\n",
       "    <tr>\n",
       "      <th>32</th>\n",
       "      <td>the</td>\n",
       "      <td>1.693147</td>\n",
       "    </tr>\n",
       "    <tr>\n",
       "      <th>33</th>\n",
       "      <td>them</td>\n",
       "      <td>2.098612</td>\n",
       "    </tr>\n",
       "    <tr>\n",
       "      <th>34</th>\n",
       "      <td>this</td>\n",
       "      <td>2.098612</td>\n",
       "    </tr>\n",
       "    <tr>\n",
       "      <th>35</th>\n",
       "      <td>to</td>\n",
       "      <td>1.693147</td>\n",
       "    </tr>\n",
       "    <tr>\n",
       "      <th>36</th>\n",
       "      <td>truth</td>\n",
       "      <td>2.098612</td>\n",
       "    </tr>\n",
       "    <tr>\n",
       "      <th>37</th>\n",
       "      <td>wish</td>\n",
       "      <td>2.098612</td>\n",
       "    </tr>\n",
       "    <tr>\n",
       "      <th>38</th>\n",
       "      <td>without</td>\n",
       "      <td>2.098612</td>\n",
       "    </tr>\n",
       "    <tr>\n",
       "      <th>39</th>\n",
       "      <td>world</td>\n",
       "      <td>2.098612</td>\n",
       "    </tr>\n",
       "    <tr>\n",
       "      <th>40</th>\n",
       "      <td>would</td>\n",
       "      <td>2.098612</td>\n",
       "    </tr>\n",
       "    <tr>\n",
       "      <th>41</th>\n",
       "      <td>you</td>\n",
       "      <td>1.693147</td>\n",
       "    </tr>\n",
       "    <tr>\n",
       "      <th>42</th>\n",
       "      <td>your</td>\n",
       "      <td>2.098612</td>\n",
       "    </tr>\n",
       "    <tr>\n",
       "      <th>43</th>\n",
       "      <td>yourself</td>\n",
       "      <td>2.098612</td>\n",
       "    </tr>\n",
       "  </tbody>\n",
       "</table>\n",
       "</div>"
      ],
      "text/plain": [
       "             0         1\n",
       "0          all  2.098612\n",
       "1      already  2.098612\n",
       "2       always  2.098612\n",
       "3          and  2.098612\n",
       "4       annoys  2.098612\n",
       "5     anything  2.098612\n",
       "6           be  1.693147\n",
       "7         body  2.098612\n",
       "8        books  2.098612\n",
       "9       change  1.182322\n",
       "10         don  2.098612\n",
       "11        else  2.098612\n",
       "12     enemies  2.098612\n",
       "13    everyone  2.098612\n",
       "14  everything  2.098612\n",
       "15     forgive  2.098612\n",
       "16        have  2.098612\n",
       "17          if  2.098612\n",
       "18          in  2.098612\n",
       "19          is  1.693147\n",
       "20          it  2.098612\n",
       "21        like  2.098612\n",
       "22        much  2.098612\n",
       "23     nothing  2.098612\n",
       "24    remember  2.098612\n",
       "25        room  2.098612\n",
       "26         see  2.098612\n",
       "27          so  2.098612\n",
       "28        soul  2.098612\n",
       "29       taken  2.098612\n",
       "30        tell  2.098612\n",
       "31        that  2.098612\n",
       "32         the  1.693147\n",
       "33        them  2.098612\n",
       "34        this  2.098612\n",
       "35          to  1.693147\n",
       "36       truth  2.098612\n",
       "37        wish  2.098612\n",
       "38     without  2.098612\n",
       "39       world  2.098612\n",
       "40       would  2.098612\n",
       "41         you  1.693147\n",
       "42        your  2.098612\n",
       "43    yourself  2.098612"
      ]
     },
     "execution_count": 99,
     "metadata": {},
     "output_type": "execute_result"
    }
   ],
   "source": [
    "pd.DataFrame(zip(tfidf_vectorizer.get_feature_names(), tfidf_vectorizer.idf_))"
   ]
  },
  {
   "cell_type": "code",
   "execution_count": 100,
   "metadata": {},
   "outputs": [
    {
     "data": {
      "text/html": [
       "<div>\n",
       "<style scoped>\n",
       "    .dataframe tbody tr th:only-of-type {\n",
       "        vertical-align: middle;\n",
       "    }\n",
       "\n",
       "    .dataframe tbody tr th {\n",
       "        vertical-align: top;\n",
       "    }\n",
       "\n",
       "    .dataframe thead th {\n",
       "        text-align: right;\n",
       "    }\n",
       "</style>\n",
       "<table border=\"1\" class=\"dataframe\">\n",
       "  <thead>\n",
       "    <tr style=\"text-align: right;\">\n",
       "      <th></th>\n",
       "      <th>all</th>\n",
       "      <th>already</th>\n",
       "      <th>always</th>\n",
       "      <th>and</th>\n",
       "      <th>annoys</th>\n",
       "      <th>anything</th>\n",
       "      <th>be</th>\n",
       "      <th>body</th>\n",
       "      <th>books</th>\n",
       "      <th>change</th>\n",
       "      <th>...</th>\n",
       "      <th>this</th>\n",
       "      <th>to</th>\n",
       "      <th>truth</th>\n",
       "      <th>wish</th>\n",
       "      <th>without</th>\n",
       "      <th>world</th>\n",
       "      <th>would</th>\n",
       "      <th>you</th>\n",
       "      <th>your</th>\n",
       "      <th>yourself</th>\n",
       "    </tr>\n",
       "  </thead>\n",
       "  <tbody>\n",
       "    <tr>\n",
       "      <th>0</th>\n",
       "      <td>0.000000</td>\n",
       "      <td>0.388684</td>\n",
       "      <td>0.000000</td>\n",
       "      <td>0.000000</td>\n",
       "      <td>0.000000</td>\n",
       "      <td>0.000000</td>\n",
       "      <td>0.313587</td>\n",
       "      <td>0.000000</td>\n",
       "      <td>0.000000</td>\n",
       "      <td>0.218978</td>\n",
       "      <td>...</td>\n",
       "      <td>0.000000</td>\n",
       "      <td>0.000000</td>\n",
       "      <td>0.000000</td>\n",
       "      <td>0.000000</td>\n",
       "      <td>0.000000</td>\n",
       "      <td>0.000000</td>\n",
       "      <td>0.000000</td>\n",
       "      <td>0.000000</td>\n",
       "      <td>0.000000</td>\n",
       "      <td>0.388684</td>\n",
       "    </tr>\n",
       "    <tr>\n",
       "      <th>1</th>\n",
       "      <td>0.000000</td>\n",
       "      <td>0.000000</td>\n",
       "      <td>0.000000</td>\n",
       "      <td>0.000000</td>\n",
       "      <td>0.000000</td>\n",
       "      <td>0.000000</td>\n",
       "      <td>0.000000</td>\n",
       "      <td>0.321896</td>\n",
       "      <td>0.321896</td>\n",
       "      <td>0.000000</td>\n",
       "      <td>...</td>\n",
       "      <td>0.000000</td>\n",
       "      <td>0.000000</td>\n",
       "      <td>0.000000</td>\n",
       "      <td>0.000000</td>\n",
       "      <td>0.643792</td>\n",
       "      <td>0.000000</td>\n",
       "      <td>0.000000</td>\n",
       "      <td>0.000000</td>\n",
       "      <td>0.000000</td>\n",
       "      <td>0.000000</td>\n",
       "    </tr>\n",
       "    <tr>\n",
       "      <th>2</th>\n",
       "      <td>0.233044</td>\n",
       "      <td>0.000000</td>\n",
       "      <td>0.000000</td>\n",
       "      <td>0.233044</td>\n",
       "      <td>0.000000</td>\n",
       "      <td>0.000000</td>\n",
       "      <td>0.188018</td>\n",
       "      <td>0.000000</td>\n",
       "      <td>0.000000</td>\n",
       "      <td>0.393878</td>\n",
       "      <td>...</td>\n",
       "      <td>0.233044</td>\n",
       "      <td>0.188018</td>\n",
       "      <td>0.000000</td>\n",
       "      <td>0.233044</td>\n",
       "      <td>0.000000</td>\n",
       "      <td>0.233044</td>\n",
       "      <td>0.233044</td>\n",
       "      <td>0.188018</td>\n",
       "      <td>0.000000</td>\n",
       "      <td>0.000000</td>\n",
       "    </tr>\n",
       "    <tr>\n",
       "      <th>3</th>\n",
       "      <td>0.000000</td>\n",
       "      <td>0.000000</td>\n",
       "      <td>0.000000</td>\n",
       "      <td>0.000000</td>\n",
       "      <td>0.000000</td>\n",
       "      <td>0.298502</td>\n",
       "      <td>0.000000</td>\n",
       "      <td>0.000000</td>\n",
       "      <td>0.000000</td>\n",
       "      <td>0.168171</td>\n",
       "      <td>...</td>\n",
       "      <td>0.000000</td>\n",
       "      <td>0.240830</td>\n",
       "      <td>0.298502</td>\n",
       "      <td>0.000000</td>\n",
       "      <td>0.000000</td>\n",
       "      <td>0.000000</td>\n",
       "      <td>0.000000</td>\n",
       "      <td>0.481659</td>\n",
       "      <td>0.000000</td>\n",
       "      <td>0.000000</td>\n",
       "    </tr>\n",
       "    <tr>\n",
       "      <th>4</th>\n",
       "      <td>0.000000</td>\n",
       "      <td>0.000000</td>\n",
       "      <td>0.327607</td>\n",
       "      <td>0.000000</td>\n",
       "      <td>0.327607</td>\n",
       "      <td>0.000000</td>\n",
       "      <td>0.000000</td>\n",
       "      <td>0.000000</td>\n",
       "      <td>0.000000</td>\n",
       "      <td>0.184568</td>\n",
       "      <td>...</td>\n",
       "      <td>0.000000</td>\n",
       "      <td>0.000000</td>\n",
       "      <td>0.000000</td>\n",
       "      <td>0.000000</td>\n",
       "      <td>0.000000</td>\n",
       "      <td>0.000000</td>\n",
       "      <td>0.000000</td>\n",
       "      <td>0.000000</td>\n",
       "      <td>0.327607</td>\n",
       "      <td>0.000000</td>\n",
       "    </tr>\n",
       "  </tbody>\n",
       "</table>\n",
       "<p>5 rows × 44 columns</p>\n",
       "</div>"
      ],
      "text/plain": [
       "        all   already    always       and    annoys  anything        be  \\\n",
       "0  0.000000  0.388684  0.000000  0.000000  0.000000  0.000000  0.313587   \n",
       "1  0.000000  0.000000  0.000000  0.000000  0.000000  0.000000  0.000000   \n",
       "2  0.233044  0.000000  0.000000  0.233044  0.000000  0.000000  0.188018   \n",
       "3  0.000000  0.000000  0.000000  0.000000  0.000000  0.298502  0.000000   \n",
       "4  0.000000  0.000000  0.327607  0.000000  0.327607  0.000000  0.000000   \n",
       "\n",
       "       body     books    change  ...      this        to     truth      wish  \\\n",
       "0  0.000000  0.000000  0.218978  ...  0.000000  0.000000  0.000000  0.000000   \n",
       "1  0.321896  0.321896  0.000000  ...  0.000000  0.000000  0.000000  0.000000   \n",
       "2  0.000000  0.000000  0.393878  ...  0.233044  0.188018  0.000000  0.233044   \n",
       "3  0.000000  0.000000  0.168171  ...  0.000000  0.240830  0.298502  0.000000   \n",
       "4  0.000000  0.000000  0.184568  ...  0.000000  0.000000  0.000000  0.000000   \n",
       "\n",
       "    without     world     would       you      your  yourself  \n",
       "0  0.000000  0.000000  0.000000  0.000000  0.000000  0.388684  \n",
       "1  0.643792  0.000000  0.000000  0.000000  0.000000  0.000000  \n",
       "2  0.000000  0.233044  0.233044  0.188018  0.000000  0.000000  \n",
       "3  0.000000  0.000000  0.000000  0.481659  0.000000  0.000000  \n",
       "4  0.000000  0.000000  0.000000  0.000000  0.327607  0.000000  \n",
       "\n",
       "[5 rows x 44 columns]"
      ]
     },
     "execution_count": 100,
     "metadata": {},
     "output_type": "execute_result"
    }
   ],
   "source": [
    "pd.DataFrame(tfidf_vector.toarray(), columns=tfidf_vectorizer.get_feature_names())"
   ]
  },
  {
   "cell_type": "markdown",
   "metadata": {},
   "source": [
    "- still not capturing context."
   ]
  },
  {
   "cell_type": "markdown",
   "metadata": {},
   "source": [
    "## Word Embeddings"
   ]
  },
  {
   "cell_type": "markdown",
   "metadata": {},
   "source": [
    "London - **2343432**900\n",
    "\n",
    "Paris - **2343432**382"
   ]
  },
  {
   "cell_type": "markdown",
   "metadata": {},
   "source": [
    "- word2vec"
   ]
  },
  {
   "cell_type": "markdown",
   "metadata": {},
   "source": [
    "London - England\n",
    "\n",
    "Paris - France\n",
    "\n",
    "-----\n",
    "Queen - King\n",
    "\n",
    "Woman - Man"
   ]
  },
  {
   "cell_type": "markdown",
   "metadata": {},
   "source": [
    "# Classification\n"
   ]
  },
  {
   "cell_type": "code",
   "execution_count": 145,
   "metadata": {},
   "outputs": [],
   "source": [
    "imdb = imdb#.sample(1000, random_state=42)"
   ]
  },
  {
   "cell_type": "code",
   "execution_count": 146,
   "metadata": {},
   "outputs": [],
   "source": [
    "X = imdb['Review']\n",
    "\n",
    "y = imdb['Label'].apply(lambda x : 1 if x=='neg' else 0)"
   ]
  },
  {
   "cell_type": "code",
   "execution_count": 147,
   "metadata": {},
   "outputs": [],
   "source": [
    "X_train, X_test, y_train, y_test = train_test_split(X, y, test_size=0.1, random_state=42)"
   ]
  },
  {
   "cell_type": "code",
   "execution_count": 148,
   "metadata": {},
   "outputs": [],
   "source": [
    "count_vectorizer = CountVectorizer()\n",
    "\n",
    "transformed_vector = count_vectorizer.fit_transform(X_train)"
   ]
  },
  {
   "cell_type": "code",
   "execution_count": 149,
   "metadata": {},
   "outputs": [],
   "source": [
    "tfidf_transformer = TfidfTransformer()\n",
    "                                            \n",
    "tfidf_vector = tfidf_transformer.fit_transform(transformed_vector)"
   ]
  },
  {
   "cell_type": "code",
   "execution_count": 150,
   "metadata": {},
   "outputs": [],
   "source": [
    "tfidf_vec = TfidfVectorizer()"
   ]
  },
  {
   "cell_type": "code",
   "execution_count": 151,
   "metadata": {},
   "outputs": [
    {
     "data": {
      "text/plain": [
       "<900x16601 sparse matrix of type '<class 'numpy.float64'>'\n",
       "\twith 117314 stored elements in Compressed Sparse Row format>"
      ]
     },
     "execution_count": 151,
     "metadata": {},
     "output_type": "execute_result"
    }
   ],
   "source": [
    "tfidf_vec.fit_transform(X_train)"
   ]
  },
  {
   "cell_type": "code",
   "execution_count": 152,
   "metadata": {},
   "outputs": [],
   "source": [
    "from sklearn.naive_bayes import GaussianNB"
   ]
  },
  {
   "cell_type": "code",
   "execution_count": 153,
   "metadata": {},
   "outputs": [
    {
     "data": {
      "text/plain": [
       "GaussianNB(priors=None, var_smoothing=1e-09)"
      ]
     },
     "execution_count": 153,
     "metadata": {},
     "output_type": "execute_result"
    }
   ],
   "source": [
    "clf = GaussianNB()\n",
    "clf.fit(tfidf_vector.toarray(), y_train)"
   ]
  },
  {
   "cell_type": "code",
   "execution_count": 154,
   "metadata": {},
   "outputs": [],
   "source": [
    "from sklearn.metrics import roc_auc_score, precision_score, recall_score"
   ]
  },
  {
   "cell_type": "code",
   "execution_count": 155,
   "metadata": {},
   "outputs": [],
   "source": [
    "tfidf_vector_test = tfidf_transformer.transform(count_vectorizer.transform(X_test))"
   ]
  },
  {
   "cell_type": "code",
   "execution_count": 156,
   "metadata": {},
   "outputs": [
    {
     "data": {
      "text/plain": [
       "30477    I remember a certain Tuesday, the morning of 1...\n",
       "9405     I happened to see a promo for this movie on Sp...\n",
       "13389    Not a bad movie but could have been done witho...\n",
       "6217     Not \"confusing\" in the sense that, \"Gee, this ...\n",
       "5582     Veber is not renown for his outstanding direct...\n",
       "                               ...                        \n",
       "8739     \"Season on the Brink\" is one of my favorite bo...\n",
       "44394    This movie is really genuine and random. It's ...\n",
       "33437    Well I'm blowed, a Woody Allen film that I wal...\n",
       "26235    Do not bother to waste your money on this movi...\n",
       "8383     I saw this in the cinema during its initial re...\n",
       "Name: Review, Length: 100, dtype: object"
      ]
     },
     "execution_count": 156,
     "metadata": {},
     "output_type": "execute_result"
    }
   ],
   "source": [
    "X_test"
   ]
  },
  {
   "cell_type": "code",
   "execution_count": 157,
   "metadata": {},
   "outputs": [
    {
     "data": {
      "text/plain": [
       "30477    1\n",
       "9405     1\n",
       "13389    0\n",
       "6217     1\n",
       "5582     1\n",
       "        ..\n",
       "8739     1\n",
       "44394    0\n",
       "33437    1\n",
       "26235    1\n",
       "8383     1\n",
       "Name: Label, Length: 100, dtype: int64"
      ]
     },
     "execution_count": 157,
     "metadata": {},
     "output_type": "execute_result"
    }
   ],
   "source": [
    "y_test"
   ]
  },
  {
   "cell_type": "code",
   "execution_count": 163,
   "metadata": {},
   "outputs": [
    {
     "data": {
      "text/plain": [
       "array([1, 1, 0, 1, 0, 1, 0, 0, 0, 1, 0, 1, 0, 1, 1, 1, 1, 0, 1, 1, 0, 1,\n",
       "       1, 1, 1, 1, 1, 0, 0, 0, 0, 0, 0, 1, 0, 0, 1, 0, 0, 0, 1, 1, 1, 0,\n",
       "       0, 0, 1, 0, 1, 0, 1, 0, 1, 1, 1, 0, 0, 1, 0, 1, 0, 1, 1, 1, 1, 0,\n",
       "       1, 1, 1, 1, 0, 1, 1, 0, 0, 1, 0, 0, 1, 0, 0, 1, 0, 1, 0, 0, 0, 0,\n",
       "       1, 0, 0, 1, 1, 1, 0, 1, 0, 1, 0, 1])"
      ]
     },
     "execution_count": 163,
     "metadata": {},
     "output_type": "execute_result"
    }
   ],
   "source": [
    "clf.predict(tfidf_vector_test.toarray())"
   ]
  },
  {
   "cell_type": "code",
   "execution_count": 159,
   "metadata": {},
   "outputs": [
    {
     "data": {
      "text/plain": [
       "0.6730769230769231"
      ]
     },
     "execution_count": 159,
     "metadata": {},
     "output_type": "execute_result"
    }
   ],
   "source": [
    "precision_score(y_test, clf.predict(tfidf_vector_test.toarray()))"
   ]
  },
  {
   "cell_type": "code",
   "execution_count": 160,
   "metadata": {},
   "outputs": [
    {
     "data": {
      "text/plain": [
       "0.6862745098039216"
      ]
     },
     "execution_count": 160,
     "metadata": {},
     "output_type": "execute_result"
    }
   ],
   "source": [
    "recall_score(y_test, clf.predict(tfidf_vector_test.toarray()))"
   ]
  },
  {
   "cell_type": "code",
   "execution_count": 161,
   "metadata": {},
   "outputs": [
    {
     "data": {
      "text/plain": [
       "0.6696678671468588"
      ]
     },
     "execution_count": 161,
     "metadata": {},
     "output_type": "execute_result"
    }
   ],
   "source": [
    "roc_auc_score(y_test, clf.predict(tfidf_vector_test.toarray()))"
   ]
  },
  {
   "cell_type": "code",
   "execution_count": 166,
   "metadata": {},
   "outputs": [
    {
     "data": {
      "text/plain": [
       "0.67"
      ]
     },
     "execution_count": 166,
     "metadata": {},
     "output_type": "execute_result"
    }
   ],
   "source": [
    "clf.score(tfidf_vector_test.toarray(),y_test)"
   ]
  },
  {
   "cell_type": "code",
   "execution_count": 164,
   "metadata": {},
   "outputs": [
    {
     "data": {
      "text/plain": [
       "0.51"
      ]
     },
     "execution_count": 164,
     "metadata": {},
     "output_type": "execute_result"
    }
   ],
   "source": [
    "y_test.mean()"
   ]
  },
  {
   "cell_type": "markdown",
   "metadata": {},
   "source": [
    "# Using pipelines"
   ]
  },
  {
   "cell_type": "code",
   "execution_count": 180,
   "metadata": {},
   "outputs": [],
   "source": [
    "imdb = pd.read_csv('./datasets/imdb_dataset.csv', encoding=\"latin1\")\n",
    "\n",
    "imdb = imdb.sample(10000, random_state=42)\n",
    "\n",
    "X = imdb['Review']\n",
    "\n",
    "y = imdb['Label'].apply(lambda x : 1 if x=='neg' else 0)\n",
    "\n",
    "X_train, X_test, y_train, y_test = train_test_split(X, y, \n",
    "                                                    test_size=0.1, \n",
    "                                                    random_state=42)"
   ]
  },
  {
   "cell_type": "code",
   "execution_count": 181,
   "metadata": {},
   "outputs": [],
   "source": [
    "from sklearn.pipeline import Pipeline"
   ]
  },
  {
   "cell_type": "code",
   "execution_count": 182,
   "metadata": {},
   "outputs": [],
   "source": [
    "from sklearn.linear_model import LogisticRegression"
   ]
  },
  {
   "cell_type": "code",
   "execution_count": 183,
   "metadata": {},
   "outputs": [
    {
     "data": {
      "text/plain": [
       "Pipeline(memory=None,\n",
       "         steps=[('count_vectorizer',\n",
       "                 CountVectorizer(analyzer='word', binary=False,\n",
       "                                 decode_error='strict',\n",
       "                                 dtype=<class 'numpy.int64'>, encoding='utf-8',\n",
       "                                 input='content', lowercase=True, max_df=1.0,\n",
       "                                 max_features=None, min_df=1,\n",
       "                                 ngram_range=(1, 1), preprocessor=None,\n",
       "                                 stop_words=None, strip_accents=None,\n",
       "                                 token_pattern='(?u)\\\\b\\\\w\\\\w+\\\\b',\n",
       "                                 tokenizer=None, vocabulary=None)),\n",
       "                ('classifier',\n",
       "                 LogisticRegression(C=1.0, class_weight=None, dual=False,\n",
       "                                    fit_intercept=True, intercept_scaling=1,\n",
       "                                    l1_ratio=None, max_iter=10000,\n",
       "                                    multi_class='auto', n_jobs=None,\n",
       "                                    penalty='l2', random_state=None,\n",
       "                                    solver='lbfgs', tol=0.0001, verbose=0,\n",
       "                                    warm_start=False))],\n",
       "         verbose=False)"
      ]
     },
     "execution_count": 183,
     "metadata": {},
     "output_type": "execute_result"
    }
   ],
   "source": [
    "pipeline = Pipeline(steps=[('count_vectorizer', CountVectorizer()),\n",
    "                           ('classifier', LogisticRegression(solver='lbfgs', max_iter=10000))])\n",
    "\n",
    "pipeline.fit(X_train, y_train)"
   ]
  },
  {
   "cell_type": "code",
   "execution_count": 184,
   "metadata": {},
   "outputs": [
    {
     "data": {
      "text/plain": [
       "0.9294661753703726"
      ]
     },
     "execution_count": 184,
     "metadata": {},
     "output_type": "execute_result"
    }
   ],
   "source": [
    "roc_auc_score(y_test, pipeline.predict_proba(X_test)[:, 1])"
   ]
  },
  {
   "cell_type": "code",
   "execution_count": 185,
   "metadata": {},
   "outputs": [
    {
     "data": {
      "text/plain": [
       "0.8605108055009824"
      ]
     },
     "execution_count": 185,
     "metadata": {},
     "output_type": "execute_result"
    }
   ],
   "source": [
    "precision_score(y_test, pipeline.predict(X_test))"
   ]
  },
  {
   "cell_type": "code",
   "execution_count": 186,
   "metadata": {},
   "outputs": [
    {
     "data": {
      "text/plain": [
       "0.863905325443787"
      ]
     },
     "execution_count": 186,
     "metadata": {},
     "output_type": "execute_result"
    }
   ],
   "source": [
    "recall_score(y_test, pipeline.predict(X_test))"
   ]
  },
  {
   "cell_type": "markdown",
   "metadata": {},
   "source": [
    "## Adding the TfidfTransformer"
   ]
  },
  {
   "cell_type": "code",
   "execution_count": 200,
   "metadata": {},
   "outputs": [
    {
     "name": "stdout",
     "output_type": "stream",
     "text": [
      "0.9443891002636516\n",
      "0.9908256880733946\n"
     ]
    }
   ],
   "source": [
    "pipeline = Pipeline([\n",
    "    ('count_vectorizer', CountVectorizer()),\n",
    "    ('tfidf_transformer', TfidfTransformer()),\n",
    "    ('classifier', LogisticRegression(solver='lbfgs', max_iter=10000))\n",
    "])\n",
    "\n",
    "pipeline.fit(X_train, y_train)\n",
    "\n",
    "print(roc_auc_score(y_test, pipeline.predict_proba(X_test)[:, 1]))\n",
    "print(precision_score(y_test, pipeline.predict_proba(X_test)[:, 1] > 0.8))"
   ]
  },
  {
   "cell_type": "code",
   "execution_count": null,
   "metadata": {},
   "outputs": [],
   "source": [
    "from nltk.corpus import stopwords"
   ]
  },
  {
   "cell_type": "code",
   "execution_count": 201,
   "metadata": {},
   "outputs": [
    {
     "name": "stdout",
     "output_type": "stream",
     "text": [
      "0.9494220867289989\n",
      "0.9812206572769953\n"
     ]
    }
   ],
   "source": [
    "pipeline = Pipeline([\n",
    "    ('count_vectorizer', CountVectorizer(stop_words=stopwords.words('english'))),\n",
    "    ('tfidf_transformer', TfidfTransformer()),\n",
    "    ('classifier', LogisticRegression(solver='lbfgs', max_iter=10000))\n",
    "])\n",
    "\n",
    "pipeline.fit(X_train, y_train)\n",
    "\n",
    "print(roc_auc_score(y_test, pipeline.predict_proba(X_test)[:, 1]))\n",
    "print(precision_score(y_test, pipeline.predict_proba(X_test)[:, 1] > 0.8))"
   ]
  },
  {
   "cell_type": "code",
   "execution_count": 203,
   "metadata": {},
   "outputs": [
    {
     "name": "stdout",
     "output_type": "stream",
     "text": [
      "0.9314905721521418\n",
      "0.8757763975155279\n"
     ]
    }
   ],
   "source": [
    "pipeline = Pipeline([\n",
    "    ('count_vectorizer', CountVectorizer(ngram_range=(2, 2))),\n",
    "    ('tfidf_transformer', TfidfTransformer()),\n",
    "    ('classifier', LogisticRegression(solver='lbfgs', max_iter=10000))\n",
    "])\n",
    "\n",
    "pipeline.fit(X_train, y_train)\n",
    "\n",
    "print(roc_auc_score(y_test, pipeline.predict_proba(X_test)[:, 1]))\n",
    "print(precision_score(y_test, pipeline.predict(X_test)))\n",
    "\n"
   ]
  },
  {
   "cell_type": "code",
   "execution_count": 204,
   "metadata": {},
   "outputs": [
    {
     "name": "stdout",
     "output_type": "stream",
     "text": [
      "0.9415885513560658\n",
      "0.87\n"
     ]
    }
   ],
   "source": [
    "pipeline = Pipeline([\n",
    "    ('count_vectorizer', CountVectorizer(ngram_range=(1, 2))),\n",
    "    ('tfidf_transformer', TfidfTransformer()),\n",
    "    ('classifier', LogisticRegression(solver='lbfgs', max_iter=10000))\n",
    "])\n",
    "\n",
    "pipeline.fit(X_train, y_train)\n",
    "\n",
    "print(roc_auc_score(y_test, pipeline.predict_proba(X_test)[:, 1]))\n",
    "print(precision_score(y_test, pipeline.predict(X_test)))\n",
    "\n"
   ]
  },
  {
   "cell_type": "code",
   "execution_count": 207,
   "metadata": {},
   "outputs": [],
   "source": [
    "from sklearn.decomposition import PCA, TruncatedSVD"
   ]
  },
  {
   "cell_type": "code",
   "execution_count": 208,
   "metadata": {},
   "outputs": [
    {
     "name": "stdout",
     "output_type": "stream",
     "text": [
      "0.9270296978207729\n",
      "0.8591549295774648\n"
     ]
    }
   ],
   "source": [
    "pipeline = Pipeline([\n",
    "    ('count_vectorizer', CountVectorizer()),\n",
    "    ('tfidf_transformer', TfidfTransformer()),\n",
    "    ('pca', TruncatedSVD(n_components=200)),\n",
    "    ('classifier', LogisticRegression(solver='lbfgs', max_iter=10000))\n",
    "])\n",
    "\n",
    "pipeline.fit(X_train, y_train)\n",
    "\n",
    "print(roc_auc_score(y_test, pipeline.predict_proba(X_test)[:, 1]))\n",
    "print(precision_score(y_test, pipeline.predict(X_test)))"
   ]
  },
  {
   "cell_type": "code",
   "execution_count": 211,
   "metadata": {},
   "outputs": [
    {
     "data": {
      "text/plain": [
       "707983"
      ]
     },
     "execution_count": 211,
     "metadata": {},
     "output_type": "execute_result"
    }
   ],
   "source": [
    "len(pipeline.named_steps.count_vectorizer.get_feature_names())"
   ]
  },
  {
   "cell_type": "code",
   "execution_count": 209,
   "metadata": {},
   "outputs": [
    {
     "data": {
      "text/plain": [
       "[<matplotlib.lines.Line2D at 0x17acce370>]"
      ]
     },
     "execution_count": 209,
     "metadata": {},
     "output_type": "execute_result"
    },
    {
     "data": {
      "image/png": "[encoded data removed]",
      "text/plain": [
       "<Figure size 432x288 with 1 Axes>"
      ]
     },
     "metadata": {
      "needs_background": "light"
     },
     "output_type": "display_data"
    }
   ],
   "source": [
    "import matplotlib.pyplot as plt\n",
    "\n",
    "plt.plot(pipeline.named_steps.pca.explained_variance_.cumsum())"
   ]
  },
  {
   "cell_type": "code",
   "execution_count": 217,
   "metadata": {},
   "outputs": [
    {
     "name": "stdout",
     "output_type": "stream",
     "text": [
      "0.9391840800796956\n",
      "0.853515625\n"
     ]
    }
   ],
   "source": [
    "pipeline = Pipeline([\n",
    "    ('count_vectorizer', CountVectorizer(min_df=3, max_df=1000)),\n",
    "    ('tfidf_transformer', TfidfTransformer()),\n",
    "    ('pca', TruncatedSVD(n_components=2000)),\n",
    "    ('classifier', LogisticRegression(solver='lbfgs', max_iter=10000))\n",
    "])\n",
    "\n",
    "pipeline.fit(X_train, y_train)\n",
    "\n",
    "print(roc_auc_score(y_test, pipeline.predict_proba(X_test)[:, 1]))\n",
    "print(precision_score(y_test, pipeline.predict(X_test)))"
   ]
  },
  {
   "cell_type": "code",
   "execution_count": 218,
   "metadata": {},
   "outputs": [
    {
     "data": {
      "text/plain": [
       "[<matplotlib.lines.Line2D at 0x1c1e98a60>]"
      ]
     },
     "execution_count": 218,
     "metadata": {},
     "output_type": "execute_result"
    },
    {
     "data": {
      "image/png": "[encoded data removed]",
      "text/plain": [
       "<Figure size 432x288 with 1 Axes>"
      ]
     },
     "metadata": {
      "needs_background": "light"
     },
     "output_type": "display_data"
    }
   ],
   "source": [
    "import matplotlib.pyplot as plt\n",
    "\n",
    "plt.plot(pipeline.named_steps.pca.explained_variance_.cumsum())"
   ]
  },
  {
   "cell_type": "markdown",
   "metadata": {},
   "source": [
    "# Multiclass"
   ]
  },
  {
   "cell_type": "code",
   "execution_count": 259,
   "metadata": {},
   "outputs": [
    {
     "data": {
      "text/html": [
       "<div>\n",
       "<style scoped>\n",
       "    .dataframe tbody tr th:only-of-type {\n",
       "        vertical-align: middle;\n",
       "    }\n",
       "\n",
       "    .dataframe tbody tr th {\n",
       "        vertical-align: top;\n",
       "    }\n",
       "\n",
       "    .dataframe thead th {\n",
       "        text-align: right;\n",
       "    }\n",
       "</style>\n",
       "<table border=\"1\" class=\"dataframe\">\n",
       "  <thead>\n",
       "    <tr style=\"text-align: right;\">\n",
       "      <th></th>\n",
       "      <th>question_text</th>\n",
       "      <th>question_topic</th>\n",
       "    </tr>\n",
       "  </thead>\n",
       "  <tbody>\n",
       "    <tr>\n",
       "      <th>2832</th>\n",
       "      <td>I saw you have an e-mail newsletter. If I deci...</td>\n",
       "      <td>Sales/Promotions</td>\n",
       "    </tr>\n",
       "    <tr>\n",
       "      <th>2083</th>\n",
       "      <td>What are the dimensions of the cameron street ...</td>\n",
       "      <td>Product Specifications</td>\n",
       "    </tr>\n",
       "    <tr>\n",
       "      <th>1851</th>\n",
       "      <td>Which boys jacket would you say is thicker and...</td>\n",
       "      <td>Product Comparison</td>\n",
       "    </tr>\n",
       "    <tr>\n",
       "      <th>4909</th>\n",
       "      <td>Are either the Women's Prime multivitamin Item...</td>\n",
       "      <td>Product Comparison</td>\n",
       "    </tr>\n",
       "    <tr>\n",
       "      <th>1466</th>\n",
       "      <td>I saw you have the kobalt hammer item number 1...</td>\n",
       "      <td>Product Specifications</td>\n",
       "    </tr>\n",
       "    <tr>\n",
       "      <th>1940</th>\n",
       "      <td>I may buy the Whitney nightstand #768893, but ...</td>\n",
       "      <td>Shipping</td>\n",
       "    </tr>\n",
       "    <tr>\n",
       "      <th>1698</th>\n",
       "      <td>I want to get an ottoman but would rather see ...</td>\n",
       "      <td>Omnichannel</td>\n",
       "    </tr>\n",
       "    <tr>\n",
       "      <th>2400</th>\n",
       "      <td>For product returns on something like the Camb...</td>\n",
       "      <td>Returns &amp; Refunds</td>\n",
       "    </tr>\n",
       "    <tr>\n",
       "      <th>2848</th>\n",
       "      <td>Do you have any women's leather boots in gray ...</td>\n",
       "      <td>Product Availability</td>\n",
       "    </tr>\n",
       "    <tr>\n",
       "      <th>1715</th>\n",
       "      <td>Do you have the ability to check individual st...</td>\n",
       "      <td>Omnichannel</td>\n",
       "    </tr>\n",
       "  </tbody>\n",
       "</table>\n",
       "</div>"
      ],
      "text/plain": [
       "                                          question_text  \\\n",
       "2832  I saw you have an e-mail newsletter. If I deci...   \n",
       "2083  What are the dimensions of the cameron street ...   \n",
       "1851  Which boys jacket would you say is thicker and...   \n",
       "4909  Are either the Women's Prime multivitamin Item...   \n",
       "1466  I saw you have the kobalt hammer item number 1...   \n",
       "1940  I may buy the Whitney nightstand #768893, but ...   \n",
       "1698  I want to get an ottoman but would rather see ...   \n",
       "2400  For product returns on something like the Camb...   \n",
       "2848  Do you have any women's leather boots in gray ...   \n",
       "1715  Do you have the ability to check individual st...   \n",
       "\n",
       "              question_topic  \n",
       "2832        Sales/Promotions  \n",
       "2083  Product Specifications  \n",
       "1851      Product Comparison  \n",
       "4909      Product Comparison  \n",
       "1466  Product Specifications  \n",
       "1940                Shipping  \n",
       "1698             Omnichannel  \n",
       "2400       Returns & Refunds  \n",
       "2848    Product Availability  \n",
       "1715             Omnichannel  "
      ]
     },
     "execution_count": 259,
     "metadata": {},
     "output_type": "execute_result"
    }
   ],
   "source": [
    "questions_df = pd.read_csv('./datasets/question_topic.csv')\n",
    "\n",
    "questions_df.sample(10)"
   ]
  },
  {
   "cell_type": "code",
   "execution_count": 220,
   "metadata": {},
   "outputs": [
    {
     "data": {
      "text/plain": [
       "(5000, 2)"
      ]
     },
     "execution_count": 220,
     "metadata": {},
     "output_type": "execute_result"
    }
   ],
   "source": [
    "questions_df.shape"
   ]
  },
  {
   "cell_type": "code",
   "execution_count": 261,
   "metadata": {},
   "outputs": [
    {
     "name": "stdout",
     "output_type": "stream",
     "text": [
      "['Sales/Promotions' 'Shipping' 'Product Availability'\n",
      " 'Product Specifications' 'Omnichannel' 'Product Comparison'\n",
      " 'Returns & Refunds']\n"
     ]
    }
   ],
   "source": [
    "print(questions_df['question_topic'].unique())"
   ]
  },
  {
   "cell_type": "code",
   "execution_count": 262,
   "metadata": {},
   "outputs": [],
   "source": [
    "X = questions_df['question_text']\n",
    "y = questions_df['question_topic']"
   ]
  },
  {
   "cell_type": "code",
   "execution_count": 267,
   "metadata": {},
   "outputs": [
    {
     "data": {
      "text/plain": [
       "<matplotlib.axes._subplots.AxesSubplot at 0x1c2430100>"
      ]
     },
     "execution_count": 267,
     "metadata": {},
     "output_type": "execute_result"
    },
    {
     "data": {
      "image/png": "[encoded data removed]",
      "text/plain": [
       "<Figure size 576x396 with 1 Axes>"
      ]
     },
     "metadata": {},
     "output_type": "display_data"
    }
   ],
   "source": [
    "sns.countplot(y)"
   ]
  },
  {
   "cell_type": "code",
   "execution_count": 268,
   "metadata": {},
   "outputs": [],
   "source": [
    "X_train, X_test, y_train, y_test = train_test_split(X, y, test_size=0.1, random_state=42)"
   ]
  },
  {
   "cell_type": "code",
   "execution_count": 269,
   "metadata": {},
   "outputs": [],
   "source": [
    "pipeline = Pipeline([\n",
    "    ('count_vectorizer', CountVectorizer(min_df=3, max_df=1000)),\n",
    "    ('tfidf_transformer', TfidfTransformer()),\n",
    "    ('classifier', LogisticRegression(solver='lbfgs', max_iter=10000))\n",
    "])"
   ]
  },
  {
   "cell_type": "code",
   "execution_count": 270,
   "metadata": {},
   "outputs": [
    {
     "data": {
      "text/plain": [
       "Pipeline(memory=None,\n",
       "         steps=[('count_vectorizer',\n",
       "                 CountVectorizer(analyzer='word', binary=False,\n",
       "                                 decode_error='strict',\n",
       "                                 dtype=<class 'numpy.int64'>, encoding='utf-8',\n",
       "                                 input='content', lowercase=True, max_df=1000,\n",
       "                                 max_features=None, min_df=3,\n",
       "                                 ngram_range=(1, 1), preprocessor=None,\n",
       "                                 stop_words=None, strip_accents=None,\n",
       "                                 token_pattern='(?u)\\\\b\\\\w\\\\w+\\\\b',\n",
       "                                 tokenizer=None, v...\n",
       "                ('tfidf_transformer',\n",
       "                 TfidfTransformer(norm='l2', smooth_idf=True,\n",
       "                                  sublinear_tf=False, use_idf=True)),\n",
       "                ('classifier',\n",
       "                 LogisticRegression(C=1.0, class_weight=None, dual=False,\n",
       "                                    fit_intercept=True, intercept_scaling=1,\n",
       "                                    l1_ratio=None, max_iter=10000,\n",
       "                                    multi_class='auto', n_jobs=None,\n",
       "                                    penalty='l2', random_state=None,\n",
       "                                    solver='lbfgs', tol=0.0001, verbose=0,\n",
       "                                    warm_start=False))],\n",
       "         verbose=False)"
      ]
     },
     "execution_count": 270,
     "metadata": {},
     "output_type": "execute_result"
    }
   ],
   "source": [
    "pipeline.fit(X_train, y_train)"
   ]
  },
  {
   "cell_type": "code",
   "execution_count": 271,
   "metadata": {},
   "outputs": [
    {
     "data": {
      "text/plain": [
       "array(['Returns & Refunds', 'Sales/Promotions', 'Product Specifications',\n",
       "       'Shipping', 'Product Availability', 'Omnichannel',\n",
       "       'Product Availability', 'Product Availability',\n",
       "       'Returns & Refunds', 'Shipping', 'Product Comparison',\n",
       "       'Returns & Refunds', 'Product Comparison', 'Omnichannel',\n",
       "       'Returns & Refunds', 'Product Specifications', 'Shipping',\n",
       "       'Product Comparison', 'Product Comparison', 'Shipping'],\n",
       "      dtype=object)"
      ]
     },
     "execution_count": 271,
     "metadata": {},
     "output_type": "execute_result"
    }
   ],
   "source": [
    "pipeline.predict(X_test)[:20]"
   ]
  },
  {
   "cell_type": "code",
   "execution_count": 276,
   "metadata": {},
   "outputs": [
    {
     "data": {
      "text/plain": [
       "array([0.02592595, 0.04216504, 0.02512495, 0.02653083, 0.01339658,\n",
       "       0.84885312, 0.01800353])"
      ]
     },
     "execution_count": 276,
     "metadata": {},
     "output_type": "execute_result"
    }
   ],
   "source": [
    "pipeline.predict_proba(X_test)[1]"
   ]
  },
  {
   "cell_type": "code",
   "execution_count": 274,
   "metadata": {},
   "outputs": [
    {
     "data": {
      "text/plain": [
       "4"
      ]
     },
     "execution_count": 274,
     "metadata": {},
     "output_type": "execute_result"
    }
   ],
   "source": [
    "np.argmax(pipeline.predict_proba(X_test)[0])"
   ]
  },
  {
   "cell_type": "code",
   "execution_count": 295,
   "metadata": {},
   "outputs": [
    {
     "data": {
      "text/plain": [
       "array([[0.00364676, 0.00588287, 0.00538259, ..., 0.94512127, 0.01208258,\n",
       "        0.02143098],\n",
       "       [0.02592595, 0.04216504, 0.02512495, ..., 0.01339658, 0.84885312,\n",
       "        0.01800353],\n",
       "       [0.01008681, 0.017647  , 0.05740872, ..., 0.00767963, 0.01203132,\n",
       "        0.00924072],\n",
       "       ...,\n",
       "       [0.00430493, 0.94095783, 0.01642797, ..., 0.00941762, 0.00587239,\n",
       "        0.00443713],\n",
       "       [0.06777508, 0.0563173 , 0.11317106, ..., 0.08875242, 0.29629641,\n",
       "        0.05318857],\n",
       "       [0.00753478, 0.04625967, 0.87827489, ..., 0.00812275, 0.01001514,\n",
       "        0.0084001 ]])"
      ]
     },
     "execution_count": 295,
     "metadata": {},
     "output_type": "execute_result"
    }
   ],
   "source": [
    "pipeline.predict_proba(X_test)[:]"
   ]
  },
  {
   "cell_type": "code",
   "execution_count": 297,
   "metadata": {},
   "outputs": [],
   "source": [
    "max_index = np.argmax(pipeline.predict_proba(X_test), axis=1)"
   ]
  },
  {
   "cell_type": "code",
   "execution_count": 301,
   "metadata": {},
   "outputs": [],
   "source": [
    "# pd.DataFrame(zip(pipeline.predict_proba(X_test), pipeline.classes_[np.argmax(pipeline.predict_proba(X_test), axis=1)]))"
   ]
  },
  {
   "cell_type": "code",
   "execution_count": 302,
   "metadata": {},
   "outputs": [],
   "source": [
    "from sklearn.metrics import confusion_matrix"
   ]
  },
  {
   "cell_type": "code",
   "execution_count": 303,
   "metadata": {},
   "outputs": [
    {
     "data": {
      "text/plain": [
       "array([[38,  1,  0,  1,  0,  0,  0],\n",
       "       [ 0, 80,  1,  1,  0,  0,  0],\n",
       "       [ 0,  0, 76,  1,  0,  0,  0],\n",
       "       [ 0,  2,  2, 69,  0,  0,  0],\n",
       "       [ 0,  0,  0,  0, 81,  0,  0],\n",
       "       [ 0,  1,  0,  4,  0, 62,  0],\n",
       "       [ 0,  0,  0,  0,  0,  0, 80]])"
      ]
     },
     "execution_count": 303,
     "metadata": {},
     "output_type": "execute_result"
    }
   ],
   "source": [
    "confusion_matrix(y_test, pipeline.predict(X_test))"
   ]
  },
  {
   "cell_type": "code",
   "execution_count": 305,
   "metadata": {},
   "outputs": [
    {
     "data": {
      "text/html": [
       "<div>\n",
       "<style scoped>\n",
       "    .dataframe tbody tr th:only-of-type {\n",
       "        vertical-align: middle;\n",
       "    }\n",
       "\n",
       "    .dataframe tbody tr th {\n",
       "        vertical-align: top;\n",
       "    }\n",
       "\n",
       "    .dataframe thead th {\n",
       "        text-align: right;\n",
       "    }\n",
       "</style>\n",
       "<table border=\"1\" class=\"dataframe\">\n",
       "  <thead>\n",
       "    <tr style=\"text-align: right;\">\n",
       "      <th></th>\n",
       "      <th>Omnichannel</th>\n",
       "      <th>Product Availability</th>\n",
       "      <th>Product Comparison</th>\n",
       "      <th>Product Specifications</th>\n",
       "      <th>Returns &amp; Refunds</th>\n",
       "      <th>Sales/Promotions</th>\n",
       "      <th>Shipping</th>\n",
       "    </tr>\n",
       "  </thead>\n",
       "  <tbody>\n",
       "    <tr>\n",
       "      <th>Omnichannel</th>\n",
       "      <td>38</td>\n",
       "      <td>1</td>\n",
       "      <td>0</td>\n",
       "      <td>1</td>\n",
       "      <td>0</td>\n",
       "      <td>0</td>\n",
       "      <td>0</td>\n",
       "    </tr>\n",
       "    <tr>\n",
       "      <th>Product Availability</th>\n",
       "      <td>0</td>\n",
       "      <td>80</td>\n",
       "      <td>1</td>\n",
       "      <td>1</td>\n",
       "      <td>0</td>\n",
       "      <td>0</td>\n",
       "      <td>0</td>\n",
       "    </tr>\n",
       "    <tr>\n",
       "      <th>Product Comparison</th>\n",
       "      <td>0</td>\n",
       "      <td>0</td>\n",
       "      <td>76</td>\n",
       "      <td>1</td>\n",
       "      <td>0</td>\n",
       "      <td>0</td>\n",
       "      <td>0</td>\n",
       "    </tr>\n",
       "    <tr>\n",
       "      <th>Product Specifications</th>\n",
       "      <td>0</td>\n",
       "      <td>2</td>\n",
       "      <td>2</td>\n",
       "      <td>69</td>\n",
       "      <td>0</td>\n",
       "      <td>0</td>\n",
       "      <td>0</td>\n",
       "    </tr>\n",
       "    <tr>\n",
       "      <th>Returns &amp; Refunds</th>\n",
       "      <td>0</td>\n",
       "      <td>0</td>\n",
       "      <td>0</td>\n",
       "      <td>0</td>\n",
       "      <td>81</td>\n",
       "      <td>0</td>\n",
       "      <td>0</td>\n",
       "    </tr>\n",
       "    <tr>\n",
       "      <th>Sales/Promotions</th>\n",
       "      <td>0</td>\n",
       "      <td>1</td>\n",
       "      <td>0</td>\n",
       "      <td>4</td>\n",
       "      <td>0</td>\n",
       "      <td>62</td>\n",
       "      <td>0</td>\n",
       "    </tr>\n",
       "    <tr>\n",
       "      <th>Shipping</th>\n",
       "      <td>0</td>\n",
       "      <td>0</td>\n",
       "      <td>0</td>\n",
       "      <td>0</td>\n",
       "      <td>0</td>\n",
       "      <td>0</td>\n",
       "      <td>80</td>\n",
       "    </tr>\n",
       "  </tbody>\n",
       "</table>\n",
       "</div>"
      ],
      "text/plain": [
       "                        Omnichannel  Product Availability  Product Comparison  \\\n",
       "Omnichannel                      38                     1                   0   \n",
       "Product Availability              0                    80                   1   \n",
       "Product Comparison                0                     0                  76   \n",
       "Product Specifications            0                     2                   2   \n",
       "Returns & Refunds                 0                     0                   0   \n",
       "Sales/Promotions                  0                     1                   0   \n",
       "Shipping                          0                     0                   0   \n",
       "\n",
       "                        Product Specifications  Returns & Refunds  \\\n",
       "Omnichannel                                  1                  0   \n",
       "Product Availability                         1                  0   \n",
       "Product Comparison                           1                  0   \n",
       "Product Specifications                      69                  0   \n",
       "Returns & Refunds                            0                 81   \n",
       "Sales/Promotions                             4                  0   \n",
       "Shipping                                     0                  0   \n",
       "\n",
       "                        Sales/Promotions  Shipping  \n",
       "Omnichannel                            0         0  \n",
       "Product Availability                   0         0  \n",
       "Product Comparison                     0         0  \n",
       "Product Specifications                 0         0  \n",
       "Returns & Refunds                      0         0  \n",
       "Sales/Promotions                      62         0  \n",
       "Shipping                               0        80  "
      ]
     },
     "execution_count": 305,
     "metadata": {},
     "output_type": "execute_result"
    }
   ],
   "source": [
    "pd.DataFrame(confusion_matrix(y_test, pipeline.predict(X_test)), columns=pipeline.classes_, index=pipeline.classes_)"
   ]
  },
  {
   "cell_type": "code",
   "execution_count": 307,
   "metadata": {
    "scrolled": false
   },
   "outputs": [
    {
     "name": "stderr",
     "output_type": "stream",
     "text": [
      "/Library/Frameworks/Python.framework/Versions/3.8/lib/python3.8/site-packages/sklearn/base.py:193: FutureWarning: From version 0.24, get_params will raise an AttributeError if a parameter cannot be retrieved as an instance attribute. Previously it would return None.\n",
      "  warnings.warn('From version 0.24, get_params will raise an '\n"
     ]
    },
    {
     "data": {
      "image/png": "[encoded data removed]",
      "text/plain": [
       "<Figure size 576x396 with 1 Axes>"
      ]
     },
     "metadata": {},
     "output_type": "display_data"
    },
    {
     "data": {
      "text/plain": [
       "<matplotlib.axes._subplots.AxesSubplot at 0x1c2ccb760>"
      ]
     },
     "execution_count": 307,
     "metadata": {},
     "output_type": "execute_result"
    }
   ],
   "source": [
    "from yellowbrick.classifier import ConfusionMatrix\n",
    "\n",
    "cm = ConfusionMatrix(pipeline, classes=pipeline.classes_)\n",
    "cm.fit(X_train, y_train)\n",
    "cm.score(X_test, y_test)\n",
    "cm.show()"
   ]
  },
  {
   "cell_type": "code",
   "execution_count": 310,
   "metadata": {},
   "outputs": [
    {
     "data": {
      "text/plain": [
       "0.9993295188262717"
      ]
     },
     "execution_count": 310,
     "metadata": {},
     "output_type": "execute_result"
    }
   ],
   "source": [
    "roc_auc_score(y_test, pipeline.predict_proba(X_test), multi_class='ovo')"
   ]
  },
  {
   "cell_type": "markdown",
   "metadata": {},
   "source": [
    "- ovo: one vs one\n",
    "- ovr: one vs rest: "
   ]
  },
  {
   "cell_type": "code",
   "execution_count": 311,
   "metadata": {},
   "outputs": [],
   "source": [
    "pipeline = Pipeline([\n",
    "    ('count_vectorizer', CountVectorizer(ngram_range=(2,2), min_df=3, max_df=1000)),\n",
    "    ('tfidf_transformer', TfidfTransformer()),\n",
    "    ('pca', TruncatedSVD(n_components=500)),\n",
    "    ('classifier', LogisticRegression(solver='lbfgs', max_iter=10000))\n",
    "])"
   ]
  },
  {
   "cell_type": "code",
   "execution_count": 312,
   "metadata": {},
   "outputs": [
    {
     "data": {
      "text/plain": [
       "Pipeline(memory=None,\n",
       "         steps=[('count_vectorizer',\n",
       "                 CountVectorizer(analyzer='word', binary=False,\n",
       "                                 decode_error='strict',\n",
       "                                 dtype=<class 'numpy.int64'>, encoding='utf-8',\n",
       "                                 input='content', lowercase=True, max_df=1000,\n",
       "                                 max_features=None, min_df=3,\n",
       "                                 ngram_range=(2, 2), preprocessor=None,\n",
       "                                 stop_words=None, strip_accents=None,\n",
       "                                 token_pattern='(?u)\\\\b\\\\w\\\\w+\\\\b',\n",
       "                                 tokenizer=None, v...\n",
       "                 TruncatedSVD(algorithm='randomized', n_components=500,\n",
       "                              n_iter=5, random_state=None, tol=0.0)),\n",
       "                ('classifier',\n",
       "                 LogisticRegression(C=1.0, class_weight=None, dual=False,\n",
       "                                    fit_intercept=True, intercept_scaling=1,\n",
       "                                    l1_ratio=None, max_iter=10000,\n",
       "                                    multi_class='auto', n_jobs=None,\n",
       "                                    penalty='l2', random_state=None,\n",
       "                                    solver='lbfgs', tol=0.0001, verbose=0,\n",
       "                                    warm_start=False))],\n",
       "         verbose=False)"
      ]
     },
     "execution_count": 312,
     "metadata": {},
     "output_type": "execute_result"
    }
   ],
   "source": [
    "pipeline.fit(X_train, y_train)"
   ]
  },
  {
   "cell_type": "code",
   "execution_count": 314,
   "metadata": {},
   "outputs": [
    {
     "name": "stderr",
     "output_type": "stream",
     "text": [
      "/Library/Frameworks/Python.framework/Versions/3.8/lib/python3.8/site-packages/sklearn/base.py:193: FutureWarning: From version 0.24, get_params will raise an AttributeError if a parameter cannot be retrieved as an instance attribute. Previously it would return None.\n",
      "  warnings.warn('From version 0.24, get_params will raise an '\n"
     ]
    },
    {
     "data": {
      "image/png": "[encoded data removed]",
      "text/plain": [
       "<Figure size 576x396 with 1 Axes>"
      ]
     },
     "metadata": {},
     "output_type": "display_data"
    },
    {
     "data": {
      "text/plain": [
       "<matplotlib.axes._subplots.AxesSubplot at 0x1c42a0bb0>"
      ]
     },
     "execution_count": 314,
     "metadata": {},
     "output_type": "execute_result"
    }
   ],
   "source": [
    "from yellowbrick.classifier import ConfusionMatrix\n",
    "\n",
    "cm = ConfusionMatrix(pipeline, classes=pipeline.classes_)\n",
    "cm.fit(X_train, y_train)\n",
    "cm.score(X_test, y_test)\n",
    "cm.show()"
   ]
  },
  {
   "cell_type": "code",
   "execution_count": 315,
   "metadata": {},
   "outputs": [
    {
     "data": {
      "text/plain": [
       "0.9992180406590017"
      ]
     },
     "execution_count": 315,
     "metadata": {},
     "output_type": "execute_result"
    }
   ],
   "source": [
    "roc_auc_score(y_test, pipeline.predict_proba(X_test), multi_class='ovo')"
   ]
  },
  {
   "cell_type": "code",
   "execution_count": 318,
   "metadata": {},
   "outputs": [
    {
     "data": {
      "text/plain": [
       "0.9661465201465201"
      ]
     },
     "execution_count": 318,
     "metadata": {},
     "output_type": "execute_result"
    }
   ],
   "source": [
    "precision_score(y_test, pipeline.predict(X_test), average='weighted')"
   ]
  },
  {
   "cell_type": "code",
   "execution_count": null,
   "metadata": {},
   "outputs": [],
   "source": []
  },
  {
   "cell_type": "code",
   "execution_count": null,
   "metadata": {},
   "outputs": [],
   "source": []
  },
  {
   "cell_type": "code",
   "execution_count": null,
   "metadata": {},
   "outputs": [],
   "source": []
  },
  {
   "cell_type": "markdown",
   "metadata": {},
   "source": [
    "# Topic Modelling"
   ]
  },
  {
   "cell_type": "markdown",
   "metadata": {},
   "source": [
    "## LDA - Latent Dirichlet Allocation"
   ]
  },
  {
   "cell_type": "code",
   "execution_count": 342,
   "metadata": {},
   "outputs": [],
   "source": [
    "dbpedia_df = pd.read_csv('./datasets/dbpedia_csv/train.csv', \n",
    "                         skiprows=1, names = ['Label', 'Name', 'Text'])"
   ]
  },
  {
   "cell_type": "code",
   "execution_count": 343,
   "metadata": {
    "scrolled": true
   },
   "outputs": [
    {
     "data": {
      "text/html": [
       "<div>\n",
       "<style scoped>\n",
       "    .dataframe tbody tr th:only-of-type {\n",
       "        vertical-align: middle;\n",
       "    }\n",
       "\n",
       "    .dataframe tbody tr th {\n",
       "        vertical-align: top;\n",
       "    }\n",
       "\n",
       "    .dataframe thead th {\n",
       "        text-align: right;\n",
       "    }\n",
       "</style>\n",
       "<table border=\"1\" class=\"dataframe\">\n",
       "  <thead>\n",
       "    <tr style=\"text-align: right;\">\n",
       "      <th></th>\n",
       "      <th>Label</th>\n",
       "      <th>Name</th>\n",
       "      <th>Text</th>\n",
       "    </tr>\n",
       "  </thead>\n",
       "  <tbody>\n",
       "    <tr>\n",
       "      <th>0</th>\n",
       "      <td>1</td>\n",
       "      <td>Schwan-Stabilo</td>\n",
       "      <td>Schwan-STABILO is a German maker of pens for ...</td>\n",
       "    </tr>\n",
       "    <tr>\n",
       "      <th>1</th>\n",
       "      <td>1</td>\n",
       "      <td>Q-workshop</td>\n",
       "      <td>Q-workshop is a Polish company located in Poz...</td>\n",
       "    </tr>\n",
       "    <tr>\n",
       "      <th>2</th>\n",
       "      <td>1</td>\n",
       "      <td>Marvell Software Solutions Israel</td>\n",
       "      <td>Marvell Software Solutions Israel known as RA...</td>\n",
       "    </tr>\n",
       "    <tr>\n",
       "      <th>3</th>\n",
       "      <td>1</td>\n",
       "      <td>Bergan Mercy Medical Center</td>\n",
       "      <td>Bergan Mercy Medical Center is a hospital loc...</td>\n",
       "    </tr>\n",
       "    <tr>\n",
       "      <th>4</th>\n",
       "      <td>1</td>\n",
       "      <td>The Unsigned Guide</td>\n",
       "      <td>The Unsigned Guide is an online contacts dire...</td>\n",
       "    </tr>\n",
       "    <tr>\n",
       "      <th>...</th>\n",
       "      <td>...</td>\n",
       "      <td>...</td>\n",
       "      <td>...</td>\n",
       "    </tr>\n",
       "    <tr>\n",
       "      <th>559994</th>\n",
       "      <td>14</td>\n",
       "      <td>Barking in Essex</td>\n",
       "      <td>Barking in Essex is a Black comedy play direc...</td>\n",
       "    </tr>\n",
       "    <tr>\n",
       "      <th>559995</th>\n",
       "      <td>14</td>\n",
       "      <td>Science &amp; Spirit</td>\n",
       "      <td>Science &amp; Spirit is a discontinued American b...</td>\n",
       "    </tr>\n",
       "    <tr>\n",
       "      <th>559996</th>\n",
       "      <td>14</td>\n",
       "      <td>The Blithedale Romance</td>\n",
       "      <td>The Blithedale Romance (1852) is Nathaniel Ha...</td>\n",
       "    </tr>\n",
       "    <tr>\n",
       "      <th>559997</th>\n",
       "      <td>14</td>\n",
       "      <td>Razadarit Ayedawbon</td>\n",
       "      <td>Razadarit Ayedawbon (Burmese: ရာဇာဓိရာဇ် အရေး...</td>\n",
       "    </tr>\n",
       "    <tr>\n",
       "      <th>559998</th>\n",
       "      <td>14</td>\n",
       "      <td>The Vinyl Cafe Notebooks</td>\n",
       "      <td>Vinyl Cafe Notebooks: a collection of essays ...</td>\n",
       "    </tr>\n",
       "  </tbody>\n",
       "</table>\n",
       "<p>559999 rows × 3 columns</p>\n",
       "</div>"
      ],
      "text/plain": [
       "        Label                               Name  \\\n",
       "0           1                     Schwan-Stabilo   \n",
       "1           1                         Q-workshop   \n",
       "2           1  Marvell Software Solutions Israel   \n",
       "3           1        Bergan Mercy Medical Center   \n",
       "4           1                 The Unsigned Guide   \n",
       "...       ...                                ...   \n",
       "559994     14                   Barking in Essex   \n",
       "559995     14                   Science & Spirit   \n",
       "559996     14             The Blithedale Romance   \n",
       "559997     14                Razadarit Ayedawbon   \n",
       "559998     14           The Vinyl Cafe Notebooks   \n",
       "\n",
       "                                                     Text  \n",
       "0        Schwan-STABILO is a German maker of pens for ...  \n",
       "1        Q-workshop is a Polish company located in Poz...  \n",
       "2        Marvell Software Solutions Israel known as RA...  \n",
       "3        Bergan Mercy Medical Center is a hospital loc...  \n",
       "4        The Unsigned Guide is an online contacts dire...  \n",
       "...                                                   ...  \n",
       "559994   Barking in Essex is a Black comedy play direc...  \n",
       "559995   Science & Spirit is a discontinued American b...  \n",
       "559996   The Blithedale Romance (1852) is Nathaniel Ha...  \n",
       "559997   Razadarit Ayedawbon (Burmese: ရာဇာဓိရာဇ် အရေး...  \n",
       "559998   Vinyl Cafe Notebooks: a collection of essays ...  \n",
       "\n",
       "[559999 rows x 3 columns]"
      ]
     },
     "execution_count": 343,
     "metadata": {},
     "output_type": "execute_result"
    }
   ],
   "source": [
    "dbpedia_df"
   ]
  },
  {
   "cell_type": "markdown",
   "metadata": {},
   "source": [
    "### DBPedia classes\n",
    "\n",
    "- Company\n",
    "- EducationalInstitution\n",
    "- Artist\n",
    "- Athlete\n",
    "- OfficeHolder\n",
    "- MeanOfTransportation\n",
    "- Building\n",
    "- NaturalPlace\n",
    "- Village\n",
    "- Animal\n",
    "- Plant\n",
    "- Album\n",
    "- Film\n",
    "- WrittenWork"
   ]
  },
  {
   "cell_type": "code",
   "execution_count": 344,
   "metadata": {},
   "outputs": [],
   "source": [
    "labels = ['Company',\n",
    "          'EducationalInstitution',\n",
    "          'Artist',\n",
    "          'Athlete',\n",
    "          'OfficeHolder',\n",
    "          'MeanOfTransportation',\n",
    "          'Building',\n",
    "          'NaturalPlace',\n",
    "          'Village',\n",
    "          'Animal',\n",
    "          'Plant',\n",
    "          'Album',\n",
    "          'Film',\n",
    "          'WrittenWork']"
   ]
  },
  {
   "cell_type": "code",
   "execution_count": 345,
   "metadata": {},
   "outputs": [],
   "source": [
    "from sklearn.decomposition import LatentDirichletAllocation"
   ]
  },
  {
   "cell_type": "code",
   "execution_count": 346,
   "metadata": {},
   "outputs": [],
   "source": [
    "dbpedia_df = dbpedia_df.sample(10000).reset_index(drop=True)"
   ]
  },
  {
   "cell_type": "code",
   "execution_count": 347,
   "metadata": {},
   "outputs": [
    {
     "data": {
      "text/html": [
       "<div>\n",
       "<style scoped>\n",
       "    .dataframe tbody tr th:only-of-type {\n",
       "        vertical-align: middle;\n",
       "    }\n",
       "\n",
       "    .dataframe tbody tr th {\n",
       "        vertical-align: top;\n",
       "    }\n",
       "\n",
       "    .dataframe thead th {\n",
       "        text-align: right;\n",
       "    }\n",
       "</style>\n",
       "<table border=\"1\" class=\"dataframe\">\n",
       "  <thead>\n",
       "    <tr style=\"text-align: right;\">\n",
       "      <th></th>\n",
       "      <th>Label</th>\n",
       "      <th>Name</th>\n",
       "      <th>Text</th>\n",
       "    </tr>\n",
       "  </thead>\n",
       "  <tbody>\n",
       "    <tr>\n",
       "      <th>0</th>\n",
       "      <td>1</td>\n",
       "      <td>Gecko Gear</td>\n",
       "      <td>Gecko Gear is an Australian design and manufa...</td>\n",
       "    </tr>\n",
       "    <tr>\n",
       "      <th>1</th>\n",
       "      <td>3</td>\n",
       "      <td>Jim Lounsbury</td>\n",
       "      <td>Jim Lounsbury (February 24 1923 in Colo Iowa ...</td>\n",
       "    </tr>\n",
       "    <tr>\n",
       "      <th>2</th>\n",
       "      <td>9</td>\n",
       "      <td>Aminabad Nain</td>\n",
       "      <td>Aminabad (Persian: امين اباد‎ also Romanized ...</td>\n",
       "    </tr>\n",
       "    <tr>\n",
       "      <th>3</th>\n",
       "      <td>4</td>\n",
       "      <td>Tony Herman</td>\n",
       "      <td>Tony Herman was a rugby league footballer of ...</td>\n",
       "    </tr>\n",
       "    <tr>\n",
       "      <th>4</th>\n",
       "      <td>8</td>\n",
       "      <td>Chico River (Puerto Rico)</td>\n",
       "      <td>The Chico River (Puerto Rico) is a river of P...</td>\n",
       "    </tr>\n",
       "    <tr>\n",
       "      <th>...</th>\n",
       "      <td>...</td>\n",
       "      <td>...</td>\n",
       "      <td>...</td>\n",
       "    </tr>\n",
       "    <tr>\n",
       "      <th>9995</th>\n",
       "      <td>13</td>\n",
       "      <td>Super Speedway</td>\n",
       "      <td>Super Speedway is a 1997 documentary racing f...</td>\n",
       "    </tr>\n",
       "    <tr>\n",
       "      <th>9996</th>\n",
       "      <td>13</td>\n",
       "      <td>Banarasi Babu (1973 film)</td>\n",
       "      <td>Banarasi Babu is a 1973 Hindi film directed b...</td>\n",
       "    </tr>\n",
       "    <tr>\n",
       "      <th>9997</th>\n",
       "      <td>2</td>\n",
       "      <td>Our Own English High School</td>\n",
       "      <td>Our Own English High School is a chain of sch...</td>\n",
       "    </tr>\n",
       "    <tr>\n",
       "      <th>9998</th>\n",
       "      <td>3</td>\n",
       "      <td>Doogie White</td>\n",
       "      <td>Douglas Doogie White (born 7 March 1960) is a...</td>\n",
       "    </tr>\n",
       "    <tr>\n",
       "      <th>9999</th>\n",
       "      <td>3</td>\n",
       "      <td>Greg Proops</td>\n",
       "      <td>Gregory Everett Greg Proops (born October 3 1...</td>\n",
       "    </tr>\n",
       "  </tbody>\n",
       "</table>\n",
       "<p>10000 rows × 3 columns</p>\n",
       "</div>"
      ],
      "text/plain": [
       "      Label                         Name  \\\n",
       "0         1                   Gecko Gear   \n",
       "1         3                Jim Lounsbury   \n",
       "2         9                Aminabad Nain   \n",
       "3         4                  Tony Herman   \n",
       "4         8    Chico River (Puerto Rico)   \n",
       "...     ...                          ...   \n",
       "9995     13               Super Speedway   \n",
       "9996     13    Banarasi Babu (1973 film)   \n",
       "9997      2  Our Own English High School   \n",
       "9998      3                 Doogie White   \n",
       "9999      3                  Greg Proops   \n",
       "\n",
       "                                                   Text  \n",
       "0      Gecko Gear is an Australian design and manufa...  \n",
       "1      Jim Lounsbury (February 24 1923 in Colo Iowa ...  \n",
       "2      Aminabad (Persian: امين اباد‎ also Romanized ...  \n",
       "3      Tony Herman was a rugby league footballer of ...  \n",
       "4      The Chico River (Puerto Rico) is a river of P...  \n",
       "...                                                 ...  \n",
       "9995   Super Speedway is a 1997 documentary racing f...  \n",
       "9996   Banarasi Babu is a 1973 Hindi film directed b...  \n",
       "9997   Our Own English High School is a chain of sch...  \n",
       "9998   Douglas Doogie White (born 7 March 1960) is a...  \n",
       "9999   Gregory Everett Greg Proops (born October 3 1...  \n",
       "\n",
       "[10000 rows x 3 columns]"
      ]
     },
     "execution_count": 347,
     "metadata": {},
     "output_type": "execute_result"
    }
   ],
   "source": [
    "dbpedia_df"
   ]
  },
  {
   "cell_type": "code",
   "execution_count": 348,
   "metadata": {},
   "outputs": [
    {
     "data": {
      "text/plain": [
       "3808     Sule M.\n",
       "Name: Text, dtype: object"
      ]
     },
     "execution_count": 348,
     "metadata": {},
     "output_type": "execute_result"
    }
   ],
   "source": [
    "dbpedia_df.Text.loc[ dbpedia_df.Text.str.split().apply(lambda x : len(x)) < 3 ]"
   ]
  },
  {
   "cell_type": "code",
   "execution_count": 329,
   "metadata": {},
   "outputs": [],
   "source": [
    "X = dbpedia_df['Text']\n",
    "y = dbpedia_df['Label']\n",
    "\n",
    "X_train, X_test, y_train, y_test = train_test_split(X, y, test_size=0.1, random_state=42)"
   ]
  },
  {
   "cell_type": "code",
   "execution_count": 362,
   "metadata": {},
   "outputs": [
    {
     "data": {
      "text/plain": [
       "Pipeline(memory=None,\n",
       "         steps=[('dataprep',\n",
       "                 Pipeline(memory=None,\n",
       "                          steps=[('count_vectorizer',\n",
       "                                  CountVectorizer(analyzer='word', binary=False,\n",
       "                                                  decode_error='strict',\n",
       "                                                  dtype=<class 'numpy.int64'>,\n",
       "                                                  encoding='utf-8',\n",
       "                                                  input='content',\n",
       "                                                  lowercase=True, max_df=1000,\n",
       "                                                  max_features=None, min_df=3,\n",
       "                                                  ngram_range=(1, 1),\n",
       "                                                  preprocessor=None,\n",
       "                                                  stop_words=None,\n",
       "                                                  strip_accents=None,\n",
       "                                                  token_patt...\n",
       "                ('topic_modelling',\n",
       "                 LatentDirichletAllocation(batch_size=128, doc_topic_prior=None,\n",
       "                                           evaluate_every=-1,\n",
       "                                           learning_decay=0.7,\n",
       "                                           learning_method='batch',\n",
       "                                           learning_offset=10.0,\n",
       "                                           max_doc_update_iter=100,\n",
       "                                           max_iter=100, mean_change_tol=0.001,\n",
       "                                           n_components=14, n_jobs=-1,\n",
       "                                           perp_tol=0.1, random_state=None,\n",
       "                                           topic_word_prior=None,\n",
       "                                           total_samples=1000000.0,\n",
       "                                           verbose=0))],\n",
       "         verbose=False)"
      ]
     },
     "execution_count": 362,
     "metadata": {},
     "output_type": "execute_result"
    }
   ],
   "source": [
    "dataprep = Pipeline([\n",
    "    ('count_vectorizer', CountVectorizer(max_df=1000, min_df=3)),\n",
    "    ('tfidf_transformer', TfidfTransformer())\n",
    "])\n",
    "\n",
    "\n",
    "pipeline = Pipeline([\n",
    "    ('dataprep', dataprep),\n",
    "    ('topic_modelling', LatentDirichletAllocation(n_components=14, max_iter=100, n_jobs=-1))\n",
    "])\n",
    "# LDA is generative\n",
    "\n",
    "pipeline.fit(X_train)"
   ]
  },
  {
   "cell_type": "code",
   "execution_count": 365,
   "metadata": {},
   "outputs": [],
   "source": [
    "lda = pipeline.transform(X_test)"
   ]
  },
  {
   "cell_type": "code",
   "execution_count": 366,
   "metadata": {},
   "outputs": [
    {
     "data": {
      "text/plain": [
       "['00',\n",
       " '01',\n",
       " '02',\n",
       " '03',\n",
       " '05',\n",
       " '06',\n",
       " '08',\n",
       " '09',\n",
       " '10',\n",
       " '100',\n",
       " '1000',\n",
       " '10000',\n",
       " '100000',\n",
       " '101',\n",
       " '102',\n",
       " '103',\n",
       " '104',\n",
       " '105',\n",
       " '106',\n",
       " '107',\n",
       " '108',\n",
       " '109',\n",
       " '10th',\n",
       " '11',\n",
       " '110',\n",
       " '1100',\n",
       " '111',\n",
       " '112',\n",
       " '113',\n",
       " '1135',\n",
       " '114',\n",
       " '115',\n",
       " '116',\n",
       " '117',\n",
       " '118',\n",
       " '11th',\n",
       " '12',\n",
       " '120',\n",
       " '1200',\n",
       " '120000',\n",
       " '121',\n",
       " '122',\n",
       " '123',\n",
       " '124',\n",
       " '125',\n",
       " '12500',\n",
       " '128',\n",
       " '129',\n",
       " '12th',\n",
       " '13',\n",
       " '130',\n",
       " '1300',\n",
       " '132',\n",
       " '133',\n",
       " '135',\n",
       " '136',\n",
       " '138',\n",
       " '139',\n",
       " '13th',\n",
       " '14',\n",
       " '140',\n",
       " '1400',\n",
       " '14000',\n",
       " '142',\n",
       " '143',\n",
       " '144',\n",
       " '1441',\n",
       " '145',\n",
       " '146',\n",
       " '148',\n",
       " '149',\n",
       " '14th',\n",
       " '15',\n",
       " '150',\n",
       " '1500',\n",
       " '151',\n",
       " '156',\n",
       " '157',\n",
       " '158',\n",
       " '15th',\n",
       " '16',\n",
       " '160',\n",
       " '1600',\n",
       " '162',\n",
       " '1634',\n",
       " '165',\n",
       " '1650',\n",
       " '1654',\n",
       " '1660',\n",
       " '1666',\n",
       " '167',\n",
       " '169',\n",
       " '16th',\n",
       " '17',\n",
       " '1700',\n",
       " '1705',\n",
       " '1707',\n",
       " '171',\n",
       " '1711',\n",
       " '172',\n",
       " '1725',\n",
       " '174',\n",
       " '1740',\n",
       " '1745',\n",
       " '1748',\n",
       " '1749',\n",
       " '175',\n",
       " '1750',\n",
       " '1757',\n",
       " '1758',\n",
       " '1760',\n",
       " '1761',\n",
       " '1762',\n",
       " '1768',\n",
       " '1769',\n",
       " '1772',\n",
       " '1775',\n",
       " '1776',\n",
       " '1777',\n",
       " '1778',\n",
       " '1780',\n",
       " '1781',\n",
       " '1782',\n",
       " '1783',\n",
       " '1785',\n",
       " '1787',\n",
       " '1788',\n",
       " '1789',\n",
       " '1790',\n",
       " '1790s',\n",
       " '1791',\n",
       " '1793',\n",
       " '1794',\n",
       " '1796',\n",
       " '1797',\n",
       " '1798',\n",
       " '1799',\n",
       " '17th',\n",
       " '18',\n",
       " '180',\n",
       " '1800',\n",
       " '1801',\n",
       " '1802',\n",
       " '1803',\n",
       " '1805',\n",
       " '1806',\n",
       " '1807',\n",
       " '1809',\n",
       " '1810',\n",
       " '1811',\n",
       " '1812',\n",
       " '1813',\n",
       " '1814',\n",
       " '1815',\n",
       " '1816',\n",
       " '1817',\n",
       " '1819',\n",
       " '1820',\n",
       " '1821',\n",
       " '1822',\n",
       " '1824',\n",
       " '1825',\n",
       " '1826',\n",
       " '1827',\n",
       " '1828',\n",
       " '1829',\n",
       " '1830',\n",
       " '1830s',\n",
       " '1831',\n",
       " '1832',\n",
       " '1833',\n",
       " '1834',\n",
       " '1835',\n",
       " '1836',\n",
       " '1837',\n",
       " '1838',\n",
       " '1839',\n",
       " '184',\n",
       " '1840',\n",
       " '1841',\n",
       " '1842',\n",
       " '1843',\n",
       " '1844',\n",
       " '1845',\n",
       " '1846',\n",
       " '1847',\n",
       " '1848',\n",
       " '1849',\n",
       " '1850',\n",
       " '1850s',\n",
       " '1851',\n",
       " '1852',\n",
       " '1853',\n",
       " '1854',\n",
       " '1855',\n",
       " '1856',\n",
       " '1857',\n",
       " '1858',\n",
       " '1859',\n",
       " '1860',\n",
       " '1861',\n",
       " '1862',\n",
       " '1863',\n",
       " '1864',\n",
       " '1865',\n",
       " '1866',\n",
       " '1867',\n",
       " '1868',\n",
       " '1869',\n",
       " '187',\n",
       " '1870',\n",
       " '1870s',\n",
       " '1871',\n",
       " '1872',\n",
       " '1873',\n",
       " '1874',\n",
       " '1875',\n",
       " '1876',\n",
       " '1877',\n",
       " '1878',\n",
       " '1879',\n",
       " '188',\n",
       " '1880',\n",
       " '1880s',\n",
       " '1881',\n",
       " '1882',\n",
       " '1883',\n",
       " '1884',\n",
       " '1885',\n",
       " '1886',\n",
       " '1887',\n",
       " '1888',\n",
       " '1889',\n",
       " '1890',\n",
       " '1890s',\n",
       " '1891',\n",
       " '1892',\n",
       " '1893',\n",
       " '1894',\n",
       " '1895',\n",
       " '1896',\n",
       " '1897',\n",
       " '1898',\n",
       " '1899',\n",
       " '18th',\n",
       " '19',\n",
       " '190',\n",
       " '1900',\n",
       " '1900s',\n",
       " '1901',\n",
       " '1902',\n",
       " '1903',\n",
       " '1904',\n",
       " '1905',\n",
       " '1906',\n",
       " '1907',\n",
       " '1908',\n",
       " '1909',\n",
       " '1910',\n",
       " '1911',\n",
       " '1912',\n",
       " '1913',\n",
       " '1914',\n",
       " '1915',\n",
       " '1916',\n",
       " '1917',\n",
       " '1918',\n",
       " '1919',\n",
       " '1920',\n",
       " '1920s',\n",
       " '1921',\n",
       " '1922',\n",
       " '1923',\n",
       " '1924',\n",
       " '1925',\n",
       " '1926',\n",
       " '1927',\n",
       " '1928',\n",
       " '1929',\n",
       " '1930',\n",
       " '1930s',\n",
       " '1931',\n",
       " '1932',\n",
       " '1933',\n",
       " '1934',\n",
       " '1935',\n",
       " '1936',\n",
       " '1937',\n",
       " '1938',\n",
       " '1939',\n",
       " '1940',\n",
       " '1940s',\n",
       " '1941',\n",
       " '1942',\n",
       " '1943',\n",
       " '1944',\n",
       " '1945',\n",
       " '1946',\n",
       " '1947',\n",
       " '1948',\n",
       " '1949',\n",
       " '1950',\n",
       " '1950s',\n",
       " '1951',\n",
       " '1952',\n",
       " '1953',\n",
       " '1954',\n",
       " '1955',\n",
       " '1956',\n",
       " '1957',\n",
       " '1958',\n",
       " '1959',\n",
       " '1960',\n",
       " '1960s',\n",
       " '1961',\n",
       " '1962',\n",
       " '1963',\n",
       " '1964',\n",
       " '1965',\n",
       " '1966',\n",
       " '1967',\n",
       " '1968',\n",
       " '1969',\n",
       " '1970',\n",
       " '1970s',\n",
       " '1971',\n",
       " '1972',\n",
       " '1973',\n",
       " '1974',\n",
       " '1975',\n",
       " '1976',\n",
       " '1977',\n",
       " '1978',\n",
       " '1979',\n",
       " '1980',\n",
       " '1980s',\n",
       " '1981',\n",
       " '1982',\n",
       " '1983',\n",
       " '1984',\n",
       " '1985',\n",
       " '1986',\n",
       " '1987',\n",
       " '1988',\n",
       " '1989',\n",
       " '199',\n",
       " '1990',\n",
       " '1990s',\n",
       " '1991',\n",
       " '1992',\n",
       " '1993',\n",
       " '1994',\n",
       " '1995',\n",
       " '1996',\n",
       " '1997',\n",
       " '1998',\n",
       " '1999',\n",
       " '19th',\n",
       " '1st',\n",
       " '20',\n",
       " '200',\n",
       " '2000',\n",
       " '20000',\n",
       " '2000s',\n",
       " '2001',\n",
       " '2002',\n",
       " '2003',\n",
       " '2004',\n",
       " '2005',\n",
       " '2006',\n",
       " '2007',\n",
       " '2008',\n",
       " '2009',\n",
       " '201',\n",
       " '2010',\n",
       " '2011',\n",
       " '2012',\n",
       " '2013',\n",
       " '2014',\n",
       " '2015',\n",
       " '2016',\n",
       " '203',\n",
       " '207',\n",
       " '208',\n",
       " '20th',\n",
       " '21',\n",
       " '2100',\n",
       " '215',\n",
       " '217',\n",
       " '218',\n",
       " '21st',\n",
       " '22',\n",
       " '220',\n",
       " '221',\n",
       " '222',\n",
       " '225',\n",
       " '22nd',\n",
       " '23',\n",
       " '230',\n",
       " '2300',\n",
       " '23000',\n",
       " '233',\n",
       " '23rd',\n",
       " '24',\n",
       " '240',\n",
       " '244',\n",
       " '245',\n",
       " '246',\n",
       " '247',\n",
       " '24th',\n",
       " '25',\n",
       " '250',\n",
       " '2500',\n",
       " '25000',\n",
       " '253',\n",
       " '254',\n",
       " '256',\n",
       " '258',\n",
       " '25th',\n",
       " '26',\n",
       " '260',\n",
       " '263',\n",
       " '264',\n",
       " '265',\n",
       " '269',\n",
       " '27',\n",
       " '270',\n",
       " '272',\n",
       " '28',\n",
       " '280',\n",
       " '28th',\n",
       " '29',\n",
       " '290',\n",
       " '29th',\n",
       " '2nd',\n",
       " '2s',\n",
       " '2t',\n",
       " '30',\n",
       " '300',\n",
       " '3000',\n",
       " '30000',\n",
       " '302',\n",
       " '306',\n",
       " '30th',\n",
       " '31',\n",
       " '310',\n",
       " '3100',\n",
       " '317',\n",
       " '32',\n",
       " '320',\n",
       " '3200',\n",
       " '325',\n",
       " '329',\n",
       " '32nd',\n",
       " '33',\n",
       " '330',\n",
       " '335',\n",
       " '33rd',\n",
       " '34',\n",
       " '34th',\n",
       " '35',\n",
       " '350',\n",
       " '3500',\n",
       " '352',\n",
       " '35th',\n",
       " '36',\n",
       " '360',\n",
       " '367',\n",
       " '369',\n",
       " '36th',\n",
       " '37',\n",
       " '370',\n",
       " '37th',\n",
       " '38',\n",
       " '382',\n",
       " '39',\n",
       " '395',\n",
       " '3rd',\n",
       " '40',\n",
       " '400',\n",
       " '4000',\n",
       " '404',\n",
       " '40th',\n",
       " '41',\n",
       " '410',\n",
       " '42',\n",
       " '42nd',\n",
       " '43',\n",
       " '430',\n",
       " '4300',\n",
       " '44',\n",
       " '44th',\n",
       " '45',\n",
       " '450',\n",
       " '46',\n",
       " '47',\n",
       " '470',\n",
       " '47th',\n",
       " '48',\n",
       " '480',\n",
       " '49',\n",
       " '490',\n",
       " '4921',\n",
       " '4a',\n",
       " '4th',\n",
       " '50',\n",
       " '500',\n",
       " '5000',\n",
       " '50000',\n",
       " '500000',\n",
       " '50th',\n",
       " '51',\n",
       " '516',\n",
       " '52',\n",
       " '53',\n",
       " '54',\n",
       " '542',\n",
       " '55',\n",
       " '5500',\n",
       " '56',\n",
       " '57',\n",
       " '58',\n",
       " '59',\n",
       " '5th',\n",
       " '60',\n",
       " '600',\n",
       " '6000',\n",
       " '60000',\n",
       " '61',\n",
       " '62',\n",
       " '63',\n",
       " '630',\n",
       " '64',\n",
       " '65',\n",
       " '650',\n",
       " '656',\n",
       " '66',\n",
       " '67',\n",
       " '68',\n",
       " '69',\n",
       " '694',\n",
       " '6th',\n",
       " '70',\n",
       " '700',\n",
       " '71',\n",
       " '72',\n",
       " '73',\n",
       " '74',\n",
       " '75',\n",
       " '750',\n",
       " '757',\n",
       " '76',\n",
       " '77',\n",
       " '777',\n",
       " '78',\n",
       " '79',\n",
       " '795',\n",
       " '7th',\n",
       " '80',\n",
       " '800',\n",
       " '8000',\n",
       " '81',\n",
       " '82',\n",
       " '83',\n",
       " '84',\n",
       " '85',\n",
       " '850',\n",
       " '86',\n",
       " '86th',\n",
       " '87',\n",
       " '88',\n",
       " '89',\n",
       " '8th',\n",
       " '90',\n",
       " '900',\n",
       " '9000',\n",
       " '9001',\n",
       " '90s',\n",
       " '91',\n",
       " '92',\n",
       " '93',\n",
       " '94',\n",
       " '95',\n",
       " '96',\n",
       " '96th',\n",
       " '97',\n",
       " '98',\n",
       " '986',\n",
       " '99',\n",
       " '9th',\n",
       " 'aa',\n",
       " 'aacsb',\n",
       " 'aarhus',\n",
       " 'aaron',\n",
       " 'ab',\n",
       " 'abad',\n",
       " 'abandoned',\n",
       " 'abbas',\n",
       " 'abbey',\n",
       " 'abbreviated',\n",
       " 'abbreviation',\n",
       " 'abc',\n",
       " 'abdul',\n",
       " 'abel',\n",
       " 'aberdeen',\n",
       " 'ability',\n",
       " 'abkhaz',\n",
       " 'abkhazia',\n",
       " 'able',\n",
       " 'aboard',\n",
       " 'aboriginal',\n",
       " 'about',\n",
       " 'above',\n",
       " 'abraham',\n",
       " 'abroad',\n",
       " 'absolute',\n",
       " 'abstract',\n",
       " 'abu',\n",
       " 'abundance',\n",
       " 'ac',\n",
       " 'acacia',\n",
       " 'academic',\n",
       " 'academically',\n",
       " 'academics',\n",
       " 'academy',\n",
       " 'acanthaceae',\n",
       " 'acceptable',\n",
       " 'accepted',\n",
       " 'access',\n",
       " 'accessed',\n",
       " 'accessible',\n",
       " 'accessories',\n",
       " 'accident',\n",
       " 'accidentally',\n",
       " 'acclaim',\n",
       " 'acclaimed',\n",
       " 'accompanied',\n",
       " 'according',\n",
       " 'account',\n",
       " 'accounting',\n",
       " 'accounts',\n",
       " 'accra',\n",
       " 'accreditation',\n",
       " 'accredited',\n",
       " 'accused',\n",
       " 'ace',\n",
       " 'achieve',\n",
       " 'achieved',\n",
       " 'achievements',\n",
       " 'acid',\n",
       " 'acoustic',\n",
       " 'acquired',\n",
       " 'acquiring',\n",
       " 'acquisition',\n",
       " 'acquisitions',\n",
       " 'acre',\n",
       " 'acres',\n",
       " 'acronym',\n",
       " 'across',\n",
       " 'act',\n",
       " 'acted',\n",
       " 'acting',\n",
       " 'action',\n",
       " 'actions',\n",
       " 'active',\n",
       " 'activist',\n",
       " 'activists',\n",
       " 'activities',\n",
       " 'activity',\n",
       " 'actor',\n",
       " 'actors',\n",
       " 'actress',\n",
       " 'acts',\n",
       " 'actual',\n",
       " 'actually',\n",
       " 'acute',\n",
       " 'ad',\n",
       " 'adam',\n",
       " 'adams',\n",
       " 'adaptation',\n",
       " 'adapted',\n",
       " 'adaption',\n",
       " 'added',\n",
       " 'addiction',\n",
       " 'adding',\n",
       " 'addition',\n",
       " 'additional',\n",
       " 'additionally',\n",
       " 'additions',\n",
       " 'address',\n",
       " 'adelaide',\n",
       " 'adirondack',\n",
       " 'adjacent',\n",
       " 'administered',\n",
       " 'administers',\n",
       " 'administration',\n",
       " 'administrative',\n",
       " 'administratively',\n",
       " 'administrator',\n",
       " 'admiral',\n",
       " 'admiralty',\n",
       " 'admission',\n",
       " 'admitted',\n",
       " 'adolf',\n",
       " 'adopted',\n",
       " 'adopting',\n",
       " 'adua',\n",
       " 'adult',\n",
       " 'adults',\n",
       " 'advance',\n",
       " 'advanced',\n",
       " 'adventist',\n",
       " 'adventure',\n",
       " 'adventures',\n",
       " 'advertising',\n",
       " 'advice',\n",
       " 'advisor',\n",
       " 'advisory',\n",
       " 'advocacy',\n",
       " 'advocate',\n",
       " 'aechmea',\n",
       " 'aerial',\n",
       " 'aerodrome',\n",
       " 'affair',\n",
       " 'affairs',\n",
       " 'affiliate',\n",
       " 'affiliated',\n",
       " 'affiliation',\n",
       " 'affluent',\n",
       " 'affordable',\n",
       " 'afghanistan',\n",
       " 'afl',\n",
       " 'africa',\n",
       " 'african',\n",
       " 'after',\n",
       " 'aftermath',\n",
       " 'afternoon',\n",
       " 'afterwards',\n",
       " 'afyonkarahisar',\n",
       " 'ag',\n",
       " 'again',\n",
       " 'against',\n",
       " 'agatha',\n",
       " 'agder',\n",
       " 'age',\n",
       " 'aged',\n",
       " 'agencies',\n",
       " 'agency',\n",
       " 'agent',\n",
       " 'agents',\n",
       " 'ages',\n",
       " 'aggressive',\n",
       " 'ago',\n",
       " 'agreement',\n",
       " 'agricultural',\n",
       " 'agriculture',\n",
       " 'ah',\n",
       " 'ahead',\n",
       " 'ahmad',\n",
       " 'ahmed',\n",
       " 'aid',\n",
       " 'aided',\n",
       " 'aids',\n",
       " 'aim',\n",
       " 'aimed',\n",
       " 'aims',\n",
       " 'ain',\n",
       " 'air',\n",
       " 'aircraft',\n",
       " 'aired',\n",
       " 'aires',\n",
       " 'airline',\n",
       " 'airliner',\n",
       " 'airlines',\n",
       " 'airplane',\n",
       " 'airplay',\n",
       " 'airport',\n",
       " 'airports',\n",
       " 'airtel',\n",
       " 'airways',\n",
       " 'aishwarya',\n",
       " 'ak',\n",
       " 'aka',\n",
       " 'akershus',\n",
       " 'akira',\n",
       " 'al',\n",
       " 'alabama',\n",
       " 'alan',\n",
       " 'alaska',\n",
       " 'alaskan',\n",
       " 'albania',\n",
       " 'albanian',\n",
       " 'albert',\n",
       " 'alberta',\n",
       " 'alberto',\n",
       " 'albion',\n",
       " 'alborz',\n",
       " 'album',\n",
       " 'albums',\n",
       " 'albuquerque',\n",
       " 'alchemist',\n",
       " 'alderman',\n",
       " 'aldo',\n",
       " 'alec',\n",
       " 'alejandro',\n",
       " 'aleksandrovich',\n",
       " 'aleksei',\n",
       " 'alex',\n",
       " 'alexander',\n",
       " 'alexandra',\n",
       " 'alfa',\n",
       " 'alfred',\n",
       " 'algae',\n",
       " 'algeria',\n",
       " 'algerian',\n",
       " 'algiers',\n",
       " 'ali',\n",
       " 'aliabad',\n",
       " 'alias',\n",
       " 'alice',\n",
       " 'alien',\n",
       " 'alike',\n",
       " 'alison',\n",
       " 'alive',\n",
       " 'all',\n",
       " 'allan',\n",
       " 'allegheny',\n",
       " 'allen',\n",
       " 'alley',\n",
       " 'alliance',\n",
       " 'allied',\n",
       " 'allies',\n",
       " 'allison',\n",
       " 'allmusic',\n",
       " 'allow',\n",
       " 'allowed',\n",
       " 'allows',\n",
       " 'alloy',\n",
       " 'alma',\n",
       " 'almeida',\n",
       " 'almost',\n",
       " 'alone',\n",
       " 'along',\n",
       " 'alongside',\n",
       " 'alpes',\n",
       " 'alpha',\n",
       " 'alpine',\n",
       " 'alps',\n",
       " 'already',\n",
       " 'alter',\n",
       " 'alternate',\n",
       " 'alternately',\n",
       " 'alternating',\n",
       " 'alternative',\n",
       " 'alternatively',\n",
       " 'although',\n",
       " 'altitude',\n",
       " 'altitudes',\n",
       " 'alto',\n",
       " 'alumni',\n",
       " 'always',\n",
       " 'alī',\n",
       " 'am',\n",
       " 'amalgamated',\n",
       " 'amar',\n",
       " 'amaranth',\n",
       " 'amaranthus',\n",
       " 'amateur',\n",
       " 'amazing',\n",
       " 'amazon',\n",
       " 'ambassador',\n",
       " 'ambient',\n",
       " 'ambrose',\n",
       " 'amc',\n",
       " 'amenities',\n",
       " 'america',\n",
       " 'american',\n",
       " 'americana',\n",
       " 'americans',\n",
       " 'americas',\n",
       " 'amherst',\n",
       " 'amidst',\n",
       " 'amin',\n",
       " 'ammunition',\n",
       " 'among',\n",
       " 'amongst',\n",
       " 'amor',\n",
       " 'amore',\n",
       " 'amount',\n",
       " 'amphibious',\n",
       " 'amplifiers',\n",
       " 'amsterdam',\n",
       " 'amur',\n",
       " 'amy',\n",
       " 'ana',\n",
       " 'anaheim',\n",
       " 'analog',\n",
       " 'analysis',\n",
       " 'analyst',\n",
       " 'anatolia',\n",
       " 'anatomy',\n",
       " 'ancestry',\n",
       " 'anchor',\n",
       " 'anchorage',\n",
       " 'ancient',\n",
       " 'andean',\n",
       " 'andersen',\n",
       " 'anderson',\n",
       " 'andes',\n",
       " 'andhra',\n",
       " 'andrea',\n",
       " 'andrew',\n",
       " 'andromeda',\n",
       " 'andré',\n",
       " 'andrés',\n",
       " 'andy',\n",
       " 'angel',\n",
       " 'angeles',\n",
       " 'angels',\n",
       " 'anglican',\n",
       " 'anglo',\n",
       " 'angola',\n",
       " 'anil',\n",
       " 'animal',\n",
       " 'animals',\n",
       " 'animated',\n",
       " 'animation',\n",
       " 'anime',\n",
       " 'anita',\n",
       " 'ankara',\n",
       " 'ann',\n",
       " 'anna',\n",
       " 'anne',\n",
       " 'annie',\n",
       " 'anniversary',\n",
       " 'announced',\n",
       " 'announcer',\n",
       " 'annual',\n",
       " 'annually',\n",
       " 'anonymous',\n",
       " 'another',\n",
       " 'answer',\n",
       " 'ant',\n",
       " 'antarctica',\n",
       " 'antbird',\n",
       " 'antennae',\n",
       " 'anthologies',\n",
       " 'anthology',\n",
       " 'anthony',\n",
       " 'anthropologist',\n",
       " 'anthropology',\n",
       " 'anti',\n",
       " 'antique',\n",
       " 'antoine',\n",
       " 'anton',\n",
       " 'antonio',\n",
       " 'any',\n",
       " 'anything',\n",
       " 'anywhere',\n",
       " 'ao',\n",
       " 'ap',\n",
       " 'apa',\n",
       " 'apart',\n",
       " 'apartheid',\n",
       " 'apartment',\n",
       " 'apartments',\n",
       " 'apd',\n",
       " 'apex',\n",
       " 'apg',\n",
       " 'apiaceae',\n",
       " 'apocalypse',\n",
       " 'apocalyptic',\n",
       " 'apocynaceae',\n",
       " 'apollo',\n",
       " 'appalachian',\n",
       " 'appalachians',\n",
       " 'apparel',\n",
       " 'apparently',\n",
       " 'appeals',\n",
       " 'appear',\n",
       " 'appearance',\n",
       " 'appearances',\n",
       " 'appeared',\n",
       " 'appearing',\n",
       " 'appears',\n",
       " 'apple',\n",
       " 'appliances',\n",
       " 'application',\n",
       " 'applications',\n",
       " 'applied',\n",
       " 'apply',\n",
       " 'applying',\n",
       " 'appointed',\n",
       " 'appointment',\n",
       " 'apprentice',\n",
       " 'approach',\n",
       " 'approaching',\n",
       " 'appropriate',\n",
       " 'approval',\n",
       " 'approved',\n",
       " ...]"
      ]
     },
     "execution_count": 366,
     "metadata": {},
     "output_type": "execute_result"
    }
   ],
   "source": [
    "feature_names = pipeline.named_steps.dataprep.named_steps.count_vectorizer.get_feature_names()\n",
    "feature_names"
   ]
  },
  {
   "cell_type": "code",
   "execution_count": 367,
   "metadata": {},
   "outputs": [],
   "source": [
    "def get_topic(identifier, top_words=10):\n",
    "    \n",
    "    for topic_id, topic_word_probs in enumerate(pipeline.named_steps.topic_modelling.components_):\n",
    "        if topic_id == identifier:\n",
    "            top_feature_names = [feature_names[i] for i in topic_word_probs.argsort()[: -top_words - 1 : -1]]\n",
    "            \n",
    "            return \" \".join(top_feature_names)"
   ]
  },
  {
   "cell_type": "code",
   "execution_count": 368,
   "metadata": {},
   "outputs": [
    {
     "data": {
      "text/plain": [
       "{0: 'church car parish',\n",
       " 1: 'album released band',\n",
       " 2: 'olympics summer competed',\n",
       " 3: 'school high located',\n",
       " 4: 'family genus species',\n",
       " 5: 'she who football',\n",
       " 6: 'mi village river',\n",
       " 7: 'company university college',\n",
       " 8: 'species family found',\n",
       " 9: 'film directed novel',\n",
       " 10: 'river district tributary',\n",
       " 11: 'historic house building',\n",
       " 12: 'village municipality turkey',\n",
       " 13: 'bulbophyllum orchid species'}"
      ]
     },
     "execution_count": 368,
     "metadata": {},
     "output_type": "execute_result"
    }
   ],
   "source": [
    "topic_id_topic_mapping = {}\n",
    "\n",
    "for i in range(14):\n",
    "    topic_id_topic_mapping[i] = get_topic(i, top_words=3)\n",
    "    \n",
    "# these are words that are most probable to encounter in topic i\n",
    "topic_id_topic_mapping"
   ]
  },
  {
   "cell_type": "code",
   "execution_count": 376,
   "metadata": {},
   "outputs": [
    {
     "data": {
      "text/plain": [
       "6252     Loricaria thuyoides is a terrestrial shrub in...\n",
       "4684     Parallel Lives is a 1994 television film dire...\n",
       "1731     Elachista compsa is a moth of the Elachistida...\n",
       "4742     Jowzjan (Persian: جوزجان‎ also Romanized as J...\n",
       "4521     Happy Feet Two is a 2011 Australian-American ...\n",
       "                              ...                        \n",
       "3921     The Brookstreet Hotel is a modern luxury hote...\n",
       "6685     Amber and Iron is a fantasy novel in the Drag...\n",
       "3194     Dar Mazar (Persian: درمزار‎ also Romanized as...\n",
       "1941     Gulf Branch is a stream in Arlington County V...\n",
       "7713     Hayesbrook is a secondary school with academy...\n",
       "Name: Text, Length: 1000, dtype: object"
      ]
     },
     "execution_count": 376,
     "metadata": {},
     "output_type": "execute_result"
    }
   ],
   "source": [
    "X_test"
   ]
  },
  {
   "cell_type": "code",
   "execution_count": 377,
   "metadata": {},
   "outputs": [
    {
     "data": {
      "text/plain": [
       "array([0.01512807, 0.08785264, 0.01512806, 0.01512807, 0.01512806,\n",
       "       0.08042077, 0.01512807, 0.01512831, 0.0151281 , 0.66531742,\n",
       "       0.01512806, 0.01512807, 0.01512806, 0.01512824])"
      ]
     },
     "execution_count": 377,
     "metadata": {},
     "output_type": "execute_result"
    }
   ],
   "source": [
    "lda[-4]"
   ]
  },
  {
   "cell_type": "code",
   "execution_count": 361,
   "metadata": {},
   "outputs": [
    {
     "data": {
      "text/plain": [
       "['Company',\n",
       " 'EducationalInstitution',\n",
       " 'Artist',\n",
       " 'Athlete',\n",
       " 'OfficeHolder',\n",
       " 'MeanOfTransportation',\n",
       " 'Building',\n",
       " 'NaturalPlace',\n",
       " 'Village',\n",
       " 'Animal',\n",
       " 'Plant',\n",
       " 'Album',\n",
       " 'Film',\n",
       " 'WrittenWork']"
      ]
     },
     "execution_count": 361,
     "metadata": {},
     "output_type": "execute_result"
    }
   ],
   "source": [
    "labels"
   ]
  },
  {
   "cell_type": "code",
   "execution_count": 379,
   "metadata": {},
   "outputs": [],
   "source": [
    "X_vis = pd.DataFrame(X_test)"
   ]
  },
  {
   "cell_type": "code",
   "execution_count": 380,
   "metadata": {},
   "outputs": [
    {
     "data": {
      "text/html": [
       "<div>\n",
       "<style scoped>\n",
       "    .dataframe tbody tr th:only-of-type {\n",
       "        vertical-align: middle;\n",
       "    }\n",
       "\n",
       "    .dataframe tbody tr th {\n",
       "        vertical-align: top;\n",
       "    }\n",
       "\n",
       "    .dataframe thead th {\n",
       "        text-align: right;\n",
       "    }\n",
       "</style>\n",
       "<table border=\"1\" class=\"dataframe\">\n",
       "  <thead>\n",
       "    <tr style=\"text-align: right;\">\n",
       "      <th></th>\n",
       "      <th>Text</th>\n",
       "    </tr>\n",
       "  </thead>\n",
       "  <tbody>\n",
       "    <tr>\n",
       "      <th>6252</th>\n",
       "      <td>Loricaria thuyoides is a terrestrial shrub in...</td>\n",
       "    </tr>\n",
       "    <tr>\n",
       "      <th>4684</th>\n",
       "      <td>Parallel Lives is a 1994 television film dire...</td>\n",
       "    </tr>\n",
       "    <tr>\n",
       "      <th>1731</th>\n",
       "      <td>Elachista compsa is a moth of the Elachistida...</td>\n",
       "    </tr>\n",
       "    <tr>\n",
       "      <th>4742</th>\n",
       "      <td>Jowzjan (Persian: جوزجان‎ also Romanized as J...</td>\n",
       "    </tr>\n",
       "    <tr>\n",
       "      <th>4521</th>\n",
       "      <td>Happy Feet Two is a 2011 Australian-American ...</td>\n",
       "    </tr>\n",
       "    <tr>\n",
       "      <th>...</th>\n",
       "      <td>...</td>\n",
       "    </tr>\n",
       "    <tr>\n",
       "      <th>3921</th>\n",
       "      <td>The Brookstreet Hotel is a modern luxury hote...</td>\n",
       "    </tr>\n",
       "    <tr>\n",
       "      <th>6685</th>\n",
       "      <td>Amber and Iron is a fantasy novel in the Drag...</td>\n",
       "    </tr>\n",
       "    <tr>\n",
       "      <th>3194</th>\n",
       "      <td>Dar Mazar (Persian: درمزار‎ also Romanized as...</td>\n",
       "    </tr>\n",
       "    <tr>\n",
       "      <th>1941</th>\n",
       "      <td>Gulf Branch is a stream in Arlington County V...</td>\n",
       "    </tr>\n",
       "    <tr>\n",
       "      <th>7713</th>\n",
       "      <td>Hayesbrook is a secondary school with academy...</td>\n",
       "    </tr>\n",
       "  </tbody>\n",
       "</table>\n",
       "<p>1000 rows × 1 columns</p>\n",
       "</div>"
      ],
      "text/plain": [
       "                                                   Text\n",
       "6252   Loricaria thuyoides is a terrestrial shrub in...\n",
       "4684   Parallel Lives is a 1994 television film dire...\n",
       "1731   Elachista compsa is a moth of the Elachistida...\n",
       "4742   Jowzjan (Persian: جوزجان‎ also Romanized as J...\n",
       "4521   Happy Feet Two is a 2011 Australian-American ...\n",
       "...                                                 ...\n",
       "3921   The Brookstreet Hotel is a modern luxury hote...\n",
       "6685   Amber and Iron is a fantasy novel in the Drag...\n",
       "3194   Dar Mazar (Persian: درمزار‎ also Romanized as...\n",
       "1941   Gulf Branch is a stream in Arlington County V...\n",
       "7713   Hayesbrook is a secondary school with academy...\n",
       "\n",
       "[1000 rows x 1 columns]"
      ]
     },
     "execution_count": 380,
     "metadata": {},
     "output_type": "execute_result"
    }
   ],
   "source": [
    "X_vis"
   ]
  },
  {
   "cell_type": "code",
   "execution_count": 381,
   "metadata": {},
   "outputs": [],
   "source": [
    "topic_to_doc_mapping = {}\n",
    "topic_list = []\n",
    "topic_names = []\n",
    "\n",
    "for i in range(X_test.shape[0]):\n",
    "    most_likely_topic =  lda[i].argmax()\n",
    "\n",
    "    if most_likely_topic not in topic_to_doc_mapping:\n",
    "        topic_to_doc_mapping[most_likely_topic] = []\n",
    "\n",
    "    topic_to_doc_mapping[most_likely_topic].append(i)\n",
    "\n",
    "    topic_list.append(most_likely_topic)\n",
    "    topic_names.append(topic_id_topic_mapping[most_likely_topic])\n",
    "\n",
    "X_vis['Most_Likely_Topic'] = topic_list\n",
    "X_vis['Most_Likely_Topic_Names'] = topic_names"
   ]
  },
  {
   "cell_type": "code",
   "execution_count": 387,
   "metadata": {},
   "outputs": [
    {
     "data": {
      "text/html": [
       "<div>\n",
       "<style scoped>\n",
       "    .dataframe tbody tr th:only-of-type {\n",
       "        vertical-align: middle;\n",
       "    }\n",
       "\n",
       "    .dataframe tbody tr th {\n",
       "        vertical-align: top;\n",
       "    }\n",
       "\n",
       "    .dataframe thead th {\n",
       "        text-align: right;\n",
       "    }\n",
       "</style>\n",
       "<table border=\"1\" class=\"dataframe\">\n",
       "  <thead>\n",
       "    <tr style=\"text-align: right;\">\n",
       "      <th></th>\n",
       "      <th>Text</th>\n",
       "      <th>Most_Likely_Topic</th>\n",
       "      <th>Most_Likely_Topic_Names</th>\n",
       "    </tr>\n",
       "  </thead>\n",
       "  <tbody>\n",
       "    <tr>\n",
       "      <th>6252</th>\n",
       "      <td>Loricaria thuyoides is a terrestrial shrub in...</td>\n",
       "      <td>11</td>\n",
       "      <td>historic house building</td>\n",
       "    </tr>\n",
       "    <tr>\n",
       "      <th>4684</th>\n",
       "      <td>Parallel Lives is a 1994 television film dire...</td>\n",
       "      <td>9</td>\n",
       "      <td>film directed novel</td>\n",
       "    </tr>\n",
       "    <tr>\n",
       "      <th>1731</th>\n",
       "      <td>Elachista compsa is a moth of the Elachistida...</td>\n",
       "      <td>8</td>\n",
       "      <td>species family found</td>\n",
       "    </tr>\n",
       "    <tr>\n",
       "      <th>4742</th>\n",
       "      <td>Jowzjan (Persian: جوزجان‎ also Romanized as J...</td>\n",
       "      <td>10</td>\n",
       "      <td>river district tributary</td>\n",
       "    </tr>\n",
       "    <tr>\n",
       "      <th>4521</th>\n",
       "      <td>Happy Feet Two is a 2011 Australian-American ...</td>\n",
       "      <td>9</td>\n",
       "      <td>film directed novel</td>\n",
       "    </tr>\n",
       "    <tr>\n",
       "      <th>...</th>\n",
       "      <td>...</td>\n",
       "      <td>...</td>\n",
       "      <td>...</td>\n",
       "    </tr>\n",
       "    <tr>\n",
       "      <th>3921</th>\n",
       "      <td>The Brookstreet Hotel is a modern luxury hote...</td>\n",
       "      <td>7</td>\n",
       "      <td>company university college</td>\n",
       "    </tr>\n",
       "    <tr>\n",
       "      <th>6685</th>\n",
       "      <td>Amber and Iron is a fantasy novel in the Drag...</td>\n",
       "      <td>9</td>\n",
       "      <td>film directed novel</td>\n",
       "    </tr>\n",
       "    <tr>\n",
       "      <th>3194</th>\n",
       "      <td>Dar Mazar (Persian: درمزار‎ also Romanized as...</td>\n",
       "      <td>10</td>\n",
       "      <td>river district tributary</td>\n",
       "    </tr>\n",
       "    <tr>\n",
       "      <th>1941</th>\n",
       "      <td>Gulf Branch is a stream in Arlington County V...</td>\n",
       "      <td>6</td>\n",
       "      <td>mi village river</td>\n",
       "    </tr>\n",
       "    <tr>\n",
       "      <th>7713</th>\n",
       "      <td>Hayesbrook is a secondary school with academy...</td>\n",
       "      <td>3</td>\n",
       "      <td>school high located</td>\n",
       "    </tr>\n",
       "  </tbody>\n",
       "</table>\n",
       "<p>1000 rows × 3 columns</p>\n",
       "</div>"
      ],
      "text/plain": [
       "                                                   Text  Most_Likely_Topic  \\\n",
       "6252   Loricaria thuyoides is a terrestrial shrub in...                 11   \n",
       "4684   Parallel Lives is a 1994 television film dire...                  9   \n",
       "1731   Elachista compsa is a moth of the Elachistida...                  8   \n",
       "4742   Jowzjan (Persian: جوزجان‎ also Romanized as J...                 10   \n",
       "4521   Happy Feet Two is a 2011 Australian-American ...                  9   \n",
       "...                                                 ...                ...   \n",
       "3921   The Brookstreet Hotel is a modern luxury hote...                  7   \n",
       "6685   Amber and Iron is a fantasy novel in the Drag...                  9   \n",
       "3194   Dar Mazar (Persian: درمزار‎ also Romanized as...                 10   \n",
       "1941   Gulf Branch is a stream in Arlington County V...                  6   \n",
       "7713   Hayesbrook is a secondary school with academy...                  3   \n",
       "\n",
       "         Most_Likely_Topic_Names  \n",
       "6252     historic house building  \n",
       "4684         film directed novel  \n",
       "1731        species family found  \n",
       "4742    river district tributary  \n",
       "4521         film directed novel  \n",
       "...                          ...  \n",
       "3921  company university college  \n",
       "6685         film directed novel  \n",
       "3194    river district tributary  \n",
       "1941            mi village river  \n",
       "7713         school high located  \n",
       "\n",
       "[1000 rows x 3 columns]"
      ]
     },
     "execution_count": 387,
     "metadata": {},
     "output_type": "execute_result"
    }
   ],
   "source": [
    "X_vis"
   ]
  },
  {
   "cell_type": "code",
   "execution_count": 383,
   "metadata": {},
   "outputs": [
    {
     "data": {
      "text/plain": [
       "['Company',\n",
       " 'EducationalInstitution',\n",
       " 'Artist',\n",
       " 'Athlete',\n",
       " 'OfficeHolder',\n",
       " 'MeanOfTransportation',\n",
       " 'Building',\n",
       " 'NaturalPlace',\n",
       " 'Village',\n",
       " 'Animal',\n",
       " 'Plant',\n",
       " 'Album',\n",
       " 'Film',\n",
       " 'WrittenWork']"
      ]
     },
     "execution_count": 383,
     "metadata": {},
     "output_type": "execute_result"
    }
   ],
   "source": [
    "labels"
   ]
  },
  {
   "cell_type": "code",
   "execution_count": 71,
   "metadata": {
    "collapsed": true
   },
   "outputs": [
    {
     "data": {
      "text/plain": [
       "array(['company university college', 'built historic navy',\n",
       "       'film album released', 'river district village',\n",
       "       'species family genus', 'football who played',\n",
       "       'journal published newspaper', 'gastropod marine sea',\n",
       "       'school high public', 'species plant endemic', 'moths snout cave',\n",
       "       'peak czech alps', 'aircraft designed car'], dtype=object)"
      ]
     },
     "execution_count": 71,
     "metadata": {},
     "output_type": "execute_result"
    }
   ],
   "source": [
    "X_vis.Most_Likely_Topic_Names.unique()"
   ]
  },
  {
   "cell_type": "code",
   "execution_count": 72,
   "metadata": {
    "collapsed": true
   },
   "outputs": [
    {
     "name": "stdout",
     "output_type": "stream",
     "text": [
      "['Company', 'EducationalInstitution', 'Artist', 'Athlete', 'OfficeHolder', 'MeanOfTransportation', 'Building', 'NaturalPlace', 'Village', 'Animal', 'Plant', 'Album', 'Film', 'WrittenWork']\n"
     ]
    }
   ],
   "source": [
    "print(labels)"
   ]
  },
  {
   "cell_type": "code",
   "execution_count": 73,
   "metadata": {},
   "outputs": [
    {
     "data": {
      "text/html": [
       "<div>\n",
       "<style scoped>\n",
       "    .dataframe tbody tr th:only-of-type {\n",
       "        vertical-align: middle;\n",
       "    }\n",
       "\n",
       "    .dataframe tbody tr th {\n",
       "        vertical-align: top;\n",
       "    }\n",
       "\n",
       "    .dataframe thead th {\n",
       "        text-align: right;\n",
       "    }\n",
       "</style>\n",
       "<table border=\"1\" class=\"dataframe\">\n",
       "  <thead>\n",
       "    <tr style=\"text-align: right;\">\n",
       "      <th></th>\n",
       "      <th>Text</th>\n",
       "      <th>Most_Likely_Topic</th>\n",
       "      <th>Most_Likely_Topic_Names</th>\n",
       "    </tr>\n",
       "  </thead>\n",
       "  <tbody>\n",
       "    <tr>\n",
       "      <th>6252</th>\n",
       "      <td>The Art Institute of California A College of ...</td>\n",
       "      <td>3</td>\n",
       "      <td>company university college</td>\n",
       "    </tr>\n",
       "    <tr>\n",
       "      <th>4684</th>\n",
       "      <td>Great Manson Farm is a property on the northe...</td>\n",
       "      <td>7</td>\n",
       "      <td>built historic navy</td>\n",
       "    </tr>\n",
       "    <tr>\n",
       "      <th>1731</th>\n",
       "      <td>The Cannonball Adderley Quintet in San Franci...</td>\n",
       "      <td>6</td>\n",
       "      <td>film album released</td>\n",
       "    </tr>\n",
       "    <tr>\n",
       "      <th>4742</th>\n",
       "      <td>Joy Dawson is a New Zealand missionary and in...</td>\n",
       "      <td>6</td>\n",
       "      <td>film album released</td>\n",
       "    </tr>\n",
       "    <tr>\n",
       "      <th>4521</th>\n",
       "      <td>Deshbandhu Mahavidyalaya established in 1973 ...</td>\n",
       "      <td>3</td>\n",
       "      <td>company university college</td>\n",
       "    </tr>\n",
       "    <tr>\n",
       "      <th>...</th>\n",
       "      <td>...</td>\n",
       "      <td>...</td>\n",
       "      <td>...</td>\n",
       "    </tr>\n",
       "    <tr>\n",
       "      <th>3921</th>\n",
       "      <td>Mandy was a 1952 Ealing Studios film based on...</td>\n",
       "      <td>6</td>\n",
       "      <td>film album released</td>\n",
       "    </tr>\n",
       "    <tr>\n",
       "      <th>6685</th>\n",
       "      <td>Inferno in diretta internationally released a...</td>\n",
       "      <td>6</td>\n",
       "      <td>film album released</td>\n",
       "    </tr>\n",
       "    <tr>\n",
       "      <th>3194</th>\n",
       "      <td>Pina is a 2011 German 3D documentary film abo...</td>\n",
       "      <td>6</td>\n",
       "      <td>film album released</td>\n",
       "    </tr>\n",
       "    <tr>\n",
       "      <th>1941</th>\n",
       "      <td>The Orlando Miracle was a Women's National Ba...</td>\n",
       "      <td>6</td>\n",
       "      <td>film album released</td>\n",
       "    </tr>\n",
       "    <tr>\n",
       "      <th>7713</th>\n",
       "      <td>Olearia mooneyi commonly known as Pumpkin Bus...</td>\n",
       "      <td>9</td>\n",
       "      <td>species family genus</td>\n",
       "    </tr>\n",
       "  </tbody>\n",
       "</table>\n",
       "<p>1000 rows × 3 columns</p>\n",
       "</div>"
      ],
      "text/plain": [
       "                                                   Text  Most_Likely_Topic  \\\n",
       "6252   The Art Institute of California A College of ...                  3   \n",
       "4684   Great Manson Farm is a property on the northe...                  7   \n",
       "1731   The Cannonball Adderley Quintet in San Franci...                  6   \n",
       "4742   Joy Dawson is a New Zealand missionary and in...                  6   \n",
       "4521   Deshbandhu Mahavidyalaya established in 1973 ...                  3   \n",
       "...                                                 ...                ...   \n",
       "3921   Mandy was a 1952 Ealing Studios film based on...                  6   \n",
       "6685   Inferno in diretta internationally released a...                  6   \n",
       "3194   Pina is a 2011 German 3D documentary film abo...                  6   \n",
       "1941   The Orlando Miracle was a Women's National Ba...                  6   \n",
       "7713   Olearia mooneyi commonly known as Pumpkin Bus...                  9   \n",
       "\n",
       "         Most_Likely_Topic_Names  \n",
       "6252  company university college  \n",
       "4684         built historic navy  \n",
       "1731         film album released  \n",
       "4742         film album released  \n",
       "4521  company university college  \n",
       "...                          ...  \n",
       "3921         film album released  \n",
       "6685         film album released  \n",
       "3194         film album released  \n",
       "1941         film album released  \n",
       "7713        species family genus  \n",
       "\n",
       "[1000 rows x 3 columns]"
      ]
     },
     "execution_count": 73,
     "metadata": {},
     "output_type": "execute_result"
    }
   ],
   "source": [
    "X_vis"
   ]
  },
  {
   "cell_type": "code",
   "execution_count": 388,
   "metadata": {},
   "outputs": [
    {
     "data": {
      "text/plain": [
       "(1000, 14)"
      ]
     },
     "execution_count": 388,
     "metadata": {},
     "output_type": "execute_result"
    }
   ],
   "source": [
    "lda.shape"
   ]
  },
  {
   "cell_type": "code",
   "execution_count": 389,
   "metadata": {},
   "outputs": [
    {
     "data": {
      "text/plain": [
       "(1000, 2)"
      ]
     },
     "execution_count": 389,
     "metadata": {},
     "output_type": "execute_result"
    }
   ],
   "source": [
    "from sklearn.manifold import TSNE\n",
    "\n",
    "tsne = TSNE(n_components = 2, init = 'pca', random_state = 0)\n",
    "\n",
    "lda_2d_tsne = tsne.fit_transform(lda)\n",
    "lda_df_tsne = pd.DataFrame(lda_2d_tsne)\n",
    "\n",
    "lda_df_tsne.shape"
   ]
  },
  {
   "cell_type": "code",
   "execution_count": 393,
   "metadata": {},
   "outputs": [
    {
     "data": {
      "image/png": "[encoded data removed]",
      "text/plain": [
       "<Figure size 1152x576 with 2 Axes>"
      ]
     },
     "metadata": {},
     "output_type": "display_data"
    }
   ],
   "source": [
    "fig, axes = plt.subplots(1, 2, figsize = (16, 8))\n",
    "\n",
    "\n",
    "axes[0].scatter(lda_df_tsne[0], lda_df_tsne[1], c = y_test, cmap = 'Spectral')\n",
    "axes[1].scatter(lda_df_tsne[0], lda_df_tsne[1], c = X_vis['Most_Likely_Topic'], cmap = 'Spectral')\n",
    "\n",
    "axes[0].axis('equal');\n",
    "axes[1].axis('equal');"
   ]
  },
  {
   "cell_type": "code",
   "execution_count": null,
   "metadata": {},
   "outputs": [],
   "source": [
    "# !pip install pyLDAvis"
   ]
  },
  {
   "cell_type": "code",
   "execution_count": 395,
   "metadata": {},
   "outputs": [
    {
     "data": {
      "text/plain": [
       "{'dataprep': Pipeline(memory=None,\n",
       "          steps=[('count_vectorizer',\n",
       "                  CountVectorizer(analyzer='word', binary=False,\n",
       "                                  decode_error='strict',\n",
       "                                  dtype=<class 'numpy.int64'>, encoding='utf-8',\n",
       "                                  input='content', lowercase=True, max_df=1000,\n",
       "                                  max_features=None, min_df=3,\n",
       "                                  ngram_range=(1, 1), preprocessor=None,\n",
       "                                  stop_words=None, strip_accents=None,\n",
       "                                  token_pattern='(?u)\\\\b\\\\w\\\\w+\\\\b',\n",
       "                                  tokenizer=None, vocabulary=None)),\n",
       "                 ('tfidf_transformer',\n",
       "                  TfidfTransformer(norm='l2', smooth_idf=True,\n",
       "                                   sublinear_tf=False, use_idf=True))],\n",
       "          verbose=False),\n",
       " 'topic_modelling': LatentDirichletAllocation(batch_size=128, doc_topic_prior=None,\n",
       "                           evaluate_every=-1, learning_decay=0.7,\n",
       "                           learning_method='batch', learning_offset=10.0,\n",
       "                           max_doc_update_iter=100, max_iter=100,\n",
       "                           mean_change_tol=0.001, n_components=14, n_jobs=-1,\n",
       "                           perp_tol=0.1, random_state=None,\n",
       "                           topic_word_prior=None, total_samples=1000000.0,\n",
       "                           verbose=0)}"
      ]
     },
     "execution_count": 395,
     "metadata": {},
     "output_type": "execute_result"
    }
   ],
   "source": [
    "pipeline.named_steps"
   ]
  },
  {
   "cell_type": "code",
   "execution_count": 396,
   "metadata": {},
   "outputs": [
    {
     "data": {
      "text/plain": [
       "<9000x9802 sparse matrix of type '<class 'numpy.float64'>'\n",
       "\twith 208852 stored elements in Compressed Sparse Row format>"
      ]
     },
     "execution_count": 396,
     "metadata": {},
     "output_type": "execute_result"
    }
   ],
   "source": [
    "pipeline.named_steps.dataprep.transform(X_train)"
   ]
  },
  {
   "cell_type": "code",
   "execution_count": 398,
   "metadata": {},
   "outputs": [
    {
     "name": "stderr",
     "output_type": "stream",
     "text": [
      "WARNING:root:Unknown mds `pca`, switch to PCoA\n"
     ]
    },
    {
     "data": {
      "text/html": [
       "\n",
       "<link rel=\"stylesheet\" type=\"text/css\" href=\"https://cdn.rawgit.com/bmabey/pyLDAvis/files/ldavis.v1.0.0.css\">\n",
       "\n",
       "\n",
       "<div id=\"ldavis_el3715863876746889031355953\"></div>\n",
       "<script type=\"text/javascript\">\n",
       "\n",
       "var ldavis_el3715863876746889031355953_data = {\"mdsDat\": {\"x\": [-0.21972674039952952, -0.21524932878671885, -0.07545522263401575, 0.005264663388469656, -0.16046622945033015, 0.007302667489427296, 0.07484205492863287, 0.052155248549534794, 0.13152645102640723, 0.06940256469598592, 0.08157329087073016, 0.07473056379435936, 0.09341621960749823, 0.08068379691954802], \"y\": [0.05144900205547574, -0.03518883878383418, 0.031100152715398104, 0.10527361025832235, -0.06521901749430323, 0.02128966643498331, 0.23825760283223738, -0.06535180036220876, 0.054097961544240285, -0.03766499566722529, -0.07077410098522227, -0.09949493655858115, -0.0396424459942165, -0.08813185999506482], \"topics\": [1, 2, 3, 4, 5, 6, 7, 8, 9, 10, 11, 12, 13, 14], \"cluster\": [1, 1, 1, 1, 1, 1, 1, 1, 1, 1, 1, 1, 1, 1], \"Freq\": [19.060788111763475, 16.057877534443094, 9.320678601098685, 8.437863672437011, 8.277331045774499, 7.623268035185873, 7.382176414487396, 4.746832034303253, 4.257965198065106, 4.162631116333628, 3.0179156936034053, 2.711781446044793, 2.5642821818843493, 2.378608914575427]}, \"tinfo\": {\"Term\": [\"school\", \"river\", \"album\", \"family\", \"species\", \"film\", \"district\", \"village\", \"genus\", \"released\", \"high\", \"mi\", \"county\", \"tributary\", \"found\", \"province\", \"plant\", \"romania\", \"2006\", \"persian\", \"population\", \"iran\", \"rural\", \"census\", \"km\", \"band\", \"romanized\", \"historic\", \"families\", \"its\", \"football\", \"navy\", \"footballer\", \"class\", \"league\", \"politician\", \"hms\", \"uss\", \"minister\", \"ship\", \"served\", \"plays\", \"election\", \"fc\", \"played\", \"player\", \"rugby\", \"professional\", \"submarine\", \"baseball\", \"defender\", \"party\", \"midfielder\", \"ships\", \"appointed\", \"retired\", \"commissioned\", \"gun\", \"soviet\", \"cup\", \"representing\", \"secretary\", \"team\", \"aircraft\", \"she\", \"member\", \"former\", \"royal\", \"during\", \"who\", \"launched\", \"august\", \"january\", \"war\", \"february\", \"april\", \"currently\", \"world\", \"november\", \"march\", \"his\", \"built\", \"american\", \"united\", \"first\", \"film\", \"directed\", \"novel\", \"book\", \"starring\", \"comedy\", \"author\", \"fiction\", \"drama\", \"documentary\", \"books\", \"written\", \"movie\", \"comic\", \"stars\", \"roles\", \"films\", \"writer\", \"editor\", \"published\", \"journal\", \"poet\", \"horror\", \"silent\", \"award\", \"novels\", \"fantasy\", \"romantic\", \"reviewed\", \"wrote\", \"magazine\", \"stories\", \"language\", \"short\", \"series\", \"festival\", \"life\", \"television\", \"science\", \"italian\", \"story\", \"his\", \"american\", \"her\", \"first\", \"produced\", \"best\", \"based\", \"who\", \"that\", \"released\", \"british\", \"headquartered\", \"technology\", \"medical\", \"hospital\", \"pradesh\", \"internet\", \"operates\", \"andhra\", \"programs\", \"management\", \"products\", \"technical\", \"companies\", \"institute\", \"medicine\", \"health\", \"privately\", \"subsidiary\", \"industries\", \"pinyin\", \"services\", \"hesse\", \"engineering\", \"bengal\", \"venture\", \"assistant\", \"rhine\", \"institutions\", \"profit\", \"colleges\", \"sciences\", \"provides\", \"offices\", \"mobile\", \"manga\", \"company\", \"inc\", \"university\", \"owned\", \"chinese\", \"offers\", \"college\", \"founded\", \"business\", \"education\", \"established\", \"largest\", \"based\", \"india\", \"corporation\", \"international\", \"private\", \"group\", \"its\", \"located\", \"has\", \"that\", \"one\", \"united\", \"state\", \"plant\", \"endemic\", \"habitat\", \"forests\", \"threatened\", \"leaves\", \"subtropical\", \"tropical\", \"arctiidae\", \"ecuador\", \"moist\", \"perennial\", \"grows\", \"mm\", \"found\", \"butterfly\", \"airline\", \"algae\", \"larvae\", \"tree\", \"habitats\", \"feed\", \"belonging\", \"native\", \"cm\", \"wingspan\", \"flowers\", \"herb\", \"guinea\", \"airport\", \"common\", \"loss\", \"moth\", \"species\", \"family\", \"flowering\", \"are\", \"genus\", \"africa\", \"natural\", \"or\", \"shrub\", \"australia\", \"described\", \"plants\", \"this\", \"only\", \"known\", \"western\", \"south\", \"its\", \"america\", \"album\", \"band\", \"label\", \"records\", \"songs\", \"studio\", \"albums\", \"jazz\", \"songwriter\", \"cd\", \"musician\", \"tracks\", \"recording\", \"guitarist\", \"solo\", \"singles\", \"chart\", \"ep\", \"singer\", \"compilation\", \"recorded\", \"billboard\", \"hop\", \"drummer\", \"vocalist\", \"recordings\", \"pianist\", \"guitar\", \"hip\", \"rapper\", \"rock\", \"music\", \"released\", \"composer\", \"pop\", \"metal\", \"live\", \"producer\", \"record\", \"debut\", \"release\", \"second\", \"first\", \"american\", \"third\", \"artist\", \"their\", \"group\", \"historic\", \"register\", \"senate\", \"revival\", \"museum\", \"brick\", \"places\", \"buildings\", \"nfl\", \"arkansas\", \"added\", \"hotel\", \"architect\", \"minnesota\", \"frame\", \"farm\", \"louisiana\", \"courthouse\", \"building\", \"oklahoma\", \"rio\", \"republican\", \"roof\", \"anne\", \"orleans\", \"adelaide\", \"chapel\", \"residence\", \"presbyterian\", \"denver\", \"street\", \"house\", \"listed\", \"style\", \"stone\", \"church\", \"township\", \"hall\", \"pennsylvania\", \"avenue\", \"elected\", \"st\", \"national\", \"home\", \"built\", \"virginia\", \"located\", \"century\", \"york\", \"states\", \"new\", \"united\", \"district\", \"county\", \"state\", \"story\", \"mi\", \"administrative\", \"gmina\", \"voivodeship\", \"kilometres\", \"km\", \"poland\", \"flows\", \"lies\", \"alps\", \"masovian\", \"mountain\", \"\\u0142\\u00f3d\\u017a\", \"peak\", \"creek\", \"elevation\", \"nepal\", \"kermanshah\", \"summit\", \"lake\", \"bridge\", \"warsaw\", \"stream\", \"rate\", \"48\", \"silesian\", \"53\", \"baden\", \"frigate\", \"towns\", \"border\", \"miles\", \"approximately\", \"within\", \"capital\", \"east\", \"germany\", \"above\", \"west\", \"regional\", \"valley\", \"north\", \"village\", \"south\", \"mountains\", \"county\", \"river\", \"range\", \"district\", \"area\", \"central\", \"located\", \"region\", \"southern\", \"population\", \"car\", \"motor\", \"diocese\", \"mall\", \"honda\", \"anglican\", \"crater\", \"estonia\", \"nancy\", \"truck\", \"manufactured\", \"driver\", \"dennis\", \"peugeot\", \"kw\", \"hour\", \"parish\", \"trucks\", \"toyota\", \"derek\", \"abbreviated\", \"mp\", \"circulation\", \"nissan\", \"seminary\", \"smallest\", \"racing\", \"footage\", \"bishop\", \"coal\", \"rim\", \"train\", \"alabama\", \"model\", \"cathedral\", \"content\", \"ford\", \"shopping\", \"vehicle\", \"roman\", \"kong\", \"powered\", \"church\", \"hong\", \"lawrence\", \"mystery\", \"catholic\", \"road\", \"series\", \"st\", \"its\", \"england\", \"saint\", \"produced\", \"tributary\", \"persian\", \"romanized\", \"romania\", \"iran\", \"families\", \"ye\", \"tamil\", \"rural\", \"kerman\", \"khorasan\", \"valea\", \"\\u0627\\u0628\\u0627\\u062f\", \"mazandaran\", \"khuzestan\", \"paulo\", \"saxony\", \"s\\u00e3o\", \"unified\", \"existence\", \"razavi\", \"gharbi\", \"nadu\", \"b\\u0101l\\u0101\", \"p\\u0101\", \"\\u012bn\", \"oly\\u0101\", \"olt\", \"census\", \"tehran\", \"province\", \"river\", \"2006\", \"population\", \"software\", \"district\", \"sri\", \"its\", \"central\", \"county\", \"village\", \"lanka\", \"brazil\", \"known\", \"secondary\", \"grades\", \"pupils\", \"grammar\", \"school\", \"boarding\", \"schools\", \"elementary\", \"spider\", \"preparatory\", \"enrollment\", \"volcanic\", \"leaf\", \"mordellistena\", \"boys\", \"girls\", \"destroyers\", \"mascot\", \"kindergarten\", \"comprehensive\", \"ch\\u00e2teau\", \"lafayette\", \"students\", \"coeducational\", \"mecklenburg\", \"tribe\", \"high\", \"colors\", \"myristicaceae\", \"trial\", \"flower\", \"teachers\", \"stem\", \"jamaica\", \"public\", \"catholic\", \"status\", \"middle\", \"academy\", \"principal\", \"located\", \"serves\", \"georgia\", \"christian\", \"private\", \"12\", \"part\", \"college\", \"county\", \"education\", \"form\", \"district\", \"england\", \"gastropod\", \"snail\", \"mollusk\", \"snails\", \"moths\", \"beetle\", \"marine\", \"mollusks\", \"beetles\", \"extinct\", \"snout\", \"breathing\", \"cameroon\", \"carabidae\", \"pulmonate\", \"mantis\", \"praying\", \"meyrick\", \"sar\", \"terrestrial\", \"mongolia\", \"crane\", \"poaceae\", \"allies\", \"gabon\", \"slug\", \"gracillariidae\", \"sand\", \"eupithecia\", \"operculum\", \"subfamily\", \"lit\", \"sea\", \"grass\", \"noctuidae\", \"genus\", \"family\", \"species\", \"described\", \"korea\", \"moth\", \"land\", \"or\", \"air\", \"olympics\", \"competed\", \"croatia\", \"striker\", \"bronze\", \"event\", \"finland\", \"sabha\", \"olympic\", \"lok\", \"medals\", \"golfer\", \"medal\", \"latvian\", \"finnish\", \"sofl\\u00e1\", \"athletics\", \"swimmer\", \"murex\", \"muricidae\", \"polo\", \"basilica\", \"micromollusk\", \"ak\", \"shakespeare\", \"mazowiecka\", \"jake\", \"competing\", \"guntur\", \"melaleuca\", \"summer\", \"bulgarian\", \"netherlands\", \"hockey\", \"silver\", \"connected\", \"constituency\", \"las\", \"won\", \"belgian\", \"winter\", \"tour\", \"gold\", \"serbia\", \"daisy\", \"legume\", \"bosnia\", \"herzegovina\", \"cyrillic\", \"serbian\", \"rico\", \"commune\", \"turkey\", \"skippers\", \"finned\", \"bromeliad\", \"tillandsia\", \"puerto\", \"p\\u00e2r\\u00e2ul\", \"monotypic\", \"cultivar\", \"neoregelia\", \"israeli\", \"faboideae\", \"x\\u00e3\", \"ankara\", \"afyonkarahisar\", \"pyrams\", \"pyramidellidae\", \"hiiu\", \"fabaceae\", \"konin\", \"bilecik\", \"hybrid\", \"hesperiidae\", \"municipality\", \"northwestern\", \"according\", \"hebrew\", \"people\", \"village\", \"plants\", \"province\", \"genus\", \"flowering\", \"2002\", \"population\", \"family\", \"census\", \"district\", \"has\", \"bulbophyllum\", \"utricularia\", \"bomber\", \"masurian\", \"estonian\", \"warmian\", \"pomerania\", \"gda\\u0144sk\", \"papua\", \"perfect\", \"lubusz\", \"dubai\", \"brunswick\", \"acacia\", \"pomeranian\", \"belarus\", \"corvette\", \"archipelago\", \"territorial\", \"bradford\", \"bistri\\u0163a\", \"saunders\", \"olsztyn\", \"g\\u00f3ra\", \"swan\", \"krak\\u00f3w\", \"ash\", \"tl\", \"carlisle\", \"opole\", \"orchid\", \"lesser\", \"centimetres\", \"sa\", \"shallow\", \"changes\", \"species\", \"reach\", \"genus\", \"belongs\"], \"Freq\": [123.0, 119.0, 102.0, 117.0, 115.0, 114.0, 114.0, 96.0, 81.0, 77.0, 58.0, 49.0, 83.0, 39.0, 57.0, 49.0, 50.0, 37.0, 49.0, 35.0, 50.0, 35.0, 37.0, 41.0, 41.0, 44.0, 32.0, 40.0, 33.0, 82.0, 39.99651270195434, 35.997815089109054, 29.287770808145094, 37.594891003477706, 28.685652047823325, 32.95056352673365, 14.110436156095583, 13.394332917474925, 19.424538393535848, 25.043292578880237, 32.33721026791871, 26.085845819029633, 9.189274445174423, 8.436956884692679, 35.18269014789076, 23.687875400705398, 8.047307147352537, 25.75930122943731, 7.752688454401324, 8.76913113837443, 7.569298621180468, 16.340936256493436, 7.339987832683394, 7.248474113888862, 6.839035694610256, 10.223342800810547, 9.478031091418325, 6.594629563771302, 6.5814814803258805, 6.528386397128988, 11.921381818351483, 8.290861308691321, 19.553600426735493, 18.149722144259737, 50.95499815025, 37.098386746626076, 30.551952253753193, 16.811158029595397, 24.159569239195548, 50.36347795825194, 14.248426860945994, 23.76332867727014, 26.360159660957503, 25.2458942113677, 22.04908664151786, 24.19679090403754, 22.217454000479812, 25.482261373995176, 22.036063873226738, 22.817812443832715, 31.91563394217559, 25.65235907607968, 27.868829847458755, 24.199355203299326, 23.686473059946948, 113.68898712204054, 53.835124550718696, 41.95678296693597, 34.40217896644801, 24.682766529212692, 21.5830728713067, 21.421833139211234, 18.225940468150267, 18.814398566101364, 11.374297743435127, 14.953179034435943, 31.768975220892532, 11.763157922392491, 10.277074530495591, 16.436549342626982, 9.680078307993222, 9.331595421452354, 18.342378967824956, 8.83503453783639, 39.86654588386443, 18.14794007213318, 10.238713194114085, 7.633736318945706, 7.0973572768988396, 17.093688554374943, 8.713582955086666, 7.953352524507421, 6.668077997348002, 6.445430714525368, 7.22268585288308, 15.139364257197233, 11.351511435782752, 12.29496060287615, 17.326770821122516, 26.159834889548993, 10.433005388035182, 13.400835901801907, 14.153518638395763, 15.772214856704814, 17.72129309174483, 17.218472676598076, 30.294361347363512, 30.430749103187548, 21.061646555695496, 26.29737270106745, 15.6146877069887, 15.50975634670591, 17.85927207248429, 20.181775833661646, 18.883084037652914, 16.259406608931574, 15.709362445752669, 11.43817374939441, 13.755242237179683, 9.150665596150743, 10.813236783307357, 7.8446624834757115, 6.147857435322798, 6.635695166854391, 5.549745712099467, 5.508564350604726, 8.96061888009212, 7.803614144119712, 4.647335499959728, 8.081827666643145, 13.243821635640888, 4.387893723955392, 6.113020928937727, 4.348328322925214, 5.929118560402092, 4.233693298794604, 5.692680805283948, 14.173278629311065, 3.9752024253828715, 8.691201428814821, 3.9167162913849167, 3.8454601767782974, 3.7825878043546113, 3.7661407065317425, 3.753903646288044, 3.732156663209107, 4.462790479093193, 6.706930489047388, 7.981433874345648, 5.3142270588024925, 6.063164209912065, 8.734447676912206, 40.348468475809334, 9.496898032827476, 38.86020254350181, 12.277986547032459, 12.288953312757409, 7.333405098018917, 26.405467757019697, 20.288466057472302, 12.375902569085676, 13.015843282837388, 12.322786385287525, 10.844344432467377, 18.549311246972422, 13.715329296084976, 7.925407008071074, 11.547232914720897, 9.270231410861209, 10.028412526250193, 13.058761237194796, 12.436930470195884, 12.09804521608191, 11.51745651409453, 10.494177574698972, 10.01291847779185, 9.589243541036863, 49.17759206352068, 37.52855506427831, 18.76404171250511, 12.615918625252158, 11.701345929435323, 11.398596930876485, 10.854956269639228, 13.946892154775748, 10.325516601122377, 8.505008369102146, 8.439830388877018, 8.395799300050092, 11.924091570449852, 10.42919726676127, 52.38921208708169, 7.291453119027527, 7.073409797458313, 7.068859657682623, 6.9232246692113435, 12.755354425450456, 6.518692496754018, 6.464530113557078, 6.360494776636191, 23.616813576762418, 7.477748598707243, 5.6291918671533105, 8.320437518614012, 5.4787584564245195, 5.374796094781421, 5.116790584766133, 15.865150019130967, 10.979922719512757, 29.75100627197379, 85.70594193949552, 73.87565369794257, 17.677183242440936, 34.51685563838976, 41.64859055891049, 12.57107709748044, 10.467588249863049, 26.628100520171174, 8.767654708398421, 16.477692118444853, 13.243196805419405, 11.546127685189054, 17.92574527075672, 15.38382345132563, 18.21876677492084, 11.985278089348602, 12.721768158156921, 13.012759997923315, 11.190501890327381, 101.66519180680947, 42.522328590820074, 24.848744440009504, 33.0004045221695, 15.201362782638551, 25.961707236879334, 10.182435241989266, 14.598143225827126, 15.97975769802588, 8.565049603549184, 12.654250138181633, 8.37789920316544, 9.104863481929028, 7.459630394419878, 8.845773960853712, 8.769017253687311, 6.792839384951392, 9.496029401134418, 28.218076375512624, 8.862934191718143, 18.865514545149253, 5.865283160275451, 5.583979113675591, 5.5366466669001015, 5.503328550325951, 4.849212494314036, 4.784648700985277, 5.562346360931832, 5.25686092638473, 4.421892415453291, 20.032179398512717, 28.309567125359955, 60.23406500437607, 11.64183125315612, 9.022047035741263, 11.149154604006828, 15.957086176719933, 11.675355647601743, 13.843950225709138, 14.808138641912775, 11.575346386492766, 12.378539648855249, 15.750130829427906, 15.38599332986368, 10.723823033911861, 9.828354774564087, 9.73446503591442, 9.30539596989673, 40.047679977291246, 20.132460014917687, 12.283534661217693, 7.43774624130237, 12.429320924613055, 6.7281101740990925, 18.29674191434212, 7.183588326668873, 6.053484880382153, 5.109028174021356, 10.702184545401959, 8.60780350305667, 4.916247448208683, 6.294407720006445, 4.011963674416313, 4.009525463076825, 6.492801208838501, 3.798376945767125, 26.082639683465082, 3.6464954793542446, 3.53368143327253, 10.299341620556662, 4.070710035298675, 5.84490677633439, 3.3419190573176145, 3.238923296332002, 4.909573930358281, 3.0899380676736357, 3.689717650604531, 2.8311230771268727, 13.576420335369203, 35.099841061675946, 13.68066381397563, 11.17181812652618, 6.062262160257276, 23.07573616327371, 6.257766099236282, 8.802134672297052, 10.614907445636831, 5.793834655125171, 8.682331759001443, 12.74908802168013, 22.237199198526106, 10.545615572433567, 20.315500784332755, 9.525062685473362, 21.10968960615122, 9.436791383290615, 11.982809455857861, 13.468824987392635, 14.633063238776618, 13.181658742081897, 16.14488568886671, 14.116181599140026, 11.39007807233975, 8.696522687971484, 49.212304408715525, 24.721044778721556, 24.35026513191991, 24.015824834373348, 22.8026354009421, 40.03715081865409, 32.03185406431624, 11.26290939041712, 21.79553208907851, 6.769232292571168, 6.3561846575677885, 32.57802175964505, 6.052310823947449, 10.324891638811271, 11.245601276283713, 8.928614655044104, 7.487312705283103, 4.894931722144482, 5.926354903138071, 38.789512586151524, 7.776322803099277, 4.303096188361181, 4.1601808300084, 3.9861324379214693, 3.9181416158718045, 3.876396806082453, 3.80006212951715, 3.7130291603124372, 4.372471522118028, 3.508088064994831, 8.944074282210753, 10.152503134752406, 18.89644843857169, 23.570094884651276, 13.683462493384251, 31.795590374127915, 20.651642455813615, 7.106831681449265, 30.99670982067454, 14.411786179908535, 10.79200824312692, 32.00023454474164, 45.52970883762306, 30.405195307069256, 10.911795854753562, 33.63918117039101, 41.87722677215306, 13.254823110172099, 33.777663375699966, 14.596824297057513, 18.211637045983615, 18.932273560010596, 12.057933424410313, 12.799934412612734, 12.913660432678414, 11.52892347560848, 6.023301327526288, 4.921730344605591, 4.776852000685442, 3.439382295391494, 3.133486520756301, 6.788211982954976, 6.674633809927446, 3.140013675425955, 2.5371441503980408, 2.768462166020312, 2.9090802196257224, 2.2874931991194853, 2.276792145379283, 2.274807390256988, 2.166838200575516, 9.615888495456748, 2.3578444431495544, 2.063418310428402, 2.052149106314106, 3.4734244286537175, 2.3930897095215387, 1.9773876762000073, 1.968965107820162, 1.9659190710447605, 1.8938699880274137, 5.10985134941182, 1.851990552678892, 1.847592225175674, 2.175061647173352, 3.2038092032975123, 2.879266841634766, 4.337153629028996, 4.594721670460179, 2.354480218933449, 3.0649436975462163, 2.67233679754926, 3.2217208211513526, 3.3270581738075613, 5.624073069775358, 4.189381830308368, 3.266901736670374, 11.78455291734507, 4.140903893351889, 2.966817200821025, 2.9957304657395776, 5.10796360377122, 4.240874308000615, 5.527762774100409, 3.764316576931728, 3.862397049961194, 3.4280890524380156, 3.1897712581331894, 3.3609783588429165, 38.83888050120895, 35.22133820718897, 31.77795235448454, 36.120941597844904, 34.5760178924953, 32.0996467896082, 14.843347689769407, 10.678591847611306, 33.66749727449879, 5.6635007509478426, 5.223550482776669, 5.105387600568091, 4.586845274341799, 3.6733663510111727, 3.664099461718867, 3.985554861693334, 3.5299685943315366, 3.4065323187291225, 3.2607046742923997, 4.055487174500305, 3.147243637988499, 2.9523799894200367, 2.878041106894298, 2.8532599663000684, 2.8344533487982546, 2.8344533487982546, 2.776649083192676, 2.5221858894959888, 32.02249417250191, 2.432018606794823, 34.653057834601185, 73.27819686956451, 30.425376062809708, 30.06625007272101, 6.709152118267648, 50.17868484673627, 6.288026727652832, 26.355987618815433, 17.953669344438424, 24.282827802457632, 26.114039749438632, 5.2788149640610245, 6.876267090047755, 9.783315019227304, 14.421575983804647, 7.453107046363359, 4.660005349661421, 4.022236999297649, 104.43673334032528, 3.427342875073468, 14.522460228311923, 4.082986604003581, 4.387931335645785, 2.645966864840448, 2.7230665645892715, 2.3313996687081504, 3.227873708332442, 2.299315853171278, 4.244493802426586, 5.429161323271945, 2.2258119964113763, 2.9613228932344797, 2.040628068651121, 3.760876426466897, 1.915673450013116, 1.890513523333522, 14.544090647642934, 4.174554229085054, 2.1578611867128217, 3.4265030152078175, 40.97154631522286, 1.8809040784405857, 1.635677523772331, 1.6082142984789514, 3.1285521594251087, 1.847822669024406, 2.868065528318391, 3.640582976751906, 14.397318063608779, 8.448970427439463, 3.904771994406321, 6.339094348343495, 7.290367616128475, 3.9980645871306955, 16.259195546653256, 4.971749411701067, 4.321105359707579, 4.31817138375006, 5.368668527517248, 5.756012190335508, 5.8546464646202105, 5.989537235444743, 6.849354947453162, 4.776381367295095, 4.2188584224212535, 5.2355637698286674, 4.3887076703888805, 17.7462146466247, 13.75160395573695, 13.494208764456529, 12.640145659123856, 11.011038203213486, 9.321267287904842, 16.607836149005777, 5.088912822089915, 4.670176916058345, 5.882451171073789, 3.4546610595042533, 3.3918442899043764, 3.273339560720895, 3.2709423820963153, 3.258253393804064, 3.2487677547367295, 2.906305518782811, 2.6227132895831735, 2.614285203405367, 4.302924660989809, 2.1731152142095564, 2.1276148988840964, 3.462336725339176, 3.4250123812114763, 2.012926527614425, 1.992219124986404, 1.9488517728585442, 2.306607920604242, 1.9023740576700727, 1.9001399700884338, 6.299138922711647, 2.1824234925774, 13.985350843404653, 4.615082657963439, 4.88652799457545, 25.196104486801943, 28.630039449063865, 21.7124557191503, 6.320721680012195, 3.4813999999723153, 6.094603426780908, 3.4323205004836423, 4.294218585668786, 3.467157114701692, 11.616983554666266, 8.720475995740372, 5.0049029490470645, 4.946379120252273, 4.826757034831979, 4.206366950467709, 3.4926733284417573, 3.1024301907467065, 4.042140346729023, 2.7819155266381435, 2.2217714813510603, 2.083522046631782, 5.8128408966268905, 1.827788930230583, 3.9678426382580616, 1.786033271694379, 1.780007981479047, 1.761670670301461, 1.6979020427106268, 1.6979020427106268, 1.6639164265721949, 2.059845973956153, 1.6321849605133405, 1.5360607502930073, 1.8383127842707612, 1.5083233375968736, 1.4922060441957585, 1.9678412207568048, 1.4205051354473577, 2.274731818016102, 8.814345903568269, 2.785855991218184, 2.7301673081066697, 3.9092770936623897, 2.8102549572221105, 2.2660624215717484, 3.1346617958656986, 2.273312511795626, 4.895677219389131, 2.6981376722201906, 2.4802481794394637, 2.52721518403038, 2.609407555226434, 9.227705061679039, 7.367226494380859, 6.354209361033496, 5.996957229189385, 5.813616171760702, 5.621227062546498, 8.334871793092228, 4.0256026762834605, 3.736554334055544, 11.208134611397229, 3.4852561935837576, 3.2448552863317777, 3.1741723558841017, 2.759154360687079, 4.715147422642265, 2.4065009544668428, 3.1405000097675746, 3.966068647517701, 2.0129286206264863, 1.790495891412857, 1.6883586801935715, 1.6678473869130577, 1.6019201358753017, 1.6019201358753017, 1.5394752850381699, 1.5394752850381699, 1.5129121055584782, 5.486321808606762, 1.3839014652422708, 1.3797121284948044, 3.453851598889169, 3.2776327672798238, 13.476210387351173, 3.4449307392434414, 6.5669590724765134, 1.9419618687568074, 7.383971839142417, 19.09296392405659, 5.911668708864526, 8.56530443780669, 10.341002938198457, 5.376354386732072, 5.140375931661145, 6.21644533733752, 7.197564385215, 4.918090729079979, 4.846065951525087, 3.5421249681601124, 13.010520023816909, 2.7935982559855534, 2.5459847418349857, 2.490541370261212, 2.3809183649925676, 2.3654777095302384, 2.2331653841796086, 2.1015676514952775, 2.0465715833497162, 1.9153855975378995, 1.8798473489246506, 2.1412588543993576, 3.2695279205806074, 1.75233266014238, 3.479354455396318, 1.653693090093413, 1.646200902333919, 1.5382339623927526, 1.4946915358914705, 1.4813717974127856, 1.472053744880554, 1.4541771639215688, 1.4161411271155802, 1.3952980041210608, 1.771091284500933, 1.6892378770095118, 2.183355930393712, 1.341731403583117, 1.3167790442699112, 1.244342548884396, 8.324220091301648, 1.812977092025677, 2.9584397809664407, 1.7086693696752395, 1.5856755565088736, 1.7401526848046336, 4.818496837259356, 1.8713393635444768, 3.7506945972466643, 1.5940087420786508], \"Total\": [123.0, 119.0, 102.0, 117.0, 115.0, 114.0, 114.0, 96.0, 81.0, 77.0, 58.0, 49.0, 83.0, 39.0, 57.0, 49.0, 50.0, 37.0, 49.0, 35.0, 50.0, 35.0, 37.0, 41.0, 41.0, 44.0, 32.0, 40.0, 33.0, 82.0, 40.72315480437765, 36.72445253268188, 30.014406173000914, 38.87293685718253, 29.733794494392814, 34.24227476470886, 14.837071564000762, 14.12096827319794, 20.531972206335823, 26.476676562001074, 34.21101591199184, 28.065853457223835, 9.91591068950491, 9.163592227045603, 38.290124772287484, 25.783035750048796, 8.773942341887839, 28.133329705555315, 8.47932401855764, 9.609376338746802, 8.295933852452452, 17.94655193357318, 8.066623021859982, 7.975109629615922, 7.565671532352956, 11.315788668418609, 10.498120575373985, 7.321265706155838, 7.308117988973363, 7.255021944764827, 13.253049831922903, 9.230507389537804, 22.315033337562618, 21.297142593807536, 66.10745966851347, 47.60014822283694, 38.92411813093709, 20.33579445724654, 31.459216962967197, 73.98575325721686, 17.111457371973753, 31.65314874128573, 36.04483767308385, 34.273553156403274, 29.781270299277228, 34.63366830888357, 31.718941404905458, 39.14783256348564, 31.96237155395435, 34.1395055019681, 71.77984071851348, 49.1292404819788, 78.41575986349345, 59.134388010794794, 72.60000777065186, 114.41602199816877, 54.56216087786946, 42.683820873108985, 35.12921512255544, 25.409800554644168, 22.310106745870236, 22.14886759444966, 18.952974220273596, 19.7779893716178, 12.101331769322456, 15.930887757520102, 33.896451618688545, 12.592254185411184, 11.004108464229066, 17.667641210732523, 10.40711464607651, 10.058630456400552, 19.851700048325984, 9.562073139117233, 43.15348089959521, 19.663549911138002, 11.166012986465983, 8.360770232768322, 7.824391439464575, 18.882098359466024, 9.633506818685044, 8.803855419200323, 7.395112088188702, 7.17246473567899, 8.048347682760463, 17.778956542289126, 13.171747472246448, 14.368786438569526, 21.521014530975528, 35.67897771474641, 12.151316210703152, 16.5407537187433, 18.044319565000805, 21.281672205565858, 25.107862400605843, 26.584615438290562, 71.77984071851348, 78.41575986349345, 41.99465789421442, 72.60000777065186, 27.586111162996573, 28.3397294804476, 44.72153470687815, 73.98575325721686, 66.30840004846239, 77.33833746501602, 39.826186001042146, 12.165652185519152, 14.717295733500473, 9.87814648434141, 11.810664429713313, 8.705078070583374, 6.875335749027812, 7.444409317697262, 6.2772238627757915, 6.236043585966469, 10.282599727090423, 8.989913976723084, 5.374813810801887, 9.35963533803343, 15.342395329489435, 5.115372576623092, 7.1275983513705174, 5.075807288197011, 6.934913601374395, 4.961171750123367, 6.687170926679637, 16.707034899386993, 4.702681516216549, 10.293820621372541, 4.644196492143254, 4.572938605429731, 4.510074449199374, 4.4936188852048575, 4.481387122751628, 4.459635257557857, 5.342904092392176, 8.056386921701394, 9.631137390763172, 6.379863522307505, 7.318544165289592, 10.75340612057707, 55.93990507606305, 11.973412923397307, 55.34501724573129, 16.58511444855459, 16.79505279656523, 9.350787283836667, 44.23809635696822, 32.43880101956954, 18.620398789300282, 21.22289155475825, 20.034169744844412, 18.464736160138354, 44.72153470687815, 27.29765494586921, 12.087327274322455, 27.92713784166551, 17.62369756870065, 28.631723082215316, 82.44986650197808, 73.65489194271224, 75.14768919390598, 66.30840004846239, 55.59567793127229, 59.134388010794794, 47.87570716125513, 50.31620983652185, 38.79148645409381, 19.49259314559598, 13.3444732699236, 12.429898962382364, 12.127155175832906, 11.583507639243459, 14.892532358324328, 11.054068068525869, 9.233559781376131, 9.168381741690526, 9.124356633579485, 12.96150897108598, 11.368052697361028, 57.252512177774676, 8.020009480613652, 7.801971127449677, 7.797410975908436, 7.651776274231037, 14.161559982335659, 7.247243897877298, 7.193082375906799, 7.089051049506082, 26.335766648108248, 8.442401380590827, 6.357743423431685, 9.41260877518661, 6.20731517038624, 6.103356429579769, 5.845347812777079, 18.374297004642543, 12.824296520586927, 36.719532848082096, 115.36508140432909, 117.931042327132, 23.728986514413222, 62.112119014245096, 81.50360584105397, 17.610122812571564, 13.74907543390938, 61.01673594419397, 10.798909073844248, 30.53295778638256, 22.560355904930553, 18.133262880734833, 47.78638641981923, 38.49072990497798, 75.93621893954382, 31.3519855663257, 65.5942985009405, 82.44986650197808, 21.7652728979147, 102.39288643482179, 44.02829677672313, 25.887973448353854, 34.5185498362423, 15.92906132047904, 27.698097542149842, 10.910129297830874, 15.723863209814374, 17.31910975406197, 9.292745592185472, 13.743573968061057, 9.105593397106361, 9.926657814546445, 8.187324417823516, 9.71482457523782, 9.68469379828572, 7.520533275554573, 10.518570124712626, 31.639352571262723, 9.952085560375536, 21.18919796874841, 6.592977424325054, 6.311673147440493, 6.264340676304841, 6.231022782478081, 5.576906847877948, 5.512342659956019, 6.426342638183698, 6.092116579750493, 5.149586387501274, 24.20835129036813, 34.708614526510765, 77.33833746501602, 13.952404681758297, 10.702690410167175, 13.413922036341111, 19.8365925609636, 14.203570698636527, 17.375471204932538, 21.44702481608581, 15.545483575246589, 32.418549658464144, 72.60000777065186, 78.41575986349345, 22.29304702328636, 19.588295280343225, 31.578889948123095, 28.631723082215316, 40.77531410126792, 20.860092603242073, 13.22315250055572, 8.165377048025153, 13.72068905291021, 7.455743724706083, 20.281988824384793, 8.16347248108266, 6.913410517635842, 5.83666064500806, 12.265425725346644, 10.07295576560251, 5.754898335498376, 7.3977573207789735, 4.739594507266264, 4.737158357483428, 7.7351993174916025, 4.526007696884453, 31.25610749066726, 4.374127937860248, 4.261316324471863, 12.451683604249009, 4.92862953302703, 7.0910063473165055, 4.06955274343957, 3.9665598508212767, 6.021145909352449, 3.8175691561490495, 4.573198482465275, 3.558757855894693, 17.977096110219403, 48.84646943296155, 18.731627422780512, 15.4018391493083, 7.883937322260453, 36.0026643328755, 8.195384384049321, 12.37723567703543, 16.126239705647194, 7.743937367670871, 13.448719232391996, 22.98304669183705, 51.543204220316035, 17.962214908162917, 49.1292404819788, 15.937859648911486, 73.65489194271224, 18.854542586577914, 31.705171640072635, 51.40703046724572, 69.49364304575023, 59.134388010794794, 114.30189510240277, 83.8023670631262, 47.87570716125513, 26.584615438290562, 49.9407371469931, 25.449482102746348, 25.07869508772985, 24.744254809329394, 23.531065938317436, 41.69213356552538, 33.459150294095835, 11.99134308177605, 23.474567485632548, 7.49766241319624, 7.0846145370006095, 36.32439847227892, 6.780740726707751, 11.60004905586367, 12.688816746071124, 10.234017744759884, 8.586200137103198, 5.623367607824895, 6.840589210967599, 45.14170968890437, 9.067090392433176, 5.031526932560758, 4.888616817201051, 4.714567519646941, 4.646585633314423, 4.604826764270686, 4.5285003975144065, 4.441459228389409, 5.23090099828009, 4.2365336941877825, 10.93565401822291, 12.768295672453247, 24.86819273466672, 32.71696313246407, 18.166429623370696, 45.895820177049856, 28.79188814948994, 8.902449871708784, 47.20482094889162, 19.888008577663157, 14.472431923990827, 60.72128538128938, 96.64465423293439, 65.5942985009405, 15.17704747334446, 83.8023670631262, 119.92891923351203, 21.141905656198865, 114.30189510240277, 26.219278380653478, 49.74040207257999, 73.65489194271224, 21.26553686470598, 27.99095932957715, 50.3788774651182, 12.257543258342762, 6.88298965435841, 5.650368773232847, 5.505471004406436, 4.1680010691392075, 3.8621093918475293, 8.382231554859938, 8.498180325773884, 4.001336068538472, 3.2657628699719425, 3.6072487938309825, 3.7945588181841803, 3.0161182986425232, 3.0054107102516565, 3.003426611260823, 2.895463055830507, 12.900025868707212, 3.1884468156552446, 2.7920367752030226, 2.780769315239738, 4.707833580432302, 3.24655039709496, 2.7060220205472567, 2.697583600617617, 2.6945394800879345, 2.62249400350025, 7.0885506655612005, 2.580616554715117, 2.5762197353776566, 3.040897038168494, 4.484233908769612, 4.082988346011106, 6.447189387357096, 6.994620677867804, 3.342115497964252, 4.641498678602051, 3.9197605276936844, 4.938818379439621, 5.202894756683759, 10.410961590961517, 7.461021860464651, 5.261167759396332, 36.0026643328755, 7.786466498932782, 4.6412027265079185, 4.745534952060487, 15.609188140571543, 13.043039906495405, 35.67897771474641, 22.98304669183705, 82.44986650197808, 23.597311683408336, 11.545969147667952, 27.586111162996573, 39.56941136396321, 35.95185855538492, 32.50847374253068, 37.06954485780874, 35.647882371067716, 33.54748260821235, 15.573868688117233, 11.409115347249896, 37.15301573205058, 6.394020765545685, 5.954070492944204, 5.835907585581725, 5.317365272113503, 4.403887349575929, 4.394619477142029, 4.809751218725562, 4.2604895986939715, 4.137057679678266, 3.9912346860431187, 4.984760565558421, 3.8777636513309752, 3.6829000281659585, 3.6085623479101, 3.5837799743974244, 3.564973380845882, 3.564973380845882, 3.507169095923467, 3.252706128381861, 41.54712626491338, 3.1625401652407006, 49.49783823289425, 119.92891923351203, 49.71987244290613, 50.3788774651182, 9.692882795120676, 114.30189510240277, 9.459403698297162, 82.44986650197808, 49.74040207257999, 83.8023670631262, 96.64465423293439, 8.406702593711818, 17.307251100854273, 75.93621893954382, 15.787632014983748, 8.182170009924713, 5.38906639639465, 4.7512998915867435, 123.90057931421916, 4.156404237968237, 18.260767324827064, 5.134968704675982, 5.573837219470282, 3.375027753386687, 3.5734041596853294, 3.060465199877789, 4.244363378350162, 3.028376895329155, 5.592700315110143, 7.201143192177408, 2.9548744634847433, 3.9386607542986627, 2.769689136726911, 5.157440185795297, 2.6447343936668615, 2.6195756295863117, 20.17048595177965, 5.8135942217826475, 3.044365506135338, 4.859490540210936, 58.542808270246084, 2.711607029807492, 2.364738579481596, 2.3372805840159834, 4.667697970025969, 2.7044221377485385, 4.414903855164592, 5.793231927189552, 29.043807985020855, 15.609188140571543, 6.382731606849254, 12.18711602845611, 17.467897087341168, 7.298679884031833, 73.65489194271224, 11.22858691390175, 9.21776055199608, 10.384372335211161, 17.62369756870065, 27.93995844876731, 38.66351715339914, 44.23809635696822, 83.8023670631262, 21.22289155475825, 13.485119057535337, 114.30189510240277, 23.597311683408336, 18.477397365287644, 14.482786841476253, 14.225391483368465, 13.371329534374395, 11.742221976329342, 10.052450948925175, 18.801062439182346, 5.8200955893667, 5.401359832010291, 7.096032254694428, 4.1858460018782315, 4.123026987166588, 4.00452499278826, 4.002125086705435, 3.9894360989537936, 3.9799505108556836, 3.6374882056862554, 3.3538982171754457, 3.345472817914297, 5.577220645831998, 2.9042994141103797, 2.858798461360801, 4.692087627475673, 4.66456155750847, 2.7441116651229303, 2.723401849757217, 2.6800345810731128, 3.1905889685352524, 2.6335610538799994, 2.631322724094177, 9.566804818690473, 3.0550372786709685, 25.527933113483773, 8.01391090397882, 8.919046864419528, 81.50360584105397, 117.931042327132, 115.36508140432909, 22.560355904930553, 7.176455112488509, 36.719532848082096, 10.676282265683827, 61.01673594419397, 12.902707540682854, 12.347199174153676, 9.844721195602409, 5.735119257896759, 5.676596447237911, 5.556976401247194, 4.936584235260151, 4.222889140968289, 3.832643343690668, 5.002522034008224, 3.5121285265605926, 2.9519845686553174, 2.8137351659433976, 8.026500027160967, 2.5580021463372398, 5.573635361106855, 2.516254450446069, 2.5102276838235262, 2.4918835567497086, 2.4281169655306276, 2.4281169655306276, 2.3941292984745317, 2.977633338482018, 2.362405704508969, 2.2662784439699175, 2.718592081749036, 2.2385397676754297, 2.222421931644709, 2.957620541918092, 2.1507204654109167, 3.45140156763806, 14.068242622521039, 4.67296456134734, 5.41092695977766, 9.923182078099066, 6.06754687687472, 4.189114397568486, 7.767701384470385, 4.248890813040028, 22.593827831574703, 6.274137793648368, 6.203463269242818, 7.87113706833728, 9.38656761345713, 9.959657211705348, 8.099178974139475, 7.086161413242676, 6.728907780989373, 6.54556622823829, 6.3531773534052265, 9.46737488834608, 4.757553257294442, 4.4685044659428605, 13.437382556076901, 4.217206122124411, 3.976806862819277, 3.906122530189155, 3.491105463727821, 6.028418389104559, 3.138451586586962, 4.129900058300015, 5.404428782138734, 2.74487868566556, 2.522446788944817, 2.42030866749048, 2.3997973154534784, 2.333870064415945, 2.333870064415945, 2.2714271416788088, 2.2714271416788088, 2.2448622297812055, 8.314641464025076, 2.1158546074742612, 2.111662120711012, 5.319876338262855, 5.080785902057689, 22.730250448769432, 5.472578446396666, 11.247289493086258, 3.0167583941931055, 21.685028806305553, 96.64465423293439, 18.133262880734833, 49.49783823289425, 81.50360584105397, 23.728986514413222, 21.478169844295905, 50.3788774651182, 117.931042327132, 41.54712626491338, 114.30189510240277, 75.14768919390598, 13.74120666070184, 3.5242853549153983, 3.276672803692994, 3.2212291038030085, 3.1116072552233454, 3.0961654818121733, 2.9638534718225573, 2.8322552392337768, 2.7772677178298286, 2.6460824091642294, 2.6105353995022442, 2.9869452226615065, 4.591041058261298, 2.4830211192725633, 4.945202523603227, 2.3843831799859716, 2.376888833674461, 2.2689265494829143, 2.2253844476193017, 2.212061048660499, 2.202741257097013, 2.184866294137576, 2.146829288812805, 2.12598569379531, 2.7014122207961395, 2.579918535688054, 3.345752479316891, 2.0724214672911527, 2.0474667992063122, 1.975029685335214, 16.977588619473803, 3.014785336334118, 5.876634264055461, 2.8983394849476305, 2.6893555634617896, 3.718713601136299, 115.36508140432909, 5.17794521845383, 81.50360584105397, 7.816583586298026], \"Category\": [\"Default\", \"Default\", \"Default\", \"Default\", \"Default\", \"Default\", \"Default\", \"Default\", \"Default\", \"Default\", \"Default\", \"Default\", \"Default\", \"Default\", \"Default\", \"Default\", \"Default\", \"Default\", \"Default\", \"Default\", \"Default\", \"Default\", \"Default\", \"Default\", \"Default\", \"Default\", \"Default\", \"Default\", \"Default\", \"Default\", \"Topic1\", \"Topic1\", \"Topic1\", \"Topic1\", \"Topic1\", \"Topic1\", \"Topic1\", \"Topic1\", \"Topic1\", \"Topic1\", \"Topic1\", \"Topic1\", \"Topic1\", \"Topic1\", \"Topic1\", \"Topic1\", \"Topic1\", \"Topic1\", \"Topic1\", \"Topic1\", \"Topic1\", \"Topic1\", \"Topic1\", \"Topic1\", \"Topic1\", \"Topic1\", \"Topic1\", \"Topic1\", \"Topic1\", \"Topic1\", \"Topic1\", \"Topic1\", \"Topic1\", \"Topic1\", \"Topic1\", \"Topic1\", \"Topic1\", \"Topic1\", \"Topic1\", \"Topic1\", \"Topic1\", \"Topic1\", \"Topic1\", \"Topic1\", \"Topic1\", \"Topic1\", \"Topic1\", \"Topic1\", \"Topic1\", \"Topic1\", \"Topic1\", \"Topic1\", \"Topic1\", \"Topic1\", \"Topic1\", \"Topic2\", \"Topic2\", \"Topic2\", \"Topic2\", \"Topic2\", \"Topic2\", \"Topic2\", \"Topic2\", \"Topic2\", \"Topic2\", \"Topic2\", \"Topic2\", \"Topic2\", \"Topic2\", \"Topic2\", \"Topic2\", \"Topic2\", \"Topic2\", \"Topic2\", \"Topic2\", \"Topic2\", \"Topic2\", \"Topic2\", \"Topic2\", \"Topic2\", \"Topic2\", \"Topic2\", \"Topic2\", \"Topic2\", \"Topic2\", \"Topic2\", \"Topic2\", \"Topic2\", \"Topic2\", \"Topic2\", \"Topic2\", \"Topic2\", \"Topic2\", \"Topic2\", \"Topic2\", \"Topic2\", \"Topic2\", \"Topic2\", \"Topic2\", \"Topic2\", \"Topic2\", \"Topic2\", \"Topic2\", \"Topic2\", \"Topic2\", \"Topic2\", \"Topic2\", \"Topic3\", \"Topic3\", \"Topic3\", \"Topic3\", \"Topic3\", \"Topic3\", \"Topic3\", \"Topic3\", \"Topic3\", \"Topic3\", \"Topic3\", \"Topic3\", \"Topic3\", \"Topic3\", \"Topic3\", \"Topic3\", \"Topic3\", \"Topic3\", \"Topic3\", \"Topic3\", \"Topic3\", \"Topic3\", \"Topic3\", \"Topic3\", \"Topic3\", \"Topic3\", \"Topic3\", \"Topic3\", \"Topic3\", \"Topic3\", \"Topic3\", \"Topic3\", \"Topic3\", \"Topic3\", \"Topic3\", \"Topic3\", \"Topic3\", \"Topic3\", \"Topic3\", \"Topic3\", \"Topic3\", \"Topic3\", \"Topic3\", \"Topic3\", \"Topic3\", \"Topic3\", \"Topic3\", \"Topic3\", \"Topic3\", \"Topic3\", \"Topic3\", \"Topic3\", \"Topic3\", \"Topic3\", \"Topic3\", \"Topic3\", \"Topic3\", \"Topic3\", \"Topic3\", \"Topic3\", \"Topic4\", \"Topic4\", \"Topic4\", \"Topic4\", \"Topic4\", \"Topic4\", \"Topic4\", \"Topic4\", \"Topic4\", \"Topic4\", \"Topic4\", \"Topic4\", \"Topic4\", \"Topic4\", \"Topic4\", \"Topic4\", \"Topic4\", \"Topic4\", \"Topic4\", \"Topic4\", \"Topic4\", \"Topic4\", \"Topic4\", \"Topic4\", \"Topic4\", \"Topic4\", \"Topic4\", \"Topic4\", \"Topic4\", \"Topic4\", \"Topic4\", \"Topic4\", \"Topic4\", \"Topic4\", \"Topic4\", \"Topic4\", \"Topic4\", \"Topic4\", \"Topic4\", \"Topic4\", \"Topic4\", \"Topic4\", \"Topic4\", \"Topic4\", \"Topic4\", \"Topic4\", \"Topic4\", \"Topic4\", \"Topic4\", \"Topic4\", \"Topic4\", \"Topic4\", \"Topic5\", \"Topic5\", \"Topic5\", \"Topic5\", \"Topic5\", \"Topic5\", \"Topic5\", \"Topic5\", \"Topic5\", \"Topic5\", \"Topic5\", \"Topic5\", \"Topic5\", \"Topic5\", \"Topic5\", \"Topic5\", \"Topic5\", \"Topic5\", \"Topic5\", \"Topic5\", \"Topic5\", \"Topic5\", \"Topic5\", \"Topic5\", \"Topic5\", \"Topic5\", \"Topic5\", \"Topic5\", \"Topic5\", \"Topic5\", \"Topic5\", \"Topic5\", \"Topic5\", \"Topic5\", \"Topic5\", \"Topic5\", \"Topic5\", \"Topic5\", \"Topic5\", \"Topic5\", \"Topic5\", \"Topic5\", \"Topic5\", \"Topic5\", \"Topic5\", \"Topic5\", \"Topic5\", \"Topic5\", \"Topic6\", \"Topic6\", \"Topic6\", \"Topic6\", \"Topic6\", \"Topic6\", \"Topic6\", \"Topic6\", \"Topic6\", \"Topic6\", \"Topic6\", \"Topic6\", \"Topic6\", \"Topic6\", \"Topic6\", \"Topic6\", \"Topic6\", \"Topic6\", \"Topic6\", \"Topic6\", \"Topic6\", \"Topic6\", \"Topic6\", \"Topic6\", \"Topic6\", \"Topic6\", \"Topic6\", \"Topic6\", \"Topic6\", \"Topic6\", \"Topic6\", \"Topic6\", \"Topic6\", \"Topic6\", \"Topic6\", \"Topic6\", \"Topic6\", \"Topic6\", \"Topic6\", \"Topic6\", \"Topic6\", \"Topic6\", \"Topic6\", \"Topic6\", \"Topic6\", \"Topic6\", \"Topic6\", \"Topic6\", \"Topic6\", \"Topic6\", \"Topic6\", \"Topic6\", \"Topic6\", \"Topic6\", \"Topic6\", \"Topic6\", \"Topic7\", \"Topic7\", \"Topic7\", \"Topic7\", \"Topic7\", \"Topic7\", \"Topic7\", \"Topic7\", \"Topic7\", \"Topic7\", \"Topic7\", \"Topic7\", \"Topic7\", \"Topic7\", \"Topic7\", \"Topic7\", \"Topic7\", \"Topic7\", \"Topic7\", \"Topic7\", \"Topic7\", \"Topic7\", \"Topic7\", \"Topic7\", \"Topic7\", \"Topic7\", \"Topic7\", \"Topic7\", \"Topic7\", \"Topic7\", \"Topic7\", \"Topic7\", \"Topic7\", \"Topic7\", \"Topic7\", \"Topic7\", \"Topic7\", \"Topic7\", \"Topic7\", \"Topic7\", \"Topic7\", \"Topic7\", \"Topic7\", \"Topic7\", \"Topic7\", \"Topic7\", \"Topic7\", \"Topic7\", \"Topic7\", \"Topic7\", \"Topic7\", \"Topic7\", \"Topic7\", \"Topic7\", \"Topic7\", \"Topic8\", \"Topic8\", \"Topic8\", \"Topic8\", \"Topic8\", \"Topic8\", \"Topic8\", \"Topic8\", \"Topic8\", \"Topic8\", \"Topic8\", \"Topic8\", \"Topic8\", \"Topic8\", \"Topic8\", \"Topic8\", \"Topic8\", \"Topic8\", \"Topic8\", \"Topic8\", \"Topic8\", \"Topic8\", \"Topic8\", \"Topic8\", \"Topic8\", \"Topic8\", \"Topic8\", \"Topic8\", \"Topic8\", \"Topic8\", \"Topic8\", \"Topic8\", \"Topic8\", \"Topic8\", \"Topic8\", \"Topic8\", \"Topic8\", \"Topic8\", \"Topic8\", \"Topic8\", \"Topic8\", \"Topic8\", \"Topic8\", \"Topic8\", \"Topic8\", \"Topic8\", \"Topic8\", \"Topic8\", \"Topic8\", \"Topic8\", \"Topic8\", \"Topic8\", \"Topic8\", \"Topic8\", \"Topic9\", \"Topic9\", \"Topic9\", \"Topic9\", \"Topic9\", \"Topic9\", \"Topic9\", \"Topic9\", \"Topic9\", \"Topic9\", \"Topic9\", \"Topic9\", \"Topic9\", \"Topic9\", \"Topic9\", \"Topic9\", \"Topic9\", \"Topic9\", \"Topic9\", \"Topic9\", \"Topic9\", \"Topic9\", \"Topic9\", \"Topic9\", \"Topic9\", \"Topic9\", \"Topic9\", \"Topic9\", \"Topic9\", \"Topic9\", \"Topic9\", \"Topic9\", \"Topic9\", \"Topic9\", \"Topic9\", \"Topic9\", \"Topic9\", \"Topic9\", \"Topic9\", \"Topic9\", \"Topic9\", \"Topic9\", \"Topic9\", \"Topic9\", \"Topic10\", \"Topic10\", \"Topic10\", \"Topic10\", \"Topic10\", \"Topic10\", \"Topic10\", \"Topic10\", \"Topic10\", \"Topic10\", \"Topic10\", \"Topic10\", \"Topic10\", \"Topic10\", \"Topic10\", \"Topic10\", \"Topic10\", \"Topic10\", \"Topic10\", \"Topic10\", \"Topic10\", \"Topic10\", \"Topic10\", \"Topic10\", \"Topic10\", \"Topic10\", \"Topic10\", \"Topic10\", \"Topic10\", \"Topic10\", \"Topic10\", \"Topic10\", \"Topic10\", \"Topic10\", \"Topic10\", \"Topic10\", \"Topic10\", \"Topic10\", \"Topic10\", \"Topic10\", \"Topic10\", \"Topic10\", \"Topic10\", \"Topic10\", \"Topic10\", \"Topic10\", \"Topic10\", \"Topic10\", \"Topic10\", \"Topic10\", \"Topic10\", \"Topic10\", \"Topic10\", \"Topic11\", \"Topic11\", \"Topic11\", \"Topic11\", \"Topic11\", \"Topic11\", \"Topic11\", \"Topic11\", \"Topic11\", \"Topic11\", \"Topic11\", \"Topic11\", \"Topic11\", \"Topic11\", \"Topic11\", \"Topic11\", \"Topic11\", \"Topic11\", \"Topic11\", \"Topic11\", \"Topic11\", \"Topic11\", \"Topic11\", \"Topic11\", \"Topic11\", \"Topic11\", \"Topic11\", \"Topic11\", \"Topic11\", \"Topic11\", \"Topic11\", \"Topic11\", \"Topic11\", \"Topic11\", \"Topic11\", \"Topic11\", \"Topic11\", \"Topic11\", \"Topic11\", \"Topic11\", \"Topic11\", \"Topic11\", \"Topic11\", \"Topic11\", \"Topic12\", \"Topic12\", \"Topic12\", \"Topic12\", \"Topic12\", \"Topic12\", \"Topic12\", \"Topic12\", \"Topic12\", \"Topic12\", \"Topic12\", \"Topic12\", \"Topic12\", \"Topic12\", \"Topic12\", \"Topic12\", \"Topic12\", \"Topic12\", \"Topic12\", \"Topic12\", \"Topic12\", \"Topic12\", \"Topic12\", \"Topic12\", \"Topic12\", \"Topic12\", \"Topic12\", \"Topic12\", \"Topic12\", \"Topic12\", \"Topic12\", \"Topic12\", \"Topic12\", \"Topic12\", \"Topic12\", \"Topic12\", \"Topic12\", \"Topic12\", \"Topic12\", \"Topic12\", \"Topic12\", \"Topic12\", \"Topic12\", \"Topic13\", \"Topic13\", \"Topic13\", \"Topic13\", \"Topic13\", \"Topic13\", \"Topic13\", \"Topic13\", \"Topic13\", \"Topic13\", \"Topic13\", \"Topic13\", \"Topic13\", \"Topic13\", \"Topic13\", \"Topic13\", \"Topic13\", \"Topic13\", \"Topic13\", \"Topic13\", \"Topic13\", \"Topic13\", \"Topic13\", \"Topic13\", \"Topic13\", \"Topic13\", \"Topic13\", \"Topic13\", \"Topic13\", \"Topic13\", \"Topic13\", \"Topic13\", \"Topic13\", \"Topic13\", \"Topic13\", \"Topic13\", \"Topic13\", \"Topic13\", \"Topic13\", \"Topic13\", \"Topic13\", \"Topic13\", \"Topic13\", \"Topic13\", \"Topic13\", \"Topic13\", \"Topic13\", \"Topic13\", \"Topic14\", \"Topic14\", \"Topic14\", \"Topic14\", \"Topic14\", \"Topic14\", \"Topic14\", \"Topic14\", \"Topic14\", \"Topic14\", \"Topic14\", \"Topic14\", \"Topic14\", \"Topic14\", \"Topic14\", \"Topic14\", \"Topic14\", \"Topic14\", \"Topic14\", \"Topic14\", \"Topic14\", \"Topic14\", \"Topic14\", \"Topic14\", \"Topic14\", \"Topic14\", \"Topic14\", \"Topic14\", \"Topic14\", \"Topic14\", \"Topic14\", \"Topic14\", \"Topic14\", \"Topic14\", \"Topic14\", \"Topic14\", \"Topic14\", \"Topic14\", \"Topic14\", \"Topic14\"], \"logprob\": [30.0, 29.0, 28.0, 27.0, 26.0, 25.0, 24.0, 23.0, 22.0, 21.0, 20.0, 19.0, 18.0, 17.0, 16.0, 15.0, 14.0, 13.0, 12.0, 11.0, 10.0, 9.0, 8.0, 7.0, 6.0, 5.0, 4.0, 3.0, 2.0, 1.0, -5.2139, -5.3193, -5.5256, -5.2759, -5.5463, -5.4077, -6.2558, -6.3079, -5.9362, -5.6821, -5.4265, -5.6413, -6.6847, -6.7701, -5.3422, -5.7378, -6.8174, -5.6539, -6.8547, -6.7315, -6.8786, -6.1091, -6.9094, -6.9219, -6.9801, -6.5781, -6.6538, -7.0165, -7.0185, -7.0266, -6.4244, -6.7876, -5.9296, -6.0041, -4.9718, -5.2892, -5.4833, -6.0807, -5.7181, -4.9835, -6.2461, -5.7346, -5.6309, -5.6741, -5.8095, -5.7165, -5.8019, -5.6648, -5.8101, -5.7752, -5.4396, -5.6581, -5.5752, -5.7164, -5.7378, -3.9978, -4.7454, -4.9947, -5.1932, -5.5252, -5.6594, -5.6669, -5.8285, -5.7967, -6.2999, -6.0264, -5.2728, -6.2663, -6.4014, -5.9318, -6.4612, -6.4979, -5.8221, -6.5526, -5.0458, -5.8327, -6.4051, -6.6987, -6.7716, -5.8926, -6.5664, -6.6577, -6.834, -6.8679, -6.7541, -6.014, -6.302, -6.2221, -5.8791, -5.4671, -6.3863, -6.136, -6.0813, -5.9731, -5.8565, -5.8853, -5.3203, -5.3158, -5.6838, -5.4618, -5.9831, -5.9898, -5.8488, -5.7265, -5.793, -5.9426, -5.977, -5.7504, -5.5659, -5.9735, -5.8066, -6.1275, -6.3712, -6.2949, -6.4736, -6.481, -5.9945, -6.1328, -6.651, -6.0977, -5.6038, -6.7085, -6.3769, -6.7175, -6.4075, -6.7443, -6.4482, -5.536, -6.8073, -6.025, -6.8221, -6.8404, -6.8569, -6.8613, -6.8645, -6.8704, -6.6916, -6.2842, -6.1102, -6.517, -6.3851, -6.0201, -4.4898, -5.9364, -4.5274, -5.6795, -5.6786, -6.1949, -4.9138, -5.1773, -5.6716, -5.6212, -5.6759, -5.8037, -5.2669, -5.5688, -6.1173, -5.7409, -5.9605, -5.8819, -5.6179, -5.6667, -5.6943, -5.7435, -5.8365, -5.8835, -5.9267, -4.1924, -4.4627, -5.1559, -5.5529, -5.6281, -5.6543, -5.7032, -5.4526, -5.7532, -5.9472, -5.9549, -5.9601, -5.6093, -5.7432, -4.1291, -6.1011, -6.1315, -6.1321, -6.153, -5.5419, -6.2132, -6.2215, -6.2377, -4.9259, -6.0759, -6.3599, -5.9691, -6.387, -6.4061, -6.4553, -5.3237, -5.6918, -4.695, -3.6369, -3.7854, -5.2156, -4.5464, -4.3586, -5.5564, -5.7395, -4.8059, -5.9168, -5.2858, -5.5043, -5.6415, -5.2016, -5.3545, -5.1854, -5.6042, -5.5445, -5.5219, -5.6728, -3.4469, -4.3186, -4.8558, -4.5721, -5.3472, -4.812, -5.748, -5.3877, -5.2973, -5.9209, -5.5306, -5.943, -5.8598, -6.0591, -5.8887, -5.8974, -6.1528, -5.8178, -4.7287, -5.8867, -5.1313, -6.2996, -6.3487, -6.3572, -6.3633, -6.4898, -6.5032, -6.3526, -6.4091, -6.5821, -5.0713, -4.7254, -3.9704, -5.614, -5.869, -5.6573, -5.2987, -5.6111, -5.4408, -5.3734, -5.6197, -5.5527, -5.3118, -5.3352, -5.6962, -5.7834, -5.793, -5.838, -4.2962, -4.984, -5.478, -5.9797, -5.4663, -6.08, -5.0796, -6.0145, -6.1857, -6.3553, -5.6159, -5.8336, -6.3938, -6.1466, -6.597, -6.5976, -6.1156, -6.6517, -4.725, -6.6925, -6.724, -5.6542, -6.5825, -6.2207, -6.7798, -6.8111, -6.3951, -6.8582, -6.6808, -6.9456, -5.378, -4.4281, -5.3703, -5.5729, -6.1842, -4.8475, -6.1525, -5.8113, -5.624, -6.2295, -5.825, -5.4408, -4.8845, -5.6306, -4.9749, -5.7324, -4.9366, -5.7417, -5.5028, -5.3859, -5.303, -5.4075, -5.2047, -5.339, -5.5536, -5.8234, -4.058, -4.7465, -4.7616, -4.7755, -4.8273, -4.2644, -4.4874, -5.5327, -4.8725, -6.0418, -6.1047, -4.4705, -6.1537, -5.6196, -5.5342, -5.7649, -5.941, -6.366, -6.1748, -4.296, -5.9031, -6.4948, -6.5286, -6.5714, -6.5886, -6.5993, -6.6192, -6.6423, -6.4788, -6.6991, -5.7632, -5.6365, -5.0152, -4.7942, -5.338, -4.4948, -4.9264, -5.9931, -4.5203, -5.2861, -5.5754, -4.4884, -4.1358, -4.5396, -5.5643, -4.4385, -4.2194, -5.3698, -4.4344, -5.2734, -5.0521, -5.0133, -5.4644, -5.4047, -5.3959, -5.0677, -5.7169, -5.9189, -5.9488, -6.2773, -6.3704, -5.5974, -5.6143, -6.3684, -6.5815, -6.4943, -6.4447, -6.6851, -6.6898, -6.6907, -6.7393, -5.2492, -6.6548, -6.7882, -6.7937, -6.2674, -6.64, -6.8308, -6.8351, -6.8366, -6.874, -5.8814, -6.8963, -6.8987, -6.7355, -6.3482, -6.455, -6.0454, -5.9877, -6.6563, -6.3926, -6.5296, -6.3427, -6.3105, -5.7855, -6.08, -6.3287, -5.0458, -6.0917, -6.4251, -6.4154, -5.8818, -6.0678, -5.8028, -6.187, -6.1613, -6.2806, -6.3526, -6.3003, -3.7445, -3.8422, -3.9451, -3.817, -3.8607, -3.9351, -4.7063, -5.0357, -3.8874, -5.6699, -5.7507, -5.7736, -5.8807, -6.1028, -6.1053, -6.0212, -6.1426, -6.1782, -6.222, -6.0038, -6.2574, -6.3213, -6.3468, -6.3554, -6.362, -6.362, -6.3827, -6.4788, -3.9375, -6.5152, -3.8585, -3.1096, -3.9886, -4.0005, -5.5004, -3.4883, -5.5652, -4.1322, -4.5161, -4.2141, -4.1414, -5.7402, -5.4758, -5.1232, -4.7125, -5.3726, -5.8422, -5.9894, -2.7327, -6.1495, -4.7056, -5.9744, -5.9024, -6.4082, -6.3795, -6.5348, -6.2094, -6.5486, -5.9356, -5.6895, -6.5811, -6.2956, -6.668, -6.0566, -6.7312, -6.7444, -4.7041, -5.9522, -6.6121, -6.1497, -3.6684, -6.7495, -6.8892, -6.9061, -6.2407, -6.7672, -6.3276, -6.0891, -4.7142, -5.2472, -6.0191, -5.5345, -5.3947, -5.9954, -4.5926, -5.7775, -5.9177, -5.9184, -5.7007, -5.631, -5.614, -5.5912, -5.4571, -5.8176, -5.9417, -5.7258, -5.9022, -4.1835, -4.4385, -4.4574, -4.5228, -4.6608, -4.8274, -4.2498, -5.4326, -5.5185, -5.2877, -5.8199, -5.8383, -5.8739, -5.8746, -5.8785, -5.8814, -5.9928, -6.0955, -6.0987, -5.6004, -6.2835, -6.3047, -5.8177, -5.8286, -6.3601, -6.3704, -6.3924, -6.2239, -6.4166, -6.4177, -5.2193, -6.2792, -4.4217, -5.5303, -5.4732, -3.833, -3.7052, -3.9818, -5.2158, -5.8122, -5.2523, -5.8264, -5.6024, -5.8163, -4.5002, -4.787, -5.3423, -5.3541, -5.3785, -5.5161, -5.702, -5.8205, -5.5559, -5.9296, -6.1544, -6.2186, -5.1926, -6.3496, -5.5745, -6.3727, -6.3761, -6.3864, -6.4233, -6.4233, -6.4435, -6.2301, -6.4628, -6.5235, -6.3439, -6.5417, -6.5525, -6.2758, -6.6017, -6.1308, -4.7763, -5.9282, -5.9483, -5.5894, -5.9194, -6.1347, -5.8102, -6.1315, -5.3644, -5.9601, -6.0444, -6.0256, -5.9936, -4.6746, -4.8997, -5.0477, -5.1055, -5.1366, -5.1702, -4.7763, -5.5041, -5.5786, -4.4801, -5.6482, -5.7197, -5.7417, -5.8819, -5.346, -6.0186, -5.7524, -5.519, -6.1972, -6.3143, -6.373, -6.3852, -6.4256, -6.4256, -6.4653, -6.4653, -6.4827, -5.1945, -6.5719, -6.5749, -5.6573, -5.7097, -4.2959, -5.6599, -5.0147, -6.2331, -4.8975, -3.9475, -5.1199, -4.7491, -4.5607, -5.2148, -5.2597, -5.0696, -4.923, -5.3039, -5.3186, -5.6321, -4.2559, -5.7943, -5.8871, -5.9091, -5.9541, -5.9606, -6.0182, -6.0789, -6.1055, -6.1717, -6.1904, -6.0602, -5.637, -6.2607, -5.5748, -6.3186, -6.3231, -6.391, -6.4197, -6.4287, -6.435, -6.4472, -6.4737, -6.4885, -6.25, -6.2973, -6.0408, -6.5277, -6.5464, -6.603, -4.7025, -6.2266, -5.737, -6.2859, -6.3606, -6.2676, -5.2492, -6.195, -5.4997, -6.3554], \"loglift\": [30.0, 29.0, 28.0, 27.0, 26.0, 25.0, 24.0, 23.0, 22.0, 21.0, 20.0, 19.0, 18.0, 17.0, 16.0, 15.0, 14.0, 13.0, 12.0, 11.0, 10.0, 9.0, 8.0, 7.0, 6.0, 5.0, 4.0, 3.0, 2.0, 1.0, 1.6395, 1.6376, 1.633, 1.6241, 1.6216, 1.6191, 1.6073, 1.6047, 1.6021, 1.6019, 1.6012, 1.5844, 1.5814, 1.5749, 1.5729, 1.5728, 1.5711, 1.5694, 1.5679, 1.566, 1.5659, 1.5638, 1.5631, 1.562, 1.5566, 1.556, 1.5553, 1.553, 1.5528, 1.552, 1.5516, 1.5502, 1.5254, 1.4976, 1.3972, 1.4083, 1.4154, 1.4672, 1.3935, 1.2729, 1.4744, 1.3708, 1.3446, 1.3518, 1.3569, 1.2989, 1.3015, 1.2282, 1.2857, 1.2546, 0.847, 1.0077, 0.623, 0.7641, 0.5375, 1.8226, 1.8156, 1.8118, 1.8081, 1.7999, 1.7958, 1.7956, 1.7899, 1.779, 1.767, 1.7656, 1.7642, 1.7609, 1.7606, 1.7567, 1.7566, 1.7539, 1.7499, 1.7499, 1.7497, 1.7488, 1.7423, 1.738, 1.7314, 1.7295, 1.7286, 1.7274, 1.7255, 1.7221, 1.7207, 1.6683, 1.6802, 1.6731, 1.6122, 1.5186, 1.6765, 1.6185, 1.5861, 1.5294, 1.4806, 1.3946, 0.9663, 0.8824, 1.1389, 0.8135, 1.2599, 1.2262, 0.911, 0.5299, 0.5729, 0.2695, 0.8987, 2.3113, 2.3053, 2.2964, 2.2847, 2.2689, 2.2611, 2.2579, 2.2498, 2.2489, 2.2353, 2.2314, 2.2275, 2.2261, 2.2258, 2.2195, 2.2194, 2.2182, 2.2162, 2.2144, 2.2119, 2.2085, 2.2049, 2.2037, 2.2026, 2.1997, 2.197, 2.1963, 2.1958, 2.1949, 2.1929, 2.1896, 2.1851, 2.1902, 2.1848, 2.165, 2.0462, 2.1412, 2.0193, 2.0722, 2.0606, 2.1299, 1.8569, 1.9036, 1.9644, 1.884, 1.8869, 1.8407, 1.4929, 1.6846, 1.9509, 1.4898, 1.7305, 1.3238, 0.5302, 0.5942, 0.5465, 0.6225, 0.7056, 0.597, 0.765, 2.4496, 2.4393, 2.4343, 2.4163, 2.412, 2.4105, 2.4075, 2.4068, 2.4043, 2.3903, 2.3896, 2.3892, 2.389, 2.3862, 2.3837, 2.3772, 2.3744, 2.3743, 2.3724, 2.3679, 2.3665, 2.3657, 2.364, 2.3635, 2.3511, 2.3507, 2.3491, 2.3476, 2.3453, 2.3393, 2.3256, 2.3172, 2.262, 2.1753, 2.0047, 2.178, 1.8849, 1.8011, 2.1354, 2.1998, 1.6433, 2.2641, 1.8556, 1.9397, 2.021, 1.4919, 1.5553, 1.045, 1.5108, 0.8323, 0.6262, 1.8072, 2.4845, 2.4568, 2.4507, 2.4467, 2.4449, 2.4269, 2.4226, 2.4174, 2.4112, 2.4101, 2.4091, 2.4084, 2.4052, 2.3986, 2.3979, 2.3923, 2.3899, 2.3894, 2.3772, 2.3757, 2.3755, 2.3747, 2.3692, 2.3682, 2.3675, 2.3518, 2.3501, 2.3473, 2.3442, 2.3393, 2.3023, 2.2879, 2.2417, 2.3106, 2.3208, 2.3067, 2.274, 2.2956, 2.2644, 2.1212, 2.1968, 1.5289, 0.9635, 0.8631, 1.7598, 1.802, 1.3148, 1.3677, 2.556, 2.5385, 2.5003, 2.4806, 2.4751, 2.4713, 2.471, 2.4461, 2.4411, 2.4408, 2.4376, 2.4168, 2.4165, 2.4124, 2.4073, 2.4072, 2.3989, 2.3987, 2.393, 2.392, 2.3867, 2.3842, 2.3827, 2.3807, 2.377, 2.3713, 2.3699, 2.3625, 2.3593, 2.3452, 2.2932, 2.2435, 2.2597, 2.2529, 2.3112, 2.1292, 2.3042, 2.2331, 2.1558, 2.2838, 2.1364, 1.9847, 1.7333, 2.0414, 1.6909, 2.0592, 1.3243, 1.8818, 1.601, 1.2346, 1.016, 1.073, 0.6167, 0.7928, 1.1381, 1.4566, 2.5914, 2.5771, 2.5766, 2.5762, 2.5747, 2.5656, 2.5625, 2.5434, 2.5319, 2.5039, 2.4976, 2.4972, 2.4925, 2.4897, 2.4854, 2.4696, 2.4692, 2.4674, 2.4626, 2.4544, 2.4525, 2.4497, 2.4448, 2.4383, 2.4356, 2.4339, 2.4307, 2.427, 2.4268, 2.4174, 2.4051, 2.3769, 2.3315, 2.2782, 2.3227, 2.2391, 2.2738, 2.3808, 2.1855, 2.284, 2.3127, 1.9656, 1.8534, 1.8372, 2.2762, 1.6933, 1.5539, 2.1392, 1.3871, 2.0204, 1.6013, 1.2476, 2.0387, 1.8237, 1.2448, 2.9864, 2.9143, 2.9096, 2.9057, 2.8555, 2.8386, 2.8368, 2.8062, 2.8053, 2.7952, 2.783, 2.782, 2.7712, 2.77, 2.7698, 2.7578, 2.7539, 2.7459, 2.7453, 2.7439, 2.7436, 2.7427, 2.734, 2.7328, 2.7324, 2.7222, 2.7204, 2.7159, 2.7153, 2.7126, 2.7115, 2.6984, 2.6513, 2.6275, 2.6974, 2.6327, 2.6646, 2.6205, 2.6006, 2.4319, 2.4706, 2.5712, 1.9309, 2.4162, 2.6002, 2.5877, 1.9306, 1.9242, 1.1829, 1.2385, -0.0132, 1.1186, 1.7613, 0.9426, 3.1377, 3.1359, 3.1337, 3.1305, 3.1258, 3.1123, 3.1083, 3.0902, 3.0579, 3.0351, 3.0255, 3.0226, 3.0086, 2.975, 2.9746, 2.9684, 2.9683, 2.9621, 2.9542, 2.9501, 2.9476, 2.9353, 2.9302, 2.9284, 2.9271, 2.9271, 2.9228, 2.902, 2.896, 2.8937, 2.7998, 2.6637, 2.6653, 2.6402, 2.7885, 2.3331, 2.748, 2.0159, 2.1374, 1.9177, 1.8478, 2.6911, 2.2333, 1.1072, 3.0885, 3.0857, 3.0337, 3.0124, 3.0081, 2.9862, 2.95, 2.9498, 2.9398, 2.9357, 2.9073, 2.9069, 2.9053, 2.9036, 2.9032, 2.8966, 2.8957, 2.8938, 2.8735, 2.8632, 2.8565, 2.8529, 2.852, 2.8478, 2.8348, 2.8296, 2.8221, 2.8132, 2.8104, 2.8052, 2.7789, 2.7981, 2.7477, 2.7145, 2.4773, 2.5652, 2.6876, 2.5254, 2.3052, 2.5771, 1.6683, 2.3643, 2.4214, 2.3016, 1.9904, 1.5992, 1.2914, 1.1795, 0.6747, 1.6876, 2.017, 0.0957, 1.4969, 3.4602, 3.4488, 3.4478, 3.4444, 3.4363, 3.4251, 3.3766, 3.3664, 3.3551, 3.313, 3.3086, 3.3054, 3.299, 3.2989, 3.2981, 3.2976, 3.2762, 3.2547, 3.254, 3.2412, 3.2106, 3.2052, 3.1967, 3.1917, 3.1907, 3.188, 3.182, 3.1762, 3.1754, 3.175, 3.0827, 3.1642, 2.8988, 2.9488, 2.8989, 2.3266, 2.085, 1.8304, 2.2282, 2.7772, 1.7047, 2.3658, 0.8467, 2.1865, 3.5466, 3.4863, 3.4714, 3.4699, 3.4667, 3.4475, 3.4177, 3.3962, 3.3944, 3.3745, 3.3234, 3.3071, 3.2849, 3.2714, 3.2677, 3.2648, 3.2638, 3.2608, 3.2498, 3.2498, 3.2437, 3.2391, 3.2378, 3.2186, 3.2163, 3.2127, 3.2092, 3.2001, 3.1928, 3.1906, 3.14, 3.0903, 2.9235, 2.676, 2.8379, 2.9931, 2.7001, 2.9821, 2.0782, 2.7637, 2.6908, 2.4715, 2.3274, 3.5872, 3.5688, 3.5545, 3.5483, 3.5449, 3.5411, 3.5361, 3.4964, 3.4846, 3.4821, 3.4729, 3.4601, 3.456, 3.4282, 3.4178, 3.3979, 3.3896, 3.354, 3.3533, 3.3208, 3.3034, 3.2996, 3.2872, 3.2872, 3.2745, 3.2745, 3.2689, 3.2477, 3.2389, 3.2379, 3.2315, 3.2251, 3.1407, 3.2006, 3.1254, 3.223, 2.5862, 2.0418, 2.5427, 1.9093, 1.599, 2.1788, 2.2336, 1.5711, 0.8671, 1.5296, 0.5028, 0.6088, 3.684, 3.5063, 3.4863, 3.4814, 3.471, 3.4695, 3.4556, 3.4403, 3.4334, 3.4155, 3.4103, 3.4058, 3.3992, 3.3901, 3.3871, 3.3727, 3.3713, 3.35, 3.3406, 3.3377, 3.3356, 3.3315, 3.3226, 3.3175, 3.3165, 3.3152, 3.3118, 3.3039, 3.2972, 3.2767, 3.0259, 3.2301, 3.0523, 3.2102, 3.2104, 2.9792, 0.563, 2.7209, 0.6599, 2.1487]}, \"token.table\": {\"Topic\": [1, 3, 4, 5, 6, 7, 10, 1, 2, 3, 5, 13, 1, 2, 5, 9, 7, 7, 8, 11, 4, 7, 14, 1, 2, 3, 10, 2, 3, 7, 13, 2, 6, 6, 7, 1, 3, 4, 13, 2, 4, 8, 10, 11, 12, 1, 2, 8, 4, 4, 12, 6, 8, 5, 5, 4, 3, 11, 7, 1, 2, 3, 4, 5, 1, 2, 3, 4, 5, 6, 3, 8, 13, 5, 6, 1, 3, 4, 7, 10, 1, 2, 5, 14, 6, 4, 1, 2, 3, 4, 5, 7, 10, 11, 1, 3, 4, 6, 7, 8, 10, 6, 2, 5, 14, 3, 12, 1, 2, 5, 1, 2, 3, 4, 5, 10, 11, 2, 6, 8, 2, 5, 7, 5, 1, 1, 2, 3, 4, 5, 12, 11, 11, 14, 2, 5, 8, 12, 4, 7, 12, 13, 14, 3, 1, 2, 3, 5, 13, 5, 8, 14, 10, 14, 2, 2, 2, 7, 13, 10, 14, 4, 6, 9, 11, 6, 7, 1, 2, 3, 4, 5, 7, 8, 13, 12, 14, 1, 3, 6, 8, 6, 1, 6, 8, 14, 6, 12, 1, 2, 3, 4, 9, 11, 3, 7, 8, 11, 14, 8, 3, 8, 10, 5, 7, 9, 13, 10, 14, 1, 2, 3, 4, 6, 7, 9, 1, 2, 6, 5, 14, 6, 5, 2, 3, 2, 5, 6, 8, 10, 6, 8, 10, 8, 1, 2, 4, 8, 3, 10, 1, 3, 6, 10, 3, 10, 2, 2, 1, 3, 4, 13, 1, 3, 1, 2, 3, 8, 12, 12, 5, 2, 5, 6, 10, 1, 3, 12, 2, 4, 6, 12, 8, 1, 3, 14, 1, 3, 6, 7, 8, 9, 10, 6, 11, 5, 8, 7, 10, 12, 3, 13, 1, 1, 3, 5, 6, 8, 13, 13, 1, 2, 5, 1, 8, 6, 8, 2, 4, 5, 11, 10, 8, 2, 3, 6, 7, 9, 10, 13, 2, 2, 8, 5, 14, 1, 2, 5, 2, 3, 4, 6, 7, 8, 10, 4, 2, 1, 3, 10, 2, 6, 12, 1, 10, 7, 4, 11, 1, 3, 1, 2, 5, 6, 7, 8, 10, 10, 5, 1, 2, 3, 10, 8, 14, 14, 11, 12, 9, 10, 11, 4, 13, 13, 9, 11, 1, 2, 3, 4, 11, 13, 2, 6, 1, 1, 2, 5, 4, 2, 5, 2, 2, 2, 12, 13, 3, 12, 1, 2, 3, 4, 5, 6, 10, 14, 4, 13, 4, 7, 8, 1, 1, 8, 4, 2, 3, 6, 7, 8, 10, 1, 2, 5, 6, 3, 4, 11, 1, 2, 3, 6, 10, 6, 7, 11, 11, 14, 4, 11, 13, 14, 1, 6, 10, 1, 3, 5, 7, 9, 5, 10, 7, 1, 2, 3, 4, 5, 12, 12, 11, 10, 10, 10, 11, 1, 2, 3, 4, 5, 7, 4, 4, 5, 5, 1, 12, 14, 4, 4, 3, 5, 6, 1, 2, 3, 4, 5, 6, 7, 10, 13, 3, 3, 13, 1, 2, 5, 4, 13, 4, 13, 3, 1, 3, 4, 6, 7, 10, 13, 5, 1, 2, 5, 6, 1, 3, 6, 12, 1, 2, 3, 5, 6, 8, 6, 8, 11, 12, 5, 2, 3, 2, 6, 8, 1, 2, 3, 6, 5, 13, 14, 1, 2, 3, 1, 3, 4, 7, 8, 9, 10, 3, 2, 3, 3, 1, 2, 3, 3, 9, 13, 1, 2, 6, 1, 2, 3, 4, 5, 6, 7, 8, 9, 12, 1, 10, 13, 1, 2, 3, 5, 5, 2, 3, 9, 7, 9, 9, 7, 10, 1, 7, 1, 2, 3, 4, 5, 6, 7, 9, 11, 6, 8, 11, 13, 1, 7, 11, 14, 8, 5, 10, 1, 4, 6, 7, 1, 3, 7, 11, 1, 2, 3, 4, 9, 1, 3, 4, 8, 4, 2, 12, 12, 1, 3, 2, 8, 10, 1, 4, 13, 4, 14, 7, 8, 1, 2, 3, 2, 3, 4, 6, 8, 11, 2, 3, 5, 3, 6, 7, 8, 9, 10, 12, 1, 3, 4, 5, 6, 14, 2, 3, 8, 1, 3, 1, 3, 11, 8, 1, 2, 5, 7, 11, 14, 10, 7, 14, 9, 12, 10, 1, 12, 12, 3, 3, 12, 14, 1, 3, 4, 5, 6, 1, 5, 11, 7, 12, 1, 2, 3, 7, 10, 1, 1, 2, 7, 1, 6, 4, 3, 6, 1, 8, 4, 11, 11, 11, 13, 10, 4, 11, 11, 8, 4, 7, 4, 7, 2, 8, 3, 7, 13, 12, 12, 6, 8, 2, 3, 5, 5, 10, 8, 10, 9, 8, 1, 2, 3, 6, 7, 4, 5, 2, 3, 4, 7, 1, 13, 7, 5, 12, 1, 2, 3, 4, 5, 6, 7, 6, 8, 4, 11, 1, 3, 4, 5, 6, 7, 8, 9, 10, 7, 13, 2, 2, 1, 2, 5, 3, 10, 3, 6, 14, 9, 12, 12, 9, 1, 2, 3, 4, 5, 6, 7, 10, 1, 2, 3, 4, 5, 10, 11, 3, 11, 14, 1, 2, 3, 4, 6, 7, 9, 10, 11, 13, 4, 14, 6, 1, 3, 14, 6, 8, 1, 2, 3, 4, 5, 7, 8, 9, 10, 1, 2, 9, 7, 1, 6, 12, 2, 3, 4, 6, 7, 8, 13, 4, 14, 9, 8, 5, 3, 3, 4, 6, 4, 4, 13, 1, 2, 1, 2, 5, 1, 5, 11, 2, 5, 7, 1, 2, 12, 14, 12, 14, 2, 5, 7, 9, 10, 13, 2, 8, 3, 11, 10, 6, 1, 3, 10, 1, 2, 3, 10, 3, 1, 2, 3, 5, 8, 2, 5, 2, 3, 1, 3, 3, 3, 3, 10, 3, 4, 7, 9, 13, 1, 2, 3, 6, 10, 1, 2, 5, 13, 11, 10, 13, 13, 13, 9, 2, 8, 3, 4, 7, 8, 5, 7, 9, 9, 13, 14, 1, 2, 5, 4, 5, 5, 5, 5, 6, 1, 3, 4, 7, 1, 3, 7, 6, 2, 5, 2, 5, 1, 6, 7, 6, 1, 2, 6, 3, 13, 8, 6, 1, 6, 7, 9, 1, 3, 6, 7, 8, 4, 5, 7, 11, 2, 8, 10, 9, 9, 2, 6, 1, 2, 3, 1, 2, 7, 9, 13, 5, 14, 12, 1, 3, 6, 7, 8, 11, 11, 14, 9, 1, 2, 3, 6, 10, 3, 10, 2, 3, 2, 3, 1, 2, 4, 7, 11, 1, 2, 5, 6, 1, 10, 1, 8, 6, 13, 13, 1, 2, 5, 8, 1, 6, 1, 3, 6, 10, 1, 3, 12, 14, 1, 2, 5, 1, 2, 1, 3, 8, 1, 2, 4, 8, 4, 12, 2, 7, 1, 3, 12, 2, 5, 5, 13, 11, 8, 11, 11, 11, 12, 1, 8, 9, 5, 5, 2, 5, 1, 2, 3, 4, 6, 7, 8, 1, 3, 4, 7, 8, 9, 1, 4, 11, 13, 14, 10, 4, 9, 2, 3, 4, 5, 6, 8, 10, 2, 2, 1, 2, 3, 6, 7, 9, 1, 2, 3, 4, 6, 7, 1, 10, 6, 10, 2, 6, 2, 6, 2, 6, 7, 2, 6, 8, 12, 1, 3, 10, 2, 5, 2, 3, 5, 6, 11, 13, 1, 3, 4, 1, 4, 6, 12, 7, 14, 12, 9, 9, 10, 1, 2, 3, 3, 3, 9, 2, 3, 11, 14, 14, 1, 2, 3, 4, 5, 7, 8, 10, 1, 2, 3, 4, 5, 11, 1, 2, 3, 5, 1, 2, 3, 4, 5, 6, 8, 11, 4, 13, 14, 1, 5, 12, 7, 6, 7, 8, 5, 8, 2, 4, 10, 5, 10, 9, 4, 8, 8, 3, 13, 9, 1, 2, 3, 4, 5, 6, 7, 1, 2, 3, 6, 1, 14, 9, 1, 7, 10, 1, 8, 3, 3, 6, 7, 9, 12, 13, 1, 6, 8, 5, 7, 10, 1, 2, 7, 14, 7, 1, 2, 3, 4, 6, 7, 10, 1, 2, 3, 4, 7, 9, 13, 1, 2, 5, 4, 2, 4, 12, 1, 2, 3, 4, 7, 9, 11, 1, 2, 12, 1, 2, 3, 4, 7, 1, 2, 2, 5, 2, 13, 9, 1, 2, 3, 5, 6, 7, 9, 7, 9], \"Freq\": [0.4652834406979424, 0.03579103389984172, 0.07158206779968344, 0.03579103389984172, 0.03579103389984172, 0.10737310169952517, 0.21474620339905034, 0.27935341062560126, 0.13967670531280063, 0.09311780354186708, 0.2327945088546677, 0.2327945088546677, 0.12067609398817072, 0.14078877631953252, 0.10056341165680895, 0.6033804699408537, 0.8608471500710917, 0.8832946116545581, 0.6372357792062229, 0.2124119264020743, 0.11232863025468007, 0.7863004117827604, 0.8054703943017322, 0.057247875631502965, 0.40073512942052075, 0.11449575126300593, 0.40073512942052075, 0.1778206208019635, 0.08891031040098175, 0.08891031040098175, 0.6223721728068723, 0.08152998700513824, 0.8968298570565205, 0.7563228875467112, 0.9823382613079642, 0.17035656320683645, 0.11357104213789096, 0.7382117738962912, 0.8569457359660266, 0.23250933887642236, 0.23250933887642236, 0.07750311295880745, 0.07750311295880745, 0.23250933887642236, 0.07750311295880745, 0.8451838043866866, 0.09390931159852074, 0.04695465579926037, 0.8972091649214002, 0.85538109281893, 0.8825040918169488, 0.15510634788563754, 0.6204253915425502, 0.99616295185631, 0.9165794214728671, 0.8977338788000034, 0.2143824210852821, 0.6431472632558463, 0.9336243237198396, 0.18377899596118707, 0.09188949798059354, 0.1378342469708903, 0.5053922388932645, 0.04594474899029677, 0.3570710791904911, 0.38257615627552616, 0.012752538542517539, 0.012752538542517539, 0.19128807813776308, 0.025505077085035077, 0.9558365499086721, 0.776777583341543, 0.8569457359660266, 0.14102370679423187, 0.8461422407653912, 0.9252318145277674, 0.08042401879940246, 0.04021200939970123, 0.7640281785943234, 0.08042401879940246, 0.6929673110556405, 0.14436818980325844, 0.11549455184260675, 0.881474105213233, 0.8688250788303454, 0.9046443298529068, 0.032199835261477884, 0.14489925867665046, 0.11269942341517258, 0.5634971170758629, 0.032199835261477884, 0.04829975289221682, 0.04829975289221682, 0.016099917630738942, 0.038139874998919646, 0.07627974999783929, 0.038139874998919646, 0.15255949999567858, 0.5720981249837948, 0.038139874998919646, 0.038139874998919646, 0.8566542247537325, 0.4084071577187203, 0.5105089471484003, 0.5977728515076357, 0.8869033194585242, 0.7967404761283016, 0.7582184065213202, 0.12636973442022004, 0.09477730081516503, 0.1637574726622115, 0.0327514945324423, 0.0982544835973269, 0.5240239125190768, 0.0655029890648846, 0.0327514945324423, 0.0327514945324423, 0.948129736676129, 0.7747996548950148, 0.12913327581583578, 0.9003236651120141, 0.05296021559482436, 0.9006049125549457, 0.976644638743628, 0.9365852353716564, 0.06708177659069918, 0.4024906595441951, 0.42485125174109484, 0.022360592196899728, 0.08944236878759891, 0.6716743711029208, 0.8953040453246176, 0.9256928172732176, 0.8387913556795712, 0.15938444976652433, 0.15938444976652433, 0.15938444976652433, 0.4781533492995729, 0.8463756232109572, 0.12793312947525265, 0.12793312947525265, 0.38379938842575795, 0.2558662589505053, 0.8612900007066748, 0.10585845577918403, 0.5645784308223148, 0.07057230385278936, 0.24700306348476272, 0.47356060905392044, 0.9100592363418022, 0.7763312936917679, 0.4539797839524273, 0.7217777261882692, 0.9155628833671863, 0.9678553842260368, 0.9415671134158433, 0.09144400493410125, 0.8229960444069112, 0.8916751715562671, 0.715218011806024, 0.4520670894709458, 0.520013256152259, 0.05777925068358433, 0.40445475478509035, 0.7276207527474007, 0.9388734723813151, 0.8823117068157055, 0.35152751005666616, 0.40174572577904705, 0.05021821572238088, 0.05021821572238088, 0.07532732358357132, 0.02510910786119044, 0.02510910786119044, 0.7680250624024137, 0.899769881851183, 0.6534465629754461, 0.06398749430322309, 0.06398749430322309, 0.8318374259419002, 0.031993747151611546, 0.8574782381175666, 0.5292164044249191, 0.4070895418653224, 0.04070895418653224, 0.946059565291191, 0.2139969149930111, 0.6419907449790333, 0.16111362779855556, 0.10740908519903704, 0.6444545111942223, 0.8728169233366535, 0.8371049621997007, 0.7491525225595279, 0.22018635928625685, 0.770652257501899, 0.9789889986178534, 0.7496017578175228, 0.48840840808146135, 0.5984233642488536, 0.06406483098251542, 0.3203241549125771, 0.5125186478601234, 0.9684974059300999, 0.096276213533883, 0.770209708271064, 0.12034526691735377, 0.34033086119261086, 0.5104962917889163, 0.04020876222676384, 0.02010438111338192, 0.04020876222676384, 0.14073066779367344, 0.04020876222676384, 0.36187886004087455, 0.36187886004087455, 0.21215046621430647, 0.21215046621430647, 0.4773385489821895, 0.26891019509930464, 0.5378203901986093, 0.8304067158103018, 0.93078505785666, 0.17862402913157455, 0.7144961165262982, 0.19259710028100904, 0.09629855014050452, 0.09629855014050452, 0.09629855014050452, 0.3851942005620181, 0.6388416087027694, 0.33330866541014054, 0.7562196055638871, 0.739092285581448, 0.9775438408374015, 0.025724837916773723, 0.8291479739512359, 0.6577006636188455, 0.17201062919960136, 0.6880425167984054, 0.18083960791273673, 0.5877287257163943, 0.06781485296727627, 0.13562970593455254, 0.7486565229002795, 0.7375700011155334, 0.9861001675427824, 0.9087514933633096, 0.8572963070277352, 0.05442385086881609, 0.8707816139010575, 0.8951540790630036, 0.10684176935146619, 0.8547341548117295, 0.1787632636559308, 0.05362897909677924, 0.7150530546237231, 0.035752652731186156, 0.9141955187131412, 0.6762192687175986, 0.9043330611860606, 0.14334446610589263, 0.8600667966353558, 0.19389463842047375, 0.775578553681895, 0.2387139392947675, 0.2387139392947675, 0.477427878589535, 0.2574764271961471, 0.12873821359807355, 0.2574764271961471, 0.38621464079422063, 0.6463429611281403, 0.2481938258073816, 0.6618502021530176, 0.8414360704064463, 0.02386567432508739, 0.011932837162543695, 0.16705972027561172, 0.4057164635264856, 0.011932837162543695, 0.2863880919010487, 0.08352986013780586, 0.8837810865309534, 0.6995946118734061, 0.1192999732177775, 0.8350998125244424, 0.8669051039298808, 0.07880955490271643, 0.8718214522070201, 0.18503343097145278, 0.7401337238858111, 0.9648489078728633, 0.6935918736744983, 0.12610761339536333, 0.06305380669768167, 0.06305380669768167, 0.06305380669768167, 0.9444093350839753, 0.8642851358577045, 0.1865060554692835, 0.09325302773464175, 0.6993977080098132, 0.9643278432885567, 0.6631039640919085, 0.8429907629233128, 0.7192254276682329, 0.044325541858204934, 0.5762320441566641, 0.044325541858204934, 0.2659532511492296, 0.6768477052799595, 0.8848979952753173, 0.9896968729092716, 0.03499504532638248, 0.13998018130552992, 0.29745788527425104, 0.43743806657978096, 0.04374380665797809, 0.04374380665797809, 0.908990862302082, 0.9606638795784649, 0.7906057446318878, 0.9578023147264768, 0.6695804077109614, 0.7628924784826032, 0.12714874641376722, 0.06357437320688361, 0.06536542954079609, 0.021788476513598696, 0.06536542954079609, 0.10894238256799349, 0.6972312484351583, 0.021788476513598696, 0.021788476513598696, 0.9747053371715624, 0.9412184856840445, 0.09423786550667233, 0.6125461257933702, 0.23559466376668084, 0.22306956879390652, 0.6692087063817196, 0.07435652293130217, 0.9076322167287854, 0.7789726150341555, 0.879420011227581, 0.979596387598334, 0.025778852305219317, 0.09714566017633437, 0.8743109415870093, 0.2542662520416976, 0.1271331260208488, 0.08475541734723255, 0.1271331260208488, 0.08475541734723255, 0.1271331260208488, 0.1695108346944651, 0.8395355985325145, 0.8556296049075287, 0.09982944267079895, 0.1996588853415979, 0.5989766560247937, 0.09982944267079895, 0.823705750132167, 0.117672250018881, 0.6427546396296224, 0.759427998471279, 0.8102768654142505, 0.8024457639224437, 0.1409238239212404, 0.8455429435274423, 0.24053953602850964, 0.6013488400712741, 0.8263408824105559, 0.9538718709154789, 0.029808495966108715, 0.02543859479913882, 0.03391812639885176, 0.00847953159971294, 0.6274853383787575, 0.24590641639167524, 0.059356721197990576, 0.9086927964029038, 0.8443880694174141, 0.8730200779110014, 0.7387193285886776, 0.1343126051979414, 0.10073445389845603, 0.8341347542601453, 0.8229561165721105, 0.08229561165721105, 0.9497190145885273, 0.9963639533091315, 0.8947540163654268, 0.7104141027278101, 0.7543740753538155, 0.17941611447674832, 0.7176644579069933, 0.33057847701363285, 0.35812668343143556, 0.04132230962670411, 0.013774103208901368, 0.22038565134242188, 0.027548206417802736, 0.642715106946671, 0.21423836898222368, 0.7585658995198392, 0.210712749866622, 0.8499237768268335, 0.9173284364382291, 0.7750085910073482, 0.9822421713678255, 0.9662026905628601, 0.7653528777598935, 0.9741860721696681, 0.2966232617549523, 0.07415581543873807, 0.07415581543873807, 0.07415581543873807, 0.14831163087747615, 0.2966232617549523, 0.7964213831568104, 0.07707303707969133, 0.02569101235989711, 0.10276404943958845, 0.01746648246447076, 0.9082570881524795, 0.05239944739341228, 0.061654559883192, 0.123309119766384, 0.6165455988319201, 0.030827279941596, 0.123309119766384, 0.8439540542693277, 0.7646866192488048, 0.72883331440902, 0.9741631705023295, 0.70615104609748, 0.5153146240168468, 0.3067348952481231, 0.12269395809924923, 0.04907758323969969, 0.21697244018417314, 0.21697244018417314, 0.4339448803683463, 0.10419601466995648, 0.10419601466995648, 0.0347320048899855, 0.7293721026896954, 0.8145754641876514, 0.1388668400714901, 0.6943342003574506, 0.9569875911024724, 0.31960564537978986, 0.10653521512659662, 0.10653521512659662, 0.10653521512659662, 0.21307043025319325, 0.31960564537978986, 0.7107989494560104, 0.7462590274485115, 0.8555187672108038, 0.8418748745123222, 0.2495660388496485, 0.6239150971241213, 0.06985258953004844, 0.10477888429507266, 0.34926294765024224, 0.03492629476502422, 0.314336652885218, 0.06985258953004844, 0.9258181301860088, 0.8192213674049285, 0.9336570329053919, 0.8549801672401361, 0.9561188298512766, 0.4649604707271617, 0.4703700513688781, 0.9747292142242617, 0.9658844242913206, 0.08079348459489931, 0.16158696918979862, 0.7271413613540937, 0.19960693616666006, 0.17299267801110538, 0.15968554893332804, 0.09314990354444136, 0.07984277446666402, 0.06653564538888669, 0.13307129077777338, 0.03992138723333201, 0.05322851631110935, 0.9041849818042115, 0.8417982754101598, 0.6629632667467695, 0.3095631837922652, 0.5000636045875053, 0.16668786819583511, 0.8055012292357766, 0.9166510261733115, 0.19681994464576943, 0.5904598339373083, 0.8505785446466131, 0.1195706220256211, 0.05124455229669476, 0.034163034864463176, 0.05124455229669476, 0.034163034864463176, 0.700342214721495, 0.8909232706877201, 0.8207328166731798, 0.4458076206311022, 0.4179446443416583, 0.12538339330249748, 0.9809856988632294, 0.9435824272741427, 0.20154825178650052, 0.40309650357300103, 0.40309650357300103, 0.11134484306226072, 0.11134484306226072, 0.05567242153113036, 0.05567242153113036, 0.6123966368424341, 0.7197694890753884, 0.2568559179281284, 0.5137118358562568, 0.1284279589640642, 0.1284279589640642, 0.9506195678768818, 0.956849641513367, 0.9313616575479158, 0.09927572633792713, 0.8934815370413441, 0.6907358033709531, 0.18425077809056162, 0.06141692603018721, 0.02047230867672907, 0.7165308036855175, 0.1879742942157446, 0.5639228826472339, 0.1879742942157446, 0.08351837578790046, 0.08351837578790046, 0.7516653820911041, 0.07326636679839225, 0.5128645675887458, 0.18316591699598064, 0.1465327335967845, 0.03663318339919613, 0.03663318339919613, 0.03663318339919613, 0.8062611418160506, 0.06517887060815804, 0.8473253179060545, 0.892580776985843, 0.2864597169017625, 0.2864597169017625, 0.42968957535264374, 0.8726846541055706, 0.9818255018818861, 0.7928809474853717, 0.2389689693319023, 0.7169069079957069, 0.03982816155531705, 0.07277149441904861, 0.08490007682222336, 0.15767157124127196, 0.15767157124127196, 0.012128582403174767, 0.024257164806349533, 0.1091572416285729, 0.04851432961269907, 0.3153431424825439, 0.44995956247603597, 0.1726152193746412, 0.6904608774985648, 0.1726152193746412, 0.7213238199548132, 0.13871611922207946, 0.027743223844415892, 0.08322967153324767, 0.9539640354183087, 0.9153993089418855, 0.05085551716343808, 0.9383766834682686, 0.8891469220405436, 0.8397616396925744, 0.9102039484431851, 0.9774312842559053, 0.7221026986311924, 0.023985340026514868, 0.9594136010605947, 0.13168946439065451, 0.1580273572687854, 0.0790136786343927, 0.2370410359031781, 0.11852051795158905, 0.09218262507345815, 0.0263378928781309, 0.13168946439065451, 0.0263378928781309, 0.26805979628579263, 0.5361195925715853, 0.13402989814289631, 0.472622266420149, 0.2786891255711456, 0.1393445627855728, 0.41803368835671845, 0.775218276210651, 0.6659060662582363, 0.9656993835332321, 0.763482442503805, 0.022152461811737616, 0.04430492362347523, 0.04430492362347523, 0.863946010657767, 0.18733112803025892, 0.09366556401512946, 0.2809966920453884, 0.2809966920453884, 0.06959529980317213, 0.8351435976380654, 0.06959529980317213, 0.23790540675198768, 0.5947635168799692, 0.16247185846480686, 0.5957301477042918, 0.10831457230987124, 0.10831457230987124, 0.9148202651420912, 0.23535554195249198, 0.47071108390498395, 0.781860172738231, 0.8181652617695849, 0.11688075168136929, 0.21546139199836434, 0.646384175995093, 0.7068197825149783, 0.975321195734665, 0.9070552689818706, 0.8467207632029311, 0.3316985750023475, 0.663397150004695, 0.9371844662724863, 0.04259929392147665, 0.1209134743197151, 0.7859375830781481, 0.06045673715985755, 0.05338564436658865, 0.1067712887331773, 0.05338564436658865, 0.7473990211322411, 0.05338564436658865, 0.654656495998654, 0.10082376768355857, 0.05041188384177928, 0.8065901414684685, 0.1629219687041756, 0.2851134452323073, 0.2579597837816114, 0.027153661450695935, 0.027153661450695935, 0.21722929160556748, 0.8541828629881842, 0.07797698676061439, 0.07797698676061439, 0.8577468543667583, 0.12927915092487668, 0.7756749055492601, 0.7661263664079575, 0.843694058440433, 0.11249254112539106, 0.9081875094788674, 0.09725167044725189, 0.875265034025267, 0.09299379087770714, 0.8369441178993642, 0.7537782170449663, 0.8316587436748243, 0.6737063018875326, 0.17574947005761718, 0.146457891714681, 0.053188483535693734, 0.9042042201067935, 0.053188483535693734, 0.7616802225796658, 0.8469056387844357, 0.6208810163917817, 0.9082884466572876, 0.8934395666675438, 0.6569513404252484, 0.24917460826414708, 0.7475238247924413, 0.6775103166989238, 0.911102099393502, 0.7819567275079298, 0.5794747324544691, 0.28973736622723456, 0.7773085038892515, 0.04201667588590549, 0.04201667588590549, 0.06302501382885824, 0.04201667588590549, 0.0745494119684602, 0.8200435316530622, 0.8944815273871106, 0.9811629302902722, 0.8465946370611666, 0.08205386718769773, 0.16410773437539547, 0.16410773437539547, 0.08205386718769773, 0.49232320312618644, 0.8677732901401852, 0.07831898834841629, 0.07831898834841629, 0.7831898834841629, 0.9253860179168233, 0.8110566134883982, 0.8796581319790497, 0.8198351836772146, 0.13663919727953577, 0.2859340187421954, 0.7148350468554885, 0.8725640167907001, 0.9138588569037889, 0.8590924192267543, 0.6886342331934199, 0.7264098301775579, 0.6604197790191566, 0.8170038579771021, 0.1634007715954204, 0.936790329988178, 0.8717142261285707, 0.0825891171271414, 0.9084802883985554, 0.1976669049279129, 0.7247786514023472, 0.9529667860344383, 0.6160384886646505, 0.04399423588639508, 0.35195388709116066, 0.571925066523136, 0.8236835491831139, 0.8236835491831139, 0.8745916443208627, 0.07288263702673856, 0.144056455960838, 0.0288112911921676, 0.8067161533806928, 0.9458966081319851, 0.8457594498409398, 0.6321731965534076, 0.2107243988511359, 0.8313560112761945, 0.7497495707966814, 0.3492215952089607, 0.05820359920149345, 0.0776047989353246, 0.42682639414428525, 0.0776047989353246, 0.9113081962139868, 0.03797117484224945, 0.0727321633230477, 0.0727321633230477, 0.727321633230477, 0.0727321633230477, 0.9802732925143766, 0.7286296514467099, 0.8152616859874002, 0.1848112176404412, 0.5544336529213236, 0.18706747020647083, 0.17267766480597307, 0.1295082486044798, 0.14389805400497754, 0.11511844320398204, 0.21584708100746633, 0.04316941620149327, 0.8678784493838798, 0.7414042699333196, 0.3363588111603949, 0.5605980186006582, 0.08234344791292408, 0.06587475833033926, 0.13174951666067852, 0.016468689582584815, 0.06587475833033926, 0.5269980666427141, 0.03293737916516963, 0.016468689582584815, 0.06587475833033926, 0.18272922166304156, 0.5481876649891247, 0.9839793894004509, 0.9342392307797716, 0.6883093753810701, 0.1564339489502432, 0.12514715916019456, 0.7486000683706999, 0.10694286691009999, 0.7837158244086657, 0.9144679938092379, 0.4658032220871177, 0.9223089580159595, 0.7995966779970457, 0.9718803293559509, 0.8553907490480082, 0.2518181362462543, 0.17987009731875309, 0.17987009731875309, 0.08993504865937654, 0.10792205839125185, 0.08993504865937654, 0.03597401946375062, 0.053961029195625926, 0.18186197085066694, 0.1039211262003811, 0.05196056310019055, 0.38970422325142917, 0.12990140775047637, 0.07794084465028583, 0.05196056310019055, 0.9403029442993164, 0.760074004487037, 0.5063215036336398, 0.11472262309151074, 0.11472262309151074, 0.14750051540337095, 0.44250154621011284, 0.016388946155930104, 0.03277789231186021, 0.016388946155930104, 0.03277789231186021, 0.06555578462372041, 0.016388946155930104, 0.4712094384725379, 0.4712094384725379, 0.7371817467745636, 0.24118012645662532, 0.7235403793698759, 0.7201322318191241, 0.2325576731809025, 0.7751922439363418, 0.20691340542712813, 0.12932087839195508, 0.12932087839195508, 0.05172835135678203, 0.025864175678391017, 0.25864175678391016, 0.05172835135678203, 0.025864175678391017, 0.1551850540703461, 0.8915361602174007, 0.05572101001358754, 0.8316438456165884, 0.8620653198828615, 0.2480429457215158, 0.6821181007341685, 0.06201073643037895, 0.13834429397334547, 0.27668858794669093, 0.04611476465778182, 0.04611476465778182, 0.09222952931556364, 0.04611476465778182, 0.32280335260447274, 0.8767741465253973, 0.7558343583984235, 0.9735240793207239, 0.6654664512833026, 0.9070553680057134, 0.8972404123935208, 0.049304829455270774, 0.049304829455270774, 0.8874869301948739, 0.9738412364365632, 0.6617672770160442, 0.3308836385080221, 0.914073803837048, 0.052232788790688454, 0.9308446155319231, 0.03878519231383013, 0.03878519231383013, 0.9263926372175899, 0.03563048604683038, 0.6393742483479554, 0.895574813688711, 0.029887190535632307, 0.9563900971402338, 0.9637210210698622, 0.02920366730514734, 0.8353767698654959, 0.6747971919037359, 0.20221618735067887, 0.6066485620520365, 0.09343445074801338, 0.8409100567321204, 0.25804465391276454, 0.5954876628756105, 0.01984958876252035, 0.11909753257512211, 0.19007187106208914, 0.5702156131862675, 0.9190038199696327, 0.8247449422132255, 0.8888815794150541, 0.8746613590765733, 0.13701107815234037, 0.13701107815234037, 0.5480443126093615, 0.11348356337843438, 0.05674178168921719, 0.5106760352029547, 0.28370890844608593, 0.7880519832384828, 0.14500050320124555, 0.5800020128049822, 0.03625012580031139, 0.14500050320124555, 0.10875037740093416, 0.1408096627555767, 0.8448579765334601, 0.1112357696179547, 0.8898861569436376, 0.9241707352850573, 0.07109005656038903, 0.8969343385697515, 0.9621485028588224, 0.8306391732790014, 0.10382989665987517, 0.04040580500889191, 0.04040580500889191, 0.04040580500889191, 0.7071015876556084, 0.1818261225400136, 0.10329224051981163, 0.06886149367987443, 0.2754459747194977, 0.06886149367987443, 0.48203045575912096, 0.04634620332606264, 0.9269240665212528, 0.16588098825511954, 0.8294049412755977, 0.751985976360602, 0.9278044900959208, 0.8805036988867724, 0.8805036988867724, 0.6372569226645239, 0.8415210099796516, 0.14107256154045278, 0.7053628077022639, 0.09459885180282197, 0.18919770360564395, 0.6148925367183428, 0.04729942590141099, 0.7767614132483588, 0.8484341317270067, 0.7736417867990232, 0.19312680181243919, 0.19312680181243919, 0.38625360362487837, 0.11510479206067466, 0.05755239603033733, 0.8057335444247227, 0.09438771599329839, 0.8966833019363347, 0.9066495660615471, 0.8965543331430279, 0.9560077163308894, 0.028969930797905743, 0.04702444176989868, 0.18809776707959472, 0.14107332530969605, 0.5642933012387842, 0.1005631102877873, 0.15084466543168096, 0.7039417720145111, 0.9587685146177923, 0.1929820957629755, 0.771928383051902, 0.2068831646043283, 0.7758118672662311, 0.9054519640524813, 0.8031042482148842, 0.08031042482148842, 0.78584038095756, 0.8837209931208011, 0.8365325200071552, 0.8572782320802924, 0.8901511459215896, 0.8407683075049268, 0.6690105960202113, 0.9386770883515085, 0.025014817269875828, 0.008338272423291942, 0.3502074417782616, 0.6086938869003118, 0.1533384866057187, 0.07666924330285935, 0.23000772990857804, 0.1533384866057187, 0.3066769732114374, 0.04130805885974869, 0.8261611771949738, 0.08261611771949738, 0.04130805885974869, 0.9608811222013403, 0.5763156407386056, 0.38421042715907044, 0.9711476129013373, 0.9843587322321611, 0.9465711833063672, 0.8115846348758351, 0.8359643895762406, 0.09834875171485183, 0.049174375857425914, 0.9117908105922983, 0.026915715462024682, 0.026915715462024682, 0.9151343257088392, 0.026915715462024682, 0.3450251446365914, 0.6900502892731828, 0.7827495884631757, 0.0866103128468847, 0.2598309385406541, 0.2598309385406541, 0.0866103128468847, 0.2598309385406541, 0.6268435137598334, 0.8967342325831005, 0.4576939113771839, 0.9388592337430367, 0.024212961848966208, 0.008070987282988735, 0.07263888554689862, 0.048425923697932416, 0.8393826774308285, 0.16428663410662075, 0.8214331705331038, 0.7518206203653242, 0.2349439438641638, 0.12412512081641856, 0.8688758457149299, 0.07834555156146215, 0.03917277578073108, 0.03917277578073108, 0.23503665468438645, 0.5484188609302351, 0.37015844713666657, 0.18507922356833328, 0.37015844713666657, 0.03084653726138888, 0.06334072133496135, 0.886770098689459, 0.866691251346323, 0.7422418616537514, 0.9074991761227653, 0.9036455581445628, 0.8450072057300325, 0.05605541773057539, 0.72872043049748, 0.028027708865287694, 0.16816625319172615, 0.9353712290310319, 0.029230350907219746, 0.08905840135252747, 0.17811680270505495, 0.26717520405758244, 0.44529200676263736, 0.11971005100811653, 0.8379703570568157, 0.7356749154927569, 0.7436725835633136, 0.7714711812514398, 0.18152263088269172, 0.04538065772067293, 0.9442272689118248, 0.037769090756472994, 0.877730880840207, 0.20247758131034252, 0.6074327439310275, 0.04646621090100955, 0.7899255853171624, 0.04646621090100955, 0.04646621090100955, 0.8334175182378989, 0.09260194647087765, 0.8946382672898343, 0.8686537419901227, 0.3296225048746822, 0.1648112524373411, 0.49443375731202327, 0.06321241863262882, 0.8849738608568033, 0.9293014510787201, 0.7113714419272337, 0.7343756486683352, 0.7626328210209802, 0.9666647830448188, 0.9722294231534868, 0.7167009963228149, 0.7948321759134693, 0.10316848156911507, 0.10316848156911507, 0.7221793709838055, 0.9264191988541058, 0.9416750741435969, 0.05773968836738061, 0.9238350138780898, 0.15245227448932347, 0.030490454897864696, 0.04573568234679704, 0.19818795683612053, 0.06098090979572939, 0.4573568234679704, 0.015245227448932348, 0.07145164181231416, 0.07145164181231416, 0.32153238815541374, 0.4644356717800421, 0.03572582090615708, 0.03572582090615708, 0.9578389416484165, 0.7454595355295509, 0.19069895094942002, 0.02600440240219364, 0.04334067067032273, 0.7176384674506419, 0.2114298177547947, 0.6342894532643841, 0.08702066470196683, 0.043510332350983415, 0.043510332350983415, 0.043510332350983415, 0.5656343205627844, 0.17404132940393366, 0.08702066470196683, 0.9838723427300075, 0.9056104212870542, 0.25064903917933906, 0.020887419931611587, 0.20887419931611587, 0.22976161924772748, 0.18798677938450428, 0.08354967972644635, 0.36959925183980347, 0.07781036880837967, 0.13616814541466443, 0.07781036880837967, 0.252883698627234, 0.05835777660628476, 0.31334546448010087, 0.6266909289602017, 0.2265054988298763, 0.679516496489629, 0.12684017631348746, 0.7610410578809247, 0.8351207782549406, 0.07592007075044914, 0.6394675913014873, 0.33854166598314034, 0.8182273533744002, 0.1668790099138757, 0.7787687129314199, 0.055626336637958566, 0.8808094861900698, 0.04957738759446049, 0.19830955037784195, 0.7436608139169073, 0.03610356265365303, 0.938692628994979, 0.12985462194557593, 0.06492731097278796, 0.06492731097278796, 0.7142004207006676, 0.6271686434197885, 0.31358432170989425, 0.9434714350449867, 0.8651874190344478, 0.9496259978051372, 0.14216416745602006, 0.14216416745602006, 0.07108208372801003, 0.6397387535520903, 0.8771174258469033, 0.7403535027359043, 0.8026057215164188, 0.7251530513428341, 0.964141361113637, 0.7395295180008481, 0.8962567833736663, 0.08962567833736662, 0.04481283916868331, 0.9302647823728117, 0.9512617163853195, 0.6324030353770322, 0.7758674384793504, 0.16625730824557508, 0.7172031113722036, 0.1793007778430509, 0.44936055928214647, 0.2563777739709497, 0.28653986502635553, 0.1809725463324351, 0.16589150080473217, 0.030162091055405845, 0.030162091055405845, 0.04524313658310877, 0.015081045527702923, 0.1266668969862806, 0.3483339667122716, 0.03166672424657015, 0.0633334484931403, 0.3166672424657015, 0.09500017273971045, 0.3139992479578095, 0.13457110626763263, 0.04485703542254421, 0.4934273896479863, 0.08370584803920253, 0.2511175441176076, 0.041852924019601265, 0.3766763161764114, 0.1255587720588038, 0.020926462009800632, 0.0627793860294019, 0.020926462009800632, 0.9654141225376487, 0.8593266606149973, 0.4825273313285511, 0.12704644720552968, 0.3811393416165891, 0.3811393416165891, 0.9441681074052852, 0.7321194124436435, 0.12201990207394058, 0.7163229430796342, 0.8785808514733697, 0.7347559546504372, 0.07061368954037156, 0.9179779640248303, 0.8556952954974459, 0.20578288849937612, 0.6173486654981284, 0.9856098095893894, 0.9400684627134325, 0.9186215042079201, 0.6272646575693276, 0.14883851015282162, 0.818611805840519, 0.7516471057165968, 0.40585521905830624, 0.06764253650971772, 0.16910634127429428, 0.06764253650971772, 0.01691063412742943, 0.21983824365658255, 0.05073190238228828, 0.21682168688682718, 0.036136947814471194, 0.7046704823821883, 0.018068473907235597, 0.9206167557698168, 0.8512364062166061, 0.8567647665211612, 0.06909688746521644, 0.7600657621173809, 0.1381937749304329, 0.19220069725903582, 0.5766020917771075, 0.8747110654952932, 0.020694367586846243, 0.020694367586846243, 0.4759704544974636, 0.26902677862900115, 0.010347183793423122, 0.19659649207503932, 0.313718410761729, 0.627436821523458, 0.06274368215234581, 0.9629237782394686, 0.9699221166665004, 0.6534954228788042, 0.7294253935655717, 0.20423911019836008, 0.029177015742622867, 0.6459603053352975, 0.7949872978150253, 0.042368553884896375, 0.042368553884896375, 0.042368553884896375, 0.021184276942448187, 0.12710566165468912, 0.6567125852158938, 0.042368553884896375, 0.09568771947963058, 0.06379181298642038, 0.06379181298642038, 0.3827508779185223, 0.2870631584388917, 0.03189590649321019, 0.06379181298642038, 0.6758057842051207, 0.2703223136820483, 0.04054834705230724, 0.9437310694053476, 0.3224005548507287, 0.16120027742536436, 0.3224005548507287, 0.03056518405914422, 0.03056518405914422, 0.06113036811828844, 0.06113036811828844, 0.7335644174194612, 0.06113036811828844, 0.03056518405914422, 0.2212993759743773, 0.5311185023385055, 0.2212993759743773, 0.6386049587664338, 0.17880938845460143, 0.10217679340262939, 0.025544198350657348, 0.025544198350657348, 0.05037351952556456, 0.9067233514601621, 0.9440516181450995, 0.02950161306703436, 0.8697437382077788, 0.833403715855924, 0.9631518218363372, 0.15770297845290407, 0.1892435741434849, 0.09462178707174244, 0.12616238276232325, 0.3784871482869698, 0.03154059569058081, 0.8415210099796516, 0.8848590798299372, 0.9403153148462642], \"Term\": [\"12\", \"12\", \"12\", \"12\", \"12\", \"12\", \"12\", \"2002\", \"2002\", \"2002\", \"2002\", \"2002\", \"2006\", \"2006\", \"2006\", \"2006\", \"48\", \"53\", \"abbreviated\", \"abbreviated\", \"above\", \"above\", \"acacia\", \"academy\", \"academy\", \"academy\", \"academy\", \"according\", \"according\", \"according\", \"according\", \"added\", \"added\", \"adelaide\", \"administrative\", \"africa\", \"africa\", \"africa\", \"afyonkarahisar\", \"air\", \"air\", \"air\", \"air\", \"air\", \"air\", \"aircraft\", \"aircraft\", \"aircraft\", \"airline\", \"airport\", \"ak\", \"alabama\", \"alabama\", \"album\", \"albums\", \"algae\", \"allies\", \"allies\", \"alps\", \"america\", \"america\", \"america\", \"america\", \"america\", \"american\", \"american\", \"american\", \"american\", \"american\", \"american\", \"andhra\", \"anglican\", \"ankara\", \"anne\", \"anne\", \"appointed\", \"approximately\", \"approximately\", \"approximately\", \"approximately\", \"april\", \"april\", \"april\", \"archipelago\", \"architect\", \"arctiidae\", \"are\", \"are\", \"are\", \"are\", \"are\", \"are\", \"are\", \"are\", \"area\", \"area\", \"area\", \"area\", \"area\", \"area\", \"area\", \"arkansas\", \"artist\", \"artist\", \"ash\", \"assistant\", \"athletics\", \"august\", \"august\", \"august\", \"australia\", \"australia\", \"australia\", \"australia\", \"australia\", \"australia\", \"australia\", \"author\", \"avenue\", \"avenue\", \"award\", \"award\", \"baden\", \"band\", \"baseball\", \"based\", \"based\", \"based\", \"based\", \"based\", \"basilica\", \"beetle\", \"beetles\", \"belarus\", \"belgian\", \"belgian\", \"belgian\", \"belgian\", \"belonging\", \"belongs\", \"belongs\", \"belongs\", \"belongs\", \"bengal\", \"best\", \"best\", \"best\", \"best\", \"bilecik\", \"billboard\", \"bishop\", \"bistri\\u0163a\", \"boarding\", \"bomber\", \"book\", \"books\", \"border\", \"border\", \"bosnia\", \"boys\", \"bradford\", \"brazil\", \"brazil\", \"brazil\", \"breathing\", \"brick\", \"bridge\", \"british\", \"british\", \"british\", \"british\", \"british\", \"british\", \"british\", \"bromeliad\", \"bronze\", \"brunswick\", \"building\", \"building\", \"building\", \"building\", \"buildings\", \"built\", \"built\", \"built\", \"bulbophyllum\", \"bulgarian\", \"bulgarian\", \"business\", \"business\", \"business\", \"butterfly\", \"b\\u0101l\\u0101\", \"cameroon\", \"capital\", \"capital\", \"car\", \"carabidae\", \"carlisle\", \"cathedral\", \"catholic\", \"catholic\", \"catholic\", \"cd\", \"census\", \"census\", \"census\", \"centimetres\", \"centimetres\", \"central\", \"central\", \"central\", \"central\", \"central\", \"central\", \"central\", \"century\", \"century\", \"century\", \"changes\", \"changes\", \"chapel\", \"chart\", \"chinese\", \"chinese\", \"christian\", \"christian\", \"christian\", \"christian\", \"christian\", \"church\", \"church\", \"ch\\u00e2teau\", \"circulation\", \"class\", \"class\", \"cm\", \"coal\", \"coeducational\", \"coeducational\", \"college\", \"college\", \"college\", \"college\", \"colleges\", \"colors\", \"comedy\", \"comic\", \"commissioned\", \"common\", \"common\", \"commune\", \"companies\", \"companies\", \"company\", \"company\", \"company\", \"company\", \"competed\", \"competing\", \"compilation\", \"composer\", \"composer\", \"comprehensive\", \"comprehensive\", \"connected\", \"connected\", \"connected\", \"constituency\", \"constituency\", \"constituency\", \"constituency\", \"content\", \"corporation\", \"corporation\", \"corvette\", \"county\", \"county\", \"county\", \"county\", \"county\", \"county\", \"county\", \"courthouse\", \"crane\", \"crater\", \"crater\", \"creek\", \"creek\", \"croatia\", \"cultivar\", \"cultivar\", \"cup\", \"currently\", \"currently\", \"currently\", \"currently\", \"currently\", \"cyrillic\", \"daisy\", \"debut\", \"debut\", \"debut\", \"defender\", \"dennis\", \"denver\", \"derek\", \"described\", \"described\", \"described\", \"described\", \"destroyers\", \"diocese\", \"directed\", \"district\", \"district\", \"district\", \"district\", \"district\", \"district\", \"documentary\", \"drama\", \"driver\", \"drummer\", \"dubai\", \"during\", \"during\", \"during\", \"east\", \"east\", \"east\", \"east\", \"east\", \"east\", \"east\", \"ecuador\", \"editor\", \"education\", \"education\", \"education\", \"elected\", \"elected\", \"elected\", \"election\", \"elementary\", \"elevation\", \"endemic\", \"endemic\", \"engineering\", \"engineering\", \"england\", \"england\", \"england\", \"england\", \"england\", \"england\", \"england\", \"enrollment\", \"ep\", \"established\", \"established\", \"established\", \"established\", \"estonia\", \"estonia\", \"estonian\", \"eupithecia\", \"event\", \"existence\", \"extinct\", \"extinct\", \"fabaceae\", \"fabaceae\", \"faboideae\", \"families\", \"families\", \"family\", \"family\", \"family\", \"family\", \"family\", \"family\", \"fantasy\", \"farm\", \"fc\", \"february\", \"february\", \"february\", \"feed\", \"festival\", \"festival\", \"fiction\", \"film\", \"films\", \"finland\", \"finned\", \"finnish\", \"finnish\", \"first\", \"first\", \"first\", \"first\", \"first\", \"first\", \"flower\", \"flower\", \"flowering\", \"flowering\", \"flowers\", \"flows\", \"footage\", \"football\", \"footballer\", \"ford\", \"forests\", \"form\", \"form\", \"form\", \"form\", \"form\", \"form\", \"former\", \"former\", \"former\", \"former\", \"found\", \"found\", \"found\", \"founded\", \"founded\", \"founded\", \"founded\", \"founded\", \"frame\", \"frigate\", \"gabon\", \"gastropod\", \"gda\\u0144sk\", \"genus\", \"genus\", \"genus\", \"genus\", \"georgia\", \"georgia\", \"georgia\", \"germany\", \"germany\", \"germany\", \"germany\", \"gharbi\", \"girls\", \"girls\", \"gmina\", \"gold\", \"gold\", \"gold\", \"gold\", \"gold\", \"gold\", \"golfer\", \"gracillariidae\", \"grades\", \"grammar\", \"grass\", \"grass\", \"group\", \"group\", \"group\", \"group\", \"group\", \"group\", \"grows\", \"guinea\", \"guitar\", \"guitarist\", \"gun\", \"guntur\", \"g\\u00f3ra\", \"habitat\", \"habitats\", \"hall\", \"hall\", \"hall\", \"has\", \"has\", \"has\", \"has\", \"has\", \"has\", \"has\", \"has\", \"has\", \"headquartered\", \"health\", \"hebrew\", \"her\", \"her\", \"her\", \"herb\", \"herzegovina\", \"hesperiidae\", \"hesperiidae\", \"hesse\", \"high\", \"high\", \"high\", \"high\", \"high\", \"high\", \"hiiu\", \"hip\", \"his\", \"his\", \"his\", \"historic\", \"hms\", \"hockey\", \"hockey\", \"hockey\", \"home\", \"home\", \"home\", \"home\", \"home\", \"honda\", \"hong\", \"hong\", \"hong\", \"hong\", \"hop\", \"horror\", \"hospital\", \"hotel\", \"hotel\", \"hour\", \"house\", \"house\", \"house\", \"house\", \"hybrid\", \"hybrid\", \"hybrid\", \"inc\", \"inc\", \"inc\", \"india\", \"india\", \"india\", \"india\", \"india\", \"india\", \"india\", \"industries\", \"institute\", \"institute\", \"institutions\", \"international\", \"international\", \"international\", \"internet\", \"iran\", \"israeli\", \"italian\", \"italian\", \"italian\", \"its\", \"its\", \"its\", \"its\", \"its\", \"its\", \"its\", \"its\", \"its\", \"jake\", \"jamaica\", \"jamaica\", \"jamaica\", \"january\", \"january\", \"january\", \"january\", \"jazz\", \"journal\", \"journal\", \"kerman\", \"kermanshah\", \"khorasan\", \"khuzestan\", \"kilometres\", \"kindergarten\", \"km\", \"km\", \"known\", \"known\", \"known\", \"known\", \"known\", \"known\", \"known\", \"known\", \"known\", \"kong\", \"kong\", \"kong\", \"konin\", \"korea\", \"korea\", \"korea\", \"krak\\u00f3w\", \"kw\", \"label\", \"lafayette\", \"lake\", \"lake\", \"lake\", \"lake\", \"land\", \"land\", \"land\", \"land\", \"language\", \"language\", \"language\", \"lanka\", \"lanka\", \"largest\", \"largest\", \"largest\", \"largest\", \"larvae\", \"las\", \"las\", \"latvian\", \"launched\", \"launched\", \"lawrence\", \"lawrence\", \"leaf\", \"league\", \"leaves\", \"legume\", \"lesser\", \"lesser\", \"lies\", \"lies\", \"life\", \"life\", \"life\", \"listed\", \"listed\", \"listed\", \"listed\", \"listed\", \"lit\", \"live\", \"live\", \"live\", \"located\", \"located\", \"located\", \"located\", \"located\", \"located\", \"lok\", \"loss\", \"loss\", \"loss\", \"louisiana\", \"louisiana\", \"lubusz\", \"magazine\", \"magazine\", \"mall\", \"management\", \"management\", \"manga\", \"manga\", \"mantis\", \"manufactured\", \"march\", \"march\", \"march\", \"marine\", \"marine\", \"marine\", \"mascot\", \"masovian\", \"masurian\", \"mazandaran\", \"mazowiecka\", \"mecklenburg\", \"medal\", \"medal\", \"medals\", \"medical\", \"medicine\", \"melaleuca\", \"melaleuca\", \"member\", \"member\", \"member\", \"member\", \"member\", \"metal\", \"metal\", \"meyrick\", \"mi\", \"micromollusk\", \"middle\", \"middle\", \"middle\", \"middle\", \"middle\", \"midfielder\", \"miles\", \"miles\", \"miles\", \"minister\", \"minnesota\", \"mm\", \"mobile\", \"mobile\", \"model\", \"model\", \"moist\", \"mollusk\", \"mollusks\", \"mongolia\", \"monotypic\", \"mordellistena\", \"moth\", \"moth\", \"moths\", \"motor\", \"mountain\", \"mountain\", \"mountains\", \"mountains\", \"movie\", \"mp\", \"municipality\", \"municipality\", \"municipality\", \"murex\", \"muricidae\", \"museum\", \"museum\", \"music\", \"music\", \"music\", \"musician\", \"myristicaceae\", \"mystery\", \"mystery\", \"nadu\", \"nancy\", \"national\", \"national\", \"national\", \"national\", \"national\", \"native\", \"native\", \"natural\", \"natural\", \"natural\", \"natural\", \"navy\", \"neoregelia\", \"nepal\", \"netherlands\", \"netherlands\", \"new\", \"new\", \"new\", \"new\", \"new\", \"new\", \"new\", \"nfl\", \"nissan\", \"noctuidae\", \"noctuidae\", \"north\", \"north\", \"north\", \"north\", \"north\", \"north\", \"north\", \"north\", \"north\", \"northwestern\", \"northwestern\", \"novel\", \"novels\", \"november\", \"november\", \"november\", \"offers\", \"offers\", \"offices\", \"oklahoma\", \"olsztyn\", \"olt\", \"olympic\", \"olympics\", \"oly\\u0101\", \"one\", \"one\", \"one\", \"one\", \"one\", \"one\", \"one\", \"one\", \"only\", \"only\", \"only\", \"only\", \"only\", \"only\", \"only\", \"operates\", \"operculum\", \"opole\", \"or\", \"or\", \"or\", \"or\", \"or\", \"or\", \"or\", \"or\", \"or\", \"or\", \"orchid\", \"orchid\", \"orleans\", \"owned\", \"owned\", \"papua\", \"parish\", \"parish\", \"part\", \"part\", \"part\", \"part\", \"part\", \"part\", \"part\", \"part\", \"part\", \"party\", \"party\", \"paulo\", \"peak\", \"pennsylvania\", \"pennsylvania\", \"pennsylvania\", \"people\", \"people\", \"people\", \"people\", \"people\", \"people\", \"people\", \"perennial\", \"perfect\", \"persian\", \"peugeot\", \"pianist\", \"pinyin\", \"places\", \"places\", \"places\", \"plant\", \"plants\", \"plants\", \"played\", \"played\", \"player\", \"player\", \"player\", \"plays\", \"plays\", \"poaceae\", \"poet\", \"poland\", \"poland\", \"politician\", \"politician\", \"polo\", \"pomerania\", \"pomeranian\", \"pomeranian\", \"pop\", \"pop\", \"population\", \"population\", \"population\", \"population\", \"powered\", \"powered\", \"pradesh\", \"praying\", \"preparatory\", \"presbyterian\", \"principal\", \"principal\", \"principal\", \"private\", \"private\", \"private\", \"private\", \"privately\", \"produced\", \"produced\", \"produced\", \"produced\", \"produced\", \"producer\", \"producer\", \"products\", \"products\", \"professional\", \"professional\", \"profit\", \"programs\", \"provides\", \"provides\", \"province\", \"province\", \"province\", \"province\", \"province\", \"public\", \"public\", \"public\", \"public\", \"public\", \"published\", \"published\", \"puerto\", \"puerto\", \"pulmonate\", \"pupils\", \"pyramidellidae\", \"pyrams\", \"p\\u00e2r\\u00e2ul\", \"p\\u0101\", \"racing\", \"racing\", \"range\", \"range\", \"range\", \"range\", \"rapper\", \"rate\", \"razavi\", \"reach\", \"reach\", \"reach\", \"record\", \"record\", \"record\", \"recorded\", \"recorded\", \"recording\", \"recordings\", \"records\", \"records\", \"region\", \"region\", \"region\", \"region\", \"regional\", \"regional\", \"regional\", \"register\", \"release\", \"release\", \"released\", \"released\", \"representing\", \"republican\", \"republican\", \"residence\", \"retired\", \"reviewed\", \"revival\", \"rhine\", \"rico\", \"rim\", \"rio\", \"river\", \"river\", \"river\", \"river\", \"road\", \"road\", \"road\", \"road\", \"road\", \"rock\", \"rock\", \"rock\", \"rock\", \"roles\", \"roman\", \"roman\", \"romania\", \"romanized\", \"romantic\", \"roof\", \"royal\", \"royal\", \"royal\", \"rugby\", \"rural\", \"rural\", \"rural\", \"rural\", \"sa\", \"sa\", \"sabha\", \"saint\", \"saint\", \"saint\", \"saint\", \"saint\", \"sand\", \"sar\", \"saunders\", \"saxony\", \"school\", \"school\", \"school\", \"school\", \"school\", \"schools\", \"schools\", \"science\", \"science\", \"sciences\", \"sciences\", \"sea\", \"sea\", \"sea\", \"sea\", \"sea\", \"second\", \"second\", \"second\", \"second\", \"secondary\", \"secondary\", \"secretary\", \"seminary\", \"senate\", \"serbia\", \"serbian\", \"series\", \"series\", \"series\", \"series\", \"served\", \"served\", \"serves\", \"serves\", \"serves\", \"serves\", \"services\", \"services\", \"shakespeare\", \"shallow\", \"she\", \"she\", \"she\", \"ship\", \"ship\", \"ships\", \"shopping\", \"shopping\", \"short\", \"short\", \"short\", \"short\", \"shrub\", \"shrub\", \"silent\", \"silesian\", \"silver\", \"silver\", \"silver\", \"singer\", \"singer\", \"singles\", \"skippers\", \"slug\", \"smallest\", \"snail\", \"snails\", \"snout\", \"sofl\\u00e1\", \"software\", \"software\", \"software\", \"solo\", \"songs\", \"songwriter\", \"songwriter\", \"south\", \"south\", \"south\", \"south\", \"south\", \"south\", \"south\", \"southern\", \"southern\", \"southern\", \"southern\", \"southern\", \"southern\", \"soviet\", \"species\", \"species\", \"species\", \"species\", \"spider\", \"sri\", \"sri\", \"st\", \"st\", \"st\", \"st\", \"st\", \"st\", \"st\", \"starring\", \"stars\", \"state\", \"state\", \"state\", \"state\", \"state\", \"state\", \"states\", \"states\", \"states\", \"states\", \"states\", \"states\", \"status\", \"status\", \"stem\", \"stem\", \"stone\", \"stone\", \"stories\", \"stories\", \"story\", \"story\", \"stream\", \"street\", \"street\", \"street\", \"striker\", \"students\", \"students\", \"students\", \"studio\", \"studio\", \"style\", \"style\", \"style\", \"style\", \"subfamily\", \"subfamily\", \"submarine\", \"subsidiary\", \"subtropical\", \"summer\", \"summer\", \"summer\", \"summer\", \"summit\", \"swan\", \"swimmer\", \"s\\u00e3o\", \"tamil\", \"teachers\", \"team\", \"team\", \"team\", \"technical\", \"technology\", \"tehran\", \"television\", \"television\", \"terrestrial\", \"terrestrial\", \"territorial\", \"that\", \"that\", \"that\", \"that\", \"that\", \"that\", \"that\", \"that\", \"their\", \"their\", \"their\", \"their\", \"their\", \"their\", \"third\", \"third\", \"third\", \"third\", \"this\", \"this\", \"this\", \"this\", \"this\", \"this\", \"this\", \"this\", \"threatened\", \"tillandsia\", \"tl\", \"tour\", \"tour\", \"tour\", \"towns\", \"township\", \"township\", \"toyota\", \"tracks\", \"train\", \"tree\", \"tree\", \"trial\", \"tribe\", \"tribe\", \"tributary\", \"tropical\", \"truck\", \"trucks\", \"turkey\", \"turkey\", \"unified\", \"united\", \"united\", \"united\", \"united\", \"united\", \"united\", \"united\", \"university\", \"university\", \"university\", \"university\", \"uss\", \"utricularia\", \"valea\", \"valley\", \"valley\", \"valley\", \"vehicle\", \"vehicle\", \"venture\", \"village\", \"village\", \"village\", \"village\", \"village\", \"village\", \"virginia\", \"virginia\", \"virginia\", \"vocalist\", \"voivodeship\", \"volcanic\", \"war\", \"war\", \"war\", \"warmian\", \"warsaw\", \"west\", \"west\", \"west\", \"west\", \"west\", \"west\", \"west\", \"western\", \"western\", \"western\", \"western\", \"western\", \"western\", \"western\", \"who\", \"who\", \"who\", \"wingspan\", \"winter\", \"winter\", \"winter\", \"within\", \"within\", \"within\", \"within\", \"within\", \"within\", \"within\", \"won\", \"won\", \"won\", \"world\", \"world\", \"world\", \"world\", \"world\", \"writer\", \"writer\", \"written\", \"written\", \"wrote\", \"x\\u00e3\", \"ye\", \"york\", \"york\", \"york\", \"york\", \"york\", \"york\", \"\\u012bn\", \"\\u0142\\u00f3d\\u017a\", \"\\u0627\\u0628\\u0627\\u062f\"]}, \"R\": 30, \"lambda.step\": 0.01, \"plot.opts\": {\"xlab\": \"PC1\", \"ylab\": \"PC2\"}, \"topic.order\": [6, 10, 8, 9, 2, 12, 7, 1, 11, 4, 5, 3, 13, 14]};\n",
       "\n",
       "function LDAvis_load_lib(url, callback){\n",
       "  var s = document.createElement('script');\n",
       "  s.src = url;\n",
       "  s.async = true;\n",
       "  s.onreadystatechange = s.onload = callback;\n",
       "  s.onerror = function(){console.warn(\"failed to load library \" + url);};\n",
       "  document.getElementsByTagName(\"head\")[0].appendChild(s);\n",
       "}\n",
       "\n",
       "if(typeof(LDAvis) !== \"undefined\"){\n",
       "   // already loaded: just create the visualization\n",
       "   !function(LDAvis){\n",
       "       new LDAvis(\"#\" + \"ldavis_el3715863876746889031355953\", ldavis_el3715863876746889031355953_data);\n",
       "   }(LDAvis);\n",
       "}else if(typeof define === \"function\" && define.amd){\n",
       "   // require.js is available: use it to load d3/LDAvis\n",
       "   require.config({paths: {d3: \"https://cdnjs.cloudflare.com/ajax/libs/d3/3.5.5/d3.min\"}});\n",
       "   require([\"d3\"], function(d3){\n",
       "      window.d3 = d3;\n",
       "      LDAvis_load_lib(\"https://cdn.rawgit.com/bmabey/pyLDAvis/files/ldavis.v1.0.0.js\", function(){\n",
       "        new LDAvis(\"#\" + \"ldavis_el3715863876746889031355953\", ldavis_el3715863876746889031355953_data);\n",
       "      });\n",
       "    });\n",
       "}else{\n",
       "    // require.js not available: dynamically load d3 & LDAvis\n",
       "    LDAvis_load_lib(\"https://cdnjs.cloudflare.com/ajax/libs/d3/3.5.5/d3.min.js\", function(){\n",
       "         LDAvis_load_lib(\"https://cdn.rawgit.com/bmabey/pyLDAvis/files/ldavis.v1.0.0.js\", function(){\n",
       "                 new LDAvis(\"#\" + \"ldavis_el3715863876746889031355953\", ldavis_el3715863876746889031355953_data);\n",
       "            })\n",
       "         });\n",
       "}\n",
       "</script>"
      ],
      "text/plain": [
       "PreparedData(topic_coordinates=              x         y  topics  cluster       Freq\n",
       "topic                                                \n",
       "5     -0.219727  0.051449       1        1  19.060788\n",
       "9     -0.215249 -0.035189       2        1  16.057878\n",
       "7     -0.075455  0.031100       3        1   9.320679\n",
       "8      0.005265  0.105274       4        1   8.437864\n",
       "1     -0.160466 -0.065219       5        1   8.277331\n",
       "11     0.007303  0.021290       6        1   7.623268\n",
       "6      0.074842  0.238258       7        1   7.382176\n",
       "0      0.052155 -0.065352       8        1   4.746832\n",
       "10     0.131526  0.054098       9        1   4.257965\n",
       "3      0.069403 -0.037665      10        1   4.162631\n",
       "4      0.081573 -0.070774      11        1   3.017916\n",
       "2      0.074731 -0.099495      12        1   2.711781\n",
       "12     0.093416 -0.039642      13        1   2.564282\n",
       "13     0.080684 -0.088132      14        1   2.378609, topic_info=         Term        Freq       Total Category  logprob  loglift\n",
       "7851   school  123.000000  123.000000  Default  30.0000  30.0000\n",
       "7603    river  119.000000  119.000000  Default  29.0000  29.0000\n",
       "797     album  102.000000  102.000000  Default  28.0000  28.0000\n",
       "3569   family  117.000000  117.000000  Default  27.0000  27.0000\n",
       "8342  species  115.000000  115.000000  Default  26.0000  26.0000\n",
       "...       ...         ...         ...      ...      ...      ...\n",
       "1993  changes    1.740153    3.718714  Topic14  -6.2676   2.9792\n",
       "8342  species    4.818497  115.365081  Topic14  -5.2492   0.5630\n",
       "7295    reach    1.871339    5.177945  Topic14  -6.1950   2.7209\n",
       "4001    genus    3.750695   81.503606  Topic14  -5.4997   0.6599\n",
       "1402  belongs    1.594009    7.816584  Topic14  -6.3554   2.1487\n",
       "\n",
       "[734 rows x 6 columns], token_table=      Topic      Freq  Term\n",
       "term                       \n",
       "36        1  0.465283    12\n",
       "36        3  0.035791    12\n",
       "36        4  0.071582    12\n",
       "36        5  0.035791    12\n",
       "36        6  0.035791    12\n",
       "...     ...       ...   ...\n",
       "9736      6  0.378487  york\n",
       "9736      7  0.031541  york\n",
       "9773      9  0.841521    īn\n",
       "9774      7  0.884859  łódź\n",
       "9787      9  0.940315  اباد\n",
       "\n",
       "[1344 rows x 3 columns], R=30, lambda_step=0.01, plot_opts={'xlab': 'PC1', 'ylab': 'PC2'}, topic_order=[6, 10, 8, 9, 2, 12, 7, 1, 11, 4, 5, 3, 13, 14])"
      ]
     },
     "execution_count": 398,
     "metadata": {},
     "output_type": "execute_result"
    }
   ],
   "source": [
    "import pyLDAvis.sklearn\n",
    " \n",
    "pyLDAvis.enable_notebook()\n",
    "\n",
    "panel = pyLDAvis.sklearn.prepare(pipeline.named_steps.topic_modelling, \n",
    "                                 pipeline.named_steps.dataprep.transform(X_train), \n",
    "                                 pipeline.named_steps.dataprep.named_steps.count_vectorizer, \n",
    "                                 mds='pca')\n",
    "\n",
    "panel"
   ]
  },
  {
   "cell_type": "markdown",
   "metadata": {},
   "source": [
    "----"
   ]
  },
  {
   "cell_type": "code",
   "execution_count": 399,
   "metadata": {},
   "outputs": [
    {
     "data": {
      "text/plain": [
       "Pipeline(memory=None,\n",
       "         steps=[('dataprep',\n",
       "                 Pipeline(memory=None,\n",
       "                          steps=[('count_vectorizer',\n",
       "                                  CountVectorizer(analyzer='word', binary=False,\n",
       "                                                  decode_error='strict',\n",
       "                                                  dtype=<class 'numpy.int64'>,\n",
       "                                                  encoding='utf-8',\n",
       "                                                  input='content',\n",
       "                                                  lowercase=True, max_df=1000,\n",
       "                                                  max_features=None, min_df=3,\n",
       "                                                  ngram_range=(2, 2),\n",
       "                                                  preprocessor=None,\n",
       "                                                  stop_words=None,\n",
       "                                                  strip_accents=None,\n",
       "                                                  token_patt...\n",
       "                ('topic_modelling',\n",
       "                 LatentDirichletAllocation(batch_size=128, doc_topic_prior=None,\n",
       "                                           evaluate_every=-1,\n",
       "                                           learning_decay=0.7,\n",
       "                                           learning_method='batch',\n",
       "                                           learning_offset=10.0,\n",
       "                                           max_doc_update_iter=100,\n",
       "                                           max_iter=100, mean_change_tol=0.001,\n",
       "                                           n_components=14, n_jobs=None,\n",
       "                                           perp_tol=0.1, random_state=None,\n",
       "                                           topic_word_prior=None,\n",
       "                                           total_samples=1000000.0,\n",
       "                                           verbose=0))],\n",
       "         verbose=False)"
      ]
     },
     "execution_count": 399,
     "metadata": {},
     "output_type": "execute_result"
    }
   ],
   "source": [
    "dataprep = Pipeline([\n",
    "    ('count_vectorizer', CountVectorizer(ngram_range=(2,2), max_df=1000, min_df=3)),\n",
    "    ('tfidf_transformer', TfidfTransformer())\n",
    "])\n",
    "\n",
    "\n",
    "pipeline = Pipeline([\n",
    "    ('dataprep', dataprep),\n",
    "    ('topic_modelling', LatentDirichletAllocation(n_components=14, max_iter=100))\n",
    "])\n",
    "\n",
    "pipeline.fit(X_train, y_train)"
   ]
  },
  {
   "cell_type": "code",
   "execution_count": 400,
   "metadata": {},
   "outputs": [],
   "source": [
    "lda = pipeline.transform(X_test)"
   ]
  },
  {
   "cell_type": "code",
   "execution_count": 401,
   "metadata": {},
   "outputs": [],
   "source": [
    "feature_names = pipeline.named_steps.dataprep.named_steps.count_vectorizer.get_feature_names()"
   ]
  },
  {
   "cell_type": "code",
   "execution_count": 402,
   "metadata": {},
   "outputs": [
    {
     "data": {
      "text/plain": [
       "{0: 'species of is species family it found in',\n",
       " 1: 'she was world war royal navy the royal',\n",
       " 2: 'genus of is genus native to the family',\n",
       " 3: 'is village village in district of population was',\n",
       " 4: 'album by released in was released the album',\n",
       " 5: 'directed by film directed the film member of',\n",
       " 6: 'summer olympics is village village in the municipality',\n",
       " 7: 'arctiidae family the arctiidae the valea diocese of',\n",
       " 8: 'located in high school is located on the',\n",
       " 9: 'published in novel by published by the book',\n",
       " 10: 'is river up to river of to the',\n",
       " 11: 'is an an american best known bavaria germany',\n",
       " 12: 'italian comedy rugby league is an minister of',\n",
       " 13: 'tributary of river in river is is tributary'}"
      ]
     },
     "execution_count": 402,
     "metadata": {},
     "output_type": "execute_result"
    }
   ],
   "source": [
    "topic_id_topic_mapping = {}\n",
    "\n",
    "for i in range(14):\n",
    "    topic_id_topic_mapping[i] = get_topic(i, top_words=4)\n",
    "    \n",
    "topic_id_topic_mapping"
   ]
  },
  {
   "cell_type": "code",
   "execution_count": 403,
   "metadata": {},
   "outputs": [
    {
     "data": {
      "text/plain": [
       "(1000, 2)"
      ]
     },
     "execution_count": 403,
     "metadata": {},
     "output_type": "execute_result"
    }
   ],
   "source": [
    "from sklearn.manifold import TSNE\n",
    "\n",
    "tsne = TSNE(n_components = 2, init = 'pca', random_state = 0)\n",
    "\n",
    "lda_2d_tsne = tsne.fit_transform(lda)\n",
    "lda_df_tsne = pd.DataFrame(lda_2d_tsne)\n",
    "\n",
    "lda_df_tsne.shape\n"
   ]
  },
  {
   "cell_type": "code",
   "execution_count": 404,
   "metadata": {},
   "outputs": [
    {
     "data": {
      "image/png": "[encoded data removed]",
      "text/plain": [
       "<Figure size 1152x576 with 2 Axes>"
      ]
     },
     "metadata": {},
     "output_type": "display_data"
    }
   ],
   "source": [
    "fig, axes = plt.subplots(1, 2, figsize = (16, 8))\n",
    "\n",
    "\n",
    "axes[0].scatter(lda_df_tsne[0], lda_df_tsne[1], c = y_test, cmap = 'Spectral')\n",
    "axes[1].scatter(lda_df_tsne[0], lda_df_tsne[1], c = X_vis['Most_Likely_Topic'], cmap = 'Spectral')\n",
    "\n",
    "axes[0].axis('equal');\n",
    "axes[1].axis('equal');"
   ]
  },
  {
   "cell_type": "code",
   "execution_count": 405,
   "metadata": {},
   "outputs": [
    {
     "data": {
      "text/html": [
       "\n",
       "<link rel=\"stylesheet\" type=\"text/css\" href=\"https://cdn.rawgit.com/bmabey/pyLDAvis/files/ldavis.v1.0.0.css\">\n",
       "\n",
       "\n",
       "<div id=\"ldavis_el3715864181491527882580173\"></div>\n",
       "<script type=\"text/javascript\">\n",
       "\n",
       "var ldavis_el3715864181491527882580173_data = {\"mdsDat\": {\"x\": [1.425140142440796, 93.69695281982422, 141.6940155029297, -126.23350524902344, -59.868133544921875, 151.9666290283203, 12.54269027709961, 49.37258529663086, 203.50599670410156, 119.92347717285156, -19.31559181213379, -95.84105682373047, 37.55474853515625, 243.64891052246094], \"y\": [-203.13143920898438, -55.01815414428711, 25.3204288482666, 5.739787578582764, 101.51930236816406, 133.119140625, -101.44165802001953, 57.773475646972656, -84.54183959960938, -166.0689697265625, -8.882428169250488, -109.37347412109375, 165.05709838867188, 32.73354721069336], \"topics\": [1, 2, 3, 4, 5, 6, 7, 8, 9, 10, 11, 12, 13, 14], \"cluster\": [1, 1, 1, 1, 1, 1, 1, 1, 1, 1, 1, 1, 1, 1], \"Freq\": [17.238141955140826, 11.153804679188031, 8.231860425588453, 8.049457566226785, 7.309498788215306, 6.329595380500043, 6.2650101497171375, 6.202613177993348, 5.875164301254251, 5.378932783419762, 5.044072307070038, 4.570779336475161, 4.2786440192867, 4.072425129924173]}, \"tinfo\": {\"Term\": [\"village in\", \"is village\", \"species of\", \"is species\", \"family it\", \"directed by\", \"album by\", \"district of\", \"genus of\", \"population was\", \"tributary of\", \"film directed\", \"its population\", \"rural district\", \"2006 census\", \"iran at\", \"census its\", \"province iran\", \"found in\", \"river in\", \"the 2006\", \"river is\", \"is genus\", \"is found\", \"is tributary\", \"in romania\", \"romanized as\", \"also romanized\", \"released in\", \"high school\", \"school is\", \"the school\", \"school in\", \"high school\", \"national register\", \"register of\", \"of historic\", \"historic places\", \"is historic\", \"school located\", \"school district\", \"is public\", \"places in\", \"located at\", \"located in\", \"school was\", \"was listed\", \"the building\", \"the church\", \"added to\", \"secondary school\", \"listed on\", \"public high\", \"college is\", \"church of\", \"located on\", \"street in\", \"was added\", \"historic district\", \"middle school\", \"is located\", \"was built\", \"was founded\", \"built in\", \"founded in\", \"the university\", \"the city\", \"the national\", \"city of\", \"university of\", \"united states\", \"the company\", \"part of\", \"on the\", \"one of\", \"and is\", \"to the\", \"by the\", \"is one\", \"the united\", \"known as\", \"and the\", \"new york\", \"directed by\", \"the film\", \"film directed\", \"drama film\", \"and starring\", \"house of\", \"of representatives\", \"film was\", \"and directed\", \"film festival\", \"he served\", \"it stars\", \"film written\", \"film stars\", \"orchid in\", \"film is\", \"politician and\", \"genus bulbophyllum\", \"politician who\", \"was elected\", \"representing the\", \"who served\", \"elected to\", \"was directed\", \"lead roles\", \"republican member\", \"comedy film\", \"horror film\", \"american politician\", \"this film\", \"of orchid\", \"served as\", \"member of\", \"based on\", \"he was\", \"written and\", \"written by\", \"produced by\", \"he is\", \"an american\", \"born in\", \"was an\", \"is an\", \"was born\", \"for the\", \"was the\", \"at the\", \"on the\", \"as the\", \"and the\", \"album by\", \"the album\", \"studio album\", \"album released\", \"album was\", \"an album\", \"debut album\", \"live album\", \"second album\", \"compilation album\", \"is live\", \"was recorded\", \"first album\", \"band the\", \"the band\", \"album of\", \"released on\", \"the billboard\", \"album from\", \"recorded in\", \"the debut\", \"full length\", \"is compilation\", \"records the\", \"fourth album\", \"rock band\", \"records it\", \"records in\", \"album the\", \"album and\", \"released in\", \"was released\", \"released by\", \"the label\", \"and released\", \"metal band\", \"by american\", \"singer songwriter\", \"record label\", \"the fourth\", \"the second\", \"by the\", \"the first\", \"the third\", \"on the\", \"is an\", \"for the\", \"produced by\", \"from the\", \"is tributary\", \"in romania\", \"tributary of\", \"plays for\", \"marine gastropod\", \"gastropod mollusk\", \"mollusk in\", \"sea snail\", \"he played\", \"snail marine\", \"played for\", \"who plays\", \"football player\", \"currently plays\", \"footballer who\", \"of sea\", \"american football\", \"national football\", \"who currently\", \"professional footballer\", \"currently playing\", \"playing for\", \"river in\", \"plays as\", \"player he\", \"college football\", \"made his\", \"major league\", \"played in\", \"league baseball\", \"player who\", \"river is\", \"who played\", \"football league\", \"the family\", \"is former\", \"is an\", \"for the\", \"he is\", \"he was\", \"species of\", \"an american\", \"is species\", \"royal navy\", \"ship of\", \"is lake\", \"launched on\", \"navy in\", \"and commissioned\", \"class destroyer\", \"during world\", \"laid down\", \"area is\", \"was laid\", \"and launched\", \"commissioned on\", \"its surface\", \"the imperial\", \"in command\", \"ii she\", \"second world\", \"the war\", \"imperial japanese\", \"be named\", \"navy she\", \"japanese navy\", \"by mrs\", \"navy launched\", \"germany at\", \"the command\", \"command of\", \"class submarine\", \"she served\", \"was launched\", \"the ship\", \"the royal\", \"world war\", \"states navy\", \"war ii\", \"she was\", \"at an\", \"lake of\", \"the son\", \"class of\", \"launched in\", \"during the\", \"lake in\", \"named for\", \"was the\", \"built for\", \"for the\", \"the united\", \"to the\", \"served in\", \"by the\", \"united states\", \"and was\", \"was an\", \"the second\", \"population was\", \"its population\", \"rural district\", \"iran at\", \"census its\", \"2006 census\", \"province iran\", \"also romanized\", \"romanized as\", \"voivodeship in\", \"administrative district\", \"of gmina\", \"central district\", \"mi south\", \"mi north\", \"the administrative\", \"kilometres mi\", \"lies approximately\", \"poland it\", \"central poland\", \"the 2006\", \"approximately kilometres\", \"the regional\", \"regional capital\", \"mi east\", \"km mi\", \"in families\", \"bosnia and\", \"and herzegovina\", \"poland voivodeship\", \"village in\", \"district of\", \"is village\", \"it lies\", \"the central\", \"east of\", \"district in\", \"west of\", \"at the\", \"also known\", \"family it\", \"is moth\", \"is endemic\", \"moth of\", \"was described\", \"described by\", \"is found\", \"habitat loss\", \"is threatened\", \"of plant\", \"by habitat\", \"or tropical\", \"subtropical or\", \"threatened by\", \"found only\", \"endemic to\", \"its natural\", \"tropical moist\", \"found in\", \"to brazil\", \"state in\", \"the larvae\", \"feed on\", \"only in\", \"larvae feed\", \"wingspan is\", \"the wingspan\", \"the geometridae\", \"geometridae family\", \"natural habitat\", \"plant in\", \"is species\", \"species of\", \"river of\", \"species is\", \"the genus\", \"is river\", \"known from\", \"moth in\", \"the family\", \"river is\", \"native to\", \"the journal\", \"is novel\", \"peer reviewed\", \"journal of\", \"first published\", \"is peer\", \"book was\", \"fiction novel\", \"is science\", \"editor in\", \"novel by\", \"in chief\", \"short stories\", \"scientific journal\", \"novel written\", \"and published\", \"academic journal\", \"reviewed academic\", \"reviewed scientific\", \"published in\", \"the author\", \"published by\", \"science fiction\", \"book is\", \"the magazine\", \"the coleophoridae\", \"coleophoridae family\", \"journal published\", \"originally published\", \"an academy\", \"the book\", \"novel in\", \"is book\", \"american author\", \"was published\", \"is published\", \"the story\", \"set in\", \"the novel\", \"story of\", \"written by\", \"was first\", \"and the\", \"by the\", \"the first\", \"flowering plants\", \"common name\", \"the common\", \"of moths\", \"plants in\", \"east central\", \"masovian voivodeship\", \"county masovian\", \"of algae\", \"moths of\", \"the subfamily\", \"grows in\", \"family known\", \"in taxonomy\", \"known by\", \"specifically of\", \"algae specifically\", \"plant is\", \"of plants\", \"family fabaceae\", \"is genus\", \"of warsaw\", \"genus of\", \"county \\u0142\\u00f3d\\u017a\", \"\\u0142\\u00f3d\\u017a voivodeship\", \"capital \\u0142\\u00f3d\\u017a\", \"in northwestern\", \"is perennial\", \"california where\", \"species include\", \"of flowering\", \"it grows\", \"native to\", \"in east\", \"is native\", \"where it\", \"canton of\", \"flowering plant\", \"the family\", \"they are\", \"north america\", \"it contains\", \"species of\", \"is species\", \"to the\", \"by the\", \"is an\", \"bavaria germany\", \"of bavaria\", \"is 1958\", \"ground beetle\", \"rhode island\", \"of ground\", \"west bengal\", \"work with\", \"is spider\", \"his work\", \"impact crater\", \"outer rim\", \"the dead\", \"pacific coast\", \"the tree\", \"guitarist and\", \"the crater\", \"in asia\", \"new delhi\", \"spider species\", \"work in\", \"western brazil\", \"australian politician\", \"of delegates\", \"singer best\", \"work as\", \"series the\", \"songwriter from\", \"indonesia and\", \"since january\", \"is plant\", \"plant species\", \"american musician\", \"historic house\", \"american singer\", \"and songwriter\", \"new brunswick\", \"solo album\", \"long and\", \"best known\", \"house at\", \"the moon\", \"is an\", \"known for\", \"an american\", \"coast of\", \"mountain of\", \"and the\", \"such as\", \"to the\", \"known as\", \"is mountain\", \"for his\", \"he is\", \"for the\", \"new zealand\", \"tamil nadu\", \"baden w\\u00fcrttemberg\", \"w\\u00fcrttemberg germany\", \"of baden\", \"north rhine\", \"rhine westphalia\", \"westphalia germany\", \"of hesse\", \"hesse germany\", \"first world\", \"nadu india\", \"royal australian\", \"australian navy\", \"the latin\", \"the specific\", \"specific epithet\", \"is footballer\", \"latin meaning\", \"the isle\", \"beetle of\", \"isle of\", \"covered bridge\", \"is tree\", \"tree up\", \"to borneo\", \"navy ran\", \"for amateur\", \"the flowers\", \"korea it\", \"the boat\", \"defender for\", \"tree in\", \"service in\", \"ship was\", \"heavy metal\", \"up to\", \"he currently\", \"is river\", \"as defender\", \"river of\", \"third album\", \"the canadian\", \"to the\", \"as the\", \"from the\", \"by the\", \"known as\", \"for the\", \"arctiidae family\", \"the arctiidae\", \"the valea\", \"county kermanshah\", \"kermanshah province\", \"mm the\", \"of snout\", \"catholic diocese\", \"round of\", \"olt river\", \"the olt\", \"elementary school\", \"nepal census\", \"nepal at\", \"zone of\", \"development committee\", \"1991 nepal\", \"committee in\", \"village development\", \"snout moths\", \"western pacific\", \"kermanshah county\", \"meyrick in\", \"census it\", \"ohio state\", \"qal eh\", \"and malaysia\", \"bollywood film\", \"is bollywood\", \"an operculum\", \"diocese of\", \"moths in\", \"the 1991\", \"state university\", \"time of\", \"records is\", \"is known\", \"is an\", \"the time\", \"length of\", \"it had\", \"pacific ocean\", \"had population\", \"based in\", \"the daisy\", \"daisy family\", \"serbia according\", \"2002 census\", \"the 2002\", \"medal in\", \"mazandaran province\", \"county mazandaran\", \"who competed\", \"he competed\", \"p\\u0101 \\u012bn\", \"rules footballer\", \"the victorian\", \"bronze medal\", \"summer olympics\", \"census the\", \"australian rules\", \"family asteraceae\", \"victorian football\", \"gold medal\", \"silver medal\", \"county kurdistan\", \"kurdistan province\", \"olympics in\", \"zanjan province\", \"county zanjan\", \"competed in\", \"league vfl\", \"australian football\", \"county lubusz\", \"lubusz voivodeship\", \"province turkey\", \"of poland\", \"the municipality\", \"according to\", \"municipality of\", \"has population\", \"played with\", \"competed at\", \"population of\", \"village has\", \"the district\", \"village in\", \"is village\", \"the village\", \"at the\", \"to the\", \"italian comedy\", \"the poaceae\", \"ray finned\", \"poaceae family\", \"grass in\", \"finned fish\", \"league footballer\", \"rugby league\", \"of ray\", \"professional rugby\", \"section at\", \"the araliaceae\", \"araliaceae family\", \"of predatory\", \"un certain\", \"certain regard\", \"regard section\", \"1987 is\", \"sea and\", \"taluk of\", \"in karnataka\", \"imperial german\", \"may 1982\", \"1970 and\", \"predatory sea\", \"taiwanese mandopop\", \"footballer of\", \"screened in\", \"of grass\", \"national rugby\", \"22 april\", \"private university\", \"mollusc in\", \"born 22\", \"karnataka india\", \"is belgian\", \"minister of\", \"american professional\", \"new mexico\", \"of karnataka\", \"fish in\", \"the wyoming\", \"is an\", \"the european\", \"an american\", \"located in\", \"with the\", \"one of\", \"was one\", \"at the\", \"the world\"], \"Freq\": [58.0, 60.0, 65.0, 61.0, 39.0, 51.0, 40.0, 36.0, 36.0, 29.0, 33.0, 38.0, 28.0, 28.0, 28.0, 28.0, 28.0, 28.0, 31.0, 35.0, 29.0, 39.0, 33.0, 29.0, 30.0, 30.0, 26.0, 26.0, 34.0, 46.0, 29.16673109283873, 26.165081859792014, 22.881898422454306, 44.645866603360005, 17.701118021330505, 16.9481988916488, 16.87233670465308, 16.587248794096478, 16.330309028941453, 15.416519689659737, 14.751929004574418, 12.508376221592519, 12.474140997686348, 16.345785831153247, 46.301917991918415, 9.607704518963907, 9.314154274076053, 9.154114712540727, 9.054858232888016, 8.928905238995048, 11.20183968290739, 11.92318968450981, 8.575087157271115, 8.3096332719176, 7.941535337824145, 12.433117174471652, 7.188534614658562, 7.105251853302785, 7.00698842105747, 6.379635940920692, 30.345253325285135, 22.233812196428673, 17.579327162603356, 22.051564445196355, 22.194039766378168, 17.33031465618319, 13.131147596895778, 21.476379862442364, 11.49947158396063, 16.64620315633913, 28.536190049803963, 16.193294724902273, 20.52618030346042, 29.94292726132009, 21.33315580794788, 18.974906293239005, 25.450619813123993, 22.28391899486647, 14.606411440522049, 17.417237617400975, 18.24726536127909, 17.42224380430604, 16.285160716011443, 50.18567091561688, 31.67226943326232, 37.813317005672005, 14.035412225853463, 12.554006068586927, 13.928366189302182, 11.217699713282185, 9.508850759907467, 10.174195193850517, 7.936585760932763, 7.64362836343271, 7.493672287751904, 7.124027647543771, 6.988653301961464, 6.824728239500124, 6.743643039289416, 9.04228989849187, 6.615396786711751, 6.453761028291322, 6.202964140885144, 6.167541239347456, 6.7674080643251875, 5.238672413965001, 5.139511220641335, 5.090298687860519, 4.686119122822682, 13.397515332832544, 5.391391017814627, 6.274226428350427, 3.6979651056858445, 10.77562891462314, 14.523956446915054, 25.65484528911746, 13.782155144801333, 22.13854488561168, 7.472834946583847, 10.663422917109424, 9.716830837102778, 9.703533825148726, 12.042357411656642, 8.926669383001517, 10.524308539758557, 12.833255189344726, 8.050052729225229, 10.600392421425338, 9.37857425026022, 9.80732786173519, 8.669669929961772, 8.199553823290374, 8.189525717761851, 40.26367212353379, 24.060061991915344, 18.782545021298336, 10.745070761653386, 10.315289003506967, 10.18165085417256, 8.596009553705072, 7.263432014422958, 6.826943333023567, 5.557543971679311, 5.236547765991927, 5.216548332228203, 4.937152157580093, 4.604204789247883, 11.792995995808361, 4.476022364878394, 21.986498231597064, 4.222133297328134, 5.446974793721691, 5.756603957535854, 6.931168270284039, 4.551284174972423, 3.648664571549467, 3.570502627066959, 3.3818703243857446, 9.157517586440141, 3.3145072764228214, 3.8196480762672635, 3.112014099178532, 3.0838028089543963, 28.539067277811952, 25.388919474786974, 11.024232810782886, 5.275167755286061, 6.196757801131867, 6.674539691301963, 8.96317200432701, 7.780575788856343, 5.684265931183671, 6.390259891775031, 9.61271787569826, 15.104083447952396, 11.652370019764067, 7.46942180966562, 13.887645335551687, 9.8909773090316, 7.23587790930021, 6.070844408519658, 5.91338703347235, 29.898341353018573, 29.742529534270968, 32.67243934456742, 14.523468264856891, 11.291821898448504, 10.65458022970607, 9.964887654616318, 9.583105109521123, 12.346432991066626, 8.896734155954386, 9.826165569359054, 12.158483373632134, 7.509192584123283, 7.359753037779888, 16.797815019152374, 8.483157783007078, 6.544743904612907, 6.0835745543429125, 5.843318578615584, 5.761202146887497, 5.5233677657308435, 5.30553167666055, 31.371344233046567, 4.987154013059593, 4.373943275687205, 4.260097687694185, 4.243384212398797, 4.102940930946709, 5.625189299173147, 3.9903814709255467, 6.401239625503155, 31.052437906991578, 9.348065008845, 7.3925849415931, 16.4710415528571, 8.979534499216756, 13.032477693515341, 10.925421085286617, 7.487850899671146, 8.166590319635182, 8.886704451597133, 8.042759765523579, 8.51645149518016, 10.177548084396726, 6.870761152804643, 7.740065910137688, 6.196344880892941, 4.181810362845729, 3.9265230730172043, 3.8308092019649482, 6.585676825675117, 4.216834043452448, 3.6394951807509943, 3.366970197022054, 3.275886079867181, 2.9963669910194497, 2.993312352457456, 3.2864224980755887, 2.770312971462635, 2.686840803266052, 3.2603418617917272, 3.160640782507874, 2.4223221810832403, 2.3342794431329486, 2.3194947463180946, 2.3134175684954723, 2.295611062140678, 2.2603650699934486, 2.0934220478886263, 2.0739860574415747, 2.0739860574415747, 2.0651834426070836, 3.243471198636458, 4.7220908395530925, 4.7922419213203895, 9.976684185351772, 13.454321368981487, 6.498224552797033, 8.449320375535, 17.679130556005706, 3.455383622728036, 3.20387253378134, 3.5069582528386642, 4.573944723759727, 4.210058074828343, 6.9166790962832945, 4.968049520613326, 4.1034487370732275, 7.5924580802155095, 4.08512683778679, 7.720135677113327, 6.330088134434919, 6.9488028287358645, 3.969950431390185, 6.31485407077184, 5.732226743900394, 4.985866331561282, 5.025884028841577, 4.169918851166859, 29.13032439687222, 27.966950154659312, 27.913760566068817, 27.913760566068817, 27.913760566068817, 27.913760566068817, 27.913760566068817, 26.332284437594797, 26.332284437594797, 17.155804264555012, 17.155804264555012, 16.89111507854329, 16.46905219881767, 13.541117101646304, 12.616055781084338, 17.07163194928508, 12.509581350893574, 12.110205691679798, 11.775967973601528, 10.56154768807997, 28.221418809606483, 10.065405350361356, 9.898167277193735, 9.868828628335098, 6.536257531386379, 5.829598996337698, 5.1636645157483905, 5.008728702758463, 5.008728702758463, 4.583327755100303, 49.35125323040276, 30.546984008311483, 49.643205230962444, 12.404161601499657, 16.385494388472207, 14.220664105364646, 17.639820712024456, 12.806334336232261, 22.58665790806384, 11.406585762325259, 39.154975981731695, 18.6901064244498, 22.49470791223073, 17.13333458096241, 10.56535527543969, 11.256877881739602, 28.039349359452505, 7.683331150419264, 7.616599311419725, 16.928353387158385, 7.239683995450676, 6.9191625915591075, 6.9191625915591075, 7.471683633480972, 6.363576349721183, 24.65253000654798, 6.137431072815804, 5.241657161021113, 28.361931550668775, 4.777360025361054, 5.237157421132009, 4.393335956447219, 4.357051627071066, 6.332772858188851, 4.010038782428719, 3.9392914223802458, 3.8601224282576774, 3.8380993476002434, 3.8380993476002434, 3.4939105531099806, 20.168181265742522, 41.40389169430741, 42.444962992977636, 13.48097545479173, 6.60863836323212, 15.912358096196144, 12.931044576870333, 5.308977065520201, 5.71637844823773, 6.843358463581438, 6.848670683593803, 5.321867523208555, 6.1832664496408665, 5.715414927998239, 5.5437426796979885, 5.028365988595565, 9.361238040655559, 3.9780774172158955, 3.6323258339678177, 3.5439839572285954, 3.4513574214379226, 3.0869588893579625, 13.702801148968273, 3.4990066852533714, 3.553029335355293, 2.9086677946091726, 4.504077626672583, 3.206092488284582, 3.2275195227656535, 2.482188377729882, 2.4196435973458867, 14.904763889114818, 3.1359993068191567, 11.097376924675599, 9.273361747276356, 2.0167344333141366, 3.5500830224931774, 1.951642053461093, 1.951642053461093, 1.9399045553674026, 2.4041448438722606, 2.478985379143241, 9.369251163018621, 2.925669582841001, 3.662799878650329, 3.665878351762067, 5.129307365570034, 3.132912645605075, 6.514123211437747, 3.9191578054611855, 4.652289525364583, 3.9449638198132724, 6.702054363345157, 4.958190041711902, 5.766065408651445, 4.71741927529739, 3.453585125878385, 8.262457855817182, 6.839809590015167, 7.547566695977503, 5.323517065757873, 7.614385664107839, 5.03561339125275, 4.628694235005215, 4.628694235005215, 4.138271986649254, 3.8975900067240006, 3.538825755282389, 4.04151186427387, 2.977451907543872, 2.9528247973793316, 7.402597680590096, 2.709585939065119, 2.7095859390651196, 2.6725008210457526, 2.6317396410253204, 2.552691902569394, 26.678768501267314, 2.377588697348781, 28.751512877182055, 2.2767591809975016, 2.2767591809975016, 2.2767591809975016, 2.1196157910715545, 3.1864140279985143, 2.029539304980148, 1.9718329647054418, 10.070545720263691, 4.806580112692832, 11.424979954373946, 4.862931799163699, 5.853837988284545, 5.35711754128935, 2.8469151147021625, 5.2535972325588745, 10.474313956928725, 4.747374707640429, 4.634751751236143, 3.7452157740294143, 8.497439886260928, 5.7728912341434535, 5.839467585883844, 5.16594204123453, 3.958074800687075, 3.65655954504369, 3.5710317648423215, 1.9004094762752122, 1.8035437585772678, 2.1705227713237067, 1.6646375586066744, 1.8174704169843174, 1.6969411843548123, 1.385989392907139, 3.4879934514023647, 1.2745105713439162, 1.2606629597793362, 1.246941465211606, 1.2418531358219103, 1.8164218974297532, 1.5555604788614308, 1.4519224220939007, 1.3733158302102526, 1.4583966654052165, 1.1159298346317001, 1.643013597983733, 1.069224359154097, 1.0185440596740276, 1.220714972288409, 1.0024960203059832, 1.2195452648174026, 1.3557354028850341, 1.1644725123922115, 0.9692742897285849, 1.5933691665684724, 2.4244998368706847, 2.0631412844386205, 1.6950141901927964, 1.7512122221951643, 2.362102402112629, 1.9547202912783417, 1.7855009389634888, 2.12915369646933, 1.968084576533434, 3.6890085830067423, 1.7027575309201082, 1.7935123787721978, 7.835485491022351, 3.391536569192924, 4.410916475171399, 1.8410965075209949, 2.3252123687121755, 3.3363912214404605, 2.346483616728251, 3.081866583201428, 2.359449164914312, 2.051222939227144, 1.8871460426425608, 1.9619132687435372, 1.9349293803460816, 1.8216405108341664, 2.3870940593464836, 2.382927513466407, 2.2371315801765155, 2.2115803881498666, 2.208629439820493, 2.208629439820493, 2.096321209379804, 1.892261383142028, 1.892261383142028, 1.8837674321091173, 1.8462369997587988, 1.8305146646006585, 1.7423143485150143, 1.6467795392288103, 1.935093402510777, 1.8259618125279455, 1.3268659378532444, 1.3247635289292956, 1.3057851076092093, 1.277376616931654, 1.5790516992051928, 1.2247009607646393, 1.6990914515388293, 1.2126469655942869, 1.1870301106507009, 1.1701189283918427, 1.081933811387901, 1.2670591580306148, 1.046049139275821, 1.027956710643512, 1.3084864579132702, 1.8279601089361823, 2.8393087778126826, 1.9906694726757048, 2.035390512686921, 3.5290732311243147, 1.7874742438275646, 3.892136169278527, 1.5412463100381077, 3.4850311645831207, 1.7917908379290455, 1.6871169164186504, 2.9573345661204686, 2.2674939109929837, 1.972571151383939, 1.8210152395361618, 1.7710245210073812, 1.7450485746812927, 5.54453968912073, 5.54453968912073, 3.340372244934396, 2.6103903050121913, 2.6103903050121913, 2.3405158615489743, 2.130131649852939, 1.9899667104657905, 1.981124004110479, 1.8254681568733162, 1.8254681568733162, 2.294150851792229, 1.7733120424156044, 1.7733120424156044, 1.7733120424156044, 1.7277172273241848, 1.6308202143137558, 1.630820214313756, 1.630820214313756, 1.5987021730109814, 1.5668969971234776, 1.513121604641099, 1.5081042401713944, 1.755592731825692, 1.383371566433971, 1.3719417498495126, 1.2936681387780262, 1.9424945404085043, 1.2387235288086647, 1.2374742430994998, 2.8059518097526595, 1.8027116921557478, 1.7731025816211146, 2.3306240486966607, 1.8731249139201358, 1.7960211265281796, 2.257086944747082, 2.6194220665204644, 1.8557748812503023, 1.7502731079836333, 1.7138896792399863, 1.6647296152312923, 1.6787359650361404, 1.71789452830521, 4.476444238834464, 4.367176219293545, 4.1657886214890825, 4.1657886214890825, 4.6085367544684805, 2.85573003990847, 2.6887755582458603, 2.6887755582458603, 2.667389581391517, 2.439289463037192, 2.4348455196143584, 2.4162935318687615, 2.72671539491882, 2.3109762471036897, 5.752512303989229, 4.543671868390932, 2.59767504220755, 2.5977496737973524, 1.6396319520101659, 1.506309577123194, 1.4906643092766665, 1.4627901739070457, 1.4627901739070457, 2.9553219099975263, 1.3830584351915434, 1.3830584351915434, 3.272041984395282, 1.3404494400502915, 1.295793472712137, 1.218991800598642, 1.218991800598642, 4.3922746924282965, 1.5908592974992288, 5.237536665812192, 4.146730796584794, 5.003310263160311, 3.892492583929746, 2.1164633999776186, 1.806035214677432, 3.9692154212618833, 3.236148514684116, 3.0486655723858487, 5.473016777375381, 5.499776393622732, 3.3694085286863054, 3.9579249620060186, 3.4658225071688413, 2.78339241321104, 1.9606750936508355, 1.9393316912862142, 1.8462734034577357, 1.8462734034577357, 1.9135293184085116, 1.351810703445797, 2.3665107349157504, 1.71325929472964, 1.1219143212606502, 1.2496792344714005, 1.0136196845690104, 1.0136196845690104, 1.0027607788029804, 0.9659204387759571, 0.9659204387759571, 0.9659204387759571, 1.8819455196952475, 0.9383154374804096, 0.934527869593385, 0.934527869593385, 0.8688566531308591, 0.8557333232468317, 0.991721012206021, 0.8161328616665002, 0.8077982862849941, 0.8077917003985381, 0.9464794890018994, 1.7967849192440564, 0.799676649207843, 1.0793701141999277, 1.4981553264755574, 0.9907084895513034, 1.4777004891581325, 1.425040729253895, 1.1038052196230275, 2.09797719355721, 1.3580925351351405, 1.4157351400209777, 1.2100957283929945, 1.2171279984438432, 1.0417150764550223, 2.3289976424758914, 1.1589641943893882, 1.520069498646488, 1.4776327606119017, 1.3563554828338433, 1.2680061124908815, 1.1202833525773002, 1.2662096049181055, 1.1614982096120001], \"Total\": [58.0, 60.0, 65.0, 61.0, 39.0, 51.0, 40.0, 36.0, 36.0, 29.0, 33.0, 38.0, 28.0, 28.0, 28.0, 28.0, 28.0, 28.0, 31.0, 35.0, 29.0, 39.0, 33.0, 29.0, 30.0, 30.0, 26.0, 26.0, 34.0, 46.0, 29.767570463818284, 26.765922992827484, 23.482742220728905, 46.06131635040082, 18.30195719046456, 17.549039726614563, 17.47317588259847, 17.188087957393442, 16.93114862127541, 16.017358927618528, 15.439970040528905, 13.109215480312704, 13.074980179526943, 17.24787525833074, 49.12808748949981, 10.20854397355153, 9.914993498424234, 9.754954235807338, 9.655698212466486, 9.529744470105914, 11.965974283051663, 12.755749809876951, 9.175926276867795, 8.910472807570425, 8.542375265569863, 13.46560464033737, 7.789374224857452, 7.706091153742995, 7.607827615701708, 6.980475256802804, 33.30608937017668, 24.668125506140797, 19.481697318365132, 24.962679681280957, 25.941874967561134, 20.762876233250505, 15.308540407548422, 28.70505380428379, 13.180138258092546, 22.20154803690716, 46.964734860823675, 22.104562320272652, 32.80484299735695, 66.13014718643808, 36.64515138603471, 33.025354671284894, 66.6827296491617, 63.69468935375457, 20.153548085370787, 35.105164754196295, 50.626343337078424, 54.518902710509444, 28.613754970554208, 51.31456335076214, 32.494502989577526, 38.987238596367256, 14.639004913330245, 13.157598855865883, 14.771490267349858, 11.9275027278703, 10.112443552974623, 10.897896379440127, 8.540178448207929, 8.247221649056163, 8.097265235553953, 7.727620171580332, 7.592245923642836, 7.428320679902788, 7.3472358486581495, 9.865136659526543, 7.21898910025047, 7.0573549668393705, 6.80655707147708, 6.771134008936376, 7.472219086724243, 5.842265440906519, 5.74310446334816, 5.693891271041771, 5.289711860720003, 15.188522879921393, 6.178226061627251, 7.207471262650996, 4.301557867082121, 12.799910573154053, 18.22473932069474, 36.629743776306704, 19.16224016625143, 36.44910471872148, 9.483093088827049, 21.33131907112091, 19.234303840596834, 21.273398508516454, 37.92486728103394, 18.835125712802395, 34.96674168406635, 74.24437213480178, 14.496567839565403, 56.9404554636966, 34.48381984810105, 63.61073542960785, 66.13014718643808, 38.867658924422656, 54.518902710509444, 40.86923656309974, 24.66562619466498, 19.388109116931638, 11.350634892513419, 10.92085305726856, 10.787214984518478, 9.201573952938976, 7.868996037200609, 7.432508354876036, 6.163108026835198, 5.842111818535803, 5.822112445215857, 5.542716270725871, 5.209770087756592, 13.345795301975908, 5.081587105408245, 25.061292009646966, 4.827697340432269, 6.301841974787192, 6.671642835736934, 8.04958607458236, 5.306644454443617, 4.2542286303431345, 4.176066757018021, 3.987434464451836, 10.801839223059364, 3.9200712775059996, 4.5350505971028765, 3.717578218355155, 3.689367043671994, 34.16581864685008, 30.813422673719327, 13.499803202997363, 6.326541230168956, 7.537368145242785, 8.15113930113528, 11.31117813547726, 11.03294752014818, 7.6488008904564015, 9.42169934545043, 23.15977178356243, 63.69468935375457, 38.81299084833091, 14.209405778403987, 66.13014718643808, 74.24437213480178, 56.9404554636966, 19.234303840596834, 39.44264836086483, 30.504681727396626, 30.348870915737105, 33.531755259794025, 15.129809309191746, 11.898162318484225, 11.260920753946253, 10.571228202900254, 10.18944555900143, 13.148301682055857, 9.503074610126179, 10.5003462596683, 12.99850496807455, 8.115534686522208, 7.966093693964115, 18.217903531160346, 9.223332076864837, 7.151084858510218, 6.689915363533341, 6.449659208033475, 6.367542875289937, 6.129708350128999, 5.911872294472751, 35.141380127697815, 5.593494522085969, 4.980284009630072, 4.866438297905456, 4.849725096347235, 4.709281681318602, 6.478479994787412, 4.596722224023641, 7.4776124136397435, 39.67241253636416, 11.67463535649869, 9.792539667568002, 36.783365287968145, 18.388737618967305, 74.24437213480178, 56.9404554636966, 21.273398508516454, 36.44910471872148, 65.76651455353091, 37.92486728103394, 61.588055319272286, 10.783669815460023, 7.476882913369011, 8.493657373727412, 6.989999865655657, 4.787932301073193, 4.53264478914875, 4.4369308786834445, 7.6404363436865665, 4.917322440235263, 4.2456216934652415, 3.9730920200106437, 3.882008011090922, 3.6024886691003895, 3.5994338381761475, 3.9905657444704605, 3.3764346644841665, 3.2929625732018972, 4.030270170705981, 3.919243199994374, 3.02844384719605, 2.9404010888778065, 2.9256164472129136, 2.9195392279121517, 2.901732960982858, 2.8664866537994826, 2.699543752706297, 2.6801077329420653, 2.6801077329420653, 2.6713051416343343, 4.200552749275922, 6.11649090580262, 6.227765835507284, 13.194696925888175, 18.207125733790875, 8.779261329515826, 11.733285034647782, 26.514141501178834, 4.518920385390502, 4.200968128312038, 4.782775783627812, 7.5343177971410125, 6.623625743917634, 17.67560211790363, 9.601889141333416, 7.390492287130514, 34.48381984810105, 7.807720610467777, 56.9404554636966, 35.105164754196295, 66.6827296491617, 8.114098375564213, 63.69468935375457, 46.964734860823675, 26.129920795095323, 34.96674168406635, 23.15977178356243, 29.737852373795377, 28.57447727795636, 28.521287683705474, 28.521287683705474, 28.521287683705474, 28.521287683705474, 28.521287683705474, 26.9398115561952, 26.9398115561952, 17.76333148743096, 17.76333148743096, 17.49864230476344, 17.076582423234804, 14.14864473911549, 13.223582973448721, 17.89746707493498, 13.117108691345107, 12.717732859601165, 12.383495144523286, 11.169074847585593, 29.889413148830336, 10.672932526681823, 10.505694622586633, 10.476355831568227, 7.143784721321341, 6.437126264011232, 5.771191634242151, 5.616256106291622, 5.616256106291622, 5.190854832192995, 58.00863273977143, 36.33983208659768, 60.41511759827785, 14.756681491401235, 20.71059364845664, 19.17511920226857, 26.929095771433193, 17.518058919671674, 63.61073542960785, 32.862428847354, 39.76341822627571, 19.298545074860574, 23.25975031953669, 17.74177324138833, 11.173795371075842, 11.987243376664543, 29.988184261760146, 8.291769633067526, 8.225037801538805, 18.33459511134249, 7.848122464634139, 7.527601018888724, 7.527601018888724, 8.180106126003771, 6.972014879298524, 27.019312732521485, 6.745869546264049, 5.850095587646109, 31.891368357799553, 5.385798713301213, 5.942692071424429, 5.001774709968568, 4.9654904010272825, 7.2571660290258855, 4.618477555482206, 4.547730181864475, 4.468561178775729, 4.44653779867672, 4.44653779867672, 4.1023490095356285, 24.345599030486927, 61.588055319272286, 65.76651455353091, 18.913022043888347, 8.633573455120494, 27.300780551569684, 22.58615128061657, 6.736808224314565, 7.9167489300499065, 36.783365287968145, 39.67241253636416, 18.033955431824293, 6.790928262061811, 6.323076963641226, 6.151404791859951, 5.636027938652813, 10.710735255572626, 4.585739091888036, 4.239987875199327, 4.151645750437326, 4.059020243045719, 3.694621391463863, 16.42657784332845, 4.212292281316472, 4.283449056194082, 3.5163295105934056, 5.452896755492123, 3.9458768339026675, 3.990070868025265, 3.089850116740957, 3.02730522715243, 18.77554913796032, 3.9821977969479114, 14.112806526894238, 11.954098764193292, 2.624396576711137, 4.634011766086028, 2.559304629469106, 2.559304629469106, 2.547566464920227, 3.1668447174985963, 3.2763877680499656, 13.02349686050866, 3.9509063224461407, 5.1456605695487285, 5.15598199074861, 7.680537696542691, 4.40173189850453, 11.536451792678625, 6.361262866104339, 8.432463382449834, 6.790418397600979, 21.33131907112091, 12.941219978845377, 54.518902710509444, 63.69468935375457, 38.81299084833091, 8.871098801661084, 7.44845172839908, 8.351385924499123, 5.932157809211715, 8.533884925458308, 5.644254992761289, 5.237335721791237, 5.237335721791237, 4.746912566289703, 4.506230638531982, 4.147467137401085, 4.749868137184395, 3.5860926726004805, 3.561465372655858, 8.982798670691386, 3.3182265118702983, 3.3182265118702987, 3.281142149788609, 3.240380551393441, 3.161333027963884, 33.38892638664927, 2.986232385299938, 36.32331754438236, 2.8854026312598307, 2.8854026312598307, 2.8854026312598307, 2.728256577694738, 4.13758276842591, 2.6381800612945367, 2.5804739454073773, 14.042324646331144, 6.706641710799925, 18.033955431824293, 7.131883834425163, 10.300142395737714, 9.552815429635544, 3.9463038149527736, 10.429813504305443, 36.783365287968145, 10.508329764367565, 10.49376179946195, 6.813329079639601, 65.76651455353091, 61.588055319272286, 66.6827296491617, 63.69468935375457, 74.24437213480178, 4.265805296424125, 4.180277215461821, 2.509657905488206, 2.41278962932854, 2.9415873113705864, 2.2738834356086484, 2.6087935830921936, 2.4398254163449646, 1.9952350179010496, 5.144843268065485, 1.8837562577716536, 1.8699086827936207, 1.8561935837160877, 1.8510998576374529, 2.7106792821944072, 2.3436061878081165, 2.190787471094567, 2.0968406566120867, 2.2515882305681543, 1.7251752786225665, 2.5641570394004467, 1.6784722182036969, 1.6277905816016909, 1.9599253405078187, 1.6117416635147832, 1.973173948114878, 2.201613494305286, 1.89457299563987, 1.5785222034790383, 2.623941077752925, 4.024217089249055, 3.5505386894032114, 2.8673033317459122, 3.086245121660782, 4.626403969495728, 3.845343418018628, 3.4366170252487924, 4.468583812250847, 3.9806941710895534, 12.216251930565214, 3.336712372380731, 3.7458378829655095, 74.24437213480178, 15.564331586952733, 37.92486728103394, 4.3373320983473596, 9.88337454662624, 54.518902710509444, 13.879133826253764, 66.6827296491617, 50.626343337078424, 16.850619152434668, 11.825170424453436, 21.273398508516454, 56.9404554636966, 12.836244407848895, 2.9968825358578024, 2.9927144503026044, 2.8469183406318987, 2.8213672738258535, 2.8184163330968333, 2.8184163330968333, 2.7061081085125998, 2.5020481324200716, 2.5020481324200716, 2.493555878396873, 2.4560243206433454, 2.4403059890525647, 2.3521020973308477, 2.2565665642302, 2.8101999819616323, 2.662550161207217, 1.9366603154802229, 1.9345503063006122, 1.915573134305057, 1.88716356588744, 2.3609687360986586, 1.8344881959847212, 2.5491943507047767, 1.8224342863661187, 1.7968179095743073, 1.7799067047935497, 1.691720704584228, 1.9985093430182546, 1.6558397078682439, 1.6377446908928934, 2.1371832781050686, 3.126224901395874, 5.686350097882199, 3.6635166151543412, 3.9047833075563845, 11.3517181349361, 3.8573310956444713, 22.58615128061657, 3.035918558827335, 18.913022043888347, 4.840532996696368, 5.25835720275702, 66.6827296491617, 38.867658924422656, 39.44264836086483, 63.69468935375457, 50.626343337078424, 56.9404554636966, 6.155407280516171, 6.155407280516171, 3.9512400749686973, 3.221258372266788, 3.221258372266788, 2.951394431794858, 2.7409991640870235, 2.600834362630113, 2.5919915216108977, 2.4363349928341265, 2.4363349928341265, 3.0805675128847803, 2.3841785312603445, 2.3841785312603445, 2.3841785312603445, 2.338587364472026, 2.2416866859023274, 2.241686685902328, 2.241686685902328, 2.2095696681961075, 2.177764066781341, 2.1239890688109977, 2.1189719658110286, 2.5015270508876504, 1.994240828150053, 1.9828090832764633, 1.9045362012601832, 2.8628325958640146, 1.849590907360776, 1.8483413265146917, 4.3733867591622975, 2.8841808249043464, 2.9745654413901086, 5.701276730150321, 4.362598720420304, 4.059805253732462, 11.427428642395993, 74.24437213480178, 7.014850106966195, 5.581922382054162, 6.0496042426196865, 3.7372420916535445, 5.224273792810144, 22.344050508422345, 5.088146208385849, 4.978878181906222, 4.777489243084277, 4.777489243084277, 5.553167764539979, 3.467431130984405, 3.3004781355819066, 3.3004781355819066, 3.2790909357636537, 3.0509902910056175, 3.046547071038824, 3.0279945100488312, 3.440907359065856, 2.9226773008292524, 7.291226315963682, 5.783811656594894, 3.3536951397335573, 3.5021967881427094, 2.2513327825174376, 2.118010994204245, 2.1023654262597287, 2.074492894726378, 2.074492894726378, 4.255542286555234, 1.9947610705160281, 1.9947610705160281, 4.761227275076826, 1.952150326687633, 1.9074948322847187, 1.8306928273183765, 1.8306928273183765, 6.7552998004258, 2.4581439656083885, 11.600505196098249, 9.11004296513597, 12.148398512000096, 10.809529468846566, 4.105329171690798, 3.0947535248741453, 15.381590098032637, 10.277898619462485, 10.712072897185376, 58.00863273977143, 60.41511759827785, 17.457652583977193, 63.61073542960785, 66.6827296491617, 3.395689473058626, 2.5729711869481386, 2.551627403027671, 2.458569328941471, 2.458569328941471, 2.696406957220991, 1.9641063526978833, 3.478624311474971, 2.52960821609824, 1.7342102025923776, 1.983837101065811, 1.6259165190224163, 1.6259165190224163, 1.6150582714694077, 1.5782160833969732, 1.5782160833969732, 1.5782160833969732, 3.091306715767276, 1.5506154568210944, 1.5468232887300584, 1.5468232887300584, 1.4811541645084552, 1.4680296804450856, 1.716367310278014, 1.428429090054435, 1.4200969750066306, 1.4200874074400578, 1.6666381110689943, 3.1689850532878556, 1.411972171484372, 1.9394735439668385, 2.7543632736356267, 1.7749387209629361, 2.8729636646024668, 3.1915057310321595, 2.2523714689242906, 9.581120315379307, 3.847742253880419, 5.137421522896919, 3.3293614093052435, 3.693680921342645, 2.1442041850540283, 74.24437213480178, 4.531418631031175, 37.92486728103394, 49.12808748949981, 32.904704955916145, 36.64515138603471, 6.8501205390383335, 63.61073542960785, 13.172016816839601], \"Category\": [\"Default\", \"Default\", \"Default\", \"Default\", \"Default\", \"Default\", \"Default\", \"Default\", \"Default\", \"Default\", \"Default\", \"Default\", \"Default\", \"Default\", \"Default\", \"Default\", \"Default\", \"Default\", \"Default\", \"Default\", \"Default\", \"Default\", \"Default\", \"Default\", \"Default\", \"Default\", \"Default\", \"Default\", \"Default\", \"Default\", \"Topic1\", \"Topic1\", \"Topic1\", \"Topic1\", \"Topic1\", \"Topic1\", \"Topic1\", \"Topic1\", \"Topic1\", \"Topic1\", \"Topic1\", \"Topic1\", \"Topic1\", \"Topic1\", \"Topic1\", \"Topic1\", \"Topic1\", \"Topic1\", \"Topic1\", \"Topic1\", \"Topic1\", \"Topic1\", \"Topic1\", \"Topic1\", \"Topic1\", \"Topic1\", \"Topic1\", \"Topic1\", \"Topic1\", \"Topic1\", \"Topic1\", \"Topic1\", \"Topic1\", \"Topic1\", \"Topic1\", \"Topic1\", \"Topic1\", \"Topic1\", \"Topic1\", \"Topic1\", \"Topic1\", \"Topic1\", \"Topic1\", \"Topic1\", \"Topic1\", \"Topic1\", \"Topic1\", \"Topic1\", \"Topic1\", \"Topic1\", \"Topic1\", \"Topic1\", \"Topic1\", \"Topic2\", \"Topic2\", \"Topic2\", \"Topic2\", \"Topic2\", \"Topic2\", \"Topic2\", \"Topic2\", \"Topic2\", \"Topic2\", \"Topic2\", \"Topic2\", \"Topic2\", \"Topic2\", \"Topic2\", \"Topic2\", \"Topic2\", \"Topic2\", \"Topic2\", \"Topic2\", \"Topic2\", \"Topic2\", \"Topic2\", \"Topic2\", \"Topic2\", \"Topic2\", \"Topic2\", \"Topic2\", \"Topic2\", \"Topic2\", \"Topic2\", \"Topic2\", \"Topic2\", \"Topic2\", \"Topic2\", \"Topic2\", \"Topic2\", \"Topic2\", \"Topic2\", \"Topic2\", \"Topic2\", \"Topic2\", \"Topic2\", \"Topic2\", \"Topic2\", \"Topic2\", \"Topic2\", \"Topic2\", \"Topic2\", \"Topic2\", \"Topic3\", \"Topic3\", \"Topic3\", \"Topic3\", \"Topic3\", \"Topic3\", \"Topic3\", \"Topic3\", \"Topic3\", \"Topic3\", \"Topic3\", \"Topic3\", \"Topic3\", \"Topic3\", \"Topic3\", \"Topic3\", \"Topic3\", \"Topic3\", \"Topic3\", \"Topic3\", \"Topic3\", \"Topic3\", \"Topic3\", \"Topic3\", \"Topic3\", \"Topic3\", \"Topic3\", \"Topic3\", \"Topic3\", \"Topic3\", \"Topic3\", \"Topic3\", \"Topic3\", \"Topic3\", \"Topic3\", \"Topic3\", \"Topic3\", \"Topic3\", \"Topic3\", \"Topic3\", \"Topic3\", \"Topic3\", \"Topic3\", \"Topic3\", \"Topic3\", \"Topic3\", \"Topic3\", \"Topic3\", \"Topic3\", \"Topic4\", \"Topic4\", \"Topic4\", \"Topic4\", \"Topic4\", \"Topic4\", \"Topic4\", \"Topic4\", \"Topic4\", \"Topic4\", \"Topic4\", \"Topic4\", \"Topic4\", \"Topic4\", \"Topic4\", \"Topic4\", \"Topic4\", \"Topic4\", \"Topic4\", \"Topic4\", \"Topic4\", \"Topic4\", \"Topic4\", \"Topic4\", \"Topic4\", \"Topic4\", \"Topic4\", \"Topic4\", \"Topic4\", \"Topic4\", \"Topic4\", \"Topic4\", \"Topic4\", \"Topic4\", \"Topic4\", \"Topic4\", \"Topic4\", \"Topic4\", \"Topic4\", \"Topic4\", \"Topic4\", \"Topic4\", \"Topic4\", \"Topic5\", \"Topic5\", \"Topic5\", \"Topic5\", \"Topic5\", \"Topic5\", \"Topic5\", \"Topic5\", \"Topic5\", \"Topic5\", \"Topic5\", \"Topic5\", \"Topic5\", \"Topic5\", \"Topic5\", \"Topic5\", \"Topic5\", \"Topic5\", \"Topic5\", \"Topic5\", \"Topic5\", \"Topic5\", \"Topic5\", \"Topic5\", \"Topic5\", \"Topic5\", \"Topic5\", \"Topic5\", \"Topic5\", \"Topic5\", \"Topic5\", \"Topic5\", \"Topic5\", \"Topic5\", \"Topic5\", \"Topic5\", \"Topic5\", \"Topic5\", \"Topic5\", \"Topic5\", \"Topic5\", \"Topic5\", \"Topic5\", \"Topic5\", \"Topic5\", \"Topic5\", \"Topic5\", \"Topic5\", \"Topic5\", \"Topic5\", \"Topic5\", \"Topic5\", \"Topic5\", \"Topic5\", \"Topic5\", \"Topic5\", \"Topic6\", \"Topic6\", \"Topic6\", \"Topic6\", \"Topic6\", \"Topic6\", \"Topic6\", \"Topic6\", \"Topic6\", \"Topic6\", \"Topic6\", \"Topic6\", \"Topic6\", \"Topic6\", \"Topic6\", \"Topic6\", \"Topic6\", \"Topic6\", \"Topic6\", \"Topic6\", \"Topic6\", \"Topic6\", \"Topic6\", \"Topic6\", \"Topic6\", \"Topic6\", \"Topic6\", \"Topic6\", \"Topic6\", \"Topic6\", \"Topic6\", \"Topic6\", \"Topic6\", \"Topic6\", \"Topic6\", \"Topic6\", \"Topic6\", \"Topic6\", \"Topic6\", \"Topic6\", \"Topic7\", \"Topic7\", \"Topic7\", \"Topic7\", \"Topic7\", \"Topic7\", \"Topic7\", \"Topic7\", \"Topic7\", \"Topic7\", \"Topic7\", \"Topic7\", \"Topic7\", \"Topic7\", \"Topic7\", \"Topic7\", \"Topic7\", \"Topic7\", \"Topic7\", \"Topic7\", \"Topic7\", \"Topic7\", \"Topic7\", \"Topic7\", \"Topic7\", \"Topic7\", \"Topic7\", \"Topic7\", \"Topic7\", \"Topic7\", \"Topic7\", \"Topic7\", \"Topic7\", \"Topic7\", \"Topic7\", \"Topic7\", \"Topic7\", \"Topic7\", \"Topic7\", \"Topic7\", \"Topic7\", \"Topic7\", \"Topic8\", \"Topic8\", \"Topic8\", \"Topic8\", \"Topic8\", \"Topic8\", \"Topic8\", \"Topic8\", \"Topic8\", \"Topic8\", \"Topic8\", \"Topic8\", \"Topic8\", \"Topic8\", \"Topic8\", \"Topic8\", \"Topic8\", \"Topic8\", \"Topic8\", \"Topic8\", \"Topic8\", \"Topic8\", \"Topic8\", \"Topic8\", \"Topic8\", \"Topic8\", \"Topic8\", \"Topic8\", \"Topic8\", \"Topic8\", \"Topic8\", \"Topic8\", \"Topic8\", \"Topic8\", \"Topic8\", \"Topic8\", \"Topic8\", \"Topic8\", \"Topic8\", \"Topic8\", \"Topic8\", \"Topic8\", \"Topic8\", \"Topic8\", \"Topic8\", \"Topic9\", \"Topic9\", \"Topic9\", \"Topic9\", \"Topic9\", \"Topic9\", \"Topic9\", \"Topic9\", \"Topic9\", \"Topic9\", \"Topic9\", \"Topic9\", \"Topic9\", \"Topic9\", \"Topic9\", \"Topic9\", \"Topic9\", \"Topic9\", \"Topic9\", \"Topic9\", \"Topic9\", \"Topic9\", \"Topic9\", \"Topic9\", \"Topic9\", \"Topic9\", \"Topic9\", \"Topic9\", \"Topic9\", \"Topic9\", \"Topic9\", \"Topic9\", \"Topic9\", \"Topic9\", \"Topic9\", \"Topic9\", \"Topic9\", \"Topic9\", \"Topic9\", \"Topic9\", \"Topic9\", \"Topic9\", \"Topic9\", \"Topic9\", \"Topic9\", \"Topic9\", \"Topic9\", \"Topic10\", \"Topic10\", \"Topic10\", \"Topic10\", \"Topic10\", \"Topic10\", \"Topic10\", \"Topic10\", \"Topic10\", \"Topic10\", \"Topic10\", \"Topic10\", \"Topic10\", \"Topic10\", \"Topic10\", \"Topic10\", \"Topic10\", \"Topic10\", \"Topic10\", \"Topic10\", \"Topic10\", \"Topic10\", \"Topic10\", \"Topic10\", \"Topic10\", \"Topic10\", \"Topic10\", \"Topic10\", \"Topic10\", \"Topic10\", \"Topic10\", \"Topic10\", \"Topic10\", \"Topic10\", \"Topic10\", \"Topic10\", \"Topic10\", \"Topic10\", \"Topic10\", \"Topic10\", \"Topic10\", \"Topic10\", \"Topic10\", \"Topic10\", \"Topic10\", \"Topic10\", \"Topic10\", \"Topic10\", \"Topic10\", \"Topic10\", \"Topic10\", \"Topic10\", \"Topic10\", \"Topic10\", \"Topic10\", \"Topic10\", \"Topic11\", \"Topic11\", \"Topic11\", \"Topic11\", \"Topic11\", \"Topic11\", \"Topic11\", \"Topic11\", \"Topic11\", \"Topic11\", \"Topic11\", \"Topic11\", \"Topic11\", \"Topic11\", \"Topic11\", \"Topic11\", \"Topic11\", \"Topic11\", \"Topic11\", \"Topic11\", \"Topic11\", \"Topic11\", \"Topic11\", \"Topic11\", \"Topic11\", \"Topic11\", \"Topic11\", \"Topic11\", \"Topic11\", \"Topic11\", \"Topic11\", \"Topic11\", \"Topic11\", \"Topic11\", \"Topic11\", \"Topic11\", \"Topic11\", \"Topic11\", \"Topic11\", \"Topic11\", \"Topic11\", \"Topic11\", \"Topic11\", \"Topic11\", \"Topic11\", \"Topic11\", \"Topic11\", \"Topic11\", \"Topic12\", \"Topic12\", \"Topic12\", \"Topic12\", \"Topic12\", \"Topic12\", \"Topic12\", \"Topic12\", \"Topic12\", \"Topic12\", \"Topic12\", \"Topic12\", \"Topic12\", \"Topic12\", \"Topic12\", \"Topic12\", \"Topic12\", \"Topic12\", \"Topic12\", \"Topic12\", \"Topic12\", \"Topic12\", \"Topic12\", \"Topic12\", \"Topic12\", \"Topic12\", \"Topic12\", \"Topic12\", \"Topic12\", \"Topic12\", \"Topic12\", \"Topic12\", \"Topic12\", \"Topic12\", \"Topic12\", \"Topic12\", \"Topic12\", \"Topic12\", \"Topic12\", \"Topic12\", \"Topic12\", \"Topic12\", \"Topic12\", \"Topic12\", \"Topic13\", \"Topic13\", \"Topic13\", \"Topic13\", \"Topic13\", \"Topic13\", \"Topic13\", \"Topic13\", \"Topic13\", \"Topic13\", \"Topic13\", \"Topic13\", \"Topic13\", \"Topic13\", \"Topic13\", \"Topic13\", \"Topic13\", \"Topic13\", \"Topic13\", \"Topic13\", \"Topic13\", \"Topic13\", \"Topic13\", \"Topic13\", \"Topic13\", \"Topic13\", \"Topic13\", \"Topic13\", \"Topic13\", \"Topic13\", \"Topic13\", \"Topic13\", \"Topic13\", \"Topic13\", \"Topic13\", \"Topic13\", \"Topic13\", \"Topic13\", \"Topic13\", \"Topic13\", \"Topic13\", \"Topic13\", \"Topic13\", \"Topic13\", \"Topic13\", \"Topic13\", \"Topic13\", \"Topic14\", \"Topic14\", \"Topic14\", \"Topic14\", \"Topic14\", \"Topic14\", \"Topic14\", \"Topic14\", \"Topic14\", \"Topic14\", \"Topic14\", \"Topic14\", \"Topic14\", \"Topic14\", \"Topic14\", \"Topic14\", \"Topic14\", \"Topic14\", \"Topic14\", \"Topic14\", \"Topic14\", \"Topic14\", \"Topic14\", \"Topic14\", \"Topic14\", \"Topic14\", \"Topic14\", \"Topic14\", \"Topic14\", \"Topic14\", \"Topic14\", \"Topic14\", \"Topic14\", \"Topic14\", \"Topic14\", \"Topic14\", \"Topic14\", \"Topic14\", \"Topic14\", \"Topic14\", \"Topic14\", \"Topic14\", \"Topic14\", \"Topic14\", \"Topic14\", \"Topic14\", \"Topic14\", \"Topic14\", \"Topic14\", \"Topic14\", \"Topic14\"], \"logprob\": [30.0, 29.0, 28.0, 27.0, 26.0, 25.0, 24.0, 23.0, 22.0, 21.0, 20.0, 19.0, 18.0, 17.0, 16.0, 15.0, 14.0, 13.0, 12.0, 11.0, 10.0, 9.0, 8.0, 7.0, 6.0, 5.0, 4.0, 3.0, 2.0, 1.0, -5.3924, -5.501, -5.6351, -4.9667, -5.8918, -5.9353, -5.9398, -5.9568, -5.9724, -6.03, -6.0741, -6.2391, -6.2418, -5.9715, -4.9303, -6.5029, -6.5339, -6.5512, -6.5621, -6.5762, -6.3494, -6.287, -6.6166, -6.648, -6.6933, -6.2451, -6.793, -6.8046, -6.8185, -6.9123, -5.3528, -5.6638, -5.8987, -5.6721, -5.6656, -5.913, -6.1905, -5.6985, -6.3231, -5.9533, -5.4143, -5.9809, -5.7437, -5.3662, -5.7052, -5.8223, -5.5287, -5.6616, -6.084, -5.908, -5.8614, -5.9077, -5.9752, -4.4144, -4.8747, -4.6974, -5.6885, -5.8001, -5.6962, -5.9126, -6.0779, -6.0103, -6.2586, -6.2962, -6.316, -6.3666, -6.3858, -6.4096, -6.4215, -6.1282, -6.4407, -6.4654, -6.5051, -6.5108, -6.418, -6.674, -6.6931, -6.7028, -6.7855, -5.735, -6.6453, -6.4937, -7.0223, -5.9528, -5.6543, -5.0854, -5.7067, -5.2328, -6.3188, -5.9633, -6.0562, -6.0576, -5.8417, -6.1411, -5.9764, -5.7781, -6.2444, -5.9692, -6.0917, -6.047, -6.1703, -6.226, -6.2272, -4.3309, -4.8458, -5.0934, -5.6519, -5.6927, -5.7057, -5.875, -6.0435, -6.1055, -6.3112, -6.3707, -6.3745, -6.4295, -6.4994, -5.5588, -6.5276, -4.9359, -6.586, -6.3313, -6.276, -6.0903, -6.5109, -6.732, -6.7536, -6.8079, -5.8118, -6.828, -6.6862, -6.8911, -6.9002, -4.6751, -4.792, -5.6262, -6.3633, -6.2023, -6.128, -5.8332, -5.9747, -6.2886, -6.1716, -5.7632, -5.3114, -5.5708, -6.0155, -5.3953, -5.7347, -6.0473, -6.2228, -6.2491, -4.6061, -4.6114, -4.5174, -5.3282, -5.5799, -5.6379, -5.7049, -5.7439, -5.4906, -5.8182, -5.7189, -5.5059, -5.9878, -6.0079, -5.1827, -5.8658, -6.1253, -6.1983, -6.2386, -6.2528, -6.2949, -6.3352, -4.558, -6.3971, -6.5283, -6.5546, -6.5586, -6.5922, -6.2767, -6.62, -6.1474, -4.5683, -5.7688, -6.0035, -5.2023, -5.809, -5.4365, -5.6128, -5.9906, -5.9039, -5.8194, -5.9192, -5.8619, -5.5873, -5.9802, -5.8611, -6.0835, -6.4768, -6.5397, -6.5644, -6.0226, -6.4684, -6.6157, -6.6935, -6.7209, -6.8101, -6.8111, -6.7177, -6.8885, -6.9191, -6.7257, -6.7567, -7.0228, -7.0598, -7.0661, -7.0688, -7.0765, -7.092, -7.1687, -7.178, -7.178, -7.1823, -6.7309, -6.3552, -6.3405, -5.6072, -5.3082, -6.036, -5.7734, -5.0351, -6.6676, -6.7431, -6.6527, -6.3871, -6.47, -5.9736, -6.3045, -6.4957, -5.8803, -6.5001, -5.8637, -6.0622, -5.9689, -6.5287, -6.0646, -6.1614, -6.3009, -6.2929, -6.4796, -4.3918, -4.4325, -4.4344, -4.4344, -4.4344, -4.4344, -4.4344, -4.4928, -4.4928, -4.9212, -4.9212, -4.9368, -4.9621, -5.1578, -5.2286, -4.9261, -5.2371, -5.2695, -5.2975, -5.4063, -4.4235, -5.4545, -5.4712, -5.4742, -5.8862, -6.0006, -6.1219, -6.1524, -6.1524, -6.2411, -3.8646, -4.3443, -3.8587, -5.2455, -4.9672, -5.1089, -4.8934, -5.2136, -4.6462, -5.3294, -4.0858, -4.8253, -4.64, -4.9123, -5.3957, -5.3323, -4.4197, -5.7143, -5.723, -4.9243, -5.7737, -5.819, -5.819, -5.7422, -5.9027, -4.5484, -5.9389, -6.0967, -4.4083, -6.1894, -6.0975, -6.2732, -6.2815, -5.9076, -6.3645, -6.3823, -6.4026, -6.4083, -6.4083, -6.5023, -4.7492, -4.0299, -4.0051, -5.152, -5.8649, -4.9862, -5.1937, -6.0839, -6.01, -5.83, -5.8292, -6.0815, -5.9214, -6.0001, -6.0306, -6.1282, -5.5067, -6.3625, -6.4534, -6.478, -6.5045, -6.6161, -5.1257, -6.4908, -6.4755, -6.6756, -6.2383, -6.5782, -6.5716, -6.8342, -6.8597, -5.0416, -6.6003, -5.3366, -5.5161, -7.0418, -6.4763, -7.0746, -7.0746, -7.0807, -6.8661, -6.8354, -5.5059, -6.6698, -6.4451, -6.4442, -6.1083, -6.6013, -5.8693, -6.3774, -6.2059, -6.3709, -5.8409, -6.1423, -5.9913, -6.192, -6.5039, -5.5773, -5.7663, -5.6678, -6.0169, -5.659, -6.0725, -6.1568, -6.1568, -6.2688, -6.3287, -6.4253, -6.2924, -6.598, -6.6063, -5.6872, -6.6923, -6.6923, -6.706, -6.7214, -6.7519, -4.4052, -6.823, -4.3304, -6.8663, -6.8663, -6.8663, -6.9378, -6.5302, -6.9812, -7.0101, -5.3794, -6.1191, -5.2533, -6.1074, -5.922, -6.0106, -6.6428, -6.0301, -5.3401, -6.1315, -6.1555, -6.3686, -5.5493, -5.9359, -5.9244, -6.047, -6.3133, -6.3043, -6.328, -6.9587, -7.0111, -6.8258, -7.0912, -7.0034, -7.072, -7.2744, -6.3515, -7.3583, -7.3692, -7.3801, -7.3842, -7.0039, -7.159, -7.2279, -7.2836, -7.2235, -7.4911, -7.1043, -7.5339, -7.5824, -7.4014, -7.5983, -7.4023, -7.2965, -7.4485, -7.632, -7.135, -6.7152, -6.8766, -7.0731, -7.0405, -6.7413, -6.9306, -7.0211, -6.8451, -6.9238, -6.2955, -7.0686, -7.0166, -5.5422, -6.3795, -6.1167, -6.9905, -6.757, -6.3959, -6.7479, -6.4753, -6.7424, -6.8824, -6.9657, -6.9269, -6.9407, -7.0011, -6.6665, -6.6682, -6.7313, -6.7428, -6.7442, -6.7442, -6.7964, -6.8988, -6.8988, -6.9033, -6.9234, -6.9319, -6.9813, -7.0377, -6.8764, -6.9344, -7.2537, -7.2553, -7.2697, -7.2917, -7.0797, -7.3338, -7.0064, -7.3437, -7.3651, -7.3794, -7.4578, -7.2998, -7.4915, -7.509, -7.2677, -6.9333, -6.493, -6.8481, -6.8259, -6.2755, -6.9557, -6.1776, -7.1039, -6.2881, -6.9533, -7.0135, -6.4522, -6.7179, -6.8572, -6.9371, -6.965, -6.9798, -5.7252, -5.7252, -6.2319, -6.4785, -6.4785, -6.5876, -6.6818, -6.7499, -6.7543, -6.8362, -6.8362, -6.6076, -6.8652, -6.8652, -6.8652, -6.8912, -6.9489, -6.9489, -6.9489, -6.9688, -6.9889, -7.0238, -7.0272, -6.8752, -7.1135, -7.1218, -7.1805, -6.774, -7.2239, -7.2249, -6.4063, -6.8487, -6.8653, -6.5919, -6.8104, -6.8524, -6.6239, -6.4751, -6.8197, -6.8782, -6.8992, -6.9283, -6.92, -6.8969, -5.8731, -5.8978, -5.9451, -5.9451, -5.844, -6.3226, -6.3829, -6.3829, -6.3909, -6.4803, -6.4821, -6.4897, -6.3689, -6.5343, -5.6223, -5.8582, -6.4173, -6.4173, -6.8775, -6.9623, -6.9727, -6.9916, -6.9916, -6.2884, -7.0477, -7.0477, -6.1865, -7.079, -7.1128, -7.1739, -7.1739, -5.8921, -6.9077, -5.7161, -5.9496, -5.7619, -6.0129, -6.6222, -6.7808, -5.9934, -6.1976, -6.2573, -5.6721, -5.6673, -6.1572, -5.9962, -6.129, -6.2989, -6.6493, -6.6602, -6.7094, -6.7094, -6.6736, -7.0211, -6.4611, -6.7842, -7.2075, -7.0997, -7.309, -7.309, -7.3198, -7.3572, -7.3572, -7.3572, -6.6903, -7.3862, -7.3903, -7.3903, -7.4631, -7.4784, -7.3309, -7.5257, -7.536, -7.536, -7.3776, -6.7366, -7.5461, -7.2462, -6.9183, -7.3319, -6.9321, -6.9684, -7.2238, -6.5816, -7.0165, -6.9749, -7.1319, -7.1261, -7.2817, -6.4771, -7.175, -6.9038, -6.9321, -7.0178, -7.0851, -7.209, -7.0865, -7.1729], \"loglift\": [30.0, 29.0, 28.0, 27.0, 26.0, 25.0, 24.0, 23.0, 22.0, 21.0, 20.0, 19.0, 18.0, 17.0, 16.0, 15.0, 14.0, 13.0, 12.0, 11.0, 10.0, 9.0, 8.0, 7.0, 6.0, 5.0, 4.0, 3.0, 2.0, 1.0, 1.7377, 1.7353, 1.7321, 1.7268, 1.7247, 1.7232, 1.7231, 1.7225, 1.7219, 1.7198, 1.7125, 1.7111, 1.711, 1.7043, 1.6988, 1.6974, 1.6955, 1.6945, 1.6938, 1.6929, 1.6921, 1.6905, 1.6903, 1.6882, 1.6851, 1.6783, 1.6778, 1.6769, 1.6758, 1.668, 1.6649, 1.6541, 1.6553, 1.634, 1.602, 1.5773, 1.6046, 1.4679, 1.6216, 1.4701, 1.2598, 1.4469, 1.2892, 0.9657, 1.217, 1.2039, 0.7948, 0.7078, 1.4361, 1.0572, 0.7376, 0.6172, 1.1944, 2.1711, 2.1678, 2.1628, 2.1513, 2.1464, 2.1346, 2.132, 2.1318, 2.1247, 2.1201, 2.1174, 2.1159, 2.1121, 2.1105, 2.1086, 2.1077, 2.1063, 2.1061, 2.104, 2.1005, 2.1, 2.0943, 2.0843, 2.0823, 2.0813, 2.0722, 2.0679, 2.0572, 2.0547, 2.0422, 2.0212, 1.9664, 1.8373, 1.8638, 1.6948, 1.9552, 1.5, 1.5106, 1.4084, 1.0462, 1.4467, 0.9927, 0.4381, 1.6052, 0.5123, 0.8913, 0.3237, 0.1616, 0.6373, 0.2977, 2.4822, 2.4723, 2.4654, 2.4423, 2.4401, 2.4394, 2.4291, 2.4171, 2.4122, 2.3937, 2.3877, 2.3873, 2.3815, 2.3736, 2.3735, 2.3703, 2.3663, 2.3631, 2.3514, 2.3496, 2.3476, 2.3436, 2.3436, 2.3405, 2.3324, 2.332, 2.3294, 2.3255, 2.3194, 2.3179, 2.3172, 2.3035, 2.2946, 2.3154, 2.3013, 2.2973, 2.2645, 2.1479, 2.2003, 2.1089, 1.6178, 1.058, 1.2939, 1.8541, 0.9365, 0.4814, 0.4342, 1.344, 0.5995, 2.4995, 2.4994, 2.4936, 2.4787, 2.4673, 2.4642, 2.4605, 2.4582, 2.4566, 2.4536, 2.4532, 2.4528, 2.4419, 2.4404, 2.4384, 2.4359, 2.431, 2.4246, 2.4208, 2.4195, 2.4154, 2.4114, 2.4061, 2.4048, 2.3897, 2.3865, 2.386, 2.3817, 2.3783, 2.3781, 2.3641, 2.2746, 2.2973, 2.2384, 1.7161, 1.8028, 0.7796, 0.8687, 1.4754, 1.0237, 0.518, 0.9687, 0.5411, 2.5581, 2.5315, 2.5231, 2.4955, 2.4806, 2.4724, 2.4691, 2.4674, 2.4623, 2.462, 2.4505, 2.4462, 2.4318, 2.4316, 2.4219, 2.4181, 2.4126, 2.404, 2.4009, 2.3927, 2.3852, 2.3838, 2.3833, 2.3817, 2.3784, 2.3617, 2.3596, 2.3596, 2.3586, 2.3574, 2.3573, 2.354, 2.3364, 2.3135, 2.3151, 2.2877, 2.2107, 2.3477, 2.345, 2.3057, 2.1169, 2.1628, 1.6777, 1.9571, 2.0276, 1.1027, 1.9682, 0.6178, 0.903, 0.3546, 1.9011, 0.3048, 0.5127, 0.9595, 0.6762, 0.9015, 2.7393, 2.7384, 2.7384, 2.7384, 2.7384, 2.7384, 2.7384, 2.7371, 2.7371, 2.7251, 2.7251, 2.7246, 2.7237, 2.716, 2.7129, 2.7127, 2.7125, 2.711, 2.7096, 2.704, 2.7025, 2.7013, 2.7004, 2.7002, 2.6711, 2.6608, 2.6487, 2.6455, 2.6455, 2.6355, 2.5983, 2.5863, 2.5636, 2.5863, 2.5257, 2.461, 2.3369, 2.4466, 1.7245, 1.7018, 2.7548, 2.7382, 2.7367, 2.7353, 2.7142, 2.7073, 2.703, 2.694, 2.6933, 2.6904, 2.6895, 2.6859, 2.6859, 2.6796, 2.6789, 2.6785, 2.6757, 2.6604, 2.6529, 2.6503, 2.6438, 2.6405, 2.6395, 2.6339, 2.6289, 2.6266, 2.6238, 2.623, 2.623, 2.6097, 2.5819, 2.3731, 2.3323, 2.4316, 2.5029, 2.2304, 2.2125, 2.532, 2.4445, 1.0884, 1.0136, 1.5498, 2.6865, 2.6792, 2.6762, 2.6661, 2.6455, 2.638, 2.6255, 2.6219, 2.618, 2.6005, 2.5989, 2.5947, 2.5932, 2.5905, 2.589, 2.5726, 2.5681, 2.5612, 2.5561, 2.5493, 2.5413, 2.5398, 2.5263, 2.5168, 2.5137, 2.5091, 2.5091, 2.5077, 2.5047, 2.5013, 2.4509, 2.4798, 2.4403, 2.4391, 2.3765, 2.4402, 2.2087, 2.2958, 2.1855, 2.2371, 1.6224, 1.8208, 0.5336, 0.1774, 0.3609, 2.7634, 2.7492, 2.7332, 2.7262, 2.7204, 2.7203, 2.7109, 2.7109, 2.6972, 2.6893, 2.6757, 2.6729, 2.6484, 2.647, 2.641, 2.6318, 2.6318, 2.6293, 2.6264, 2.6206, 2.6101, 2.6065, 2.6007, 2.5975, 2.5975, 2.5975, 2.582, 2.5732, 2.5722, 2.5654, 2.502, 2.5013, 2.378, 2.4515, 2.2694, 2.256, 2.5079, 2.1487, 1.5783, 2.0399, 2.0172, 2.236, 0.7881, 0.4671, 0.3991, 0.3224, -0.0972, 2.7686, 2.7652, 2.6446, 2.6317, 2.6187, 2.6108, 2.5612, 2.5596, 2.5583, 2.534, 2.532, 2.5284, 2.5248, 2.5235, 2.5223, 2.5128, 2.5113, 2.4995, 2.4884, 2.487, 2.4776, 2.4717, 2.4538, 2.4492, 2.4479, 2.4415, 2.4378, 2.436, 2.435, 2.4239, 2.416, 2.3798, 2.397, 2.356, 2.2505, 2.2461, 2.2679, 2.1813, 2.2183, 1.7253, 2.2499, 2.1862, 0.674, 1.399, 0.7712, 2.0658, 1.4756, 0.129, 1.1452, -0.1517, -0.1434, 0.8167, 1.0875, 0.5391, -0.4593, 0.9701, 2.7595, 2.7591, 2.7459, 2.7434, 2.7432, 2.7432, 2.7316, 2.7076, 2.7076, 2.7065, 2.7016, 2.6994, 2.6869, 2.6719, 2.6139, 2.6098, 2.6088, 2.6083, 2.6037, 2.5967, 2.5847, 2.5829, 2.5813, 2.5796, 2.5724, 2.5675, 2.54, 2.5313, 2.5277, 2.5212, 2.4963, 2.4503, 2.2924, 2.377, 2.3354, 1.8186, 2.2178, 1.2286, 2.309, 1.2956, 1.9931, 1.8502, -0.1287, 0.1455, -0.0086, -0.5678, -0.366, -0.4983, 2.981, 2.981, 2.9175, 2.8752, 2.8752, 2.8536, 2.8333, 2.8178, 2.8167, 2.7968, 2.7968, 2.7907, 2.7895, 2.7895, 2.7895, 2.7827, 2.7673, 2.7673, 2.7673, 2.7619, 2.7563, 2.7464, 2.7454, 2.7314, 2.7197, 2.7172, 2.6987, 2.6976, 2.6846, 2.6843, 2.6417, 2.6155, 2.5681, 2.1909, 2.24, 2.2699, 1.4635, -0.2589, 1.7558, 1.9257, 1.8243, 2.2768, 1.9502, 0.52, 3.0234, 3.0204, 3.0145, 3.0145, 2.9651, 2.9574, 2.9466, 2.9466, 2.9451, 2.9278, 2.9274, 2.9259, 2.9189, 2.9167, 2.9145, 2.9102, 2.8961, 2.8528, 2.8345, 2.8107, 2.8077, 2.8022, 2.8022, 2.7869, 2.7853, 2.7853, 2.7764, 2.7756, 2.7649, 2.7449, 2.7449, 2.7211, 2.7164, 2.3563, 2.3645, 2.2644, 2.1302, 2.489, 2.613, 1.7969, 1.9959, 1.8949, 0.7908, 0.755, 1.5065, 0.3745, 0.1945, 3.0021, 2.9292, 2.9265, 2.9145, 2.9145, 2.858, 2.8273, 2.8157, 2.8113, 2.7654, 2.7388, 2.7284, 2.7284, 2.7243, 2.71, 2.71, 2.71, 2.7046, 2.6986, 2.697, 2.697, 2.6675, 2.6612, 2.6524, 2.6412, 2.6368, 2.6368, 2.6351, 2.6335, 2.6324, 2.6149, 2.592, 2.6178, 2.5361, 2.3946, 2.4877, 1.6821, 2.1595, 1.912, 2.1889, 2.0908, 2.479, -0.261, 1.8374, -0.0159, -0.3031, 0.0121, -0.1629, 1.3902, -0.7158, 0.7725]}, \"token.table\": {\"Topic\": [14, 14, 12, 13, 6, 14, 8, 1, 3, 8, 13, 1, 6, 3, 3, 3, 3, 3, 3, 3, 9, 1, 2, 4, 6, 9, 10, 11, 6, 2, 8, 4, 10, 2, 8, 10, 12, 14, 4, 10, 8, 3, 1, 2, 3, 4, 5, 8, 9, 10, 11, 12, 14, 12, 5, 2, 6, 1, 2, 3, 4, 7, 8, 9, 10, 5, 12, 8, 2, 3, 4, 10, 2, 1, 2, 3, 4, 5, 7, 8, 9, 10, 11, 12, 14, 1, 2, 3, 5, 8, 12, 6, 14, 12, 5, 11, 1, 2, 3, 4, 5, 6, 8, 9, 10, 11, 12, 5, 1, 2, 3, 4, 5, 6, 8, 9, 10, 11, 12, 13, 14, 13, 11, 10, 13, 11, 3, 1, 2, 3, 10, 11, 12, 13, 1, 2, 3, 4, 5, 10, 5, 11, 1, 2, 4, 10, 12, 8, 8, 14, 1, 2, 4, 5, 10, 13, 6, 13, 1, 5, 1, 5, 3, 8, 7, 5, 1, 2, 3, 4, 5, 6, 8, 9, 11, 12, 9, 5, 9, 9, 12, 12, 6, 1, 13, 6, 6, 14, 1, 1, 2, 5, 1, 4, 5, 14, 5, 4, 5, 10, 8, 4, 1, 2, 9, 5, 5, 12, 9, 4, 13, 4, 13, 3, 12, 13, 13, 9, 13, 13, 9, 11, 4, 4, 13, 3, 11, 7, 12, 8, 12, 2, 8, 1, 2, 5, 6, 12, 1, 6, 13, 2, 1, 4, 5, 8, 10, 11, 5, 9, 1, 6, 8, 2, 12, 7, 9, 13, 9, 7, 9, 7, 8, 2, 8, 2, 2, 2, 2, 2, 14, 3, 3, 8, 11, 7, 14, 7, 9, 9, 4, 13, 4, 14, 4, 13, 11, 2, 3, 4, 9, 10, 1, 2, 3, 4, 5, 8, 10, 11, 12, 14, 7, 9, 7, 1, 5, 11, 13, 3, 1, 2, 3, 4, 5, 7, 8, 9, 10, 11, 3, 4, 2, 1, 4, 5, 9, 7, 5, 13, 14, 10, 9, 10, 7, 1, 3, 12, 6, 13, 13, 1, 11, 2, 3, 4, 8, 10, 4, 2, 1, 2, 4, 8, 10, 13, 1, 11, 11, 1, 2, 9, 10, 1, 10, 1, 2, 10, 2, 5, 10, 14, 5, 10, 8, 5, 1, 9, 6, 14, 9, 4, 9, 10, 6, 10, 1, 2, 3, 4, 5, 7, 8, 9, 10, 11, 12, 13, 14, 14, 12, 3, 8, 3, 7, 11, 2, 4, 10, 13, 14, 7, 9, 4, 5, 9, 1, 2, 4, 8, 9, 10, 12, 5, 3, 1, 2, 6, 7, 1, 4, 9, 10, 11, 7, 9, 8, 1, 2, 5, 7, 12, 8, 9, 10, 1, 8, 4, 7, 11, 8, 2, 4, 7, 9, 10, 7, 11, 4, 5, 6, 9, 12, 13, 11, 5, 9, 9, 10, 11, 1, 3, 12, 6, 9, 2, 14, 7, 6, 5, 5, 8, 8, 5, 14, 12, 12, 6, 6, 1, 2, 4, 5, 6, 7, 9, 10, 11, 9, 1, 2, 4, 9, 10, 11, 7, 9, 11, 13, 5, 1, 5, 5, 7, 11, 2, 3, 5, 5, 2, 4, 14, 13, 7, 12, 6, 1, 3, 1, 1, 14, 1, 4, 6, 10, 13, 4, 4, 4, 9, 14, 13, 13, 1, 2, 4, 10, 11, 13, 3, 10, 12, 6, 6, 6, 1, 4, 5, 8, 11, 12, 14, 12, 14, 4, 7, 9, 7, 9, 12, 9, 1, 4, 9, 10, 11, 1, 6, 13, 11, 1, 5, 4, 1, 14, 4, 7, 9, 7, 5, 5, 11, 5, 12, 12, 1, 10, 10, 1, 9, 14, 1, 2, 3, 4, 5, 8, 14, 2, 3, 4, 7, 9, 10, 11, 12, 1, 3, 9, 10, 11, 2, 3, 8, 8, 8, 9, 11, 10, 10, 7, 9, 6, 8, 14, 10, 11, 1, 5, 14, 9, 2, 4, 12, 5, 7, 9, 13, 14, 14, 2, 4, 12, 9, 12, 12, 4, 13, 1, 2, 3, 4, 5, 7, 8, 9, 10, 1, 2, 3, 4, 5, 7, 8, 10, 11, 14, 7, 7, 2, 8, 10, 10, 4, 7, 10, 12, 1, 3, 5, 6, 7, 8, 9, 10, 8, 1, 5, 7, 9, 9, 10, 9, 4, 4, 2, 13, 4, 4, 13, 4, 4, 4, 14, 6, 6, 2, 2, 1, 6, 12, 13, 6, 14, 2, 14, 1, 2, 3, 5, 11, 13, 4, 14, 6, 3, 13, 1, 3, 7, 8, 3, 8, 13, 12, 14, 3, 12, 3, 3, 11, 12, 3, 3, 14, 6, 1, 2, 3, 2, 3, 2, 3, 2, 2, 8, 8, 11, 10, 1, 4, 5, 1, 4, 7, 4, 7, 11, 3, 10, 6, 12, 11, 5, 14, 13, 6, 1, 1, 1, 1, 1, 2, 8, 8, 14, 14, 4, 3, 5, 1, 14, 13, 10, 1, 2, 5, 2, 5, 10, 11, 12, 3, 8, 5, 1, 2, 4, 5, 14, 5, 3, 11, 8, 13, 10, 10, 2, 3, 4, 12, 5, 10, 10, 9, 7, 9, 2, 4, 7, 9, 11, 9, 10, 7, 1, 12, 1, 5, 2, 8, 1, 3, 7, 1, 4, 7, 8, 9, 10, 4, 13, 14, 14, 11, 12, 13, 4, 6, 6, 3, 14, 12, 8, 3, 3, 11, 2, 3, 8, 1, 1, 3, 4, 11, 1, 6, 7, 9, 1, 1, 2, 8, 5, 9, 1, 3, 5, 11, 10, 13, 10, 3, 1, 3, 10, 13, 8, 9, 13, 14, 4, 5, 7, 9, 10, 11, 2, 1, 2, 3, 4, 5, 8, 10, 11, 11, 1, 2, 3, 2, 4, 7, 9, 7, 5, 11, 8, 3, 7, 11, 8, 1, 2, 10, 6, 13, 1, 2, 4, 2, 8, 12, 14, 6, 2, 5, 11, 1, 1, 2, 3, 5, 8, 10, 1, 5, 5, 11, 1, 2, 8, 9, 1, 2, 3, 1, 5, 12, 14, 10, 1, 2, 3, 5, 8, 11, 1, 2, 8, 12, 13, 1, 6, 13, 5, 7, 1, 2, 5, 8, 11, 14, 14, 1, 3, 4, 9, 11, 1, 5, 9, 11, 13, 2, 7, 1, 12, 11, 7, 1, 2, 3, 4, 5, 7, 8, 9, 10, 11, 13, 5, 11, 11, 4, 7, 14, 1, 2, 3, 4, 5, 8, 9, 11, 1, 2, 8, 12, 5, 8, 9, 10, 11, 12, 13, 12, 6, 13, 1, 5, 6, 9, 13, 6, 1, 5, 11, 13, 1, 1, 2, 3, 4, 5, 8, 10, 11, 12, 13, 1, 2, 4, 5, 10, 13, 1, 5, 7, 2, 2, 1, 2, 3, 5, 8, 11, 1, 5, 5, 5, 1, 1, 5, 10, 11, 14, 3, 5, 8, 3, 2, 3, 1, 2, 3, 4, 5, 8, 10, 11, 10, 1, 6, 9, 10, 12, 11, 2, 7, 9, 11, 13, 4, 4, 13, 4, 2, 7, 1, 2, 3, 4, 5, 8, 9, 10, 11, 14, 10, 10, 10, 1, 5, 11, 13, 2, 3, 2, 3, 8, 11, 13, 12, 9], \"Freq\": [0.5826258715204858, 0.6469755944303285, 0.8921853408764645, 0.8372598652713362, 0.9817228559423251, 0.5156038364692941, 0.7518663450418205, 0.21953793276870123, 0.10976896638435062, 0.10976896638435062, 0.43907586553740247, 0.9444114717065413, 0.9570276843636522, 0.8131476116331671, 0.9787312747631659, 0.793418816276942, 0.7871556498053275, 0.9691087859107609, 0.8069769682821502, 0.9156793839785555, 0.9040974114540082, 0.33472875821489045, 0.15214943555222293, 0.030429887110444587, 0.33472875821489045, 0.06085977422088917, 0.030429887110444587, 0.030429887110444587, 0.9651143975437692, 0.1939494749582722, 0.7757978998330888, 0.9788724562077574, 0.6975195047753082, 0.8324695002381635, 0.2598926679643127, 0.2598926679643127, 0.2598926679643127, 0.2598926679643127, 0.21615060132956757, 0.43230120265913513, 0.6104283563451209, 0.9270233340442118, 0.07910377056217904, 0.3164150822487162, 0.0527358470414527, 0.2109433881658108, 0.02636792352072635, 0.0527358470414527, 0.02636792352072635, 0.1054716940829054, 0.02636792352072635, 0.0527358470414527, 0.0527358470414527, 0.5410256134269534, 0.8824869774874233, 0.9176082843718271, 0.8902727912280817, 0.5753155473760967, 0.09083929695412053, 0.09083929695412053, 0.060559531302747015, 0.060559531302747015, 0.09083929695412053, 0.030279765651373507, 0.030279765651373507, 0.772795932267265, 0.5250622169000124, 0.7602872888033992, 0.1326723042752198, 0.796033825651319, 0.26005479648818086, 0.5201095929763617, 0.9880222176103489, 0.311818454789314, 0.14673809637144192, 0.09171131023215119, 0.05502678613929071, 0.03668452409286048, 0.05502678613929071, 0.11005357227858142, 0.05502678613929071, 0.05502678613929071, 0.01834226204643024, 0.01834226204643024, 0.01834226204643024, 0.30616242822678696, 0.30616242822678696, 0.11481091058504511, 0.19135151764174185, 0.07654060705669674, 0.03827030352834837, 0.9369496129578704, 0.6150377269069452, 0.974752721723535, 0.942147060854881, 0.6587792001813537, 0.3601966361602253, 0.20582664923441443, 0.05145666230860361, 0.025728331154301804, 0.07718499346290542, 0.025728331154301804, 0.05145666230860361, 0.05145666230860361, 0.025728331154301804, 0.05145666230860361, 0.025728331154301804, 0.6638753826464582, 0.1729267854821878, 0.15720616862017073, 0.06288246744806829, 0.04716185058605122, 0.04716185058605122, 0.36157418782639267, 0.031441233724034144, 0.015720616862017072, 0.015720616862017072, 0.015720616862017072, 0.031441233724034144, 0.06288246744806829, 0.015720616862017072, 0.5242478160752033, 0.8503032254720527, 0.6143296387770187, 0.8945356912311184, 0.6682896190773472, 0.9597352504576796, 0.5370557140244886, 0.13426392850612215, 0.0895092856707481, 0.04475464283537405, 0.04475464283537405, 0.0895092856707481, 0.04475464283537405, 0.052185965279842476, 0.7306035139177947, 0.10437193055968495, 0.052185965279842476, 0.052185965279842476, 0.9376893041398444, 0.6801793155243636, 0.5298957748422561, 0.1637163355313568, 0.24557450329703523, 0.24557450329703523, 0.3274326710627136, 0.6986087844917778, 0.7620799454426879, 0.9433989241801676, 0.3480726235144956, 0.05309229230789214, 0.4778306307710292, 0.21236916923156857, 0.10618458461578428, 0.05309229230789214, 0.05309229230789214, 0.8902727912280817, 0.684304079493326, 0.38423506035524796, 0.5123134138069972, 0.8813156392219136, 0.0801196035656285, 0.7956730848196705, 0.17681624107103788, 0.8919330746358739, 0.689243299398085, 0.3453977124813967, 0.06279958408752667, 0.23549844032822503, 0.031399792043763336, 0.09419937613129001, 0.015699896021881668, 0.07849948010940834, 0.07849948010940834, 0.031399792043763336, 0.015699896021881668, 0.7580983683951481, 0.25340167581901374, 0.7602050274570413, 0.6931441658548553, 0.7689839955734379, 0.7995116420149497, 0.9817228559423251, 0.1728963630514778, 0.864481815257389, 0.936955627504835, 0.98486223345328, 0.6336267957981944, 0.9365076751245157, 0.8345891207359717, 0.0758717382487247, 0.9015240735927142, 0.13272601805825898, 0.13272601805825898, 0.6636300902912948, 0.13272601805825898, 0.7486976941826936, 0.2305564751154349, 0.2305564751154349, 0.4611129502308698, 0.7814622679031661, 0.82195637859451, 0.8978199218792432, 0.8559094325877777, 0.06583918712213675, 0.7462386587738088, 0.832757650490864, 0.8921853408764643, 0.9397926247290768, 0.32312750982024235, 0.6462550196404847, 0.2100298814204084, 0.6300896442612252, 0.9735347772382054, 0.9313130625684368, 0.4820455170235221, 0.5462412836700811, 0.9546838823404535, 0.9089592103815196, 0.5013131721792166, 0.6931441658548553, 0.5451111662581276, 0.9788393928846111, 0.8787242868237765, 0.8033938276570874, 0.9780935355223013, 0.46790558874606625, 0.9176421679577809, 0.8552171410759044, 0.22865574326464222, 0.6859672297939267, 0.9743822559343162, 0.019487645118686323, 0.18567277722351444, 0.037134555444702885, 0.11140366633410867, 0.668421998004652, 0.037134555444702885, 0.08255404132993822, 0.8530584270760283, 0.05503602755329214, 0.956349156441066, 0.2828757949317889, 0.11315031797271555, 0.3960261129045044, 0.056575158986357774, 0.056575158986357774, 0.056575158986357774, 0.9161780407717458, 0.8858565047845037, 0.20860365757344385, 0.7301128015070534, 0.8119911845179233, 0.8558323908035531, 0.649231023710664, 0.925264097110399, 0.07402112776883192, 0.8566052056689153, 0.9489667723910146, 0.9808009909527535, 0.8365651068979566, 0.805559909887745, 0.963473340561065, 0.9746779040550144, 0.025649418527763538, 0.9367485759830605, 0.9527392538077342, 0.9219933166550182, 0.9888806743508054, 0.9058416232391595, 0.7417277998945931, 0.9020847822227067, 0.09336427202602322, 0.840278448234209, 0.8020674480677031, 0.5414652869563525, 0.27073264347817627, 0.4793949573437715, 0.4793949573437715, 0.9018048585483036, 0.7148298845480668, 0.20423710987087623, 0.9857637616022908, 0.7041820065165322, 0.9331479865903772, 0.054891058034728074, 0.5911141226150382, 0.33826150968009255, 0.08456537742002314, 0.25369613226006943, 0.08456537742002314, 0.16913075484004628, 0.22830867603945285, 0.1931842643410755, 0.12293544094432077, 0.1931842643410755, 0.14049764679350946, 0.035124411698377364, 0.035124411698377364, 0.035124411698377364, 0.017562205849188682, 0.017562205849188682, 0.8779805145348096, 0.09406934084301533, 0.8605833613200318, 0.8480497276125867, 0.03854771489148121, 0.03854771489148121, 0.03854771489148121, 0.7523634624581644, 0.32959247262155594, 0.1774728698731455, 0.15211960274841044, 0.025353267124735072, 0.025353267124735072, 0.050706534249470143, 0.050706534249470143, 0.07605980137420522, 0.050706534249470143, 0.050706534249470143, 0.9422149991249474, 0.9768295364431175, 0.9696648523485273, 0.027530524952136606, 0.13765262476068305, 0.027530524952136606, 0.7983852236119616, 0.899576295334854, 0.7408659326210204, 0.9442821616473324, 0.8134812292891872, 0.8289160296816196, 0.8421286411481523, 0.8533856969675105, 0.9648121395095264, 0.19141416389321714, 0.3828283277864343, 0.3828283277864343, 0.5550657886906368, 0.3700438591270912, 0.6555248654497661, 0.25924660735739175, 0.5184932147147835, 0.47007063756158496, 0.0470070637561585, 0.32904944629310945, 0.0470070637561585, 0.094014127512317, 0.9126653989371873, 0.970023644376715, 0.02743551611807811, 0.6035813545977184, 0.21948412894462488, 0.02743551611807811, 0.02743551611807811, 0.02743551611807811, 0.25609615726046536, 0.5121923145209307, 0.7993451341263877, 0.9769586187609771, 0.021710191528021713, 0.1943693807364535, 0.5831081422093605, 0.9201049699854897, 0.6480366662916757, 0.9890570750010308, 0.8092937924455091, 0.5993923889139441, 0.947771670062626, 0.9110337373445954, 0.5308542418236886, 0.6751491667525819, 0.6604051786701421, 0.47690796000480207, 0.7122012908046369, 0.8885111954204876, 0.28043081553658006, 0.7010770388414501, 0.8663722012510471, 0.6464862581820835, 0.73306888228596, 0.9885046492600751, 0.8423498998567656, 0.6335039176490617, 0.9817228559423251, 0.7969213635158526, 0.18856648116817398, 0.17509744679901867, 0.13469034369155283, 0.17509744679901867, 0.04040710310746585, 0.013469034369155284, 0.04040710310746585, 0.053876137476621136, 0.10775227495324227, 0.013469034369155284, 0.04040710310746585, 0.013469034369155284, 0.026938068738310568, 0.4439764993460824, 0.5406600973330492, 0.19433850843521525, 0.777354033740861, 0.9402409573077813, 0.9458399036004019, 0.5163528121099727, 0.3262866720014114, 0.4894300080021171, 0.05438111200023524, 0.05438111200023524, 0.05438111200023524, 0.9337010789180922, 0.03334646710421758, 0.14975024779470825, 0.029950049558941646, 0.8086513380914244, 0.945003812670728, 0.08750875033163451, 0.17501750066326902, 0.08750875033163451, 0.2625262509949035, 0.08750875033163451, 0.17501750066326902, 0.9418792927467979, 0.8558548955081693, 0.9007361887061693, 0.030024539623538977, 0.060049079247077954, 0.984530177083169, 0.5934500037973469, 0.11869000075946938, 0.17803500113920406, 0.11869000075946938, 0.05934500037973469, 0.38834414577173554, 0.5825162186576033, 0.9489051034015601, 0.7442858168923772, 0.04961905445949181, 0.04961905445949181, 0.04961905445949181, 0.04961905445949181, 0.8722694248078392, 0.7250610242514403, 0.4969910806609125, 0.9916688011973925, 0.6815499147095345, 0.22137459091098, 0.575573936368548, 0.177099672728784, 0.7390946140610832, 0.08118457343846977, 0.1461322321892456, 0.6657135021954521, 0.09742148812616373, 0.5011940904345101, 0.9726399067130483, 0.7845616005884601, 0.9834555976716398, 0.033104297061850134, 0.8276074265462534, 0.033104297061850134, 0.016552148530925067, 0.08276074265462534, 0.8471099042611063, 0.14677112881400647, 0.5870845152560259, 0.74552961312192, 0.14910592262438402, 0.14910592262438402, 0.16530006921030682, 0.33060013842061364, 0.33060013842061364, 0.8131909607856237, 0.06776591339880197, 0.8644894043070226, 0.8834730100623089, 0.8894331499966344, 0.9798954405230875, 0.833464409925122, 0.6850396051812117, 0.8871496121779617, 0.785062932622104, 0.31333172623712996, 0.31333172623712996, 0.9416244317677179, 0.9313130625684368, 0.9910720651859524, 0.9320929486104501, 0.35554612112024514, 0.13826793599120643, 0.07901024913783225, 0.019752562284458063, 0.21727818512903868, 0.039505124568916125, 0.05925768685337419, 0.039505124568916125, 0.039505124568916125, 0.7792671590023764, 0.12849893288553169, 0.19274839932829751, 0.25699786577106337, 0.06424946644276584, 0.19274839932829751, 0.06424946644276584, 0.7421912326306014, 0.14843824652612028, 0.6039231909031926, 0.4820455170235221, 0.8134508258540445, 0.41658468881723826, 0.5207308610215478, 0.7141211045572511, 0.8660862701935048, 0.5169159968304328, 0.15097471364807763, 0.15097471364807763, 0.6038988545923105, 0.8583691152098762, 0.8781340847566247, 0.8701852766075316, 0.5091373991160951, 0.5122556323296981, 0.5374492503953435, 0.3582995002635624, 0.9435644019634114, 0.940752223809551, 0.8895671019412847, 0.9276504937773123, 0.9363279205572905, 0.02035495479472371, 0.8911593887179023, 0.2512124662232694, 0.2512124662232694, 0.5024249324465389, 0.5462412836700811, 0.8247890180440867, 0.8493864395217058, 0.9245125176104803, 0.9546838823404535, 0.6811851376852369, 0.9089592103815196, 0.8651938240942939, 0.0819006547881041, 0.7098056748302355, 0.10920087305080546, 0.05460043652540273, 0.027300218262701365, 0.027300218262701365, 0.8587756559411331, 0.122682236563019, 0.9438539217457308, 0.9798727527591641, 0.9830921034111824, 0.9894940652015564, 0.85954032917067, 0.20874385605926107, 0.31311578408889157, 0.10437192802963054, 0.10437192802963054, 0.10437192802963054, 0.20874385605926107, 0.6776457861593653, 0.5633997321651094, 0.9459638755368523, 0.7578868615152832, 0.25262895383842776, 0.9581905804286852, 0.3467188989557078, 0.6934377979114156, 0.8876598471895127, 0.10118001653001779, 0.20236003306003558, 0.40472006612007116, 0.20236003306003558, 0.10118001653001779, 0.0823153767150631, 0.49389226029037864, 0.4115768835753155, 0.8143241836775087, 0.27061796728787796, 0.5412359345757559, 0.8968723330501216, 0.9835013716116722, 0.7082292556437032, 0.05545095216523119, 0.27725476082615597, 0.609960473817543, 0.7312883406620709, 0.8354337004939311, 0.6977182319509605, 0.56182719987899, 0.683616610750633, 0.8388633543070884, 0.8388633543070884, 0.2909838345829662, 0.5819676691659325, 0.44413094118353297, 0.19465017529574138, 0.38930035059148277, 0.19465017529574138, 0.5591716297446893, 0.20968936115425849, 0.06989645371808616, 0.06989645371808616, 0.03494822685904308, 0.03494822685904308, 0.03494822685904308, 0.15580881264438007, 0.07790440632219003, 0.15580881264438007, 0.15580881264438007, 0.15580881264438007, 0.15580881264438007, 0.07790440632219003, 0.07790440632219003, 0.1905894223845015, 0.1905894223845015, 0.47647355596125374, 0.09529471119225075, 0.7096183684837045, 0.060876952554432616, 0.060876952554432616, 0.8522773357620566, 0.7593194460107062, 0.9169438234758491, 0.8426529758323509, 0.7088761603475834, 0.9568743396263243, 0.5102235168513607, 0.21363984066440267, 0.7121328022146756, 0.9715039432157716, 0.315558446374649, 0.631116892749298, 0.8795525613495935, 0.7993451341263877, 0.972919869531577, 0.3003578996275672, 0.3003578996275672, 0.842863619075639, 0.8593810040416139, 0.0781255458219649, 0.0781255458219649, 0.0545417007535313, 0.927208912810032, 0.9258171848704401, 0.8136219961002169, 0.6191727058183374, 0.7906362682063364, 0.9222383134985115, 0.8673654958240788, 0.7296609302929734, 0.6697402418663809, 0.5014439509432994, 0.8209051735013874, 0.23498767787112687, 0.7049630336133806, 0.4536508880801701, 0.13609526642405104, 0.21170374777074608, 0.015121696269339005, 0.03024339253867801, 0.03024339253867801, 0.04536508880801701, 0.04536508880801701, 0.015121696269339005, 0.5730635351667014, 0.1091549590793717, 0.05457747953968585, 0.027288739769842925, 0.05457747953968585, 0.027288739769842925, 0.027288739769842925, 0.05457747953968585, 0.027288739769842925, 0.027288739769842925, 0.8267690136896824, 0.9299111340299738, 0.9423395006274294, 0.6315434378417345, 0.5347854733237627, 0.5402193705942443, 0.26757699273304225, 0.26757699273304225, 0.26757699273304225, 0.5351539854660845, 0.640149382872887, 0.09144991183898386, 0.09144991183898386, 0.06096660789265591, 0.06096660789265591, 0.030483303946327953, 0.030483303946327953, 0.030483303946327953, 0.975386956803704, 0.9177834180421804, 0.04107518565255855, 0.821503713051171, 0.12322555695767566, 0.9143157665977008, 0.5632948053682998, 0.9374394041961334, 0.952349546643988, 0.9261431701305867, 0.24358582666055634, 0.4871716533211127, 0.8031670467518406, 0.8023951587883233, 0.13373252646472056, 0.8457557523146606, 0.893895574628249, 0.9914202944307511, 0.8134812292891872, 0.969031752340704, 0.9632324851372573, 0.9123036315273849, 0.8501768762082113, 0.13002556869954607, 0.5201022747981843, 0.06501278434977303, 0.26005113739909214, 0.9751881082560769, 0.7000697528232862, 0.3630603158166745, 0.3630603158166745, 0.0519904441713847, 0.519904441713847, 0.3119426650283082, 0.0519904441713847, 0.0519904441713847, 0.0519904441713847, 0.9422786964315177, 0.5766313671232898, 0.9817228559423251, 0.29606384010875963, 0.5921276802175193, 0.9808274095105473, 0.14171525672010568, 0.07085762836005284, 0.7794339119605813, 0.10652151824185048, 0.7989113868138785, 0.6564809121160343, 0.5043349904104559, 0.7838134978590019, 0.7844366830735977, 0.13073944717893296, 0.8993287182372457, 0.8820188252266287, 0.24631723383298507, 0.49263446766597013, 0.7652922071122745, 0.9578390942333154, 0.6336267957981944, 0.9545303883118562, 0.9687139732334243, 0.14815030781751987, 0.8148266929963592, 0.14634509571340173, 0.84880155513773, 0.11970651787805654, 0.8778477977724146, 0.8861144960476853, 0.9452310696029916, 0.6472805878718529, 0.6606535680847938, 0.7096183684837045, 0.6799050268775233, 0.08536944164112248, 0.8821508969582657, 0.02845648054704083, 0.025206432784580197, 0.7813994163219861, 0.17644502949206137, 0.05287362314068392, 0.687357100828891, 0.15862086942205175, 0.8331914421376626, 0.09257682690418473, 0.9651143975437692, 0.7716074621868436, 0.8195693527664901, 0.9273280961981502, 0.5749399247865258, 0.6605031790390355, 0.9817228559423251, 0.9715044757616749, 0.9794426810893161, 0.9742145411312204, 0.9364839776510029, 0.9795716241129167, 0.16730663176304847, 0.7528798429337181, 0.8531623646083523, 0.6000102801912962, 0.6449052185060071, 0.9814076675806888, 0.9418085612251896, 0.7443669711786323, 0.9192732442673015, 0.5040736456953814, 0.8372598652713362, 0.454212332267498, 0.1097409386662085, 0.8230570399965638, 0.05487046933310425, 0.3697268459345485, 0.49296912791273134, 0.1758597312487734, 0.5275791937463202, 0.1758597312487734, 0.1572014898690083, 0.6288059594760332, 0.7141917216768985, 0.11314716713971744, 0.15086288951962323, 0.03771572237990581, 0.6788830028383046, 0.03771572237990581, 0.936219020828008, 0.2729617755419599, 0.5459235510839198, 0.9338269108665596, 0.4756547018465185, 0.7622122375220209, 0.620446826335223, 0.1812752210003387, 0.7251008840013548, 0.9470619109324767, 0.9051536273272613, 0.22378454606993156, 0.4475690921398631, 0.527823421056554, 0.7750514216814779, 0.8107882600857891, 0.11582689429796987, 0.07602653164674297, 0.13684775696413734, 0.6386228658326409, 0.12164245063478875, 0.7511595571567325, 0.9040974114540083, 0.5796512461031966, 0.8413695240987858, 0.5261979275861078, 0.35079861839073856, 0.11390479932952967, 0.683428795977178, 0.2945326610075441, 0.5890653220150882, 0.89866012312794, 0.97998210580563, 0.9299111340299738, 0.3602530289420513, 0.07205060578841026, 0.07205060578841026, 0.07205060578841026, 0.14410121157682051, 0.14410121157682051, 0.1371511398309723, 0.8229068389858338, 0.7041772622572701, 0.6464862581820835, 0.6673601571199176, 0.6723671203096264, 0.9003869884730913, 0.03345666223089205, 0.9367865424649773, 0.9498550788680112, 0.9730140159665214, 0.6150377269069452, 0.974752721723535, 0.753352835034789, 0.899159602592087, 0.8285523548669359, 0.6105957818460721, 0.07678429309046134, 0.15356858618092267, 0.691058637814152, 0.9226081212112569, 0.19017346320171782, 0.19017346320171782, 0.19017346320171782, 0.38034692640343565, 0.09656893635924534, 0.7725514908739627, 0.04828446817962267, 0.04828446817962267, 0.9320920975326349, 0.8491991825419154, 0.06532301404168579, 0.7814622679031661, 0.7462386587738088, 0.9579248369461267, 0.7238324725989257, 0.09047905907486571, 0.045239529537432856, 0.045239529537432856, 0.4564568737013898, 0.786140931525816, 0.5387369123418725, 0.8696099321309742, 0.4667630670543479, 0.18670522682173915, 0.09335261341086958, 0.2800578402326087, 0.2206814424851404, 0.2206814424851404, 0.2206814424851404, 0.2206814424851404, 0.43497923245303516, 0.027186202028314697, 0.19030341419820287, 0.271862020283147, 0.027186202028314697, 0.027186202028314697, 0.9847819494350741, 0.23188112545021844, 0.2061165559557497, 0.30917483393362455, 0.025764569494468714, 0.10305827797787485, 0.07729370848340614, 0.025764569494468714, 0.025764569494468714, 0.5003729422098908, 0.10613796549163736, 0.10613796549163736, 0.6368277929498242, 0.25640292543201765, 0.0366289893474311, 0.5860638295588976, 0.1098869680422933, 0.899576295334854, 0.7517731048929488, 0.5220369726905707, 0.8835316422821884, 0.7903212542355423, 0.7997161471563234, 0.8863022397401671, 0.8631829615267624, 0.2669629682981151, 0.2669629682981151, 0.5339259365962302, 0.4310157114262331, 0.4310157114262331, 0.7315784928738253, 0.06967414217845955, 0.1393482843569191, 0.35576792497478094, 0.5929465416246349, 0.8209051735013874, 0.7773114639391849, 0.9518647133051613, 0.07578802344735834, 0.7578802344735833, 0.07578802344735834, 0.9713843982502405, 0.17271327357547567, 0.08635663678773783, 0.43178318393868914, 0.17271327357547567, 0.08635663678773783, 0.04317831839386892, 0.16057122673086902, 0.8028561336543452, 0.836334417702085, 0.7116931224958303, 0.08668176472029553, 0.26004529416088656, 0.6067723530420687, 0.9644440492195215, 0.21112775909035675, 0.21112775909035675, 0.4926314378774991, 0.2851094420412308, 0.1425547210206154, 0.2851094420412308, 0.1425547210206154, 0.7378224392451611, 0.4842592284933773, 0.170915021821192, 0.085457510910596, 0.170915021821192, 0.028485836970198665, 0.028485836970198665, 0.8187690283861306, 0.09632576804542713, 0.04816288402271356, 0.759255307974109, 0.8718630544050584, 0.34368881905158655, 0.40097028889351766, 0.17184440952579327, 0.7654539019176728, 0.895142718197247, 0.45551110991062316, 0.15183703663687437, 0.07591851831843718, 0.07591851831843718, 0.07591851831843718, 0.07591851831843718, 0.46637349510387355, 0.28548780512890126, 0.09516260170963375, 0.09516260170963375, 0.4758130085481687, 0.09516260170963375, 0.2065888200085597, 0.2065888200085597, 0.2065888200085597, 0.4131776400171194, 0.2065888200085597, 0.929895661897331, 0.85573461910814, 0.22922117391160318, 0.45844234782320636, 0.5565394215359946, 0.9283674095824612, 0.37490966748860866, 0.08997832019726608, 0.04498916009863304, 0.04498916009863304, 0.10497470689681043, 0.07498193349772174, 0.014996386699544346, 0.08997832019726608, 0.04498916009863304, 0.04498916009863304, 0.04498916009863304, 0.3198746192423633, 0.6397492384847266, 0.5487166299938151, 0.9841417409952403, 0.8546868893148872, 0.6336267957981944, 0.6174845889354903, 0.12775543219354973, 0.04258514406451658, 0.02129257203225829, 0.12775543219354973, 0.02129257203225829, 0.02129257203225829, 0.04258514406451658, 0.76571237157606, 0.1351257126310694, 0.09008380842071294, 0.04504190421035647, 0.17618478332762605, 0.08809239166381302, 0.2642771749914391, 0.08809239166381302, 0.3523695666552521, 0.08809239166381302, 0.8883626692290255, 0.8921853408764643, 0.583776919986178, 0.291888459993089, 0.01723881347947006, 0.01723881347947006, 0.844701860494033, 0.01723881347947006, 0.0861940673973503, 0.9570276843636522, 0.17045524711060064, 0.6818209884424026, 0.08522762355530032, 0.08522762355530032, 0.9083723330472112, 0.11439441616096363, 0.31458464444264994, 0.028598604040240908, 0.14299302020120452, 0.14299302020120452, 0.057197208080481815, 0.057197208080481815, 0.028598604040240908, 0.028598604040240908, 0.028598604040240908, 0.06898184529380158, 0.5518547623504126, 0.13796369058760316, 0.06898184529380158, 0.06898184529380158, 0.06898184529380158, 0.8918391466154734, 0.08107628605595213, 0.9844461648612499, 0.8706092727216495, 0.8815029297474104, 0.23181740244768342, 0.07727246748256114, 0.15454493496512228, 0.15454493496512228, 0.38636233741280573, 0.07727246748256114, 0.9239441361729629, 0.05133022978738683, 0.7550794154503281, 0.8174621816663828, 0.9077161776687346, 0.29196566521744355, 0.14598283260872177, 0.14598283260872177, 0.14598283260872177, 0.14598283260872177, 0.13019921775140025, 0.13019921775140025, 0.6509960887570013, 0.8587948183839351, 0.1622669462248504, 0.811334731124252, 0.20299375274649206, 0.26099196781691836, 0.14499553767606577, 0.02899910753521315, 0.2319928602817052, 0.0579982150704263, 0.02899910753521315, 0.02899910753521315, 0.7666378869383017, 0.17125185009117588, 0.7420913503950954, 0.05708395003039196, 0.595779893855021, 0.9183731288926673, 0.7390687732351133, 0.10468118089016105, 0.2093623617803221, 0.5234059044508053, 0.10468118089016105, 0.9148877108836089, 0.9302817104703152, 0.7709020217912114, 0.17131156039804696, 0.9231830913995905, 0.9368033670796369, 0.8795596572442393, 0.27351711592787986, 0.12156316263461328, 0.12156316263461328, 0.18234474395191994, 0.09117237197595997, 0.06078158131730664, 0.06078158131730664, 0.03039079065865332, 0.03039079065865332, 0.03039079065865332, 0.5067976905712623, 0.7799834289664418, 0.8197307834411139, 0.10984710213145671, 0.7140061638544687, 0.054923551065728354, 0.054923551065728354, 0.7381557825523593, 0.10545082607890846, 0.5156736891574693, 0.14063827886112798, 0.32815598400929863, 0.7025140031083864, 0.5013131721792166, 0.8388633543070884, 0.6931441658548553], \"Term\": [\"1970 and\", \"1987 is\", \"1991 nepal\", \"2002 census\", \"2006 census\", \"22 april\", \"academic journal\", \"according to\", \"according to\", \"according to\", \"according to\", \"added to\", \"administrative district\", \"album and\", \"album by\", \"album from\", \"album of\", \"album released\", \"album the\", \"album was\", \"algae specifically\", \"also known\", \"also known\", \"also known\", \"also known\", \"also known\", \"also known\", \"also known\", \"also romanized\", \"american author\", \"american author\", \"american football\", \"american musician\", \"american politician\", \"american professional\", \"american professional\", \"american professional\", \"american professional\", \"american singer\", \"american singer\", \"an academy\", \"an album\", \"an american\", \"an american\", \"an american\", \"an american\", \"an american\", \"an american\", \"an american\", \"an american\", \"an american\", \"an american\", \"an american\", \"an operculum\", \"and commissioned\", \"and directed\", \"and herzegovina\", \"and is\", \"and is\", \"and is\", \"and is\", \"and is\", \"and is\", \"and is\", \"and is\", \"and launched\", \"and malaysia\", \"and published\", \"and released\", \"and released\", \"and songwriter\", \"and songwriter\", \"and starring\", \"and the\", \"and the\", \"and the\", \"and the\", \"and the\", \"and the\", \"and the\", \"and the\", \"and the\", \"and the\", \"and the\", \"and the\", \"and was\", \"and was\", \"and was\", \"and was\", \"and was\", \"and was\", \"approximately kilometres\", \"araliaceae family\", \"arctiidae family\", \"area is\", \"as defender\", \"as the\", \"as the\", \"as the\", \"as the\", \"as the\", \"as the\", \"as the\", \"as the\", \"as the\", \"as the\", \"as the\", \"at an\", \"at the\", \"at the\", \"at the\", \"at the\", \"at the\", \"at the\", \"at the\", \"at the\", \"at the\", \"at the\", \"at the\", \"at the\", \"at the\", \"australian football\", \"australian navy\", \"australian politician\", \"australian rules\", \"baden w\\u00fcrttemberg\", \"band the\", \"based in\", \"based in\", \"based in\", \"based in\", \"based in\", \"based in\", \"based in\", \"based on\", \"based on\", \"based on\", \"based on\", \"based on\", \"bavaria germany\", \"be named\", \"beetle of\", \"best known\", \"best known\", \"best known\", \"best known\", \"bollywood film\", \"book is\", \"book was\", \"born 22\", \"born in\", \"born in\", \"born in\", \"born in\", \"born in\", \"born in\", \"bosnia and\", \"bronze medal\", \"built for\", \"built for\", \"built in\", \"built in\", \"by american\", \"by american\", \"by habitat\", \"by mrs\", \"by the\", \"by the\", \"by the\", \"by the\", \"by the\", \"by the\", \"by the\", \"by the\", \"by the\", \"by the\", \"california where\", \"canton of\", \"canton of\", \"capital \\u0142\\u00f3d\\u017a\", \"catholic diocese\", \"census it\", \"census its\", \"census the\", \"census the\", \"central district\", \"central poland\", \"certain regard\", \"church of\", \"city of\", \"city of\", \"class destroyer\", \"class of\", \"class of\", \"class of\", \"class of\", \"class submarine\", \"coast of\", \"coast of\", \"coast of\", \"coleophoridae family\", \"college football\", \"college is\", \"comedy film\", \"comedy film\", \"command of\", \"commissioned on\", \"committee in\", \"common name\", \"competed at\", \"competed at\", \"competed in\", \"competed in\", \"compilation album\", \"county kermanshah\", \"county kurdistan\", \"county lubusz\", \"county masovian\", \"county mazandaran\", \"county zanjan\", \"county \\u0142\\u00f3d\\u017a\", \"covered bridge\", \"currently playing\", \"currently plays\", \"daisy family\", \"debut album\", \"defender for\", \"described by\", \"development committee\", \"diocese of\", \"diocese of\", \"directed by\", \"directed by\", \"district in\", \"district in\", \"district in\", \"district in\", \"district in\", \"district of\", \"district of\", \"district of\", \"drama film\", \"during the\", \"during the\", \"during the\", \"during the\", \"during the\", \"during the\", \"during world\", \"east central\", \"east of\", \"east of\", \"editor in\", \"elected to\", \"elementary school\", \"endemic to\", \"endemic to\", \"family asteraceae\", \"family fabaceae\", \"family it\", \"family known\", \"feed on\", \"fiction novel\", \"film directed\", \"film directed\", \"film festival\", \"film is\", \"film stars\", \"film was\", \"film written\", \"finned fish\", \"first album\", \"first published\", \"first published\", \"first world\", \"fish in\", \"fish in\", \"flowering plant\", \"flowering plant\", \"flowering plants\", \"football league\", \"football league\", \"football player\", \"footballer of\", \"footballer who\", \"footballer who\", \"for amateur\", \"for his\", \"for his\", \"for his\", \"for his\", \"for his\", \"for the\", \"for the\", \"for the\", \"for the\", \"for the\", \"for the\", \"for the\", \"for the\", \"for the\", \"for the\", \"found in\", \"found in\", \"found only\", \"founded in\", \"founded in\", \"founded in\", \"founded in\", \"fourth album\", \"from the\", \"from the\", \"from the\", \"from the\", \"from the\", \"from the\", \"from the\", \"from the\", \"from the\", \"from the\", \"full length\", \"gastropod mollusk\", \"genus bulbophyllum\", \"genus of\", \"genus of\", \"genus of\", \"genus of\", \"geometridae family\", \"germany at\", \"gold medal\", \"grass in\", \"ground beetle\", \"grows in\", \"guitarist and\", \"habitat loss\", \"had population\", \"had population\", \"had population\", \"has population\", \"has population\", \"he competed\", \"he currently\", \"he currently\", \"he is\", \"he is\", \"he is\", \"he is\", \"he is\", \"he played\", \"he served\", \"he was\", \"he was\", \"he was\", \"he was\", \"he was\", \"he was\", \"heavy metal\", \"heavy metal\", \"hesse germany\", \"high school\", \"high school\", \"his work\", \"his work\", \"historic district\", \"historic house\", \"historic places\", \"horror film\", \"house at\", \"house of\", \"ii she\", \"impact crater\", \"imperial german\", \"imperial japanese\", \"in asia\", \"in chief\", \"in command\", \"in east\", \"in east\", \"in families\", \"in karnataka\", \"in northwestern\", \"in romania\", \"in taxonomy\", \"indonesia and\", \"iran at\", \"is 1958\", \"is an\", \"is an\", \"is an\", \"is an\", \"is an\", \"is an\", \"is an\", \"is an\", \"is an\", \"is an\", \"is an\", \"is an\", \"is an\", \"is belgian\", \"is bollywood\", \"is book\", \"is book\", \"is compilation\", \"is endemic\", \"is footballer\", \"is former\", \"is former\", \"is former\", \"is former\", \"is former\", \"is found\", \"is found\", \"is genus\", \"is genus\", \"is genus\", \"is historic\", \"is known\", \"is known\", \"is known\", \"is known\", \"is known\", \"is known\", \"is lake\", \"is live\", \"is located\", \"is located\", \"is located\", \"is moth\", \"is mountain\", \"is mountain\", \"is mountain\", \"is mountain\", \"is mountain\", \"is native\", \"is native\", \"is novel\", \"is one\", \"is one\", \"is one\", \"is one\", \"is one\", \"is peer\", \"is perennial\", \"is plant\", \"is public\", \"is published\", \"is river\", \"is river\", \"is river\", \"is science\", \"is species\", \"is species\", \"is species\", \"is species\", \"is spider\", \"is threatened\", \"is tree\", \"is tributary\", \"is village\", \"is village\", \"is village\", \"is village\", \"is village\", \"isle of\", \"it contains\", \"it contains\", \"it grows\", \"it grows\", \"it grows\", \"it had\", \"it had\", \"it had\", \"it lies\", \"it lies\", \"it stars\", \"italian comedy\", \"its natural\", \"its population\", \"its surface\", \"japanese navy\", \"journal of\", \"journal published\", \"karnataka india\", \"karnataka india\", \"kermanshah county\", \"kermanshah province\", \"kilometres mi\", \"km mi\", \"known as\", \"known as\", \"known as\", \"known as\", \"known as\", \"known as\", \"known as\", \"known as\", \"known as\", \"known by\", \"known for\", \"known for\", \"known for\", \"known for\", \"known for\", \"known for\", \"known from\", \"known from\", \"korea it\", \"kurdistan province\", \"laid down\", \"lake in\", \"lake in\", \"lake of\", \"larvae feed\", \"latin meaning\", \"launched in\", \"launched in\", \"launched in\", \"launched on\", \"lead roles\", \"league baseball\", \"league footballer\", \"league vfl\", \"length of\", \"length of\", \"lies approximately\", \"listed on\", \"live album\", \"located at\", \"located in\", \"located in\", \"located on\", \"long and\", \"long and\", \"long and\", \"lubusz voivodeship\", \"made his\", \"major league\", \"marine gastropod\", \"masovian voivodeship\", \"may 1982\", \"mazandaran province\", \"medal in\", \"member of\", \"member of\", \"member of\", \"member of\", \"member of\", \"member of\", \"metal band\", \"metal band\", \"meyrick in\", \"mi east\", \"mi north\", \"mi south\", \"middle school\", \"minister of\", \"minister of\", \"minister of\", \"minister of\", \"minister of\", \"minister of\", \"mm the\", \"mollusc in\", \"mollusk in\", \"moth in\", \"moth in\", \"moth of\", \"moths in\", \"moths in\", \"moths of\", \"mountain of\", \"mountain of\", \"mountain of\", \"mountain of\", \"mountain of\", \"municipality of\", \"municipality of\", \"municipality of\", \"nadu india\", \"named for\", \"named for\", \"national football\", \"national register\", \"national rugby\", \"native to\", \"native to\", \"native to\", \"natural habitat\", \"navy in\", \"navy launched\", \"navy ran\", \"navy she\", \"nepal at\", \"nepal census\", \"new brunswick\", \"new brunswick\", \"new delhi\", \"new mexico\", \"new mexico\", \"new mexico\", \"new york\", \"new york\", \"new york\", \"new york\", \"new york\", \"new york\", \"new york\", \"new zealand\", \"new zealand\", \"new zealand\", \"new zealand\", \"new zealand\", \"new zealand\", \"new zealand\", \"new zealand\", \"north america\", \"north america\", \"north america\", \"north america\", \"north rhine\", \"novel by\", \"novel by\", \"novel by\", \"novel in\", \"novel written\", \"of algae\", \"of baden\", \"of bavaria\", \"of delegates\", \"of flowering\", \"of flowering\", \"of gmina\", \"of grass\", \"of grass\", \"of ground\", \"of hesse\", \"of historic\", \"of karnataka\", \"of karnataka\", \"of moths\", \"of orchid\", \"of orchid\", \"of orchid\", \"of plant\", \"of plant\", \"of plants\", \"of poland\", \"of predatory\", \"of ray\", \"of representatives\", \"of sea\", \"of snout\", \"of warsaw\", \"ohio state\", \"olt river\", \"olympics in\", \"olympics in\", \"on the\", \"on the\", \"on the\", \"on the\", \"on the\", \"on the\", \"on the\", \"on the\", \"on the\", \"one of\", \"one of\", \"one of\", \"one of\", \"one of\", \"one of\", \"one of\", \"one of\", \"one of\", \"one of\", \"only in\", \"or tropical\", \"orchid in\", \"originally published\", \"outer rim\", \"pacific coast\", \"pacific ocean\", \"pacific ocean\", \"pacific ocean\", \"pacific ocean\", \"part of\", \"part of\", \"part of\", \"part of\", \"part of\", \"part of\", \"part of\", \"part of\", \"peer reviewed\", \"places in\", \"plant in\", \"plant in\", \"plant in\", \"plant is\", \"plant species\", \"plants in\", \"played for\", \"played in\", \"played with\", \"played with\", \"player he\", \"player who\", \"player who\", \"playing for\", \"plays as\", \"plays for\", \"poaceae family\", \"poland it\", \"poland voivodeship\", \"politician and\", \"politician who\", \"population of\", \"population of\", \"population of\", \"population of\", \"population was\", \"predatory sea\", \"private university\", \"private university\", \"produced by\", \"produced by\", \"produced by\", \"produced by\", \"produced by\", \"produced by\", \"professional footballer\", \"professional rugby\", \"province iran\", \"province turkey\", \"province turkey\", \"public high\", \"published by\", \"published by\", \"published by\", \"published in\", \"published in\", \"p\\u0101 \\u012bn\", \"qal eh\", \"ray finned\", \"record label\", \"record label\", \"recorded in\", \"records in\", \"records is\", \"records is\", \"records it\", \"records the\", \"regard section\", \"regional capital\", \"register of\", \"released by\", \"released by\", \"released in\", \"released in\", \"released on\", \"released on\", \"representing the\", \"republican member\", \"reviewed academic\", \"reviewed scientific\", \"rhine westphalia\", \"rhode island\", \"river in\", \"river in\", \"river in\", \"river is\", \"river is\", \"river is\", \"river of\", \"river of\", \"river of\", \"rock band\", \"rock band\", \"romanized as\", \"round of\", \"royal australian\", \"royal navy\", \"rugby league\", \"rules footballer\", \"rural district\", \"school district\", \"school in\", \"school is\", \"school located\", \"school was\", \"science fiction\", \"science fiction\", \"scientific journal\", \"screened in\", \"sea and\", \"sea snail\", \"second album\", \"second world\", \"secondary school\", \"section at\", \"serbia according\", \"series the\", \"served as\", \"served as\", \"served as\", \"served in\", \"served in\", \"service in\", \"service in\", \"service in\", \"set in\", \"set in\", \"she served\", \"she was\", \"she was\", \"she was\", \"she was\", \"she was\", \"ship of\", \"ship was\", \"ship was\", \"short stories\", \"silver medal\", \"since january\", \"singer best\", \"singer songwriter\", \"singer songwriter\", \"snail marine\", \"snout moths\", \"solo album\", \"solo album\", \"songwriter from\", \"species include\", \"species is\", \"species is\", \"species of\", \"species of\", \"species of\", \"species of\", \"specific epithet\", \"specifically of\", \"spider species\", \"state in\", \"state university\", \"state university\", \"states navy\", \"states navy\", \"story of\", \"story of\", \"street in\", \"studio album\", \"subtropical or\", \"such as\", \"such as\", \"such as\", \"such as\", \"such as\", \"such as\", \"summer olympics\", \"summer olympics\", \"taiwanese mandopop\", \"taluk of\", \"tamil nadu\", \"the 1991\", \"the 2002\", \"the 2006\", \"the 2006\", \"the administrative\", \"the album\", \"the araliaceae\", \"the arctiidae\", \"the author\", \"the band\", \"the billboard\", \"the boat\", \"the book\", \"the book\", \"the book\", \"the building\", \"the canadian\", \"the canadian\", \"the canadian\", \"the canadian\", \"the central\", \"the central\", \"the central\", \"the central\", \"the church\", \"the city\", \"the city\", \"the coleophoridae\", \"the command\", \"the common\", \"the company\", \"the company\", \"the company\", \"the company\", \"the crater\", \"the daisy\", \"the dead\", \"the debut\", \"the district\", \"the district\", \"the district\", \"the district\", \"the european\", \"the european\", \"the european\", \"the european\", \"the family\", \"the family\", \"the family\", \"the family\", \"the family\", \"the family\", \"the film\", \"the first\", \"the first\", \"the first\", \"the first\", \"the first\", \"the first\", \"the first\", \"the first\", \"the flowers\", \"the fourth\", \"the fourth\", \"the fourth\", \"the genus\", \"the genus\", \"the genus\", \"the genus\", \"the geometridae\", \"the imperial\", \"the isle\", \"the journal\", \"the label\", \"the larvae\", \"the latin\", \"the magazine\", \"the moon\", \"the moon\", \"the moon\", \"the municipality\", \"the municipality\", \"the national\", \"the national\", \"the national\", \"the novel\", \"the novel\", \"the olt\", \"the poaceae\", \"the regional\", \"the royal\", \"the royal\", \"the royal\", \"the school\", \"the second\", \"the second\", \"the second\", \"the second\", \"the second\", \"the second\", \"the ship\", \"the ship\", \"the son\", \"the specific\", \"the story\", \"the story\", \"the story\", \"the subfamily\", \"the third\", \"the third\", \"the third\", \"the time\", \"the time\", \"the time\", \"the time\", \"the tree\", \"the united\", \"the united\", \"the united\", \"the united\", \"the united\", \"the united\", \"the university\", \"the university\", \"the university\", \"the valea\", \"the victorian\", \"the village\", \"the village\", \"the village\", \"the war\", \"the wingspan\", \"the world\", \"the world\", \"the world\", \"the world\", \"the world\", \"the world\", \"the wyoming\", \"they are\", \"they are\", \"they are\", \"they are\", \"they are\", \"third album\", \"third album\", \"third album\", \"third album\", \"third album\", \"this film\", \"threatened by\", \"time of\", \"time of\", \"to borneo\", \"to brazil\", \"to the\", \"to the\", \"to the\", \"to the\", \"to the\", \"to the\", \"to the\", \"to the\", \"to the\", \"to the\", \"to the\", \"tree in\", \"tree in\", \"tree up\", \"tributary of\", \"tropical moist\", \"un certain\", \"united states\", \"united states\", \"united states\", \"united states\", \"united states\", \"united states\", \"united states\", \"united states\", \"university of\", \"university of\", \"university of\", \"university of\", \"up to\", \"up to\", \"up to\", \"up to\", \"up to\", \"up to\", \"victorian football\", \"village development\", \"village has\", \"village has\", \"village in\", \"village in\", \"village in\", \"village in\", \"village in\", \"voivodeship in\", \"war ii\", \"war ii\", \"war ii\", \"war ii\", \"was added\", \"was an\", \"was an\", \"was an\", \"was an\", \"was an\", \"was an\", \"was an\", \"was an\", \"was an\", \"was an\", \"was born\", \"was born\", \"was born\", \"was born\", \"was born\", \"was born\", \"was built\", \"was built\", \"was described\", \"was directed\", \"was elected\", \"was first\", \"was first\", \"was first\", \"was first\", \"was first\", \"was first\", \"was founded\", \"was founded\", \"was laid\", \"was launched\", \"was listed\", \"was one\", \"was one\", \"was one\", \"was one\", \"was one\", \"was published\", \"was published\", \"was published\", \"was recorded\", \"was released\", \"was released\", \"was the\", \"was the\", \"was the\", \"was the\", \"was the\", \"was the\", \"was the\", \"was the\", \"west bengal\", \"west of\", \"west of\", \"west of\", \"western brazil\", \"western pacific\", \"westphalia germany\", \"where it\", \"where it\", \"where it\", \"where it\", \"who competed\", \"who currently\", \"who played\", \"who played\", \"who plays\", \"who served\", \"wingspan is\", \"with the\", \"with the\", \"with the\", \"with the\", \"with the\", \"with the\", \"with the\", \"with the\", \"with the\", \"with the\", \"work as\", \"work in\", \"work with\", \"world war\", \"world war\", \"world war\", \"world war\", \"written and\", \"written and\", \"written by\", \"written by\", \"written by\", \"w\\u00fcrttemberg germany\", \"zanjan province\", \"zone of\", \"\\u0142\\u00f3d\\u017a voivodeship\"]}, \"R\": 30, \"lambda.step\": 0.01, \"plot.opts\": {\"xlab\": \"PC1\", \"ylab\": \"PC2\"}, \"topic.order\": [9, 6, 5, 14, 2, 4, 1, 10, 3, 12, 11, 8, 7, 13]};\n",
       "\n",
       "function LDAvis_load_lib(url, callback){\n",
       "  var s = document.createElement('script');\n",
       "  s.src = url;\n",
       "  s.async = true;\n",
       "  s.onreadystatechange = s.onload = callback;\n",
       "  s.onerror = function(){console.warn(\"failed to load library \" + url);};\n",
       "  document.getElementsByTagName(\"head\")[0].appendChild(s);\n",
       "}\n",
       "\n",
       "if(typeof(LDAvis) !== \"undefined\"){\n",
       "   // already loaded: just create the visualization\n",
       "   !function(LDAvis){\n",
       "       new LDAvis(\"#\" + \"ldavis_el3715864181491527882580173\", ldavis_el3715864181491527882580173_data);\n",
       "   }(LDAvis);\n",
       "}else if(typeof define === \"function\" && define.amd){\n",
       "   // require.js is available: use it to load d3/LDAvis\n",
       "   require.config({paths: {d3: \"https://cdnjs.cloudflare.com/ajax/libs/d3/3.5.5/d3.min\"}});\n",
       "   require([\"d3\"], function(d3){\n",
       "      window.d3 = d3;\n",
       "      LDAvis_load_lib(\"https://cdn.rawgit.com/bmabey/pyLDAvis/files/ldavis.v1.0.0.js\", function(){\n",
       "        new LDAvis(\"#\" + \"ldavis_el3715864181491527882580173\", ldavis_el3715864181491527882580173_data);\n",
       "      });\n",
       "    });\n",
       "}else{\n",
       "    // require.js not available: dynamically load d3 & LDAvis\n",
       "    LDAvis_load_lib(\"https://cdnjs.cloudflare.com/ajax/libs/d3/3.5.5/d3.min.js\", function(){\n",
       "         LDAvis_load_lib(\"https://cdn.rawgit.com/bmabey/pyLDAvis/files/ldavis.v1.0.0.js\", function(){\n",
       "                 new LDAvis(\"#\" + \"ldavis_el3715864181491527882580173\", ldavis_el3715864181491527882580173_data);\n",
       "            })\n",
       "         });\n",
       "}\n",
       "</script>"
      ],
      "text/plain": [
       "PreparedData(topic_coordinates=                x           y  topics  cluster       Freq\n",
       "topic                                                    \n",
       "8        1.425140 -203.131439       1        1  17.238142\n",
       "5       93.696953  -55.018154       2        1  11.153805\n",
       "4      141.694016   25.320429       3        1   8.231860\n",
       "13    -126.233505    5.739788       4        1   8.049458\n",
       "1      -59.868134  101.519302       5        1   7.309499\n",
       "3      151.966629  133.119141       6        1   6.329595\n",
       "0       12.542690 -101.441658       7        1   6.265010\n",
       "9       49.372585   57.773476       8        1   6.202613\n",
       "2      203.505997  -84.541840       9        1   5.875164\n",
       "11     119.923477 -166.068970      10        1   5.378933\n",
       "10     -19.315592   -8.882428      11        1   5.044072\n",
       "7      -95.841057 -109.373474      12        1   4.570779\n",
       "6       37.554749  165.057098      13        1   4.278644\n",
       "12     243.648911   32.733547      14        1   4.072425, topic_info=             Term       Freq      Total Category  logprob  loglift\n",
       "17331  village in  58.000000  58.000000  Default  30.0000  30.0000\n",
       "9084   is village  60.000000  60.000000  Default  29.0000  29.0000\n",
       "14323  species of  65.000000  65.000000  Default  28.0000  28.0000\n",
       "9028   is species  61.000000  61.000000  Default  27.0000  27.0000\n",
       "5944    family it  39.000000  39.000000  Default  26.0000  26.0000\n",
       "...           ...        ...        ...      ...      ...      ...\n",
       "18083    with the   1.356355  32.904705  Topic14  -7.0178   0.0121\n",
       "11988      one of   1.268006  36.645151  Topic14  -7.0851  -0.1629\n",
       "17599     was one   1.120283   6.850121  Topic14  -7.2090   1.3902\n",
       "3031       at the   1.266210  63.610735  Topic14  -7.0865  -0.7158\n",
       "16368   the world   1.161498  13.172017  Topic14  -7.1729   0.7725\n",
       "\n",
       "[701 rows x 6 columns], token_table=       Topic      Freq                 Term\n",
       "term                                       \n",
       "478       14  0.582626             1970 and\n",
       "620       14  0.646976              1987 is\n",
       "658       12  0.892185           1991 nepal\n",
       "785       13  0.837260          2002 census\n",
       "833        6  0.981723          2006 census\n",
       "...      ...       ...                  ...\n",
       "18200      8  0.328156           written by\n",
       "18207     11  0.702514  württemberg germany\n",
       "18309     13  0.501313      zanjan province\n",
       "18321     12  0.838863              zone of\n",
       "18328      9  0.693144     łódź voivodeship\n",
       "\n",
       "[1165 rows x 3 columns], R=30, lambda_step=0.01, plot_opts={'xlab': 'PC1', 'ylab': 'PC2'}, topic_order=[9, 6, 5, 14, 2, 4, 1, 10, 3, 12, 11, 8, 7, 13])"
      ]
     },
     "execution_count": 405,
     "metadata": {},
     "output_type": "execute_result"
    }
   ],
   "source": [
    "import pyLDAvis.sklearn\n",
    " \n",
    "pyLDAvis.enable_notebook()\n",
    "\n",
    "panel = pyLDAvis.sklearn.prepare(pipeline.named_steps.topic_modelling, \n",
    "                                 pipeline.named_steps.dataprep.transform(X_train), \n",
    "                                 pipeline.named_steps.dataprep.named_steps.count_vectorizer, \n",
    "                                 mds='tsne')\n",
    "\n",
    "panel"
   ]
  },
  {
   "cell_type": "code",
   "execution_count": 406,
   "metadata": {},
   "outputs": [
    {
     "data": {
      "text/plain": [
       "['Company',\n",
       " 'EducationalInstitution',\n",
       " 'Artist',\n",
       " 'Athlete',\n",
       " 'OfficeHolder',\n",
       " 'MeanOfTransportation',\n",
       " 'Building',\n",
       " 'NaturalPlace',\n",
       " 'Village',\n",
       " 'Animal',\n",
       " 'Plant',\n",
       " 'Album',\n",
       " 'Film',\n",
       " 'WrittenWork']"
      ]
     },
     "execution_count": 406,
     "metadata": {},
     "output_type": "execute_result"
    }
   ],
   "source": [
    "labels"
   ]
  },
  {
   "cell_type": "code",
   "execution_count": null,
   "metadata": {
    "collapsed": true
   },
   "outputs": [],
   "source": []
  },
  {
   "cell_type": "code",
   "execution_count": null,
   "metadata": {
    "collapsed": true
   },
   "outputs": [],
   "source": []
  },
  {
   "cell_type": "code",
   "execution_count": null,
   "metadata": {
    "collapsed": true
   },
   "outputs": [],
   "source": []
  },
  {
   "cell_type": "code",
   "execution_count": null,
   "metadata": {
    "collapsed": true
   },
   "outputs": [],
   "source": []
  }
 ],
 "metadata": {
  "kernelspec": {
   "display_name": "Python 3",
   "language": "python",
   "name": "python3"
  },
  "language_info": {
   "codemirror_mode": {
    "name": "ipython",
    "version": 3
   },
   "file_extension": ".py",
   "mimetype": "text/x-python",
   "name": "python",
   "nbconvert_exporter": "python",
   "pygments_lexer": "ipython3",
   "version": "3.8.0"
  },
  "toc": {
   "base_numbering": 1,
   "nav_menu": {},
   "number_sections": true,
   "sideBar": true,
   "skip_h1_title": false,
   "title_cell": "Table of Contents",
   "title_sidebar": "Contents",
   "toc_cell": false,
   "toc_position": {},
   "toc_section_display": true,
   "toc_window_display": false
  }
 },
 "nbformat": 4,
 "nbformat_minor": 2
}
