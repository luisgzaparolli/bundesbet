{
 "cells": [
  {
   "cell_type": "code",
   "execution_count": 48,
   "metadata": {},
   "outputs": [],
   "source": [
    "import pandas as pd\n",
    "import numpy as np"
   ]
  },
  {
   "cell_type": "code",
   "execution_count": 2,
   "metadata": {},
   "outputs": [],
   "source": [
    "game_stats=pd.read_csv('game_stats_results.csv')\n",
    "nlp=pd.read_csv('nlp_results.csv')"
   ]
  },
  {
   "cell_type": "code",
   "execution_count": 3,
   "metadata": {},
   "outputs": [],
   "source": [
    "columns=['home_team','away_team','final_result','predict_stats','proba_stats_home','proba_stats_draw','proba_stats_away']\n",
    "game_stats=game_stats.loc[:,columns]"
   ]
  },
  {
   "cell_type": "code",
   "execution_count": 4,
   "metadata": {},
   "outputs": [],
   "source": [
    "columns=['team_home','team_away','result','predict_comments','proba_home','proba_draw','proba_away']\n",
    "nlp=nlp.loc[:,columns]"
   ]
  },
  {
   "cell_type": "code",
   "execution_count": 52,
   "metadata": {},
   "outputs": [],
   "source": [
    "def get_stats(row,column):\n",
    "    home = row['team_home']\n",
    "    away = row['team_away']\n",
    "    df=game_stats.query(f'(home_team == \"{home}\") & (away_team == \"{away}\")')\n",
    "    if len(df)==0:\n",
    "        return np.nan\n",
    "    else:\n",
    "        return df[column].values[0]"
   ]
  },
  {
   "cell_type": "code",
   "execution_count": 57,
   "metadata": {},
   "outputs": [
    {
     "output_type": "execute_result",
     "data": {
      "text/plain": "              team_home   team_away result  predict_comments  proba_home  \\\n0    B. Monchengladbach     Schalke   Home                 1    0.366510   \n1            RB Leipzig     Schalke   Away                -1    0.312016   \n3              Freiburg  RB Leipzig   Draw                 1    0.435557   \n4              Dortmund     Schalke   Home                 0    0.305514   \n5               FC Koln   Paderborn   Home                 1    0.486160   \n..                  ...         ...    ...               ...         ...   \n226    Bayer Leverkusen  RB Leipzig   Draw                 1    0.408346   \n227               Mainz     Schalke   Draw                 0    0.269425   \n228             FC Koln  Hoffenheim   Away                 1    0.437861   \n229          RB Leipzig   Wolfsburg   Draw                -1    0.339227   \n231            Freiburg  Hoffenheim   Away                 1    0.435557   \n\n     proba_draw  proba_away  predict_stats  proba_stats_home  \\\n0      0.337604    0.295886            0.0          0.232903   \n1      0.123761    0.564223           -1.0          0.040970   \n3      0.234628    0.329815            1.0          0.541892   \n4      0.404616    0.289870            1.0          0.716892   \n5      0.183059    0.330782            1.0          0.525000   \n..          ...         ...            ...               ...   \n226    0.205717    0.385937            1.0          0.362903   \n227    0.375181    0.355394            0.0          0.232903   \n228    0.299240    0.262898            1.0          0.541892   \n229    0.152672    0.508101            0.0          0.232903   \n231    0.234628    0.329815            1.0          0.691892   \n\n     proba_stats_draw  proba_stats_away  \n0            0.429677          0.337419  \n1            0.120401          0.838629  \n3            0.179054          0.279054  \n4            0.154054          0.129054  \n5            0.234375          0.240625  \n..                ...               ...  \n226          0.309677          0.327419  \n227          0.429677          0.337419  \n228          0.179054          0.279054  \n229          0.429677          0.337419  \n231          0.182625          0.125483  \n\n[195 rows x 11 columns]",
      "text/html": "<div>\n<style scoped>\n    .dataframe tbody tr th:only-of-type {\n        vertical-align: middle;\n    }\n\n    .dataframe tbody tr th {\n        vertical-align: top;\n    }\n\n    .dataframe thead th {\n        text-align: right;\n    }\n</style>\n<table border=\"1\" class=\"dataframe\">\n  <thead>\n    <tr style=\"text-align: right;\">\n      <th></th>\n      <th>team_home</th>\n      <th>team_away</th>\n      <th>result</th>\n      <th>predict_comments</th>\n      <th>proba_home</th>\n      <th>proba_draw</th>\n      <th>proba_away</th>\n      <th>predict_stats</th>\n      <th>proba_stats_home</th>\n      <th>proba_stats_draw</th>\n      <th>proba_stats_away</th>\n    </tr>\n  </thead>\n  <tbody>\n    <tr>\n      <th>0</th>\n      <td>B. Monchengladbach</td>\n      <td>Schalke</td>\n      <td>Home</td>\n      <td>1</td>\n      <td>0.366510</td>\n      <td>0.337604</td>\n      <td>0.295886</td>\n      <td>0.0</td>\n      <td>0.232903</td>\n      <td>0.429677</td>\n      <td>0.337419</td>\n    </tr>\n    <tr>\n      <th>1</th>\n      <td>RB Leipzig</td>\n      <td>Schalke</td>\n      <td>Away</td>\n      <td>-1</td>\n      <td>0.312016</td>\n      <td>0.123761</td>\n      <td>0.564223</td>\n      <td>-1.0</td>\n      <td>0.040970</td>\n      <td>0.120401</td>\n      <td>0.838629</td>\n    </tr>\n    <tr>\n      <th>3</th>\n      <td>Freiburg</td>\n      <td>RB Leipzig</td>\n      <td>Draw</td>\n      <td>1</td>\n      <td>0.435557</td>\n      <td>0.234628</td>\n      <td>0.329815</td>\n      <td>1.0</td>\n      <td>0.541892</td>\n      <td>0.179054</td>\n      <td>0.279054</td>\n    </tr>\n    <tr>\n      <th>4</th>\n      <td>Dortmund</td>\n      <td>Schalke</td>\n      <td>Home</td>\n      <td>0</td>\n      <td>0.305514</td>\n      <td>0.404616</td>\n      <td>0.289870</td>\n      <td>1.0</td>\n      <td>0.716892</td>\n      <td>0.154054</td>\n      <td>0.129054</td>\n    </tr>\n    <tr>\n      <th>5</th>\n      <td>FC Koln</td>\n      <td>Paderborn</td>\n      <td>Home</td>\n      <td>1</td>\n      <td>0.486160</td>\n      <td>0.183059</td>\n      <td>0.330782</td>\n      <td>1.0</td>\n      <td>0.525000</td>\n      <td>0.234375</td>\n      <td>0.240625</td>\n    </tr>\n    <tr>\n      <th>...</th>\n      <td>...</td>\n      <td>...</td>\n      <td>...</td>\n      <td>...</td>\n      <td>...</td>\n      <td>...</td>\n      <td>...</td>\n      <td>...</td>\n      <td>...</td>\n      <td>...</td>\n      <td>...</td>\n    </tr>\n    <tr>\n      <th>226</th>\n      <td>Bayer Leverkusen</td>\n      <td>RB Leipzig</td>\n      <td>Draw</td>\n      <td>1</td>\n      <td>0.408346</td>\n      <td>0.205717</td>\n      <td>0.385937</td>\n      <td>1.0</td>\n      <td>0.362903</td>\n      <td>0.309677</td>\n      <td>0.327419</td>\n    </tr>\n    <tr>\n      <th>227</th>\n      <td>Mainz</td>\n      <td>Schalke</td>\n      <td>Draw</td>\n      <td>0</td>\n      <td>0.269425</td>\n      <td>0.375181</td>\n      <td>0.355394</td>\n      <td>0.0</td>\n      <td>0.232903</td>\n      <td>0.429677</td>\n      <td>0.337419</td>\n    </tr>\n    <tr>\n      <th>228</th>\n      <td>FC Koln</td>\n      <td>Hoffenheim</td>\n      <td>Away</td>\n      <td>1</td>\n      <td>0.437861</td>\n      <td>0.299240</td>\n      <td>0.262898</td>\n      <td>1.0</td>\n      <td>0.541892</td>\n      <td>0.179054</td>\n      <td>0.279054</td>\n    </tr>\n    <tr>\n      <th>229</th>\n      <td>RB Leipzig</td>\n      <td>Wolfsburg</td>\n      <td>Draw</td>\n      <td>-1</td>\n      <td>0.339227</td>\n      <td>0.152672</td>\n      <td>0.508101</td>\n      <td>0.0</td>\n      <td>0.232903</td>\n      <td>0.429677</td>\n      <td>0.337419</td>\n    </tr>\n    <tr>\n      <th>231</th>\n      <td>Freiburg</td>\n      <td>Hoffenheim</td>\n      <td>Away</td>\n      <td>1</td>\n      <td>0.435557</td>\n      <td>0.234628</td>\n      <td>0.329815</td>\n      <td>1.0</td>\n      <td>0.691892</td>\n      <td>0.182625</td>\n      <td>0.125483</td>\n    </tr>\n  </tbody>\n</table>\n<p>195 rows × 11 columns</p>\n</div>"
     },
     "metadata": {},
     "execution_count": 57
    }
   ],
   "source": [
    "df=nlp\n",
    "columns=['predict_stats','proba_stats_home', 'proba_stats_draw', 'proba_stats_away']\n",
    "for column in columns:\n",
    "    df[column]=df.apply(lambda row: get_stats(row,column), axis=1)\n",
    "df=df.dropna()\n",
    "df"
   ]
  }
 ],
 "metadata": {
  "language_info": {
   "codemirror_mode": {
    "name": "ipython",
    "version": 3
   },
   "file_extension": ".py",
   "mimetype": "text/x-python",
   "name": "python",
   "nbconvert_exporter": "python",
   "pygments_lexer": "ipython3",
   "version": "3.7.4-final"
  },
  "orig_nbformat": 2,
  "kernelspec": {
   "name": "python3",
   "display_name": "Python 3"
  }
 },
 "nbformat": 4,
 "nbformat_minor": 2
}